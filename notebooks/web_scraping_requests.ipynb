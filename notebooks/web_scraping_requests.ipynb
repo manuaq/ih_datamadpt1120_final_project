{
 "cells": [
  {
   "cell_type": "markdown",
   "metadata": {},
   "source": [
    "# 1. Imports"
   ]
  },
  {
   "cell_type": "code",
   "execution_count": 1,
   "metadata": {},
   "outputs": [],
   "source": [
    "import requests\n",
    "from bs4 import BeautifulSoup\n",
    "import re\n",
    "from selenium import webdriver\n",
    "import pandas as pd"
   ]
  },
  {
   "cell_type": "markdown",
   "metadata": {},
   "source": [
    "# 2. Get HTML Content"
   ]
  },
  {
   "cell_type": "code",
   "execution_count": 2,
   "metadata": {},
   "outputs": [
    {
     "data": {
      "text/plain": [
       "b'\\r\\n<!DOCTYPE html>\\r\\n<html lang=\"es\">\\r\\n\\r\\n<head xmlns=\"http://www.w3.org/1999/xhtml\" lang=\"es\">\\r\\n    <!-- id srv=HABIT-WEB-07 -->\\r\\n    <title>Viviendas en Madrid - habitaclia</title>\\r\\n    <meta name=\"description\" content=\"14.042 viviendas en venta en Madrid de particulares, agencias inmobiliarias y bancos. Encuentra tambi\\xc3\\xa9n viviendas en alquiler y viviendas obra nueva en Madrid. Para buscar viviendas en venta en Madrid, habitaclia, cuando te ayudan, es m\\xc3\\xa1s f\\xc3\\xa1cil.\" />\\r\\n    <meta name=\"Author\" con'"
      ]
     },
     "execution_count": 2,
     "metadata": {},
     "output_type": "execute_result"
    }
   ],
   "source": [
    "#import requests\n",
    "url = 'https://www.habitaclia.com/viviendas-madrid.htm'\n",
    "html = requests.get(url).content\n",
    "html[:500]"
   ]
  },
  {
   "cell_type": "code",
   "execution_count": 3,
   "metadata": {},
   "outputs": [],
   "source": [
    "#from bs4 import BeautifulSoup\n",
    "\n",
    "soup = BeautifulSoup(html, 'html.parser')"
   ]
  },
  {
   "cell_type": "code",
   "execution_count": 4,
   "metadata": {},
   "outputs": [],
   "source": [
    "#soup"
   ]
  },
  {
   "cell_type": "code",
   "execution_count": 5,
   "metadata": {},
   "outputs": [],
   "source": [
    "# The following part is added simply to remember that there may be issues with BS4 auto detection of a page encoding.\n",
    "# A \"from_encoding\" parameter can be used to specify encoding.\n",
    "# A more detailed explanation can be found in this link: (Also contains Beautiful Soup Tutorial)\n",
    "#https://www.tutorialspoint.com/beautiful_soup/beautiful_soup_encoding.htm\n",
    "\n",
    "soup2 = BeautifulSoup(html,'html.parser',from_encoding='utf-8')"
   ]
  },
  {
   "cell_type": "markdown",
   "metadata": {},
   "source": [
    "Resource:\n",
    "https://www.tutorialspoint.com/beautiful_soup/beautiful_soup_encoding.htm"
   ]
  },
  {
   "cell_type": "code",
   "execution_count": 6,
   "metadata": {},
   "outputs": [
    {
     "data": {
      "text/plain": [
       "True"
      ]
     },
     "execution_count": 6,
     "metadata": {},
     "output_type": "execute_result"
    }
   ],
   "source": [
    "soup == soup2\n",
    "\n",
    "# I was trying to check if both outputs are exactly the same. But I'm not sure if its just confirming that both are bs4.BeautifulSoup objects."
   ]
  },
  {
   "cell_type": "code",
   "execution_count": 7,
   "metadata": {},
   "outputs": [
    {
     "data": {
      "text/plain": [
       "bs4.BeautifulSoup"
      ]
     },
     "execution_count": 7,
     "metadata": {},
     "output_type": "execute_result"
    }
   ],
   "source": [
    "type(soup)"
   ]
  },
  {
   "cell_type": "code",
   "execution_count": 8,
   "metadata": {},
   "outputs": [],
   "source": [
    "# Running an HTML document through Beautiful Soup gives us a BeautifulSoup object, which represents the document as a nested data structure:\n",
    "# Which can be checked using soup.pretify()\n",
    "#print(soup.prettify())"
   ]
  },
  {
   "cell_type": "code",
   "execution_count": 9,
   "metadata": {},
   "outputs": [],
   "source": [
    "# Then, if we just call the tags we can see whats contained in each different tag.\n",
    "# Which means it becomes useful to see all the tags in our HTML Document. See below\n",
    "\n",
    "# soup.title, soup.text"
   ]
  },
  {
   "cell_type": "markdown",
   "metadata": {},
   "source": [
    "# 3. Exploring Tags"
   ]
  },
  {
   "cell_type": "code",
   "execution_count": 10,
   "metadata": {},
   "outputs": [
    {
     "name": "stdout",
     "output_type": "stream",
     "text": [
      "['html', 'head', 'title', 'meta', 'link', 'script', 'style', 'body', 'noscript', 'iframe', 'header', 'div', 'a', 'svg', 'use', 'ul', 'li', 'span', 'img', 'map', 'nav', 'h1', 'aside', 'button', 'p', 'strong', 'form', 'input', 'label', 'main', 'section', 'select', 'option', 'h2', 'article', 'h3', 'sup', 'textarea', 'footer'] \n",
      "This list lenght is: 39\n",
      "\n",
      "{'section', 'header', 'aside', 'span', 'title', 'svg', 'noscript', 'map', 'p', 'select', 'use', 'li', 'strong', 'link', 'html', 'textarea', 'img', 'a', 'script', 'div', 'h1', 'main', 'article', 'button', 'label', 'style', 'meta', 'head', 'option', 'nav', 'iframe', 'body', 'h3', 'ul', 'footer', 'sup', 'input', 'h2', 'form'} \n",
      "This set lenght is: 39\n"
     ]
    }
   ],
   "source": [
    "tag_list = []\n",
    "tag_set = set()\n",
    "\n",
    "for tag in soup.find_all(True):\n",
    "    #print(tag.name)\n",
    "    if tag.name not in tag_list:\n",
    "        tag_list.append(tag.name)\n",
    "    if tag.name not in tag_set:\n",
    "        tag_set.add(tag.name)\n",
    "        \n",
    "print(tag_list, '\\nThis list lenght is:', len(tag_list))\n",
    "print()\n",
    "print(tag_set, '\\nThis set lenght is:', len(tag_set))"
   ]
  },
  {
   "cell_type": "markdown",
   "metadata": {},
   "source": [
    "Using inspect on the browser and exploring options I found that the tag \"h3\" was the most useful to get the unique listing links.\n",
    "\n",
    "I believe this is important because I need to iterate or go to each link to retrieve all the relevant info from each listing.\n",
    "\n",
    "I left the \"queries\" to document and remember my thought process and the actual process of getting the data."
   ]
  },
  {
   "cell_type": "code",
   "execution_count": 11,
   "metadata": {},
   "outputs": [
    {
     "data": {
      "text/plain": [
       "['\\nPiso  en  Arapiles. Fenomenal\\n',\n",
       " '\\nPiso  en  Gaztambide. Con terraza\\n',\n",
       " '\\nPiso  en  C/ doctor juan jose lopez 0\\n',\n",
       " '\\nPiso  en  Universidad-Malasaña. Espléndido\\n',\n",
       " '\\nPiso  en  Gaztambide. Estupendo\\n',\n",
       " '\\nPiso  en  Palos de Moguer. Genial\\n',\n",
       " '\\nPiso  en  Las Tablas. Estupendo\\n',\n",
       " '\\nPiso  en  Lista. Admirable\\n',\n",
       " '\\nPiso  en  Embajadores-Lavapiés. Impecable piso en lavapies - reforma integral\\n',\n",
       " '\\nPiso  en  Calle de modesto lafuente 46. Piso en venta en calle de modesto lafuente 46\\n',\n",
       " '\\nPiso  en  Canillas. Acogedor\\n',\n",
       " '\\nPlanta baja  en  Las Águilas. Fenomenal\\n',\n",
       " '\\nPiso  en  San Diego. Espléndido\\n',\n",
       " '\\nÁtico  en  Universidad-Malasaña. Ático con 95 m² de terraza en venta en sol, madrid\\n',\n",
       " '\\nPiso  en  Arroyo del Fresno. Con certificado passivhaus\\n',\n",
       " '\\nDuque de Rivas vuelta con Colegiata\\n']"
      ]
     },
     "execution_count": 11,
     "metadata": {},
     "output_type": "execute_result"
    }
   ],
   "source": [
    "# Using soup.find all to explore tags and/or classes.\n",
    "\n",
    "raw_listings_titles = [x.text for x in soup.find_all('h3', {'class': 'list-item-title'})]\n",
    "\n",
    "raw_listings_titles"
   ]
  },
  {
   "cell_type": "code",
   "execution_count": 12,
   "metadata": {},
   "outputs": [],
   "source": [
    "# Using soup.find all to explore tags and/or classes.\n",
    "\n",
    "raw_listings_list_items = [x.text for x in soup.find_all('section', {'class': 'list-items'})]\n",
    "\n",
    "# raw_listings_list_items"
   ]
  },
  {
   "cell_type": "code",
   "execution_count": 13,
   "metadata": {},
   "outputs": [],
   "source": [
    "# Alternate way to find and print tags or specific strings.\n",
    "\n",
    "#This option was to broad.\n",
    "# for link in soup.find_all('a'):\n",
    "#     print(link.get('href'))"
   ]
  },
  {
   "cell_type": "code",
   "execution_count": 14,
   "metadata": {},
   "outputs": [
    {
     "name": "stdout",
     "output_type": "stream",
     "text": [
      "https://www.habitaclia.com/comprar-piso-fenomenal_arapiles-madrid-i15511003002180.htm?f=&geo=p&from=list&lo=55\n",
      "None\n",
      "https://www.habitaclia.com/comprar-piso-con_terraza_gaztambide-madrid-i15511003002590.htm?f=&geo=p&from=list&lo=55\n",
      "None\n",
      "https://www.habitaclia.com/comprar-piso-c_doctor_juan_jose_lopez_0_valdezarza-madrid-i23878000004181.htm?f=&geo=p&from=list&lo=55\n"
     ]
    }
   ],
   "source": [
    "# Looking a little bit better, but annoyed by the None's in the output.\n",
    "\n",
    "for link in soup.find_all('article')[0:5]:\n",
    "        print(link.get('data-href'))"
   ]
  },
  {
   "cell_type": "code",
   "execution_count": 15,
   "metadata": {},
   "outputs": [
    {
     "data": {
      "text/plain": [
       "[<h3 class=\"list-item-title\">\n",
       " <a href=\"https://www.habitaclia.com/comprar-piso-fenomenal_arapiles-madrid-i15511003002180.htm?f=&amp;geo=p&amp;from=list&amp;lo=55\" itemprop=\"name\" target=\"_self\" title=\"Piso  en  Arapiles. Fenomenal\">Piso  en  Arapiles. Fenomenal</a>\n",
       " </h3>,\n",
       " <h3 class=\"list-item-title\">\n",
       " <a href=\"https://www.habitaclia.com/comprar-piso-con_terraza_gaztambide-madrid-i15511003002590.htm?f=&amp;geo=p&amp;from=list&amp;lo=55\" itemprop=\"name\" target=\"_self\" title=\"Piso  en  Gaztambide. Con terraza\">Piso  en  Gaztambide. Con terraza</a>\n",
       " </h3>,\n",
       " <h3 class=\"list-item-title\">\n",
       " <a href=\"https://www.habitaclia.com/comprar-piso-c_doctor_juan_jose_lopez_0_valdezarza-madrid-i23878000004181.htm?f=&amp;geo=p&amp;from=list&amp;lo=55\" itemprop=\"name\" target=\"_self\" title=\"Piso  en  C/ doctor juan jose lopez 0\">Piso  en  C/ doctor juan jose lopez 0</a>\n",
       " </h3>,\n",
       " <h3 class=\"list-item-title\">\n",
       " <a href=\"https://www.habitaclia.com/comprar-piso-esplendido_universidad_malasana-madrid-i15511003002573.htm?f=&amp;geo=p&amp;from=list&amp;lo=55\" itemprop=\"name\" target=\"_self\" title=\"Piso  en  Universidad-Malasaña. Espléndido\">Piso  en  Universidad-Malasaña. Espléndido</a>\n",
       " </h3>]"
      ]
     },
     "execution_count": 15,
     "metadata": {},
     "output_type": "execute_result"
    }
   ],
   "source": [
    "# This tag seemed like a winner, but realized later that it was giving me one unwanted advertized/promo listing.\n",
    "\n",
    "# I was getting 16 elements and looks like I need to restrict the table to get only 15 elements.\n",
    "\n",
    "# Which are the elements that are truly real listings.\n",
    "\n",
    "link_soup_table = soup.find_all('h3', {'class': 'list-item-title'})\n",
    "\n",
    "link_soup_table[0:4]"
   ]
  },
  {
   "cell_type": "code",
   "execution_count": 16,
   "metadata": {},
   "outputs": [
    {
     "data": {
      "text/plain": [
       "<h3 class=\"list-item-title\">\n",
       "<a href=\"https://www.habitaclia.com/comprar-piso-fenomenal_arapiles-madrid-i15511003002180.htm?f=&amp;geo=p&amp;from=list&amp;lo=55\" itemprop=\"name\" target=\"_self\" title=\"Piso  en  Arapiles. Fenomenal\">Piso  en  Arapiles. Fenomenal</a>\n",
       "</h3>"
      ]
     },
     "execution_count": 16,
     "metadata": {},
     "output_type": "execute_result"
    }
   ],
   "source": [
    "soup.h3"
   ]
  },
  {
   "cell_type": "code",
   "execution_count": 17,
   "metadata": {},
   "outputs": [
    {
     "data": {
      "text/plain": [
       "<a href=\"https://www.habitaclia.com/comprar-piso-fenomenal_arapiles-madrid-i15511003002180.htm?f=&amp;geo=p&amp;from=list&amp;lo=55\" itemprop=\"name\" target=\"_self\" title=\"Piso  en  Arapiles. Fenomenal\">Piso  en  Arapiles. Fenomenal</a>"
      ]
     },
     "execution_count": 17,
     "metadata": {},
     "output_type": "execute_result"
    }
   ],
   "source": [
    "soup.h3.a"
   ]
  },
  {
   "cell_type": "code",
   "execution_count": 18,
   "metadata": {},
   "outputs": [
    {
     "data": {
      "text/plain": [
       "'https://www.habitaclia.com/comprar-piso-fenomenal_arapiles-madrid-i15511003002180.htm?f=&geo=p&from=list&lo=55'"
      ]
     },
     "execution_count": 18,
     "metadata": {},
     "output_type": "execute_result"
    }
   ],
   "source": [
    "soup.h3.a['href']"
   ]
  },
  {
   "cell_type": "code",
   "execution_count": 19,
   "metadata": {},
   "outputs": [
    {
     "data": {
      "text/plain": [
       "True"
      ]
     },
     "execution_count": 19,
     "metadata": {},
     "output_type": "execute_result"
    }
   ],
   "source": [
    "soup.h3.a['href'].startswith(\"https://www.habitaclia.com/comprar\", 0, 34)"
   ]
  },
  {
   "cell_type": "code",
   "execution_count": 20,
   "metadata": {},
   "outputs": [
    {
     "data": {
      "text/plain": [
       "34"
      ]
     },
     "execution_count": 20,
     "metadata": {},
     "output_type": "execute_result"
    }
   ],
   "source": [
    "len('https://www.habitaclia.com/comprar')"
   ]
  },
  {
   "cell_type": "code",
   "execution_count": 21,
   "metadata": {},
   "outputs": [
    {
     "data": {
      "text/plain": [
       "29"
      ]
     },
     "execution_count": 21,
     "metadata": {},
     "output_type": "execute_result"
    }
   ],
   "source": [
    "len('https://www.habitaclia.com/fv')"
   ]
  },
  {
   "cell_type": "code",
   "execution_count": 22,
   "metadata": {},
   "outputs": [
    {
     "data": {
      "text/plain": [
       "False"
      ]
     },
     "execution_count": 22,
     "metadata": {},
     "output_type": "execute_result"
    }
   ],
   "source": [
    "soup.h3.a['href'].startswith(\"https://www.habitaclia.com/fv\", 0, 29)"
   ]
  },
  {
   "cell_type": "code",
   "execution_count": 23,
   "metadata": {},
   "outputs": [
    {
     "data": {
      "text/plain": [
       "[<h3 class=\"list-item-title\">\n",
       " <a href=\"https://www.habitaclia.com/comprar-piso-fenomenal_arapiles-madrid-i15511003002180.htm?f=&amp;geo=p&amp;from=list&amp;lo=55\" itemprop=\"name\" target=\"_self\" title=\"Piso  en  Arapiles. Fenomenal\">Piso  en  Arapiles. Fenomenal</a>\n",
       " </h3>,\n",
       " <h3 class=\"list-item-title\">\n",
       " <a href=\"https://www.habitaclia.com/comprar-piso-con_terraza_gaztambide-madrid-i15511003002590.htm?f=&amp;geo=p&amp;from=list&amp;lo=55\" itemprop=\"name\" target=\"_self\" title=\"Piso  en  Gaztambide. Con terraza\">Piso  en  Gaztambide. Con terraza</a>\n",
       " </h3>,\n",
       " <h3 class=\"list-item-title\">\n",
       " <a href=\"https://www.habitaclia.com/comprar-piso-c_doctor_juan_jose_lopez_0_valdezarza-madrid-i23878000004181.htm?f=&amp;geo=p&amp;from=list&amp;lo=55\" itemprop=\"name\" target=\"_self\" title=\"Piso  en  C/ doctor juan jose lopez 0\">Piso  en  C/ doctor juan jose lopez 0</a>\n",
       " </h3>,\n",
       " <h3 class=\"list-item-title\">\n",
       " <a href=\"https://www.habitaclia.com/comprar-piso-esplendido_universidad_malasana-madrid-i15511003002573.htm?f=&amp;geo=p&amp;from=list&amp;lo=55\" itemprop=\"name\" target=\"_self\" title=\"Piso  en  Universidad-Malasaña. Espléndido\">Piso  en  Universidad-Malasaña. Espléndido</a>\n",
       " </h3>,\n",
       " <h3 class=\"list-item-title\">\n",
       " <a href=\"https://www.habitaclia.com/comprar-piso-estupendo_gaztambide-madrid-i15511003002757.htm?f=&amp;geo=p&amp;from=list&amp;lo=55\" itemprop=\"name\" target=\"_self\" title=\"Piso  en  Gaztambide. Estupendo\">Piso  en  Gaztambide. Estupendo</a>\n",
       " </h3>]"
      ]
     },
     "execution_count": 23,
     "metadata": {},
     "output_type": "execute_result"
    }
   ],
   "source": [
    "link_soup_table[0:5]"
   ]
  },
  {
   "cell_type": "code",
   "execution_count": 24,
   "metadata": {},
   "outputs": [
    {
     "data": {
      "text/plain": [
       "'https://www.habitaclia.com/comprar-piso-fenomenal_arapiles-madrid-i15511003002180.htm?f=&geo=p&from=list&lo=55'"
      ]
     },
     "execution_count": 24,
     "metadata": {},
     "output_type": "execute_result"
    }
   ],
   "source": [
    "link_soup_test = soup.find_all('section', {'class': 'list-items'})\n",
    "\n",
    "unique_link = link_soup_test[0].find_all('h3', {'class': 'list-item-title'})\n",
    "\n",
    "unique_link[0].a['href']"
   ]
  },
  {
   "cell_type": "code",
   "execution_count": 25,
   "metadata": {},
   "outputs": [
    {
     "data": {
      "text/plain": [
       "'https://www.habitaclia.com/comprar-piso-fenomenal_arapiles-madrid-i15511003002180.htm?f=&geo=p&from=list&lo=55'"
      ]
     },
     "execution_count": 25,
     "metadata": {},
     "output_type": "execute_result"
    }
   ],
   "source": [
    "link_soup_table[0].a['href']"
   ]
  },
  {
   "cell_type": "code",
   "execution_count": 26,
   "metadata": {},
   "outputs": [
    {
     "data": {
      "text/plain": [
       "<h3 class=\"list-item-title\">\n",
       "<a href=\"https://www.habitaclia.com/comprar-piso-fenomenal_arapiles-madrid-i15511003002180.htm?f=&amp;geo=p&amp;from=list&amp;lo=55\" itemprop=\"name\" target=\"_self\" title=\"Piso  en  Arapiles. Fenomenal\">Piso  en  Arapiles. Fenomenal</a>\n",
       "</h3>"
      ]
     },
     "execution_count": 26,
     "metadata": {},
     "output_type": "execute_result"
    }
   ],
   "source": [
    "link_soup_table[0]"
   ]
  },
  {
   "cell_type": "code",
   "execution_count": 27,
   "metadata": {},
   "outputs": [
    {
     "data": {
      "text/plain": [
       "<h3 class=\"list-item-title\">\n",
       "<a href=\"https://www.habitaclia.com/comprar-piso-con_terraza_gaztambide-madrid-i15511003002590.htm?f=&amp;geo=p&amp;from=list&amp;lo=55\" itemprop=\"name\" target=\"_self\" title=\"Piso  en  Gaztambide. Con terraza\">Piso  en  Gaztambide. Con terraza</a>\n",
       "</h3>"
      ]
     },
     "execution_count": 27,
     "metadata": {},
     "output_type": "execute_result"
    }
   ],
   "source": [
    "link_soup_table[1]"
   ]
  },
  {
   "cell_type": "code",
   "execution_count": 28,
   "metadata": {},
   "outputs": [
    {
     "data": {
      "text/plain": [
       "'https://www.habitaclia.com/comprar-piso-fenomenal_arapiles-madrid-i15511003002180.htm?f=&geo=p&from=list&lo=55'"
      ]
     },
     "execution_count": 28,
     "metadata": {},
     "output_type": "execute_result"
    }
   ],
   "source": [
    "link_soup_table[0].a['href']"
   ]
  },
  {
   "cell_type": "code",
   "execution_count": 29,
   "metadata": {},
   "outputs": [
    {
     "data": {
      "text/plain": [
       "'https://www.habitaclia.com/comprar-piso-con_terraza_gaztambide-madrid-i15511003002590.htm?f=&geo=p&from=list&lo=55'"
      ]
     },
     "execution_count": 29,
     "metadata": {},
     "output_type": "execute_result"
    }
   ],
   "source": [
    "link_soup_table[1].a['href']"
   ]
  },
  {
   "cell_type": "code",
   "execution_count": 30,
   "metadata": {},
   "outputs": [
    {
     "data": {
      "text/plain": [
       "16"
      ]
     },
     "execution_count": 30,
     "metadata": {},
     "output_type": "execute_result"
    }
   ],
   "source": [
    "len(link_soup_table)"
   ]
  },
  {
   "cell_type": "code",
   "execution_count": 31,
   "metadata": {},
   "outputs": [
    {
     "data": {
      "text/plain": [
       "15"
      ]
     },
     "execution_count": 31,
     "metadata": {},
     "output_type": "execute_result"
    }
   ],
   "source": [
    "len(unique_link)"
   ]
  },
  {
   "cell_type": "code",
   "execution_count": 32,
   "metadata": {},
   "outputs": [
    {
     "data": {
      "text/plain": [
       "[<h3 class=\"list-item-title\">\n",
       " <a href=\"https://www.habitaclia.com/comprar-piso-fenomenal_arapiles-madrid-i15511003002180.htm?f=&amp;geo=p&amp;from=list&amp;lo=55\" itemprop=\"name\" target=\"_self\" title=\"Piso  en  Arapiles. Fenomenal\">Piso  en  Arapiles. Fenomenal</a>\n",
       " </h3>,\n",
       " <h3 class=\"list-item-title\">\n",
       " <a href=\"https://www.habitaclia.com/comprar-piso-con_terraza_gaztambide-madrid-i15511003002590.htm?f=&amp;geo=p&amp;from=list&amp;lo=55\" itemprop=\"name\" target=\"_self\" title=\"Piso  en  Gaztambide. Con terraza\">Piso  en  Gaztambide. Con terraza</a>\n",
       " </h3>,\n",
       " <h3 class=\"list-item-title\">\n",
       " <a href=\"https://www.habitaclia.com/comprar-piso-c_doctor_juan_jose_lopez_0_valdezarza-madrid-i23878000004181.htm?f=&amp;geo=p&amp;from=list&amp;lo=55\" itemprop=\"name\" target=\"_self\" title=\"Piso  en  C/ doctor juan jose lopez 0\">Piso  en  C/ doctor juan jose lopez 0</a>\n",
       " </h3>,\n",
       " <h3 class=\"list-item-title\">\n",
       " <a href=\"https://www.habitaclia.com/comprar-piso-esplendido_universidad_malasana-madrid-i15511003002573.htm?f=&amp;geo=p&amp;from=list&amp;lo=55\" itemprop=\"name\" target=\"_self\" title=\"Piso  en  Universidad-Malasaña. Espléndido\">Piso  en  Universidad-Malasaña. Espléndido</a>\n",
       " </h3>,\n",
       " <h3 class=\"list-item-title\">\n",
       " <a href=\"https://www.habitaclia.com/comprar-piso-estupendo_gaztambide-madrid-i15511003002757.htm?f=&amp;geo=p&amp;from=list&amp;lo=55\" itemprop=\"name\" target=\"_self\" title=\"Piso  en  Gaztambide. Estupendo\">Piso  en  Gaztambide. Estupendo</a>\n",
       " </h3>,\n",
       " <h3 class=\"list-item-title\">\n",
       " <a href=\"https://www.habitaclia.com/comprar-piso-genial_palos_de_moguer-madrid-i15511003002586.htm?f=&amp;geo=p&amp;from=list&amp;lo=55\" itemprop=\"name\" target=\"_self\" title=\"Piso  en  Palos de Moguer. Genial\">Piso  en  Palos de Moguer. Genial</a>\n",
       " </h3>,\n",
       " <h3 class=\"list-item-title\">\n",
       " <a href=\"https://www.habitaclia.com/comprar-piso-estupendo_las_tablas-madrid-i15511003002656.htm?f=&amp;geo=p&amp;from=list&amp;lo=55\" itemprop=\"name\" target=\"_self\" title=\"Piso  en  Las Tablas. Estupendo\">Piso  en  Las Tablas. Estupendo</a>\n",
       " </h3>,\n",
       " <h3 class=\"list-item-title\">\n",
       " <a href=\"https://www.habitaclia.com/comprar-piso-admirable_lista-madrid-i15511003002839.htm?f=&amp;geo=p&amp;from=list&amp;lo=55\" itemprop=\"name\" target=\"_self\" title=\"Piso  en  Lista. Admirable\">Piso  en  Lista. Admirable</a>\n",
       " </h3>,\n",
       " <h3 class=\"list-item-title\">\n",
       " <a href=\"https://www.habitaclia.com/comprar-piso-impecable_en_lavapies_reforma_integral_embajadores_lavapies-madrid-i16424000000673.htm?f=&amp;geo=p&amp;from=list&amp;lo=55\" itemprop=\"name\" target=\"_self\" title=\"Piso  en  Embajadores-Lavapiés. Impecable piso en lavapies - reforma integral\">Piso  en  Embajadores-Lavapiés. Impecable piso en lavapies - reforma integral</a>\n",
       " </h3>,\n",
       " <h3 class=\"list-item-title\">\n",
       " <a href=\"https://www.habitaclia.com/comprar-piso-en_venta_en_calle_de_modesto_lafuente_46_de_modesto_lafuente_46_rios_rosas_nuevos_ministerios-madrid-i36375000000004.htm?f=&amp;geo=p&amp;from=list&amp;lo=55\" itemprop=\"name\" target=\"_self\" title=\"Piso  en  Calle de modesto lafuente 46. Piso en venta en calle de modesto lafuente 46\">Piso  en  Calle de modesto lafuente 46. Piso en venta en calle de modesto lafuente 46</a>\n",
       " </h3>,\n",
       " <h3 class=\"list-item-title\">\n",
       " <a href=\"https://www.habitaclia.com/comprar-piso-acogedor_canillas-madrid-i15511003002845.htm?f=&amp;geo=p&amp;from=list&amp;lo=55\" itemprop=\"name\" target=\"_self\" title=\"Piso  en  Canillas. Acogedor\">Piso  en  Canillas. Acogedor</a>\n",
       " </h3>,\n",
       " <h3 class=\"list-item-title\">\n",
       " <a href=\"https://www.habitaclia.com/comprar-planta_baja-fenomenal_las_aguilas-madrid-i15511003001952.htm?f=&amp;geo=p&amp;from=list&amp;lo=55\" itemprop=\"name\" target=\"_self\" title=\"Planta baja  en  Las Águilas. Fenomenal\">Planta baja  en  Las Águilas. Fenomenal</a>\n",
       " </h3>,\n",
       " <h3 class=\"list-item-title\">\n",
       " <a href=\"https://www.habitaclia.com/comprar-piso-esplendido_san_diego-madrid-i15511003002742.htm?f=&amp;geo=p&amp;from=list&amp;lo=55\" itemprop=\"name\" target=\"_self\" title=\"Piso  en  San Diego. Espléndido\">Piso  en  San Diego. Espléndido</a>\n",
       " </h3>,\n",
       " <h3 class=\"list-item-title\">\n",
       " <a href=\"https://www.habitaclia.com/comprar-atico-con_95_m2_de_terraza_en_venta_en_sol_universidad_malasana-madrid-i4975004012146.htm?f=&amp;geo=p&amp;from=list&amp;lo=55\" itemprop=\"name\" target=\"_self\" title=\"Ático  en  Universidad-Malasaña. Ático con 95 m² de terraza en venta en sol, madrid\">Ático  en  Universidad-Malasaña. Ático con 95 m² de terraza en venta en sol, madrid</a>\n",
       " </h3>,\n",
       " <h3 class=\"list-item-title\">\n",
       " <a href=\"https://www.habitaclia.com/comprar-piso-con_certificado_passivhaus_arroyo_del_fresno-madrid-i15511003002669.htm?f=&amp;geo=p&amp;from=list&amp;lo=55\" itemprop=\"name\" target=\"_self\" title=\"Piso  en  Arroyo del Fresno. Con certificado passivhaus\">Piso  en  Arroyo del Fresno. Con certificado passivhaus</a>\n",
       " </h3>]"
      ]
     },
     "execution_count": 32,
     "metadata": {},
     "output_type": "execute_result"
    }
   ],
   "source": [
    "unique_link"
   ]
  },
  {
   "cell_type": "code",
   "execution_count": 33,
   "metadata": {},
   "outputs": [
    {
     "name": "stdout",
     "output_type": "stream",
     "text": [
      "https://www.habitaclia.com/comprar-piso-fenomenal_arapiles-madrid-i15511003002180.htm?f=&geo=p&from=list&lo=55\n",
      "https://www.habitaclia.com/comprar-piso-con_terraza_gaztambide-madrid-i15511003002590.htm?f=&geo=p&from=list&lo=55\n",
      "https://www.habitaclia.com/comprar-piso-c_doctor_juan_jose_lopez_0_valdezarza-madrid-i23878000004181.htm?f=&geo=p&from=list&lo=55\n",
      "https://www.habitaclia.com/comprar-piso-esplendido_universidad_malasana-madrid-i15511003002573.htm?f=&geo=p&from=list&lo=55\n",
      "https://www.habitaclia.com/comprar-piso-estupendo_gaztambide-madrid-i15511003002757.htm?f=&geo=p&from=list&lo=55\n",
      "https://www.habitaclia.com/comprar-piso-genial_palos_de_moguer-madrid-i15511003002586.htm?f=&geo=p&from=list&lo=55\n",
      "https://www.habitaclia.com/comprar-piso-estupendo_las_tablas-madrid-i15511003002656.htm?f=&geo=p&from=list&lo=55\n",
      "https://www.habitaclia.com/comprar-piso-admirable_lista-madrid-i15511003002839.htm?f=&geo=p&from=list&lo=55\n",
      "https://www.habitaclia.com/comprar-piso-impecable_en_lavapies_reforma_integral_embajadores_lavapies-madrid-i16424000000673.htm?f=&geo=p&from=list&lo=55\n",
      "https://www.habitaclia.com/comprar-piso-en_venta_en_calle_de_modesto_lafuente_46_de_modesto_lafuente_46_rios_rosas_nuevos_ministerios-madrid-i36375000000004.htm?f=&geo=p&from=list&lo=55\n",
      "https://www.habitaclia.com/comprar-piso-acogedor_canillas-madrid-i15511003002845.htm?f=&geo=p&from=list&lo=55\n",
      "https://www.habitaclia.com/comprar-planta_baja-fenomenal_las_aguilas-madrid-i15511003001952.htm?f=&geo=p&from=list&lo=55\n",
      "https://www.habitaclia.com/comprar-piso-esplendido_san_diego-madrid-i15511003002742.htm?f=&geo=p&from=list&lo=55\n",
      "https://www.habitaclia.com/comprar-atico-con_95_m2_de_terraza_en_venta_en_sol_universidad_malasana-madrid-i4975004012146.htm?f=&geo=p&from=list&lo=55\n",
      "https://www.habitaclia.com/comprar-piso-con_certificado_passivhaus_arroyo_del_fresno-madrid-i15511003002669.htm?f=&geo=p&from=list&lo=55\n"
     ]
    }
   ],
   "source": [
    "data = []\n",
    "\n",
    "for i in range(len(unique_link)):\n",
    "    print(unique_link[i].a['href'])\n",
    "    data.append(unique_link[i].a['href'])"
   ]
  },
  {
   "cell_type": "code",
   "execution_count": 34,
   "metadata": {},
   "outputs": [
    {
     "data": {
      "text/plain": [
       "15"
      ]
     },
     "execution_count": 34,
     "metadata": {},
     "output_type": "execute_result"
    }
   ],
   "source": [
    "len(data)"
   ]
  },
  {
   "cell_type": "code",
   "execution_count": 35,
   "metadata": {},
   "outputs": [
    {
     "name": "stderr",
     "output_type": "stream",
     "text": [
      "100%|██████████| 20/20 [00:18<00:00,  1.06it/s]\n"
     ]
    }
   ],
   "source": [
    "# import libraries\n",
    "from bs4 import BeautifulSoup\n",
    "import numpy as np\n",
    "from tqdm import tqdm\n",
    "\n",
    "###########################\n",
    "# Loop of all the pages\n",
    "###########################\n",
    "\n",
    "#Loop to go over all pages\n",
    "pages = np.arange(1, 5000, 1)\n",
    "#data=[]\n",
    "\n",
    "for page in tqdm(pages[:20]):\n",
    "    try:\n",
    "        page=\"https://www.habitaclia.com/viviendas-madrid-\" + str(page) + \".htm\"\n",
    "        html = requests.get(page).content\n",
    "        soup = BeautifulSoup(html, 'html.parser')\n",
    "        link_soup_table = soup.find_all('section', {'class': 'list-items'})\n",
    "        unique_link = link_soup_table[0].find_all('h3', {'class': 'list-item-title'})\n",
    "        for i in range(len(unique_link)):\n",
    "            data.append(unique_link[i].a['href'])\n",
    "      \n",
    "    except Exception as e:\n",
    "        print(\"Oops!\", print(e), \"occurred.\")\n",
    "        print()\n",
    "        break"
   ]
  },
  {
   "cell_type": "code",
   "execution_count": 36,
   "metadata": {},
   "outputs": [
    {
     "data": {
      "text/plain": [
       "15"
      ]
     },
     "execution_count": 36,
     "metadata": {},
     "output_type": "execute_result"
    }
   ],
   "source": [
    "len(unique_link)"
   ]
  },
  {
   "cell_type": "code",
   "execution_count": 37,
   "metadata": {},
   "outputs": [
    {
     "data": {
      "text/plain": [
       "315"
      ]
     },
     "execution_count": 37,
     "metadata": {},
     "output_type": "execute_result"
    }
   ],
   "source": [
    "len(data)"
   ]
  },
  {
   "cell_type": "code",
   "execution_count": 38,
   "metadata": {},
   "outputs": [
    {
     "data": {
      "text/plain": [
       "['https://www.habitaclia.com/comprar-piso-fenomenal_arapiles-madrid-i15511003002180.htm?f=&geo=p&from=list&lo=55',\n",
       " 'https://www.habitaclia.com/comprar-piso-con_terraza_gaztambide-madrid-i15511003002590.htm?f=&geo=p&from=list&lo=55',\n",
       " 'https://www.habitaclia.com/comprar-piso-c_doctor_juan_jose_lopez_0_valdezarza-madrid-i23878000004181.htm?f=&geo=p&from=list&lo=55',\n",
       " 'https://www.habitaclia.com/comprar-piso-esplendido_universidad_malasana-madrid-i15511003002573.htm?f=&geo=p&from=list&lo=55',\n",
       " 'https://www.habitaclia.com/comprar-piso-estupendo_gaztambide-madrid-i15511003002757.htm?f=&geo=p&from=list&lo=55',\n",
       " 'https://www.habitaclia.com/comprar-piso-genial_palos_de_moguer-madrid-i15511003002586.htm?f=&geo=p&from=list&lo=55',\n",
       " 'https://www.habitaclia.com/comprar-piso-estupendo_las_tablas-madrid-i15511003002656.htm?f=&geo=p&from=list&lo=55',\n",
       " 'https://www.habitaclia.com/comprar-piso-admirable_lista-madrid-i15511003002839.htm?f=&geo=p&from=list&lo=55',\n",
       " 'https://www.habitaclia.com/comprar-piso-impecable_en_lavapies_reforma_integral_embajadores_lavapies-madrid-i16424000000673.htm?f=&geo=p&from=list&lo=55',\n",
       " 'https://www.habitaclia.com/comprar-piso-en_venta_en_calle_de_modesto_lafuente_46_de_modesto_lafuente_46_rios_rosas_nuevos_ministerios-madrid-i36375000000004.htm?f=&geo=p&from=list&lo=55',\n",
       " 'https://www.habitaclia.com/comprar-piso-acogedor_canillas-madrid-i15511003002845.htm?f=&geo=p&from=list&lo=55',\n",
       " 'https://www.habitaclia.com/comprar-planta_baja-fenomenal_las_aguilas-madrid-i15511003001952.htm?f=&geo=p&from=list&lo=55',\n",
       " 'https://www.habitaclia.com/comprar-piso-esplendido_san_diego-madrid-i15511003002742.htm?f=&geo=p&from=list&lo=55',\n",
       " 'https://www.habitaclia.com/comprar-atico-con_95_m2_de_terraza_en_venta_en_sol_universidad_malasana-madrid-i4975004012146.htm?f=&geo=p&from=list&lo=55',\n",
       " 'https://www.habitaclia.com/comprar-piso-con_certificado_passivhaus_arroyo_del_fresno-madrid-i15511003002669.htm?f=&geo=p&from=list&lo=55',\n",
       " 'https://www.habitaclia.com/comprar-piso-vivienda_2_dormitorios_reformada_y_semiamueblada_con_ascensor_universidad_malasana-madrid-i16424000000656.htm?pag=1&f=&geo=p&from=list&lo=55',\n",
       " 'https://www.habitaclia.com/comprar-piso-maravilloso_los_carmenes-madrid-i15511003003094.htm?pag=1&f=&geo=p&from=list&lo=55',\n",
       " 'https://www.habitaclia.com/comprar-piso-obra_nueva_sol-madrid-i548003171458.htm?pag=1&f=&geo=p&from=list&lo=55',\n",
       " 'https://www.habitaclia.com/comprar-piso-en_venta_a_reformar_en_vallehermoso_vallehermoso-madrid-i15240003787564.htm?pag=1&f=&geo=p&from=list&lo=55',\n",
       " 'https://www.habitaclia.com/comprar-piso-en_venta_en_almagro_almagro-madrid-i15240003786665.htm?pag=1&f=&geo=p&from=list&lo=55']"
      ]
     },
     "execution_count": 38,
     "metadata": {},
     "output_type": "execute_result"
    }
   ],
   "source": [
    "data[0:20]"
   ]
  },
  {
   "cell_type": "code",
   "execution_count": 39,
   "metadata": {},
   "outputs": [
    {
     "data": {
      "text/plain": [
       "'https://www.habitaclia.com/comprar-piso-fenomenal_arapiles-madrid-i15511003002180.htm?f=&geo=p&from=list&lo=55'"
      ]
     },
     "execution_count": 39,
     "metadata": {},
     "output_type": "execute_result"
    }
   ],
   "source": [
    "data[0]"
   ]
  },
  {
   "cell_type": "code",
   "execution_count": 40,
   "metadata": {},
   "outputs": [
    {
     "data": {
      "text/plain": [
       "str"
      ]
     },
     "execution_count": 40,
     "metadata": {},
     "output_type": "execute_result"
    }
   ],
   "source": [
    "type(data[0])"
   ]
  },
  {
   "cell_type": "code",
   "execution_count": 41,
   "metadata": {},
   "outputs": [
    {
     "data": {
      "text/plain": [
       "'290.000'"
      ]
     },
     "execution_count": 41,
     "metadata": {},
     "output_type": "execute_result"
    }
   ],
   "source": [
    "#This was done to check my first link on the data list and retrieve price.\n",
    "\n",
    "link = data[8]\n",
    "html = requests.get(link).content\n",
    "unique_soup = BeautifulSoup(html, 'html.parser')\n",
    "summary_box_table = unique_soup.find_all('div', {'class': 'summary-left'})\n",
    "tag_div_class_price = summary_box_table[0].find_all('div', {'class': 'price'})\n",
    "zooming_at_price = tag_div_class_price[0].find_all('span', {'class': 'font-2'})\n",
    "zooming_at_price[0].text\n",
    "price = zooming_at_price[0].text[:-2]\n",
    "price"
   ]
  },
  {
   "cell_type": "code",
   "execution_count": 42,
   "metadata": {},
   "outputs": [
    {
     "data": {
      "text/plain": [
       "'Piso impecable piso en lavapies - reforma integral en Madrid'"
      ]
     },
     "execution_count": 42,
     "metadata": {},
     "output_type": "execute_result"
    }
   ],
   "source": [
    "#This was done to check my first link on the data list and retrieve the listing description.\n",
    "\n",
    "listing_description = summary_box_table[0].find_all('h1')\n",
    "description = listing_description[0].text\n",
    "description"
   ]
  },
  {
   "cell_type": "code",
   "execution_count": 43,
   "metadata": {},
   "outputs": [
    {
     "data": {
      "text/plain": [
       "'Embajadores-Lavapiés'"
      ]
     },
     "execution_count": 43,
     "metadata": {},
     "output_type": "execute_result"
    }
   ],
   "source": [
    "#This was done to check my first link on the data list and retrieve the pinned location.\n",
    "\n",
    "zooming_location = summary_box_table[0].find_all('article', {'class': 'location'})\n",
    "pinned_location = zooming_location[0].find_all('a', {'class': 'jqVerMapaZonaTooltip link-map-location'})\n",
    "location = pinned_location[0].get('title')\n",
    "location_name = location[4:]\n",
    "location_name"
   ]
  },
  {
   "cell_type": "code",
   "execution_count": 45,
   "metadata": {},
   "outputs": [
    {
     "name": "stdout",
     "output_type": "stream",
     "text": [
      "meters: ['70']\n",
      "rooms: ['2']\n",
      "baths: ['1']\n",
      "euros: ['4.143']\n"
     ]
    }
   ],
   "source": [
    "# Listing summarized details in the feature container. => Square meters, # of Rooms, # of Bathrooms, Price per square meter\n",
    "\n",
    "feature_container = summary_box_table[0].find_all('ul', {'class': 'feature-container'})\n",
    "\n",
    "meters = []\n",
    "rooms = []\n",
    "baths = []\n",
    "euros_per_meter = []\n",
    "\n",
    "meters_pos_in_feature_container = feature_container[0].text.find('m2')\n",
    "room_pos_in_feature_container = feature_container[0].text.find('hab.')\n",
    "baths_pos_in_feature_container = feature_container[0].text.find('baño')\n",
    "euro_pos_in_feature_container = feature_container[0].text.find('€/m')\n",
    "\n",
    "\n",
    "if str('m2') in feature_container[0].text.strip():\n",
    "    meters.append(feature_container[0].text[:feature_container[0].text.find('m2')].strip())\n",
    "else:\n",
    "    meters.append(np.NaN)\n",
    "\n",
    "if str('hab') in feature_container[0].text:\n",
    "    rooms.append(feature_container[0].text[int(feature_container[0].text.find('hab'))-4:int(feature_container[0].text.find('hab'))].strip())\n",
    "else:\n",
    "    rooms.append(np.NaN)\n",
    "\n",
    "if str('baño') in feature_container[0].text:\n",
    "    baths.append(feature_container[0].text[int(feature_container[0].text.find('baño'))-3:int(feature_container[0].text.find('baño'))].strip())\n",
    "else:\n",
    "    baths.append(np.NaN)\n",
    "    \n",
    "if str('€/m') in feature_container[0].text:\n",
    "    euros_per_meter.append(feature_container[0].text[int(feature_container[0].text.find('€/m'))-8:int(feature_container[0].text.find('€/m'))].strip())\n",
    "else:\n",
    "    euros_per_meter.append(np.NaN)\n",
    "\n",
    "\n",
    "#print(meters_pos_in_feature_container)\n",
    "#print(room_pos_in_feature_container)\n",
    "#print(baths_pos_in_feature_container)\n",
    "#print(euro_pos_in_feature_container)\n",
    "\n",
    "print('meters:', meters)\n",
    "print('rooms:', rooms)\n",
    "print('baths:', baths)\n",
    "print('euros:', euros_per_meter)\n",
    "\n"
   ]
  },
  {
   "cell_type": "code",
   "execution_count": 46,
   "metadata": {},
   "outputs": [],
   "source": [
    "#LO QUE ESTUVE REVISANDO CON OCTAVIO\n",
    "\n",
    "# import re\n",
    "\n",
    "# feature_list = []\n",
    "\n",
    "# for i in range(len(features)):\n",
    "#     key = re.findall('\\d+', features[i].text)[0]\n",
    "#     value = re.findall('\\d+', features[i].text)[0]\n",
    "#     feature_list.append((key,value))\n",
    "# print(feature_list)"
   ]
  },
  {
   "cell_type": "code",
   "execution_count": 47,
   "metadata": {},
   "outputs": [],
   "source": [
    "#This was done to check my first link on the data list and retrieve the main characteristics.\n",
    "\n",
    "# feature_container = summary_box_table[0].find_all('ul', {'class': 'feature-container'})\n",
    "# features = summary_box_table[0].find_all('li', {'class': 'feature'})\n",
    "# #print(features[0].text.strip('\\n')) #THIS WAS THE CODE BASED ON FEATURE INDEX POSITION 0 => m2, 1 => #_of_rooms, 2 => bathrooms, 3 => price_per_square_meter\n",
    "# #print(features[1].text.strip())\n",
    "# #print(features[2].text.strip().rstrip('\\r\\n'))\n",
    "# #print(features[3].text)\n",
    "\n",
    "# # squared_meters = []\n",
    "# # number_of_rooms = []\n",
    "# # number_of_bathrooms = []\n",
    "# # price_per_squared_meter = []\n",
    "\n",
    "\n",
    "# for i in range(len(features)):\n",
    "\n",
    "#     try:\n",
    "#         squared_meters.append(int(features[0].text.strip('\\ndesde ').strip('\\n')[:-3]))\n",
    "        \n",
    "#     except:\n",
    "#         squared_meters.append(np.NaN)\n",
    "\n",
    "#     # TO EXTRACT NUMBER OF ROOMS\n",
    "    \n",
    "#     all_features = []\n",
    "#     if str('hab.') in features[i].text:\n",
    "#         try:\n",
    "#             print('CON hab. en el string y deberia extraer rooms')\n",
    "#             #room_pos_in_features = features[i].text.find('hab.')\n",
    "#             number_of_rooms.append(int(features[i].text.strip()[:-5]))\n",
    "#         except:\n",
    "#             number_of_rooms.append(np.NaN)\n",
    "#             print('CON hab. en el string y deberia definir rooms con NAN')\n",
    "            \n",
    "#     else:\n",
    "#         number_of_rooms.append(np.NaN)\n",
    "        \n",
    "#         print('SIN hab. en el string y deberia definir rooms con NAN SOLO si NO esta definido aun')\n",
    "#         number_of_rooms.append(np.NaN)\n",
    "\n",
    "#     # TO EXTRACT NUMBER OF BATHROOMS\n",
    "    \n",
    "#     if str('baño') in features[i].text:\n",
    "#         try:\n",
    "#             #bathroom_pos_in_features = features[i].text.find('baño')\n",
    "#             number_of_bathrooms = features[i].text.strip().rstrip('\\r\\n')\n",
    "#             number_of_bathrooms = int(features[i].text.strip().rstrip('\\r\\n')[0:2].strip())\n",
    "#                                    except:\n",
    "#             number_of_bathrooms = np.NaN\n",
    "#             pass\n",
    "#             #number_of_bathrooms = np.NaN\n",
    "#     else:\n",
    "#         pass   \n",
    "\n",
    "#     # TO EXTRACT NUMBER OF BATHROOMS\n",
    "\n",
    "#     if str('€/m') in features[i].text:\n",
    "#         try:\n",
    "#             #price_squared_meters_pos = features[i].text.find('€/m')\n",
    "#             price_per_squared_meter = features[i].text\n",
    "#             price_per_squared_meter = features[i].text[:-5]\n",
    "#         except:\n",
    "#             price_per_squared_meter = np.NaN\n",
    "#     else:\n",
    "#         pass\n",
    "\n",
    "# print('squared_meters:', squared_meters)\n",
    "# print('number_of_rooms:', number_of_rooms)\n",
    "# print('number_of_bathrooms:', number_of_bathrooms)\n",
    "# print('price_per_squared_meter:', price_per_squared_meter)"
   ]
  },
  {
   "cell_type": "code",
   "execution_count": 48,
   "metadata": {},
   "outputs": [
    {
     "data": {
      "text/plain": [
       "True"
      ]
     },
     "execution_count": 48,
     "metadata": {},
     "output_type": "execute_result"
    }
   ],
   "source": [
    "lista_sample = ['prueba', 'hab.', 'rooms', 'baths']\n",
    "\n",
    "str('hab.') in lista_sample"
   ]
  },
  {
   "cell_type": "code",
   "execution_count": 49,
   "metadata": {},
   "outputs": [
    {
     "data": {
      "text/plain": [
       "True"
      ]
     },
     "execution_count": 49,
     "metadata": {},
     "output_type": "execute_result"
    }
   ],
   "source": [
    "#This was done to try to find and narrow down on a specific feature/position.\n",
    "\n",
    "feature_container = summary_box_table[0].find_all('ul', {'class': 'feature-container'})\n",
    "features = summary_box_table[0].find_all('li', {'class': 'feature'})\n",
    "str('hab') in features[1].text"
   ]
  },
  {
   "cell_type": "code",
   "execution_count": 50,
   "metadata": {},
   "outputs": [],
   "source": [
    "# First try to retrieve \"caracteristicas principales\"\n",
    "\n",
    "# for i in range(len(features)):\n",
    "#     #print(features[i].text.find('baño'))\n",
    "#     bathroom_pos_in_features = features[i].text.find('baño')\n",
    "#     number_of_bathrooms = features[bathroom_pos_in_features].text.strip().rstrip('\\r\\n')\n",
    "#     number_of_bathrooms = int(features[bathroom_pos_in_features].text.strip().rstrip('\\r\\n')[0:2].strip())\n",
    "#     #number_of_bathrooms_list.append(number_of_bathrooms)\n",
    "    \n",
    "    \n",
    "#     #print(features[i].text.find(' hab.'))\n",
    "#     room_pos_in_features = features[i].text.find('hab.')\n",
    "#     number_of_rooms = features[1].text.strip()\n",
    "#     number_of_rooms = int(features[1].text.strip()[:-5])\n",
    "#     #number_of_rooms_list.append(number_of_rooms)\n",
    "    \n",
    "    \n",
    "#     #print(features[i].text.find('€/m'))\n",
    "#     price_squared_meters_pos = features[i].text.find('€/m')\n",
    "#     price_per_squared_meter = features[3].text\n",
    "#     price_per_squared_meter = features[3].text[:-5]\n",
    "    \n",
    "    \n",
    "# print('number_of_baths:', number_of_bathrooms)\n",
    "# print('number_of_rooms:', number_of_rooms)\n",
    "# print('price_per_squared_meter:', price_per_squared_meter)"
   ]
  },
  {
   "cell_type": "code",
   "execution_count": 51,
   "metadata": {},
   "outputs": [
    {
     "data": {
      "text/plain": [
       "'Jadein-Ferrero vende excelente vivienda con reforma integral. Dispone de 2 habitaciones, salón de 20M2 con moderna cocina integrada y electrodomésticos a estrenar, impecable baño con plato de ducha, patio de 20M2, pintura lisa, A/A, escayola decorativa, suelos de mármol y trastero con acceso directo. Llame y concierte una visita sin compromiso.'"
      ]
     },
     "execution_count": 51,
     "metadata": {},
     "output_type": "execute_result"
    }
   ],
   "source": [
    "#This was done to check my first link on the data list and retrieve the detailed description.\n",
    "\n",
    "description_table = unique_soup.find_all('section', {'class': 'detail'})\n",
    "detailed_description = description_table[0].find_all('p', {'class': 'detail-description'})\n",
    "detailed_description[0].text.replace('\\xa0', ' ').replace('  ', ' ')"
   ]
  },
  {
   "cell_type": "code",
   "execution_count": 52,
   "metadata": {},
   "outputs": [
    {
     "name": "stdout",
     "output_type": "stream",
     "text": [
      "2 habitaciones\n",
      "Superficie 70 m2\n",
      "1 Baño\n"
     ]
    },
    {
     "data": {
      "text/plain": [
       "['2 habitaciones', 'Superficie 70 m2', '1 Baño']"
      ]
     },
     "execution_count": 52,
     "metadata": {},
     "output_type": "execute_result"
    }
   ],
   "source": [
    "#This is to retrieve all the listing distribution details \"Distribución\".\n",
    "\n",
    "all_listing_details = unique_soup.find_all('article', {'class': 'has-aside'})\n",
    "distribution_details = all_listing_details[1].find_all('li')\n",
    "\n",
    "all_distribution_details = []\n",
    "\n",
    "for items in range(len(distribution_details)):\n",
    "    print(distribution_details[items].text)\n",
    "    all_distribution_details.append(distribution_details[items].text.strip().replace('\\xa0', ' '))\n",
    "    \n",
    "all_distribution_details"
   ]
  },
  {
   "cell_type": "code",
   "execution_count": 53,
   "metadata": {},
   "outputs": [
    {
     "name": "stdout",
     "output_type": "stream",
     "text": [
      "2 habitaciones\n",
      "Superficie 70 m2\n",
      "1 Baño\n",
      "['2 habitaciones', 'Superficie 70 m2', '1 Baño']\n",
      "[]\n",
      "[]\n",
      "\n",
      "Caracteristicas Distribución:\n",
      "\n",
      "dist_rooms ['2']\n",
      "dist_meters ['70']\n",
      "dist_baths ['1']\n",
      "dist_trastero [nan]\n",
      "dist_lavadero [nan]\n",
      "dist_terraza [nan]\n",
      "\n",
      "Caracteristicas Generales:\n",
      "\n",
      "feat_year_made [nan]\n",
      "feat_unit_floor [nan]\n",
      "feat_air_conditioner [nan]\n",
      "feat_parking_spot [nan]\n",
      "feat_heater [nan]\n",
      "\n",
      "Equipamiento Comunitario:\n",
      "\n",
      "comm_elevator [nan]\n",
      "comm_pool [nan]\n",
      "comm_quota [nan]\n"
     ]
    }
   ],
   "source": [
    "# THIS IS TO GET AL THE DETAILS LISTED IN THE BOX BELOW THE DESCRIPTION.\n",
    "\n",
    "all_listings_distribution_details_list = []\n",
    "all_listings_general_features_list = []\n",
    "all_listings_community_features_list = []\n",
    "\n",
    "#DISTRIBUTION MOST RELEVANT AND REPEATED ITEMS\n",
    "dist_rooms = []\n",
    "dist_meters = []\n",
    "dist_baths = []\n",
    "dist_trastero = []\n",
    "dist_lavadero = []\n",
    "dist_terraza = []\n",
    "\n",
    "\n",
    "# GENERAL FEATURES: MOST RELEVANT OR REPEATED FEATURES. \"CARACTERISTICAS PRINCIPALES\"\n",
    "feat_year_made = []\n",
    "feat_unit_floor = []\n",
    "feat_air_conditioner = []\n",
    "feat_parking_spot = []\n",
    "feat_heater = []\n",
    "\n",
    "# COMMUNITY FEATURES: MOST RELEVANT OR REPEATED FEATURES. \"EQUIPAMIENTO COMUNITARIO\"\n",
    "\n",
    "comm_elevator = []\n",
    "comm_quota = []\n",
    "comm_pool = []\n",
    "\n",
    "\n",
    "all_listing_details = unique_soup.find_all('article', {'class': 'has-aside'})\n",
    "distribution_details = all_listing_details[1].find_all('li')\n",
    "general_features_details = all_listing_details[2].find_all('li')\n",
    "community_equipment = all_listing_details[3].find_all('li')\n",
    "    \n",
    "\n",
    "one_listing_distribution_details_list= []\n",
    "one_listing_all_features_details_list = []\n",
    "one_listing_all_community_equipment_list = []\n",
    "\n",
    "#TO EXTRACT DISTRIBUTION MOST RELEVANT AND REPEATED ITEMS TO LISTS.\n",
    "\n",
    "if str('habitac') in all_listing_details[1].text:\n",
    "    dist_rooms.append(all_listing_details[1].text[int(all_listing_details[1].text.find('habit'))-4:int(all_listing_details[1].text.find('habit'))].strip())\n",
    "else:\n",
    "    dist_rooms.append(np.NaN)\n",
    "\n",
    "if str('Superficie') in all_listing_details[1].text:\n",
    "    dist_meters.append(all_listing_details[1].text[int(all_listing_details[1].text.find('Superficie')) + len('Superficie'):int(all_listing_details[1].text.find('m2'))].strip())\n",
    "else:\n",
    "    dist_meters.append(np.NaN)\n",
    "\n",
    "if str('Baño') in all_listing_details[1].text:\n",
    "    dist_baths.append(all_listing_details[1].text[int(all_listing_details[1].text.find('Baño')) - 3:int(all_listing_details[1].text.find('Baño'))].strip())\n",
    "else:\n",
    "    dist_baths.append(np.NaN)\n",
    "\n",
    "if str('Trastero') in all_listing_details[1].text:\n",
    "    dist_trastero.append(True)\n",
    "else:\n",
    "    dist_trastero.append(np.NaN)\n",
    "\n",
    "if str('Lavadero') in all_listing_details[1].text:\n",
    "    dist_lavadero.append(True)\n",
    "else:\n",
    "    dist_lavadero.append(np.NaN)\n",
    "    \n",
    "if str('Terraza') in all_listing_details[1].text:\n",
    "    dist_terraza.append(all_listing_details[1].text[int(all_listing_details[1].text.find('Terraza'))+len('Terraza'):int(all_listing_details[1].text.find('Terraza'))+len('Terraza') + 4].strip())\n",
    "else:\n",
    "    dist_terraza.append(np.NaN)\n",
    "\n",
    "    \n",
    "#Distribution    \n",
    "for items in range(len(distribution_details)):\n",
    "    print(distribution_details[items].text)\n",
    "    one_listing_distribution_details_list.append(distribution_details[items].text.strip().replace('\\xa0', ' '))\n",
    "    \n",
    "#General Features  \n",
    "for items in range(len(general_features_details)):\n",
    "    if len(general_features_details[items]) <= 2:\n",
    "        print(general_features_details[items].text)\n",
    "        one_listing_all_features_details_list.append(general_features_details[items].text.strip().replace('\\xa0', ' '))\n",
    "        \n",
    "#Community Equipment  \n",
    "for items in range(len(community_equipment)):\n",
    "    if len(community_equipment[items]) <= 2:\n",
    "        print(community_equipment[items].text)\n",
    "        one_listing_all_community_equipment_list.append(community_equipment[items].text.strip().replace('\\xa0', ' '))\n",
    "\n",
    "    \n",
    "#TO EXTRACT THE GENERAL FEATURES MOST RELEVANT AND REPEATED ITEMS TO LISTS.\n",
    "\n",
    "if str('Calefacción') in all_listing_details[2].text:\n",
    "    feat_heater.append(True)\n",
    "elif str('Sin calefacción') in all_listing_details[2].text:\n",
    "    feat_heater.append(False)\n",
    "else:\n",
    "    feat_heater.append(np.NaN)\n",
    "\n",
    "if str('Aire acondicionado') in all_listing_details[2].text:\n",
    "    feat_air_conditioner.append(True)\n",
    "elif str('Sin aire acondicionado') in all_listing_details[2].text:\n",
    "    feat_air_conditioner.append(False)\n",
    "else:\n",
    "    feat_air_conditioner.append(np.NaN)\n",
    "    \n",
    "if str('Plaza parking') in all_listing_details[2].text:\n",
    "    feat_parking_spot.append(True)\n",
    "elif str('Sin plaza parking') in all_listing_details[2].text:\n",
    "    feat_parking_spot.append(False)\n",
    "else:\n",
    "    feat_parking_spot.append(np.NaN)\n",
    "\n",
    "if str('Año construcción') in all_listing_details[2].text:\n",
    "    feat_year_made.append(all_listing_details[2].text[int(all_listing_details[2].text.find('Año construcción')) + len('Año construcción'):int(all_listing_details[2].text.find('Año construcción')) + len('Año construcción') + 6].strip())\n",
    "else:\n",
    "    feat_year_made.append(np.NaN)\n",
    "\n",
    "if str('Planta número') in all_listing_details[2].text:\n",
    "    feat_unit_floor.append(all_listing_details[2].text[int(all_listing_details[2].text.find('Planta número')) + len('Planta número'):int(all_listing_details[2].text.find('Planta número')) + len('Planta número') + 3].strip())\n",
    "else:\n",
    "    feat_unit_floor.append(np.NaN)\n",
    "    \n",
    "    \n",
    "#TO EXTRACT THE COMMUNITY MOST RELEVANT FEATURES AND REPEATED ITEMS TO LISTS.\n",
    "\n",
    "if str('Ascensor') in all_listing_details[3].text:\n",
    "    comm_elevator.append(True)\n",
    "elif str('Sin ascensor') in all_listing_details[3].text:\n",
    "    comm_elevator.append(False)\n",
    "else:\n",
    "    comm_elevator.append(np.NaN)\n",
    "    \n",
    "if str('Piscina comunitaria') in all_listing_details[3].text:\n",
    "    comm_pool.append(True)\n",
    "else:\n",
    "    comm_pool.append(np.NaN)\n",
    "    \n",
    "if str('Cuota comunidad') in all_listing_details[3].text:\n",
    "    comm_quota.append(all_listing_details[3].text[int(all_listing_details[3].text.find('Cuota comunidad')) + len('Cuota comunidad') :int(all_listing_details[3].text.find('€'))].strip())\n",
    "else:\n",
    "    comm_quota.append(np.NaN)\n",
    "    \n",
    "\n",
    "#Distribution\n",
    "print(one_listing_distribution_details_list)\n",
    "all_listings_distribution_details_list.append(one_listing_distribution_details_list)\n",
    "\n",
    "#General Features        \n",
    "print(one_listing_all_features_details_list)\n",
    "all_listings_general_features_list.append(one_listing_all_features_details_list)\n",
    "\n",
    "#Community Features        \n",
    "print(one_listing_all_community_equipment_list)\n",
    "all_listings_community_features_list.append(one_listing_all_community_equipment_list)\n",
    "\n",
    "#THE FOLLOWING PART TO CREATE A LIST TO DOUBLE CHECK ITEMS.\n",
    "\n",
    "print('\\nCaracteristicas Distribución:\\n')\n",
    "print('dist_rooms', dist_rooms)\n",
    "print('dist_meters', dist_meters)\n",
    "print('dist_baths', dist_baths)\n",
    "print('dist_trastero', dist_trastero)\n",
    "print('dist_lavadero', dist_lavadero)\n",
    "print('dist_terraza', dist_terraza)\n",
    "\n",
    "print('\\nCaracteristicas Generales:\\n')\n",
    "print('feat_year_made', feat_year_made)\n",
    "print('feat_unit_floor', feat_unit_floor)\n",
    "print('feat_air_conditioner', feat_air_conditioner)\n",
    "print('feat_parking_spot', feat_parking_spot)\n",
    "print('feat_heater', feat_heater)\n",
    "\n",
    "print('\\nEquipamiento Comunitario:\\n')\n",
    "print('comm_elevator', comm_elevator)\n",
    "print('comm_pool', comm_pool)\n",
    "print('comm_quota', comm_quota)\n"
   ]
  },
  {
   "cell_type": "code",
   "execution_count": 54,
   "metadata": {},
   "outputs": [
    {
     "data": {
      "text/plain": [
       "'\\nPregunta al anunciante sobre las características\\n'"
      ]
     },
     "execution_count": 54,
     "metadata": {},
     "output_type": "execute_result"
    }
   ],
   "source": [
    "all_listing_details[3].text"
   ]
  },
  {
   "cell_type": "code",
   "execution_count": 55,
   "metadata": {},
   "outputs": [
    {
     "data": {
      "text/plain": [
       "-1"
      ]
     },
     "execution_count": 55,
     "metadata": {},
     "output_type": "execute_result"
    }
   ],
   "source": [
    "all_listing_details[3].text.find('€')"
   ]
  },
  {
   "cell_type": "code",
   "execution_count": 56,
   "metadata": {},
   "outputs": [
    {
     "data": {
      "text/plain": [
       "15"
      ]
     },
     "execution_count": 56,
     "metadata": {},
     "output_type": "execute_result"
    }
   ],
   "source": [
    "len('Cuota comunidad')"
   ]
  },
  {
   "cell_type": "code",
   "execution_count": 57,
   "metadata": {},
   "outputs": [
    {
     "data": {
      "text/plain": [
       "'nunciante sobre las características'"
      ]
     },
     "execution_count": 57,
     "metadata": {},
     "output_type": "execute_result"
    }
   ],
   "source": [
    "all_listing_details[3].text[int(all_listing_details[3].text.find('Cuota comunidad')) + len('Cuota comunidad') :int(all_listing_details[3].text.find('€'))].strip()"
   ]
  },
  {
   "cell_type": "code",
   "execution_count": 58,
   "metadata": {},
   "outputs": [
    {
     "data": {
      "text/plain": [
       "False"
      ]
     },
     "execution_count": 58,
     "metadata": {},
     "output_type": "execute_result"
    }
   ],
   "source": [
    "all_listing_details = unique_soup.find_all('article', {'class': 'has-aside'})\n",
    "all_features_details = all_listing_details[2].find_all('li')\n",
    "#all_features_details[0]\n",
    "#all_features_details[1]\n",
    "#all_features_details[2]\n",
    "#all_features_details[3]\n",
    "str('Certificado energético') not in all_features_details[-1].text"
   ]
  },
  {
   "cell_type": "code",
   "execution_count": 59,
   "metadata": {},
   "outputs": [
    {
     "name": "stdout",
     "output_type": "stream",
     "text": [
      "CERTIFICADO EN TRAMITE\n",
      "rank_consumo: nan\n",
      "rank_emisiones: nan\n",
      "consupmtion_kilowatts: nan\n",
      "emissions_kilograms: nan\n",
      "[]\n",
      "[nan]\n",
      "[nan]\n",
      "[nan]\n",
      "[nan]\n"
     ]
    }
   ],
   "source": [
    "#This is to retrieve all the listing features. \"Caracteristicas Generales & Certificado Energetico\"\n",
    "\n",
    "#This for loop will get all the \"caracteristicas principales\"\n",
    "\n",
    "all_features_list = []\n",
    "consumo_ranking_list = []\n",
    "emissions_ranking_list = []\n",
    "consupmtion_kilowatts_list = []\n",
    "emissions_kilograms_list = []\n",
    "\n",
    "\n",
    "#This is where all the features are contained.\n",
    "all_listing_details = unique_soup.find_all('article', {'class': 'has-aside'})\n",
    "all_features_details = all_listing_details[2].find_all('li')\n",
    "\n",
    "\n",
    "if all_listing_details[2].find('li', {'class': 'energy-container'}) == None:\n",
    "        \n",
    "    print('NO MENCIONA CERTIFICADO')\n",
    "    rank_consumo = np.NaN\n",
    "    rank_emisiones = np.NaN\n",
    "    consupmtion_kilowatts = np.NaN\n",
    "    emissions_kilograms = np.NaN\n",
    "\n",
    "    consumo_ranking_list.append(rank_consumo)\n",
    "    emissions_ranking_list.append(rank_emisiones)\n",
    "    consupmtion_kilowatts_list.append(consupmtion_kilowatts)\n",
    "    emissions_kilograms_list.append(emissions_kilograms)\n",
    "\n",
    "    print('rank_consumo:', rank_consumo)\n",
    "    print('rank_emisiones:', rank_emisiones)\n",
    "    print('consupmtion_kilowatts:', consupmtion_kilowatts)\n",
    "    print('emissions_kilograms:', emissions_kilograms)\n",
    "\n",
    "\n",
    "for items in range(len(all_features_details)):\n",
    "    \n",
    "    if len(all_features_details[items]) == 1: # This part of the code gets all the unique listed features.\n",
    "        print(all_features_details[items].text.strip())\n",
    "        all_features_list.append(all_features_details[items].text.strip())\n",
    "        \n",
    "    elif len(all_features_details[items]) == 5: # This part of the code gets the energy related metrics if available.\n",
    "    \n",
    "        energy_certificate = all_features_details[-1].find_all('div', {'class': 'rating-box'})\n",
    "        consumo = energy_certificate[0].text.replace('\\r\\n', '').strip().split()\n",
    "        emisiones = energy_certificate[1].text.strip().split('\\r\\n')\n",
    "        rank_consumo = consumo[1]\n",
    "        rank_emisiones = emisiones[0][-1]\n",
    "        consumo_ranking_list.append(rank_consumo)\n",
    "        emissions_ranking_list.append(rank_emisiones)\n",
    "        print(consumo)\n",
    "        print(emisiones)\n",
    "        print('rank_consumo:', rank_consumo)\n",
    "        print('rank_emisiones:', rank_emisiones)\n",
    "\n",
    "        try:\n",
    "            consupmtion_kilowatts = int(consumo[2][:-2])\n",
    "            consupmtion_kilowatts_list.append(consupmtion_kilowatts)\n",
    "            print('consupmtion_kilowatts:', consupmtion_kilowatts)\n",
    "        except:\n",
    "            consupmtion_kilowatts = np.NaN\n",
    "            consupmtion_kilowatts_list.append(consupmtion_kilowatts)\n",
    "            print('consupmtion_kilowatts:', consupmtion_kilowatts)\n",
    "\n",
    "        try:\n",
    "            emissions_kilograms = int(emisiones[1][:-15]) \n",
    "            emissions_kilograms_list.append(emissions_kilograms)\n",
    "            print('consupmtion_kilowatts:', consupmtion_kilowatts)\n",
    "        except:\n",
    "            cemissions_kilograms = np.NaN\n",
    "            emissions_kilograms_list.append(emissions_kilograms)\n",
    "            print('emissions_kilograms:', emissions_kilograms)\n",
    "\n",
    "        \n",
    "    else:\n",
    "            print('CERTIFICADO EN TRAMITE')\n",
    "            rank_consumo = np.NaN\n",
    "            rank_emisiones = np.NaN\n",
    "            consupmtion_kilowatts = np.NaN\n",
    "            emissions_kilograms = np.NaN\n",
    "\n",
    "            consumo_ranking_list.append(rank_consumo)\n",
    "            emissions_ranking_list.append(rank_emisiones)\n",
    "            consupmtion_kilowatts_list.append(consupmtion_kilowatts)\n",
    "            emissions_kilograms_list.append(emissions_kilograms)\n",
    "\n",
    "            print('rank_consumo:', rank_consumo)\n",
    "            print('rank_emisiones:', rank_emisiones)\n",
    "            print('consupmtion_kilowatts:', consupmtion_kilowatts)\n",
    "            print('emissions_kilograms:', emissions_kilograms)\n",
    "\n",
    "              \n",
    "print(all_features_list)\n",
    "print(consumo_ranking_list)\n",
    "print(emissions_ranking_list)\n",
    "print(consupmtion_kilowatts_list)\n",
    "print(emissions_kilograms_list)"
   ]
  },
  {
   "cell_type": "code",
   "execution_count": 61,
   "metadata": {},
   "outputs": [],
   "source": [
    "#This is to retrieve all the condo features, amenities or communal equipment.\n",
    "\n",
    "all_listing_details = unique_soup.find_all('article', {'class': 'has-aside'})\n",
    "equipamiento_comunitario = all_listing_details[3].find_all('li')\n",
    "\n",
    "\n",
    "#This for loop will get all the \"equipamiento comunitario\"\n",
    "\n",
    "for items in range(len(equipamiento_comunitario)):\n",
    "    if len(equipamiento_comunitario[items]) == 1:\n",
    "        print(equipamiento_comunitario[items].text.strip())"
   ]
  },
  {
   "cell_type": "code",
   "execution_count": 62,
   "metadata": {},
   "outputs": [
    {
     "data": {
      "text/plain": [
       "'16424000000673'"
      ]
     },
     "execution_count": 62,
     "metadata": {},
     "output_type": "execute_result"
    }
   ],
   "source": [
    "#This is to retrieve the listing id / unique number.\n",
    "\n",
    "listing_id_section = unique_soup.find_all('section', {'class': 'options bg-white'})\n",
    "listing_unique_id = listing_id_section[0].find_all('span', {'class': 'detail-id'})\n",
    "listing_unique_id[0].text\n",
    "\n",
    "listing_number = listing_unique_id[0].text[9:]\n",
    "listing_number"
   ]
  },
  {
   "cell_type": "code",
   "execution_count": 63,
   "metadata": {},
   "outputs": [
    {
     "data": {
      "text/plain": [
       "'22/04/2021'"
      ]
     },
     "execution_count": 63,
     "metadata": {},
     "output_type": "execute_result"
    }
   ],
   "source": [
    "#This is to retrieve the listing last modification or listing time-tag.\n",
    "\n",
    "time_tag_item = unique_soup.find_all('p', {'class': 'time-tag'})\n",
    "time_tag = time_tag_item[0].time.text\n",
    "time_tag"
   ]
  },
  {
   "cell_type": "code",
   "execution_count": 64,
   "metadata": {},
   "outputs": [
    {
     "name": "stdout",
     "output_type": "stream",
     "text": [
      "\n",
      "['290.000']\n",
      "['5.284']\n",
      "['4.143']\n"
     ]
    }
   ],
   "source": [
    "#This is to retrieve the district average price of the listing.\n",
    "#Listing price and listing price per square meter is also available using this same tag/class.\n",
    "\n",
    "listing_price_from_metrics = []\n",
    "distric_price_from_metrics = []\n",
    "square_meter_price_from_metric = []\n",
    "\n",
    "price_metrics = unique_soup.find_all('div', {'class': 'round-block'})\n",
    "price_metrics_details = price_metrics[0].find_all('div', {'class': 'bg-white round-100 f-left'})\n",
    "\n",
    "try:\n",
    "    listing_price_from_metrics.append(price_metrics_details[0].text[:int(price_metrics_details[0].text.find('€ Precio del anuncio'))].strip())\n",
    "except:\n",
    "    listing_price_from_metrics.append(np.NaN)\n",
    "    \n",
    "try:\n",
    "    distric_price_from_metrics.append(price_metrics_details[1].text[:int(price_metrics_details[1].text.find('€/m2€/m2 distrito'))].strip())\n",
    "except:\n",
    "    distric_price_from_metrics.append(np.NaN)\n",
    "    \n",
    "try:\n",
    "    square_meter_price_from_metric.append(price_metrics_details[2].text[:int(price_metrics_details[2].text.find('€/m2€/m2 del anuncio'))].strip())\n",
    "except:\n",
    "    square_meter_price_from_metric.append(np.NaN)\n",
    "\n",
    "\n",
    "print()\n",
    "print(listing_price_from_metrics)\n",
    "print(distric_price_from_metrics)\n",
    "print(square_meter_price_from_metric)"
   ]
  },
  {
   "cell_type": "code",
   "execution_count": 65,
   "metadata": {},
   "outputs": [
    {
     "data": {
      "text/plain": [
       "'290.000 € Precio del anuncio '"
      ]
     },
     "execution_count": 65,
     "metadata": {},
     "output_type": "execute_result"
    }
   ],
   "source": [
    "price_metrics_details[0].text"
   ]
  },
  {
   "cell_type": "code",
   "execution_count": 66,
   "metadata": {},
   "outputs": [
    {
     "name": "stdout",
     "output_type": "stream",
     "text": [
      "[<div class=\"round-block\">\n",
      "<div class=\"bg-white round-100 f-left\">290.000 € <span>Precio del anuncio</span> </div>\n",
      "<div class=\"bg-white round-100 f-left\">5.284 €/m<sup>2</sup><span>€/m<sup>2</sup> distrito</span></div>\n",
      "<div class=\"bg-white round-100 f-left\">4.143 €/m<sup>2</sup><span>€/m<sup>2</sup> del anuncio</span></div>\n",
      "<div class=\"comparation\">\n",
      "<div class=\"map-help\">22% más barato que la media<span>*</span></div>\n",
      "</div>\n",
      "</div>]\n"
     ]
    }
   ],
   "source": [
    "print(price_metrics)\n",
    "distric_metrics = []\n",
    "square_meter_metric = []"
   ]
  },
  {
   "cell_type": "code",
   "execution_count": 67,
   "metadata": {},
   "outputs": [
    {
     "data": {
      "text/plain": [
       "'290.000 € Precio del anuncio '"
      ]
     },
     "execution_count": 67,
     "metadata": {},
     "output_type": "execute_result"
    }
   ],
   "source": [
    "price_metrics_details[0].text"
   ]
  },
  {
   "cell_type": "code",
   "execution_count": 68,
   "metadata": {},
   "outputs": [
    {
     "data": {
      "text/plain": [
       "8"
      ]
     },
     "execution_count": 68,
     "metadata": {},
     "output_type": "execute_result"
    }
   ],
   "source": [
    "price_metrics_details[0].text.find('€ Precio del anuncio')"
   ]
  },
  {
   "cell_type": "code",
   "execution_count": 69,
   "metadata": {},
   "outputs": [
    {
     "data": {
      "text/plain": [
       "'290.000'"
      ]
     },
     "execution_count": 69,
     "metadata": {},
     "output_type": "execute_result"
    }
   ],
   "source": [
    "price_metrics_details[0].text[:int(price_metrics_details[0].text.find('€ Precio del anuncio'))].strip()"
   ]
  },
  {
   "cell_type": "code",
   "execution_count": 70,
   "metadata": {},
   "outputs": [
    {
     "data": {
      "text/plain": [
       "'5.284 €/m2€/m2 distrito'"
      ]
     },
     "execution_count": 70,
     "metadata": {},
     "output_type": "execute_result"
    }
   ],
   "source": [
    "price_metrics_details[1].text"
   ]
  },
  {
   "cell_type": "code",
   "execution_count": 71,
   "metadata": {},
   "outputs": [
    {
     "data": {
      "text/plain": [
       "6"
      ]
     },
     "execution_count": 71,
     "metadata": {},
     "output_type": "execute_result"
    }
   ],
   "source": [
    "price_metrics_details[1].text.find('€/m2€/m2 distrito')"
   ]
  },
  {
   "cell_type": "code",
   "execution_count": 72,
   "metadata": {},
   "outputs": [
    {
     "data": {
      "text/plain": [
       "'5.284'"
      ]
     },
     "execution_count": 72,
     "metadata": {},
     "output_type": "execute_result"
    }
   ],
   "source": [
    "price_metrics_details[1].text[:int(price_metrics_details[1].text.find('€/m2€/m2 distrito'))].strip()"
   ]
  },
  {
   "cell_type": "code",
   "execution_count": 73,
   "metadata": {},
   "outputs": [
    {
     "data": {
      "text/plain": [
       "'4.143 €/m2€/m2 del anuncio'"
      ]
     },
     "execution_count": 73,
     "metadata": {},
     "output_type": "execute_result"
    }
   ],
   "source": [
    "price_metrics_details[2].text"
   ]
  },
  {
   "cell_type": "code",
   "execution_count": 74,
   "metadata": {},
   "outputs": [
    {
     "data": {
      "text/plain": [
       "6"
      ]
     },
     "execution_count": 74,
     "metadata": {},
     "output_type": "execute_result"
    }
   ],
   "source": [
    "price_metrics_details[2].text.find('€/m2€/m2 del anuncio')"
   ]
  },
  {
   "cell_type": "code",
   "execution_count": 75,
   "metadata": {},
   "outputs": [
    {
     "data": {
      "text/plain": [
       "'4.143'"
      ]
     },
     "execution_count": 75,
     "metadata": {},
     "output_type": "execute_result"
    }
   ],
   "source": [
    "price_metrics_details[2].text[:int(price_metrics_details[2].text.find('€/m2€/m2 del anuncio'))].strip()"
   ]
  },
  {
   "cell_type": "code",
   "execution_count": 76,
   "metadata": {},
   "outputs": [
    {
     "name": "stdout",
     "output_type": "stream",
     "text": [
      "https://static11.habimg.com/imgh/16424-673/imgv2-gmaps-673_3542.gif\n"
     ]
    },
    {
     "data": {
      "text/plain": [
       "'https://www.habitaclia.com/comprar-piso-en-madrid-zona_embajadores_lavapies/provincia_madrid-madrid_capital-area_1/vivienda/vistamapa.htm'"
      ]
     },
     "execution_count": 76,
     "metadata": {},
     "output_type": "execute_result"
    }
   ],
   "source": [
    "#This is to retrieve the classic Google Map URL. (I couldn't! HAVE DOUBTS)\n",
    "\n",
    "#https://www.codegrepper.com/code-examples/python/selenium+without+opening+browser+python\n",
    "#https://phantomjs.org/quick-start.html\n",
    "#https://sqa.stackexchange.com/questions/2609/running-webdriver-without-opening-actual-browser-window\n",
    "\n",
    "map_section = unique_soup.find_all('section', {'class': 'map'})\n",
    "map_image = map_section[0].find_all('div', {'class': 'map-image'})\n",
    "map_zone_url = unique_soup.find_all('div', {'class': 'map-more'})\n",
    "print('https:' + map_image[1].img.get('src')) # Esta es una foto de la zona\n",
    "map_zone_url[0].a.get('href')"
   ]
  },
  {
   "cell_type": "code",
   "execution_count": 77,
   "metadata": {},
   "outputs": [
    {
     "data": {
      "text/plain": [
       "1"
      ]
     },
     "execution_count": 77,
     "metadata": {},
     "output_type": "execute_result"
    }
   ],
   "source": [
    "len(all_listing_details[2].find_all('li'))"
   ]
  },
  {
   "cell_type": "code",
   "execution_count": 78,
   "metadata": {},
   "outputs": [
    {
     "name": "stdout",
     "output_type": "stream",
     "text": [
      "3\n"
     ]
    }
   ],
   "source": [
    "for i in all_features_details:\n",
    "    print(len(i))"
   ]
  },
  {
   "cell_type": "code",
   "execution_count": 79,
   "metadata": {},
   "outputs": [],
   "source": [
    "#Problematic URL\n",
    "\n",
    "problematic_url = 'https://www.habitaclia.com/comprar-piso-magnifico_en_la_calle_orense_28020_orense_43_cuatro_caminos-madrid-i500003933609.htm?pag=651&f=&geo=p&from=list&lo=55'\n",
    "\n"
   ]
  },
  {
   "cell_type": "code",
   "execution_count": 83,
   "metadata": {},
   "outputs": [
    {
     "data": {
      "text/plain": [
       "True"
      ]
     },
     "execution_count": 83,
     "metadata": {},
     "output_type": "execute_result"
    }
   ],
   "source": [
    "problematic_url.startswith(\"https://www.habitaclia.com/comprar-piso-magnifico_en_la_calle_orense_28020_orense_43_cuatro_caminos-madrid-i500003933609\", 0, 120) == True"
   ]
  },
  {
   "cell_type": "code",
   "execution_count": 81,
   "metadata": {},
   "outputs": [
    {
     "data": {
      "text/plain": [
       "120"
      ]
     },
     "execution_count": 81,
     "metadata": {},
     "output_type": "execute_result"
    }
   ],
   "source": [
    "len('https://www.habitaclia.com/comprar-piso-magnifico_en_la_calle_orense_28020_orense_43_cuatro_caminos-madrid-i500003933609')"
   ]
  },
  {
   "cell_type": "code",
   "execution_count": 131,
   "metadata": {},
   "outputs": [
    {
     "name": "stderr",
     "output_type": "stream",
     "text": [
      "100%|██████████| 950/950 [09:39<00:00,  1.64it/s]\n"
     ]
    }
   ],
   "source": [
    "import traceback\n",
    "import sys\n",
    "\n",
    "all_listings_features = []\n",
    "all_listings_distribution_details = []\n",
    "all_listings_equipamiento_comunitario = []\n",
    "\n",
    "for link in tqdm(data[:950]):\n",
    "    try:\n",
    "        html = requests.get(link).content\n",
    "        #print(link)\n",
    "        unique_soup = BeautifulSoup(html, 'html.parser')\n",
    "        \n",
    "        #This is were all the \"caracteristicas principales\"\n",
    "        all_listing_details = unique_soup.find_all('article', {'class': 'has-aside'})\n",
    "        \n",
    "        all_features_details = all_listing_details[2].find_all('li')\n",
    "\n",
    "        for items in range(len(all_features_details)):\n",
    "            if len(all_features_details[items]) <= 2 and all_features_details[items] not in all_listings_features:\n",
    "                all_listings_features.append(all_features_details[items].text.strip())\n",
    "            else:\n",
    "                pass\n",
    "            \n",
    "        #This is were all the \"distribution details are listed\"\n",
    "        distribution_details = all_listing_details[1].find_all('li')\n",
    "        \n",
    "        for items in range(len(distribution_details)):\n",
    "            if len(distribution_details[items]) <= 3 and distribution_details[items] not in all_listings_distribution_details:\n",
    "                all_listings_distribution_details.append(distribution_details[items].text.strip())\n",
    "            else:\n",
    "                pass\n",
    "        \n",
    "        #This is were all the \"equipamiento comunitario is listed\"\n",
    "        equipamiento_comunitario = all_listing_details[3].find_all('li')\n",
    "        \n",
    "        for items in range(len(equipamiento_comunitario)):\n",
    "            if len(equipamiento_comunitario[items]) <= 3 and equipamiento_comunitario[items] not in all_listings_equipamiento_comunitario:\n",
    "                all_listings_equipamiento_comunitario.append(equipamiento_comunitario[items].text.strip())\n",
    "            else:\n",
    "                pass\n",
    "        \n",
    "    except Exception as e:\n",
    "            print(\"Oops!\", print(e), \"occurred.\")\n",
    "            print(\"This happenned on link:\", link)\n",
    "            traceback.print_exc()\n",
    "            print()\n",
    "            traceback.print_exception(*sys.exc_info())\n",
    "            print()\n",
    "            pass"
   ]
  },
  {
   "cell_type": "code",
   "execution_count": 133,
   "metadata": {},
   "outputs": [
    {
     "name": "stdout",
     "output_type": "stream",
     "text": [
      "all_listings_features: 3023\n",
      "all_listings_distribution_details: 3937\n",
      "all_listings_equipamiento_comunitario: 1068\n"
     ]
    }
   ],
   "source": [
    "print('all_listings_features:', len(all_listings_features))\n",
    "print('all_listings_distribution_details:', len(all_listings_distribution_details))\n",
    "print('all_listings_equipamiento_comunitario:', len(all_listings_equipamiento_comunitario))"
   ]
  },
  {
   "cell_type": "code",
   "execution_count": 134,
   "metadata": {},
   "outputs": [
    {
     "name": "stdout",
     "output_type": "stream",
     "text": [
      "['Calefacción', 'Amueblado', 'Aire acondicionado', 'Calefacción', 'Sin plaza parking', 'Sin aire acondicionado', 'Planta número 1', 'Año construcción 1945', 'Calefacción', 'Sin plaza parking', 'Aire acondicionado', 'Planta número 1', 'Año construcción 1900', 'Calefacción', 'Plaza parking', 'Aire acondicionado', 'Planta número 2', 'Año construcción 2000', 'Calefacción', 'Sin plaza parking', 'Sin aire acondicionado', 'Año construcción 1964', 'Cerca de transporte público', 'Calefacción', 'Sin plaza parking', 'Aire acondicionado', 'Planta número 5', 'Año construcción 1960', 'Calefacción', 'Sin plaza parking', 'Aire acondicionado', 'Planta número 3', 'Año construcción 1989', 'Cerca de transporte público', 'Calefacción', 'Plaza parking', 'Amueblado', 'Aire acondicionado', 'Planta número 1', 'Año construcción 2020', 'Vistas a la montaña', 'Vistas a la ciudad', 'Cerca de transporte público', 'Calefacción', 'Sin plaza parking', 'Aire acondicionado', 'Planta número 1', 'Año construcción 1952', 'Calefacción', 'Aire acondicionado']\n"
     ]
    }
   ],
   "source": [
    "print(all_listings_features[0:50])"
   ]
  },
  {
   "cell_type": "code",
   "execution_count": 135,
   "metadata": {},
   "outputs": [
    {
     "name": "stdout",
     "output_type": "stream",
     "text": [
      "['4 habitaciones', 'Superficie 113\\xa0m2', '3 Baños', 'Trastero', '6 habitaciones', 'Superficie 188\\xa0m2', '2 Baños', 'Cocina tipo office: No', 'Estado cocina: buen estado', 'Trastero', '3 habitaciones', 'Superficie 105\\xa0m2', '1 Baño', 'Cocina tipo office: No', 'Estado cocina: buen estado', 'Trastero', '2 habitaciones', 'Superficie 93\\xa0m2', '2 Baños', 'Cocina tipo office: No', 'Estado cocina: buen estado', 'Trastero', '3 habitaciones', 'Superficie 134\\xa0m2', '2 Baños', 'Cocina tipo office', 'Estado cocina: bueno', '2 habitaciones', 'Superficie 71\\xa0m2', '2 Baños', 'Cocina tipo office: No', 'Estado cocina: bueno', '2 habitaciones', 'Superficie 70\\xa0m2', '1 Baño', '3 habitaciones', 'Superficie 90\\xa0m2', '1 Baño', 'Cocina tipo office', 'Estado cocina: bueno', '3 habitaciones', 'Superficie 126\\xa0m2', '2 Baños', 'Despacho', 'Cocina tipo office: No', 'Estado cocina: obra nueva', 'Lavadero', 'Trastero', '3 habitaciones', 'Superficie 117\\xa0m2']\n"
     ]
    }
   ],
   "source": [
    "print(all_listings_distribution_details[0:50])"
   ]
  },
  {
   "cell_type": "code",
   "execution_count": 136,
   "metadata": {},
   "outputs": [
    {
     "name": "stdout",
     "output_type": "stream",
     "text": [
      "['Ascensor', 'Ascensor', 'Jardín comunitario', 'Vigilancia', 'Cuota comunidad 195€', 'Sin ascensor', 'Cuota comunidad 130€', 'Ascensor', 'Piscina comunitaria', 'Jardín comunitario', 'Vigilancia', 'Sin ascensor', 'Cuota comunidad 35€', 'Ascensor', 'Cuota comunidad 37€', 'Ascensor', 'Cuota comunidad 50€', 'Ascensor', 'Jardín comunitario', 'Vigilancia', 'Ascensor', 'Vigilancia', 'Cuota comunidad 125€', 'Ascensor', 'Ascensor', 'Vigilancia', 'Equipamiento deportivo', 'Sin ascensor', 'Cuota comunidad 38€', 'Ascensor', 'Jardín comunitario', 'Vigilancia', 'Cuota comunidad 120€', 'Ascensor', 'Ascensor', 'Ascensor', 'Ascensor', 'Piscina comunitaria', 'Jardín comunitario', 'Vigilancia', 'Cuota comunidad 110€', 'Equipamiento deportivo', 'Ascensor', 'Piscina comunitaria', 'Ascensor', 'Ascensor', 'Ascensor', 'Ascensor', 'Ascensor', 'Ascensor']\n"
     ]
    }
   ],
   "source": [
    "print(all_listings_equipamiento_comunitario[0:50])"
   ]
  },
  {
   "cell_type": "code",
   "execution_count": 137,
   "metadata": {},
   "outputs": [],
   "source": [
    "caracteristicas_generales_df = pd.DataFrame({'caracteristicas_generales': all_listings_features})\n",
    "\n",
    "distribution_details_df = pd.DataFrame({'distribution_details': all_listings_distribution_details})\n",
    "\n",
    "equipamiento_comunitario_df = pd.DataFrame({'equipamiento_comunitario': all_listings_equipamiento_comunitario})"
   ]
  },
  {
   "cell_type": "code",
   "execution_count": 259,
   "metadata": {},
   "outputs": [
    {
     "data": {
      "text/plain": [
       "Calefacción                    646\n",
       "Aire acondicionado             521\n",
       "Plaza parking                  240\n",
       "Sin aire acondicionado         168\n",
       "Amueblado                      151\n",
       "Cerca de transporte público    151\n",
       "Sin plaza parking              146\n",
       "Sin calefacción                 87\n",
       "Planta número 2                 56\n",
       "Vistas a la ciudad              49\n",
       "Año construcción 1960           43\n",
       "Planta número 1                 42\n",
       "Año construcción 1970           35\n",
       "Año construcción 1965           33\n",
       "Año construcción 1900           31\n",
       "Piscina propia                  31\n",
       "Planta número 3                 26\n",
       "Planta número 5                 17\n",
       "Año construcción 1940           16\n",
       "Planta número 4                 15\n",
       "Año construcción 1968           15\n",
       "Año construcción 1978           13\n",
       "Vistas a la montaña             12\n",
       "Año construcción 1969           12\n",
       "Año construcción 1950           12\n",
       "Name: caracteristicas_generales, dtype: int64"
      ]
     },
     "execution_count": 259,
     "metadata": {},
     "output_type": "execute_result"
    }
   ],
   "source": [
    "caracteristicas_generales_df['caracteristicas_generales'].value_counts().head(25)"
   ]
  },
  {
   "cell_type": "code",
   "execution_count": 258,
   "metadata": {},
   "outputs": [
    {
     "data": {
      "text/plain": [
       "131"
      ]
     },
     "execution_count": 258,
     "metadata": {},
     "output_type": "execute_result"
    }
   ],
   "source": [
    "len(caracteristicas_generales_df['caracteristicas_generales'].unique())"
   ]
  },
  {
   "cell_type": "code",
   "execution_count": 257,
   "metadata": {},
   "outputs": [
    {
     "data": {
      "text/plain": [
       "1 Baño                             427\n",
       "Cocina tipo office                 357\n",
       "2 Baños                            327\n",
       "3 habitaciones                     305\n",
       "Trastero                           268\n",
       "2 habitaciones                     247\n",
       "4 habitaciones                     158\n",
       "1 habitación                       118\n",
       "Lavadero                           117\n",
       "3 Baños                            105\n",
       "Cocina tipo office: No              85\n",
       "1 Aseo                              74\n",
       "5 habitaciones                      65\n",
       "4 Baños                             41\n",
       "Estado cocina: independiente        31\n",
       "6 habitaciones                      24\n",
       "5 Baños                             23\n",
       "Superficie 65 m2                    19\n",
       "Estado cocina: cocina amueblada     19\n",
       "Superficie 72 m2                    16\n",
       "Name: distribution_details, dtype: int64"
      ]
     },
     "execution_count": 257,
     "metadata": {},
     "output_type": "execute_result"
    }
   ],
   "source": [
    "distribution_details_df['distribution_details'].value_counts().head(20)"
   ]
  },
  {
   "cell_type": "code",
   "execution_count": 156,
   "metadata": {},
   "outputs": [
    {
     "data": {
      "text/plain": [
       "distribution_details    950\n",
       "dtype: int64"
      ]
     },
     "execution_count": 156,
     "metadata": {},
     "output_type": "execute_result"
    }
   ],
   "source": [
    "distribution_details_df[distribution_details_df['distribution_details'].str.contains('Superficie')].count()"
   ]
  },
  {
   "cell_type": "code",
   "execution_count": 256,
   "metadata": {},
   "outputs": [
    {
     "data": {
      "text/plain": [
       "370"
      ]
     },
     "execution_count": 256,
     "metadata": {},
     "output_type": "execute_result"
    }
   ],
   "source": [
    "len(distribution_details_df['distribution_details'].unique())"
   ]
  },
  {
   "cell_type": "code",
   "execution_count": 174,
   "metadata": {},
   "outputs": [
    {
     "data": {
      "text/plain": [
       "Ascensor                  560\n",
       "Piscina comunitaria       127\n",
       "Sin ascensor               70\n",
       "Jardín comunitario         63\n",
       "Equipamiento deportivo     46\n",
       "Vigilancia                 31\n",
       "Cuota comunidad 50€        17\n",
       "Cuota comunidad 40€         8\n",
       "Cuota comunidad 60€         7\n",
       "Cuota comunidad 70€         5\n",
       "Cuota comunidad 35€         5\n",
       "Cuota comunidad 125€        5\n",
       "Cuota comunidad 45€         5\n",
       "Cuota comunidad 150€        5\n",
       "Cuota comunidad 200€        4\n",
       "Cuota comunidad 130€        4\n",
       "Cuota comunidad 38€         3\n",
       "Cuota comunidad 170€        3\n",
       "Cuota comunidad 25€         3\n",
       "Cuota comunidad 110€        3\n",
       "Cuota comunidad 90€         3\n",
       "Cuota comunidad 120€        3\n",
       "Cuota comunidad 42€         3\n",
       "Cuota comunidad 115€        2\n",
       "Cuota comunidad 400€        2\n",
       "Cuota comunidad 350€        2\n",
       "Cuota comunidad 30€         2\n",
       "Cuota comunidad 177€        2\n",
       "Cuota comunidad 57€         2\n",
       "Cuota comunidad 81€         2\n",
       "Name: equipamiento_comunitario, dtype: int64"
      ]
     },
     "execution_count": 174,
     "metadata": {},
     "output_type": "execute_result"
    }
   ],
   "source": [
    "equipamiento_comunitario_df['equipamiento_comunitario'].value_counts().head(30)"
   ]
  },
  {
   "cell_type": "code",
   "execution_count": 260,
   "metadata": {},
   "outputs": [
    {
     "data": {
      "text/plain": [
       "Cuota comunidad 140€    1\n",
       "Cuota comunidad 161€    1\n",
       "Cuota comunidad 129€    1\n",
       "Cuota comunidad 370€    1\n",
       "Cuota comunidad 220€    1\n",
       "Cuota comunidad 33€     1\n",
       "Cuota comunidad 36€     1\n",
       "Cuota comunidad 177€    1\n",
       "Cuota comunidad 440€    1\n",
       "Cuota comunidad 39€     1\n",
       "Cuota comunidad 58€     1\n",
       "Cuota comunidad 43€     1\n",
       "Cuota comunidad 12€     1\n",
       "Cuota comunidad 115€    1\n",
       "Cuota comunidad 205€    1\n",
       "Cuota comunidad 106€    1\n",
       "Cuota comunidad 180€    1\n",
       "Cuota comunidad 54€     1\n",
       "Cuota comunidad 195€    1\n",
       "Cuota comunidad 100€    1\n",
       "Name: equipamiento_comunitario, dtype: int64"
      ]
     },
     "execution_count": 260,
     "metadata": {},
     "output_type": "execute_result"
    }
   ],
   "source": [
    "equipamiento_comunitario_df['equipamiento_comunitario'].value_counts().tail(20)"
   ]
  },
  {
   "cell_type": "code",
   "execution_count": 255,
   "metadata": {},
   "outputs": [
    {
     "data": {
      "text/plain": [
       "array(['Ascensor', 'Jardín comunitario', 'Vigilancia',\n",
       "       'Cuota comunidad 195€', 'Sin ascensor', 'Cuota comunidad 130€',\n",
       "       'Piscina comunitaria', 'Cuota comunidad 35€',\n",
       "       'Cuota comunidad 37€', 'Cuota comunidad 50€',\n",
       "       'Cuota comunidad 125€', 'Equipamiento deportivo',\n",
       "       'Cuota comunidad 38€', 'Cuota comunidad 120€',\n",
       "       'Cuota comunidad 110€', 'Cuota comunidad 25€',\n",
       "       'Cuota comunidad 88€', 'Cuota comunidad 91€',\n",
       "       'Cuota comunidad 45€', 'Cuota comunidad 43€',\n",
       "       'Cuota comunidad 52€', 'Cuota comunidad 200€',\n",
       "       'Cuota comunidad 90€', 'Cuota comunidad 145€',\n",
       "       'Cuota comunidad 65€', 'Cuota comunidad 73€',\n",
       "       'Cuota comunidad 70€', 'Cuota comunidad 121€',\n",
       "       'Cuota comunidad 140€', 'Cuota comunidad 100€',\n",
       "       'Cuota comunidad 49€', 'Cuota comunidad 220€',\n",
       "       'Cuota comunidad 12€', 'Cuota comunidad 66€',\n",
       "       'Cuota comunidad 40€', 'Cuota comunidad 42€',\n",
       "       'Cuota comunidad 150€', 'Cuota comunidad 350€',\n",
       "       'Cuota comunidad 129€', 'Cuota comunidad 400€',\n",
       "       'Cuota comunidad 80€', 'Cuota comunidad 86€',\n",
       "       'Cuota comunidad 235€', 'Cuota comunidad 60€',\n",
       "       'Cuota comunidad 96€', 'Cuota comunidad 33€',\n",
       "       'Cuota comunidad 170€', 'Cuota comunidad 250€',\n",
       "       'Cuota comunidad 108€', 'Cuota comunidad 240€',\n",
       "       'Cuota comunidad 105€', 'Cuota comunidad 97€',\n",
       "       'Cuota comunidad 89€', 'Cuota comunidad 64€',\n",
       "       'Cuota comunidad 48€', 'Cuota comunidad 144€',\n",
       "       'Cuota comunidad 30€', 'Cuota comunidad 180€',\n",
       "       'Cuota comunidad 308€', 'Cuota comunidad 135€',\n",
       "       'Cuota comunidad 78€', 'Cuota comunidad 664€',\n",
       "       'Cuota comunidad 210€', 'Cuota comunidad 190€',\n",
       "       'Cuota comunidad 115€', 'Cuota comunidad 177€',\n",
       "       'Cuota comunidad 55€', 'Cuota comunidad 58€',\n",
       "       'Cuota comunidad 57€', 'Cuota comunidad 46€',\n",
       "       'Cuota comunidad 159€', 'Cuota comunidad 82€',\n",
       "       'Cuota comunidad 161€', 'Cuota comunidad 260€',\n",
       "       'Cuota comunidad 54€', 'Cuota comunidad 36€',\n",
       "       'Cuota comunidad 700€', 'Cuota comunidad 85€',\n",
       "       'Cuota comunidad 258€', 'Cuota comunidad 63€',\n",
       "       'Cuota comunidad 330€', 'Cuota comunidad 440€',\n",
       "       'Cuota comunidad 370€', 'Cuota comunidad 75€',\n",
       "       'Cuota comunidad 244€', 'Cuota comunidad 39€',\n",
       "       'Cuota comunidad 81€', 'Cuota comunidad 79€',\n",
       "       'Cuota comunidad 92€', 'Cuota comunidad 106€',\n",
       "       'Cuota comunidad 205€'], dtype=object)"
      ]
     },
     "execution_count": 255,
     "metadata": {},
     "output_type": "execute_result"
    }
   ],
   "source": [
    "equipamiento_comunitario_df['equipamiento_comunitario'].unique()"
   ]
  },
  {
   "cell_type": "code",
   "execution_count": 67,
   "metadata": {},
   "outputs": [],
   "source": [
    "# #This is to retrieve all the listing features.\n",
    "\n",
    "# all_listing_details = unique_soup.find_all('article', {'class': 'has-aside'})\n",
    "# all_features_details = all_listing_details[2].find_all('li')\n",
    "\n",
    "# #This for loop will get all the \"caracteristicas principales\"\n",
    "\n",
    "# all_features_list = []\n",
    "# consumo_ranking_list = []\n",
    "# emissions_ranking_list = []\n",
    "# consupmtion_kilowatts_list = []\n",
    "# emissions_kilograms_list = []\n",
    "\n",
    "# for items in range(len(all_features_details)):\n",
    "#     if len(all_features_details[items]) == 1: # This part of the code gets all the unique listed features.\n",
    "#         if str('Certificado energético') not in all_features_details[-1].text:\n",
    "#             print(all_features_details[items].text.strip())\n",
    "#         all_features_list.append(all_features_details[items].text.strip())\n",
    "        \n",
    "        \n",
    "#     elif len(all_features_details[items]) == 5: # This part of the code gets the energy related metrics if available.\n",
    "#         try:\n",
    "#             energy_certificate = all_features_details[-1].find_all('div', {'class': 'rating-box'})\n",
    "#             consumo = energy_certificate[0].text.replace('\\r\\n', '').strip().split()\n",
    "#             emisiones = energy_certificate[1].text.strip().split('\\r\\n')\n",
    "#             rank_consumo = consumo[1]\n",
    "#             rank_emisiones = emisiones[0][-1]\n",
    "#             consumo_ranking_list.append(rank_consumo)\n",
    "#             emissions_ranking_list.append(rank_emisiones)\n",
    "#             print(consumo)\n",
    "#             print(emisiones)\n",
    "#             print('rank_consumo', rank_consumo)\n",
    "#             print('rank_emisiones', rank_emisiones)\n",
    "\n",
    "#             consupmtion_kilowatts = int(consumo[2][:-2])\n",
    "#             consupmtion_kilowatts_list.append(consupmtion_kilowatts)\n",
    "#             print('consupmtion_kilowatts:', consupmtion_kilowatts)\n",
    "            \n",
    "#             if len(emisiones) == 1:\n",
    "#                 emissions_kilograms = np.NaN\n",
    "#             else:\n",
    "#                 emissions_kilograms = int(emisiones[1][:-15])                       \n",
    "            \n",
    "#             emissions_kilograms_list.append(emissions_kilograms)\n",
    "#             print('emissions_kilograms:', emissions_kilograms)\n",
    "#         except:\n",
    "#             rank_consumo = np.NaN\n",
    "#             rank_emisiones = np.NaN\n",
    "#             consupmtion_kilowatts = np.NaN\n",
    "#             emissions_kilograms = np.NaN\n",
    "            \n",
    "#             consumo_ranking_list.append(rank_consumo)\n",
    "#             emissions_ranking_list.append(rank_emisiones)\n",
    "#             consupmtion_kilowatts_list.append(consupmtion_kilowatts)\n",
    "#             emissions_kilograms_list.append(emissions_kilograms)\n",
    "            \n",
    "#             print('rank_consumo', rank_consumo)\n",
    "#             print('rank_emisiones', rank_emisiones)\n",
    "#             print('consupmtion_kilowatts:', consupmtion_kilowatts)\n",
    "#             print('emissions_kilograms:', emissions_kilograms)\n",
    "            \n",
    "#     else:\n",
    "#         if str('Certificado energético') not in all_features_details[-1].text:\n",
    "#             rank_consumo = np.NaN\n",
    "#             rank_emisiones = np.NaN\n",
    "#             consupmtion_kilowatts = np.NaN\n",
    "#             emissions_kilograms = np.NaN\n",
    "\n",
    "#             consumo_ranking_list.append(rank_consumo)\n",
    "#             emissions_ranking_list.append(rank_emisiones)\n",
    "#             consupmtion_kilowatts_list.append(consupmtion_kilowatts)\n",
    "#             emissions_kilograms_list.append(emissions_kilograms)\n",
    "\n",
    "#             print('rank_consumo:', rank_consumo)\n",
    "#             print('rank_emisiones:', rank_emisiones)\n",
    "#             print('consupmtion_kilowatts:', consupmtion_kilowatts)\n",
    "#             print('emissions_kilograms:', emissions_kilograms)\n",
    "#         else:\n",
    "#             rank_consumo = np.NaN\n",
    "#             rank_emisiones = np.NaN\n",
    "#             consupmtion_kilowatts = np.NaN\n",
    "#             emissions_kilograms = np.NaN\n",
    "\n",
    "#             consumo_ranking_list.append(rank_consumo)\n",
    "#             emissions_ranking_list.append(rank_emisiones)\n",
    "#             consupmtion_kilowatts_list.append(consupmtion_kilowatts)\n",
    "#             emissions_kilograms_list.append(emissions_kilograms)\n",
    "\n",
    "#             print('rank_consumo:', rank_consumo)\n",
    "#             print('rank_emisiones:', rank_emisiones)\n",
    "#             print('consupmtion_kilowatts:', consupmtion_kilowatts)\n",
    "#             print('emissions_kilograms:', emissions_kilograms)\n",
    "            \n",
    "              \n",
    "# print(all_features_list)\n",
    "# print(consumo_ranking_list)\n",
    "# print(emissions_ranking_list)\n",
    "# print(consupmtion_kilowatts_list)\n",
    "# print(emissions_kilograms_list)"
   ]
  },
  {
   "cell_type": "code",
   "execution_count": null,
   "metadata": {},
   "outputs": [],
   "source": [
    "price_metrics_details[0]"
   ]
  },
  {
   "cell_type": "code",
   "execution_count": null,
   "metadata": {},
   "outputs": [],
   "source": [
    "price_metrics_details[0].text"
   ]
  },
  {
   "cell_type": "code",
   "execution_count": null,
   "metadata": {},
   "outputs": [],
   "source": [
    "price_metrics_details[1].text"
   ]
  },
  {
   "cell_type": "code",
   "execution_count": null,
   "metadata": {},
   "outputs": [],
   "source": [
    "price_metrics_details[2].text"
   ]
  },
  {
   "cell_type": "code",
   "execution_count": 429,
   "metadata": {},
   "outputs": [
    {
     "data": {
      "text/plain": [
       "[<article class=\"has-aside\" id=\"js-translate\">\n",
       " <h3 id=\"js-detail-description-title\">Magnífico piso en la calle orense 28020 madrid</h3>\n",
       " <p class=\"detail-description\" id=\"js-detail-description\">Se vende magnífico piso situado en la calle Orense, en el barrio de Cuatro Caminos.<br/>El piso es exterior y se halla en una primera planta con ascensor. Su superficie es de 118 m2, de los cuales 100 m2 son útiles. Consta de cuatro habitaciones, un amplio salón comedor, cocina, baño, aseo y dos terrazas, una de las cuales tiene 18 m2 y da a la calle Orense.<br/>La vivienda está en muy buen estado de conservación, con las instalaciones de luz y agua recientemente reformadas, tiene suelos de tarima, aire acondicionado y ventanas de climalit.<br/>La finca tiene un espacioso portal, recientemente renovado, con portero físico y con acceso totalmente adaptado a personas con movilidad reducida.<br/>El inmueble está situado a cinco minutos andando de la estación de metro de Santiago Bernabéu, a diez minutos del intercambiador de Nuevos Ministerios, con multitud de paradas de autobuses ( líneas y  43) muy próximas. Tiene un fácil acceso a la M-30, A-1 y Avenida de la Ilustración.<br/>Se encuentra muy cerca de la zona financiera de Azca y en sus inmediaciones podemos encontrar colegios, zonas ajardinadas, grandes centros comerciales ( El Corte Inglés, Zara, ….), supermercados…..<br/>•\tCaracterísticas básicas<br/>&amp;#m2 construidos, 100 m2 útiles.<br/>&amp;#habitaciones.&lt;br&gt;&amp;#baño.&lt;br&gt;&amp;#aseo.&lt;br&gt;&amp;#terrazas.&lt;br&gt;&amp;#61485;\tArmarios empotrados.&lt;br&gt;&amp;#61485;\tCalefacción central.&lt;br&gt;&amp;#61485;\tTrastero.&lt;br&gt;•\tEdificio&lt;br&gt;&amp;#61485;\tPlanta 1ª exterior con ascensor.&lt;br&gt;&amp;#61485;\tAcceso adaptado a personas con movilidad reducida.&lt;br&gt;&lt;/p&gt;\n",
       "                     &lt;button type=\"button\" id=\"js-detail-mask\" class=\"button button-transparent detail-demask\" title=\"Ampliar descripci&amp;#243;n\"&gt;\n",
       "                         &lt;svg class=\"ico ico-absolute-s ico-orange\" role=\"presentation\"&gt;\n",
       "                             &lt;use xlink:href=\"//www.habitaclia.com/dotnet/content/icon/dist/src_504911268000000000.svg#ico-arrow-little\" /&gt;\n",
       "                         &lt;/svg&gt;\n",
       "                         Ampliar descripci&amp;#243;n\n",
       "                     &lt;/button&gt;\n",
       "                     &lt;p class=\"time-tag\"&gt;&amp;#250;ltima modificaci&amp;#243;n &lt;time datetime=\"14/11/2020\"&gt;14/11/2020&lt;/time&gt;&lt;/p&gt;\n",
       " \n",
       "                 &lt;/article&gt;\n",
       " \n",
       " \n",
       "                         &lt;article class=\"has-aside\"&gt;\n",
       "                             &lt;h3 class=\"f-left\"&gt;Distribuci&amp;#243;n&lt;/h3&gt;\n",
       "                             &lt;ul&gt;\n",
       "                                 \n",
       "             &lt;li&gt;4 habitaciones&lt;/li&gt;\n",
       "             &lt;li&gt;Superficie 118&amp;nbsp;m&lt;sup&gt;2&lt;/sup&gt;&lt;/li&gt;\n",
       "                 &lt;li&gt;1 Ba&amp;#241;o&lt;/li&gt;\n",
       "                 &lt;li&gt;1 Aseo&lt;/li&gt;\n",
       " \n",
       "                             &lt;/ul&gt;\n",
       "                         &lt;/article&gt;\n",
       "                         &lt;article class=\"has-aside\"&gt;\n",
       "                             &lt;h3 class=\"f-left\"&gt;Caracter&amp;#237;sticas generales&lt;/h3&gt;\n",
       "                             &lt;ul&gt;\n",
       "                                 \n",
       "                 &lt;li&gt;Calefacci&amp;#243;n &lt;/li&gt;\n",
       "                 &lt;li&gt;Aire acondicionado &lt;/li&gt;\n",
       "                 &lt;li&gt;Planta n&amp;#250;mero 1&lt;/li&gt;\n",
       "                 &lt;li&gt;Cerca de transporte p&amp;#250;blico &lt;/li&gt;\n",
       "                 &lt;li class=\"energy-container\"&gt;\n",
       "                     &lt;div class=\"energy-rating\"&gt;\n",
       "                         &lt;span&gt;Certificado energ&amp;#233;tico : &lt;/span&gt;\n",
       "                       \n",
       "                     &lt;/div&gt;\n",
       " En tr&amp;#225;mite                   \n",
       "                 &lt;/li&gt;\n",
       " \n",
       "                             &lt;/ul&gt;\n",
       "                         &lt;/article&gt;\n",
       "                         &lt;article class=\"has-aside\"&gt;\n",
       "                             &lt;h3 class=\"f-left\"&gt;Equipamiento comunitario&lt;/h3&gt;\n",
       "                             &lt;ul&gt;\n",
       "                                 \n",
       "                 &lt;li&gt;Ascensor &lt;/li&gt;\n",
       " \n",
       "                             &lt;/ul&gt;\n",
       "                         &lt;/article&gt;\n",
       " \n",
       " \n",
       "                 &lt;aside class=\"report has-aside\"&gt;\n",
       "                     &lt;svg role=\"presentation\" class=\"flag\"&gt;\n",
       "                         &lt;use xlink:href=\"//www.habitaclia.com/dotnet/content/icon/dist/src_504911268000000000.svg#ico-flag-filled\" /&gt;\n",
       "                     &lt;/svg&gt;\n",
       "                     &amp;#191;Has visto alg&amp;#250;n error en este anuncio?  &lt;button type=\"button\" id=\"js-report\" class=\"button-transparent-orange\" title=\"Reportar error\"&gt;Reportar error&lt;/button&gt;\n",
       "                 &lt;/aside&gt;\n",
       "                     &lt;aside id=\"js-similar-top\" class=\"similar w-300px \"&gt;\n",
       "                         &lt;div class=\"title\"&gt;Anuncios similares&lt;/div&gt;\n",
       "                         &lt;div class=\"sim-container sim-container-vertical\"&gt;\n",
       "                             &lt;ul class=\"sim-full sim-full-pos2\"&gt;\n",
       " \n",
       " \n",
       " \n",
       " &lt;li  data-gtmname=\"comprar-vivienda-madrid\" data-gtmid=\"19901000000054\" data-gtmbrand=\"19901-1-ANTONIO VILLUENDAS KW\" data-gtmprice=\"390000\" data-gtmcategory=\"comprar-vivienda/piso/madrid/madrid_capital/madrid\" data-gtmvariant=\"tetuan-cuatro_caminos\" data-gtmlist=\"ficha-anuncios_similares_top\" data-gtmposition=\"1\"  data-gtmurl=\"https://www.habitaclia.com/comprar-piso-de_ultima_planta_exterior_y_luminoso_de_la_infanta_mercedes_16-madrid-i19901000000054.htm?list=true&amp;amp;lo=65\" data-url=\"https://www.habitaclia.com/comprar-piso-de_ultima_planta_exterior_y_luminoso_de_la_infanta_mercedes_16-madrid-i19901000000054.htm?list=true&amp;amp;lo=65\" data-target=\"_self\" class=\"sim-item gtmproductclick gtmlistproductview\"&gt;\n",
       "     &lt;div class=\"sim-img\"&gt;\n",
       "         &lt;img class=\"loadImg\" name=\"//images.habimg.com/imgh/19901-54/piso-de-ultima-planta-exterior-y-luminoso----madrid_19901-img54-110760650.jpg\" src=\"//images.habimg.com/imgh/19901-54/piso-de-ultima-planta-exterior-y-luminoso----madrid_19901-img54-110760650.jpg\" alt=\"Piso en Calle de la Infanta Mercedes 16\" title=\"Piso en Calle de la Infanta Mercedes 16\" /&gt;\n",
       "     &lt;/div&gt;\n",
       "     &lt;div class=\"sim-desc\"&gt;\n",
       "         &lt;h5 class=\"text-ellipsis\"&gt;&lt;a href=\"https://www.habitaclia.com/comprar-piso-de_ultima_planta_exterior_y_luminoso_de_la_infanta_mercedes_16-madrid-i19901000000054.htm?list=true&amp;amp;lo=65\" rel=\"nofollow\" title=\"Piso en Madrid\" data-url=\"https://www.habitaclia.com/comprar-piso-de_ultima_planta_exterior_y_luminoso_de_la_infanta_mercedes_16-madrid-i19901000000054.htm?list=true&amp;amp;lo=65\" data-target=\"_self\" &gt;Piso en Madrid&lt;/a&gt;&lt;/h5&gt;\n",
       "         &lt;span class=\"sim-info sim-location\"&gt;Cuatro Caminos Madrid&lt;/span&gt;\n",
       "         &lt;span class=\"sim-info\"&gt; \n",
       " 99 m&lt;sup&gt;2&lt;/sup&gt;\n",
       " \n",
       " 3 hab\n",
       "             \n",
       "         &lt;/span&gt;\n",
       "         &lt;span class=\"sim-info sim-price\"&gt;\n",
       "                 390.000 €\n",
       "         &lt;/span&gt;\n",
       "     &lt;/div&gt;\n",
       " &lt;/li&gt;\n",
       " &lt;li  data-gtmname=\"comprar-vivienda-madrid\" data-gtmid=\"24784000000296\" data-gtmbrand=\"24784-1-INVERMAX HOGARES PARA VIVIR\" data-gtmprice=\"390000\" data-gtmcategory=\"comprar-vivienda/piso/madrid/madrid_capital/madrid\" data-gtmvariant=\"tetuan-cuatro_caminos\" data-gtmlist=\"ficha-anuncios_similares_top\" data-gtmposition=\"2\"  data-gtmurl=\"https://www.habitaclia.com/comprar-piso-vivienda_de_julian_besteiro-madrid-i24784000000296.htm?list=true&amp;amp;lo=65\" data-url=\"https://www.habitaclia.com/comprar-piso-vivienda_de_julian_besteiro-madrid-i24784000000296.htm?list=true&amp;amp;lo=65\" data-target=\"_self\" class=\"sim-item gtmproductclick gtmlistproductview\"&gt;\n",
       "     &lt;div class=\"sim-img\"&gt;\n",
       "         &lt;img class=\"loadImg\" name=\"//images.habimg.com/imgh/24784-296/vivienda-de-julian-besteiro-madrid------madrid_24784-img296-121753753.jpg\" src=\"//images.habimg.com/imgh/24784-296/vivienda-de-julian-besteiro-madrid------madrid_24784-img296-121753753.jpg\" alt=\"Piso en Calle De Juli&amp;#225;n Besteiro\" title=\"Piso en Calle De Juli&amp;#225;n Besteiro\" /&gt;\n",
       "     &lt;/div&gt;\n",
       "     &lt;div class=\"sim-desc\"&gt;\n",
       "         &lt;h5 class=\"text-ellipsis\"&gt;&lt;a href=\"https://www.habitaclia.com/comprar-piso-vivienda_de_julian_besteiro-madrid-i24784000000296.htm?list=true&amp;amp;lo=65\" rel=\"nofollow\" title=\"Piso en Madrid\" data-url=\"https://www.habitaclia.com/comprar-piso-vivienda_de_julian_besteiro-madrid-i24784000000296.htm?list=true&amp;amp;lo=65\" data-target=\"_self\" &gt;Piso en Madrid&lt;/a&gt;&lt;/h5&gt;\n",
       "         &lt;span class=\"sim-info sim-location\"&gt;Cuatro Caminos Madrid&lt;/span&gt;\n",
       "         &lt;span class=\"sim-info\"&gt; \n",
       " 99 m&lt;sup&gt;2&lt;/sup&gt;\n",
       " \n",
       " 3 hab\n",
       "             \n",
       "         &lt;/span&gt;\n",
       "         &lt;span class=\"sim-info sim-price\"&gt;\n",
       "                 390.000 €\n",
       "         &lt;/span&gt;\n",
       "     &lt;/div&gt;\n",
       " &lt;/li&gt;\n",
       " &lt;li  data-gtmname=\"comprar-vivienda-madrid\" data-gtmid=\"31703000000058-premium\" data-gtmbrand=\"31703-1-MonteRiver servicios inmobiliarios SL\" data-gtmprice=\"399000\" data-gtmcategory=\"comprar-vivienda/piso/madrid/madrid_capital/madrid\" data-gtmvariant=\"tetuan-cuatro_caminos\" data-gtmlist=\"ficha-anuncios_similares_top\" data-gtmposition=\"3\"  data-gtmurl=\"https://www.habitaclia.com/comprar-piso-con_3_habitaciones_con_ascensor_y_calefaccion-madrid-i31703000000058.htm?list=true&amp;amp;lo=65\" data-url=\"https://www.habitaclia.com/comprar-piso-con_3_habitaciones_con_ascensor_y_calefaccion-madrid-i31703000000058.htm?list=true&amp;amp;lo=65\" data-target=\"_self\" class=\"sim-item gtmproductclick gtmlistproductview\"&gt;\n",
       "     &lt;div class=\"sim-img\"&gt;\n",
       "         &lt;img class=\"loadImg\" name=\"//images.habimg.com/imgh/31703-58/piso-con-3-habitaciones-con-ascensor-y-calefaccion---madrid_31703-img58-102373039.jpg\" src=\"//images.habimg.com/imgh/31703-58/piso-con-3-habitaciones-con-ascensor-y-calefaccion---madrid_31703-img58-102373039.jpg\" alt=\"Piso en Calle de la Infanta Mercedes\" title=\"Piso en Calle de la Infanta Mercedes\" /&gt;\n",
       "     &lt;/div&gt;\n",
       "     &lt;div class=\"sim-desc\"&gt;\n",
       "         &lt;h5 class=\"text-ellipsis\"&gt;&lt;a href=\"https://www.habitaclia.com/comprar-piso-con_3_habitaciones_con_ascensor_y_calefaccion-madrid-i31703000000058.htm?list=true&amp;amp;lo=65\" rel=\"nofollow\" title=\"Piso en Madrid\" data-url=\"https://www.habitaclia.com/comprar-piso-con_3_habitaciones_con_ascensor_y_calefaccion-madrid-i31703000000058.htm?list=true&amp;amp;lo=65\" data-target=\"_self\" &gt;Piso en Madrid&lt;/a&gt;&lt;/h5&gt;\n",
       "         &lt;span class=\"sim-info sim-location\"&gt;Cuatro Caminos Madrid&lt;/span&gt;\n",
       "         &lt;span class=\"sim-info\"&gt; \n",
       " 96 m&lt;sup&gt;2&lt;/sup&gt;\n",
       " \n",
       " 3 hab\n",
       "             \n",
       "         &lt;/span&gt;\n",
       "         &lt;span class=\"sim-info sim-price\"&gt;\n",
       "                 399.000 €\n",
       "         &lt;/span&gt;\n",
       "     &lt;/div&gt;\n",
       " &lt;/li&gt;\n",
       " &lt;li  data-gtmname=\"comprar-vivienda-madrid\" data-gtmid=\"16140000000785\" data-gtmbrand=\"16140-1-GILMAR ORENSE D\" data-gtmprice=\"430000\" data-gtmcategory=\"comprar-vivienda/piso/madrid/madrid_capital/madrid\" data-gtmvariant=\"tetuan-cuatro_caminos\" data-gtmlist=\"ficha-anuncios_similares_top\" data-gtmposition=\"4\"  data-gtmurl=\"https://www.habitaclia.com/comprar-piso-en_cuatro_caminos-madrid-i16140000000785.htm?list=true&amp;amp;lo=65\" data-url=\"https://www.habitaclia.com/comprar-piso-en_cuatro_caminos-madrid-i16140000000785.htm?list=true&amp;amp;lo=65\" data-target=\"_self\" class=\"sim-item gtmproductclick gtmlistproductview\"&gt;\n",
       "     &lt;div class=\"sim-img\"&gt;\n",
       "         &lt;img class=\"loadImg\" name=\"//images.habimg.com/imgh/16140-785/piso-en-cuatro-caminos--------madrid_16140-img785-124208899.jpg\" src=\"//images.habimg.com/imgh/16140-785/piso-en-cuatro-caminos--------madrid_16140-img785-124208899.jpg\" alt=\"Piso en Calle del General Cabrera\" title=\"Piso en Calle del General Cabrera\" /&gt;\n",
       "     &lt;/div&gt;\n",
       "     &lt;div class=\"sim-desc\"&gt;\n",
       "         &lt;h5 class=\"text-ellipsis\"&gt;&lt;a href=\"https://www.habitaclia.com/comprar-piso-en_cuatro_caminos-madrid-i16140000000785.htm?list=true&amp;amp;lo=65\" rel=\"nofollow\" title=\"Piso en Madrid\" data-url=\"https://www.habitaclia.com/comprar-piso-en_cuatro_caminos-madrid-i16140000000785.htm?list=true&amp;amp;lo=65\" data-target=\"_self\" &gt;Piso en Madrid&lt;/a&gt;&lt;/h5&gt;\n",
       "         &lt;span class=\"sim-info sim-location\"&gt;Cuatro Caminos Madrid&lt;/span&gt;\n",
       "         &lt;span class=\"sim-info\"&gt; \n",
       " 102 m&lt;sup&gt;2&lt;/sup&gt;\n",
       " \n",
       " 2 hab\n",
       "             \n",
       "         &lt;/span&gt;\n",
       "         &lt;span class=\"sim-info sim-price\"&gt;\n",
       "                 430.000 €\n",
       "         &lt;/span&gt;\n",
       "     &lt;/div&gt;\n",
       " &lt;/li&gt;\n",
       " &lt;li  data-gtmname=\"comprar-vivienda-madrid\" data-gtmid=\"15995000000366\" data-gtmbrand=\"15995-1-HARO GESTIÓN INMOBILIARIA\" data-gtmprice=\"445000\" data-gtmcategory=\"comprar-vivienda/piso/madrid/madrid_capital/madrid\" data-gtmvariant=\"tetuan-cuatro_caminos\" data-gtmlist=\"ficha-anuncios_similares_top\" data-gtmposition=\"5\"  data-gtmurl=\"https://www.habitaclia.com/comprar-piso-con_3_habitaciones_de_la_infanta_mercedes-madrid-i15995000000366.htm?list=true&amp;amp;lo=65\" data-url=\"https://www.habitaclia.com/comprar-piso-con_3_habitaciones_de_la_infanta_mercedes-madrid-i15995000000366.htm?list=true&amp;amp;lo=65\" data-target=\"_self\" class=\"sim-item gtmproductclick gtmlistproductview\"&gt;\n",
       "     &lt;div class=\"sim-img\"&gt;\n",
       "         &lt;img class=\"loadImg\" name=\"//images.habimg.com/imgh/15995-366/piso-con-3-habitaciones-------madrid_15995-img366-122947472.jpg\" src=\"//images.habimg.com/imgh/15995-366/piso-con-3-habitaciones-------madrid_15995-img366-122947472.jpg\" alt=\"Piso en Calle de la Infanta Mercedes\" title=\"Piso en Calle de la Infanta Mercedes\" /&gt;\n",
       "     &lt;/div&gt;\n",
       "     &lt;div class=\"sim-desc\"&gt;\n",
       "         &lt;h5 class=\"text-ellipsis\"&gt;&lt;a href=\"https://www.habitaclia.com/comprar-piso-con_3_habitaciones_de_la_infanta_mercedes-madrid-i15995000000366.htm?list=true&amp;amp;lo=65\" rel=\"nofollow\" title=\"Piso en Madrid\" data-url=\"https://www.habitaclia.com/comprar-piso-con_3_habitaciones_de_la_infanta_mercedes-madrid-i15995000000366.htm?list=true&amp;amp;lo=65\" data-target=\"_self\" &gt;Piso en Madrid&lt;/a&gt;&lt;/h5&gt;\n",
       "         &lt;span class=\"sim-info sim-location\"&gt;Cuatro Caminos Madrid&lt;/span&gt;\n",
       "         &lt;span class=\"sim-info\"&gt; \n",
       " 118 m&lt;sup&gt;2&lt;/sup&gt;\n",
       " \n",
       " 3 hab\n",
       "             \n",
       "         &lt;/span&gt;\n",
       "         &lt;span class=\"sim-info sim-price\"&gt;\n",
       "                 445.000 €\n",
       "         &lt;/span&gt;\n",
       "     &lt;/div&gt;\n",
       " &lt;/li&gt;\n",
       " &lt;li  data-gtmname=\"comprar-vivienda-madrid\" data-gtmid=\"17938000001356\" data-gtmbrand=\"17938-1-ESTUDIO HOME MADRID\" data-gtmprice=\"450000\" data-gtmcategory=\"comprar-vivienda/piso/madrid/madrid_capital/madrid\" data-gtmvariant=\"tetuan-cuatro_caminos\" data-gtmlist=\"ficha-anuncios_similares_top\" data-gtmposition=\"6\"  data-gtmurl=\"https://www.habitaclia.com/comprar-piso-en-madrid-i17938000001356.htm?list=true&amp;amp;lo=65\" data-url=\"https://www.habitaclia.com/comprar-piso-en-madrid-i17938000001356.htm?list=true&amp;amp;lo=65\" data-target=\"_self\" class=\"sim-item gtmproductclick gtmlistproductview\"&gt;\n",
       "     &lt;div class=\"sim-img\"&gt;\n",
       "         &lt;img class=\"loadImg\" name=\"//images.habimg.com/imgh/17938-1356/calle-de-palencia-piso-madrid_17938-img1356-103501384.jpg\" src=\"//images.habimg.com/imgh/17938-1356/calle-de-palencia-piso-madrid_17938-img1356-103501384.jpg\" alt=\"Piso en Calle de Palencia\" title=\"Piso en Calle de Palencia\" /&gt;\n",
       "     &lt;/div&gt;\n",
       "     &lt;div class=\"sim-desc\"&gt;\n",
       "         &lt;h5 class=\"text-ellipsis\"&gt;&lt;a href=\"https://www.habitaclia.com/comprar-piso-en-madrid-i17938000001356.htm?list=true&amp;amp;lo=65\" rel=\"nofollow\" title=\"Piso en Madrid\" data-url=\"https://www.habitaclia.com/comprar-piso-en-madrid-i17938000001356.htm?list=true&amp;amp;lo=65\" data-target=\"_self\" &gt;Piso en Madrid&lt;/a&gt;&lt;/h5&gt;\n",
       "         &lt;span class=\"sim-info sim-location\"&gt;Cuatro Caminos Madrid&lt;/span&gt;\n",
       "         &lt;span class=\"sim-info\"&gt; \n",
       " 91 m&lt;sup&gt;2&lt;/sup&gt;\n",
       " \n",
       " 3 hab\n",
       "             \n",
       "         &lt;/span&gt;\n",
       "         &lt;span class=\"sim-info sim-price\"&gt;\n",
       "                 450.000 €\n",
       "         &lt;/span&gt;\n",
       "     &lt;/div&gt;\n",
       " &lt;/li&gt;\n",
       " &lt;li  data-gtmname=\"comprar-vivienda-madrid\" data-gtmid=\"15435000001674\" data-gtmbrand=\"15435-1-MISCASA\" data-gtmprice=\"450000\" data-gtmcategory=\"comprar-vivienda/piso/madrid/madrid_capital/madrid\" data-gtmvariant=\"tetuan-cuatro_caminos\" data-gtmlist=\"ficha-anuncios_similares_top\" data-gtmposition=\"7\"  data-gtmurl=\"https://www.habitaclia.com/comprar-piso-con_4_habitaciones_con_ascensor_y_calefaccion-madrid-i15435000001674.htm?list=true&amp;amp;lo=65\" data-url=\"https://www.habitaclia.com/comprar-piso-con_4_habitaciones_con_ascensor_y_calefaccion-madrid-i15435000001674.htm?list=true&amp;amp;lo=65\" data-target=\"_self\" class=\"sim-item gtmproductclick gtmlistproductview\"&gt;\n",
       "     &lt;div class=\"sim-img\"&gt;\n",
       "         &lt;img class=\"loadImg\" name=\"//images.habimg.com/imgh/15435-1674/piso-con-4-habitaciones-con-ascensor-y-calefaccion---madrid_15435-img1674-86020958.jpg\" src=\"//images.habimg.com/imgh/15435-1674/piso-con-4-habitaciones-con-ascensor-y-calefaccion---madrid_15435-img1674-86020958.jpg\" alt=\"Piso en Calle de Asunci&amp;#243;n Castell\" title=\"Piso en Calle de Asunci&amp;#243;n Castell\" /&gt;\n",
       "     &lt;/div&gt;\n",
       "     &lt;div class=\"sim-desc\"&gt;\n",
       "         &lt;h5 class=\"text-ellipsis\"&gt;&lt;a href=\"https://www.habitaclia.com/comprar-piso-con_4_habitaciones_con_ascensor_y_calefaccion-madrid-i15435000001674.htm?list=true&amp;amp;lo=65\" rel=\"nofollow\" title=\"Piso en Madrid\" data-url=\"https://www.habitaclia.com/comprar-piso-con_4_habitaciones_con_ascensor_y_calefaccion-madrid-i15435000001674.htm?list=true&amp;amp;lo=65\" data-target=\"_self\" &gt;Piso en Madrid&lt;/a&gt;&lt;/h5&gt;\n",
       "         &lt;span class=\"sim-info sim-location\"&gt;Cuatro Caminos Madrid&lt;/span&gt;\n",
       "         &lt;span class=\"sim-info\"&gt; \n",
       " 127 m&lt;sup&gt;2&lt;/sup&gt;\n",
       " \n",
       " 4 hab\n",
       "             \n",
       "         &lt;/span&gt;\n",
       "         &lt;span class=\"sim-info sim-price\"&gt;\n",
       "                 450.000 €\n",
       "         &lt;/span&gt;\n",
       "     &lt;/div&gt;\n",
       " &lt;/li&gt;\n",
       " &lt;li  data-gtmname=\"comprar-vivienda-madrid\" data-gtmid=\"18586000001158\" data-gtmbrand=\"18586-1-CHAMARTIN REAL STATE (GRUPO ARES)\" data-gtmprice=\"470000\" data-gtmcategory=\"comprar-vivienda/piso/madrid/madrid_capital/madrid\" data-gtmvariant=\"tetuan-cuatro_caminos\" data-gtmlist=\"ficha-anuncios_similares_top\" data-gtmposition=\"8\"  data-gtmurl=\"https://www.habitaclia.com/comprar-piso-con_3_habitaciones_con_ascensor_y_calefaccion-madrid-i18586000001158.htm?list=true&amp;amp;lo=65\" data-url=\"https://www.habitaclia.com/comprar-piso-con_3_habitaciones_con_ascensor_y_calefaccion-madrid-i18586000001158.htm?list=true&amp;amp;lo=65\" data-target=\"_self\" class=\"sim-item gtmproductclick gtmlistproductview\"&gt;\n",
       "     &lt;div class=\"sim-img\"&gt;\n",
       "         &lt;img class=\"loadImg\" name=\"//images.habimg.com/imgh/18586-1158/piso-con-3-habitaciones-con-ascensor-y-calefaccion---madrid_18586-img1158-89351495.jpg\" src=\"//images.habimg.com/imgh/18586-1158/piso-con-3-habitaciones-con-ascensor-y-calefaccion---madrid_18586-img1158-89351495.jpg\" alt=\"Piso en Calle de Orense\" title=\"Piso en Calle de Orense\" /&gt;\n",
       "     &lt;/div&gt;\n",
       "     &lt;div class=\"sim-desc\"&gt;\n",
       "         &lt;h5 class=\"text-ellipsis\"&gt;&lt;a href=\"https://www.habitaclia.com/comprar-piso-con_3_habitaciones_con_ascensor_y_calefaccion-madrid-i18586000001158.htm?list=true&amp;amp;lo=65\" rel=\"nofollow\" title=\"Piso en Madrid\" data-url=\"https://www.habitaclia.com/comprar-piso-con_3_habitaciones_con_ascensor_y_calefaccion-madrid-i18586000001158.htm?list=true&amp;amp;lo=65\" data-target=\"_self\" &gt;Piso en Madrid&lt;/a&gt;&lt;/h5&gt;\n",
       "         &lt;span class=\"sim-info sim-location\"&gt;Cuatro Caminos Madrid&lt;/span&gt;\n",
       "         &lt;span class=\"sim-info\"&gt; \n",
       " 130 m&lt;sup&gt;2&lt;/sup&gt;\n",
       " \n",
       " 3 hab\n",
       "             \n",
       "         &lt;/span&gt;\n",
       "         &lt;span class=\"sim-info sim-price\"&gt;\n",
       "                 470.000 €\n",
       "         &lt;/span&gt;\n",
       "     &lt;/div&gt;\n",
       " &lt;/li&gt;\n",
       " &lt;li  data-gtmname=\"comprar-vivienda-madrid\" data-gtmid=\"16140000000529\" data-gtmbrand=\"16140-1-GILMAR ORENSE D\" data-gtmprice=\"475000\" data-gtmcategory=\"comprar-vivienda/piso/madrid/madrid_capital/madrid\" data-gtmvariant=\"tetuan-cuatro_caminos\" data-gtmlist=\"ficha-anuncios_similares_top\" data-gtmposition=\"9\"  data-gtmurl=\"https://www.habitaclia.com/comprar-piso-bajo_en_castellana_orense-madrid-i16140000000529.htm?list=true&amp;amp;lo=65\" data-url=\"https://www.habitaclia.com/comprar-piso-bajo_en_castellana_orense-madrid-i16140000000529.htm?list=true&amp;amp;lo=65\" data-target=\"_self\" class=\"sim-item gtmproductclick gtmlistproductview\"&gt;\n",
       "     &lt;div class=\"sim-img\"&gt;\n",
       "         &lt;img class=\"loadImg\" name=\"//images.habimg.com/imgh/16140-529/bajo-en-castellana-orense-------madrid_16140-img529-97269634.jpg\" src=\"//images.habimg.com/imgh/16140-529/bajo-en-castellana-orense-------madrid_16140-img529-97269634.jpg\" alt=\"Piso en Cuatro Caminos\" title=\"Piso en Cuatro Caminos\" /&gt;\n",
       "     &lt;/div&gt;\n",
       "     &lt;div class=\"sim-desc\"&gt;\n",
       "         &lt;h5 class=\"text-ellipsis\"&gt;&lt;a href=\"https://www.habitaclia.com/comprar-piso-bajo_en_castellana_orense-madrid-i16140000000529.htm?list=true&amp;amp;lo=65\" rel=\"nofollow\" title=\"Piso en Madrid\" data-url=\"https://www.habitaclia.com/comprar-piso-bajo_en_castellana_orense-madrid-i16140000000529.htm?list=true&amp;amp;lo=65\" data-target=\"_self\" &gt;Piso en Madrid&lt;/a&gt;&lt;/h5&gt;\n",
       "         &lt;span class=\"sim-info sim-location\"&gt;Cuatro Caminos Madrid&lt;/span&gt;\n",
       "         &lt;span class=\"sim-info\"&gt; \n",
       " 140 m&lt;sup&gt;2&lt;/sup&gt;\n",
       " \n",
       "             \n",
       "         &lt;/span&gt;\n",
       "         &lt;span class=\"sim-info sim-price\"&gt;\n",
       "                 475.000 €\n",
       "         &lt;/span&gt;\n",
       "     &lt;/div&gt;\n",
       " &lt;/li&gt;\n",
       " &lt;li  data-gtmname=\"comprar-vivienda-madrid\" data-gtmid=\"14951000012236\" data-gtmbrand=\"14951-1-Housell\" data-gtmprice=\"490000\" data-gtmcategory=\"comprar-vivienda/piso/madrid/madrid_capital/madrid\" data-gtmvariant=\"tetuan-cuatro_caminos\" data-gtmlist=\"ficha-anuncios_similares_top\" data-gtmposition=\"10\"  data-gtmurl=\"https://www.habitaclia.com/comprar-piso-tercero_con_2_habitaciones_ascensor_parking_aire_acondicionad-madrid-i14951000012236.htm?list=true&amp;amp;lo=65\" data-url=\"https://www.habitaclia.com/comprar-piso-tercero_con_2_habitaciones_ascensor_parking_aire_acondicionad-madrid-i14951000012236.htm?list=true&amp;amp;lo=65\" data-target=\"_self\" class=\"sim-item gtmproductclick gtmlistproductview\"&gt;\n",
       "     &lt;div class=\"sim-img\"&gt;\n",
       "         &lt;img class=\"loadImg\" name=\"//images.habimg.com/imgh/14951-12236/tercero-con-2-habitaciones-ascensor-parking-aire-acondicionad-madrid_14951-img12236-1643793.jpg\" src=\"//images.habimg.com/imgh/14951-12236/tercero-con-2-habitaciones-ascensor-parking-aire-acondicionad-madrid_14951-img12236-1643793.jpg\" alt=\"Piso en Cuatro Caminos\" title=\"Piso en Cuatro Caminos\" /&gt;\n",
       "     &lt;/div&gt;\n",
       "     &lt;div class=\"sim-desc\"&gt;\n",
       "         &lt;h5 class=\"text-ellipsis\"&gt;&lt;a href=\"https://www.habitaclia.com/comprar-piso-tercero_con_2_habitaciones_ascensor_parking_aire_acondicionad-madrid-i14951000012236.htm?list=true&amp;amp;lo=65\" rel=\"nofollow\" title=\"Piso en Madrid\" data-url=\"https://www.habitaclia.com/comprar-piso-tercero_con_2_habitaciones_ascensor_parking_aire_acondicionad-madrid-i14951000012236.htm?list=true&amp;amp;lo=65\" data-target=\"_self\" &gt;Piso en Madrid&lt;/a&gt;&lt;/h5&gt;\n",
       "         &lt;span class=\"sim-info sim-location\"&gt;Cuatro Caminos Madrid&lt;/span&gt;\n",
       "         &lt;span class=\"sim-info\"&gt; \n",
       " 95 m&lt;sup&gt;2&lt;/sup&gt;\n",
       " \n",
       " 2 hab\n",
       "             \n",
       "         &lt;/span&gt;\n",
       "         &lt;span class=\"sim-info sim-price\"&gt;\n",
       "                 490.000 €\n",
       "         &lt;/span&gt;\n",
       "     &lt;/div&gt;\n",
       " &lt;/li&gt;\n",
       " &lt;li  data-gtmname=\"comprar-vivienda-madrid\" data-gtmid=\"15791000001412\" data-gtmbrand=\"15791-1-EXTRA INMOBILIARIA\" data-gtmprice=\"525000\" data-gtmcategory=\"comprar-vivienda/piso/madrid/madrid_capital/madrid\" data-gtmvariant=\"tetuan-cuatro_caminos\" data-gtmlist=\"ficha-anuncios_similares_top\" data-gtmposition=\"11\"  data-gtmurl=\"https://www.habitaclia.com/comprar-piso-amplio_para_reformar_4_habitaciones_dobles_3_banos_y_garaje-madrid-i15791000001412.htm?list=true&amp;amp;lo=65\" data-url=\"https://www.habitaclia.com/comprar-piso-amplio_para_reformar_4_habitaciones_dobles_3_banos_y_garaje-madrid-i15791000001412.htm?list=true&amp;amp;lo=65\" data-target=\"_self\" class=\"sim-item gtmproductclick gtmlistproductview\"&gt;\n",
       "     &lt;div class=\"sim-img\"&gt;\n",
       "         &lt;img class=\"loadImg\" name=\"//images.habimg.com/imgh/15791-1412/amplio-piso-para-reformar-4-habitaciones-dobles-3-banos-y-garaje-madrid_15791-img1412-125751141.jpg\" src=\"//images.habimg.com/imgh/15791-1412/amplio-piso-para-reformar-4-habitaciones-dobles-3-banos-y-garaje-madrid_15791-img1412-125751141.jpg\" alt=\"Piso en Reina Mercedes\" title=\"Piso en Reina Mercedes\" /&gt;\n",
       "     &lt;/div&gt;\n",
       "     &lt;div class=\"sim-desc\"&gt;\n",
       "         &lt;h5 class=\"text-ellipsis\"&gt;&lt;a href=\"https://www.habitaclia.com/comprar-piso-amplio_para_reformar_4_habitaciones_dobles_3_banos_y_garaje-madrid-i15791000001412.htm?list=true&amp;amp;lo=65\" rel=\"nofollow\" title=\"Piso en Madrid\" data-url=\"https://www.habitaclia.com/comprar-piso-amplio_para_reformar_4_habitaciones_dobles_3_banos_y_garaje-madrid-i15791000001412.htm?list=true&amp;amp;lo=65\" data-target=\"_self\" &gt;Piso en Madrid&lt;/a&gt;&lt;/h5&gt;\n",
       "         &lt;span class=\"sim-info sim-location\"&gt;Cuatro Caminos Madrid&lt;/span&gt;\n",
       "         &lt;span class=\"sim-info\"&gt; \n",
       " 117 m&lt;sup&gt;2&lt;/sup&gt;\n",
       " \n",
       " 4 hab\n",
       "             \n",
       "         &lt;/span&gt;\n",
       "         &lt;span class=\"sim-info sim-price\"&gt;\n",
       "                 525.000 €\n",
       "         &lt;/span&gt;\n",
       "     &lt;/div&gt;\n",
       " &lt;/li&gt;\n",
       " &lt;li  data-gtmname=\"comprar-vivienda-madrid\" data-gtmid=\"35762000000007\" data-gtmbrand=\"35762-1-R&amp;J Alta Gestión\" data-gtmprice=\"559000\" data-gtmcategory=\"comprar-vivienda/piso/madrid/madrid_capital/madrid\" data-gtmvariant=\"tetuan-cuatro_caminos\" data-gtmlist=\"ficha-anuncios_similares_top\" data-gtmposition=\"12\"  data-gtmurl=\"https://www.habitaclia.com/comprar-piso-preccioso_en_calle_reina_mercedes-madrid-i35762000000007.htm?list=true&amp;amp;lo=65\" data-url=\"https://www.habitaclia.com/comprar-piso-preccioso_en_calle_reina_mercedes-madrid-i35762000000007.htm?list=true&amp;amp;lo=65\" data-target=\"_self\" class=\"sim-item gtmproductclick gtmlistproductview\"&gt;\n",
       "     &lt;div class=\"sim-img\"&gt;\n",
       "         &lt;img class=\"loadImg\" name=\"//images.habimg.com/imgh/35762-7/preccioso-piso-en-calle-reina-mercedes-----madrid_35762-img7-119220826.jpg\" src=\"//images.habimg.com/imgh/35762-7/preccioso-piso-en-calle-reina-mercedes-----madrid_35762-img7-119220826.jpg\" alt=\"Piso en Calle de la Reina Mercedes\" title=\"Piso en Calle de la Reina Mercedes\" /&gt;\n",
       "     &lt;/div&gt;\n",
       "     &lt;div class=\"sim-desc\"&gt;\n",
       "         &lt;h5 class=\"text-ellipsis\"&gt;&lt;a href=\"https://www.habitaclia.com/comprar-piso-preccioso_en_calle_reina_mercedes-madrid-i35762000000007.htm?list=true&amp;amp;lo=65\" rel=\"nofollow\" title=\"Piso en Madrid\" data-url=\"https://www.habitaclia.com/comprar-piso-preccioso_en_calle_reina_mercedes-madrid-i35762000000007.htm?list=true&amp;amp;lo=65\" data-target=\"_self\" &gt;Piso en Madrid&lt;/a&gt;&lt;/h5&gt;\n",
       "         &lt;span class=\"sim-info sim-location\"&gt;Cuatro Caminos Madrid&lt;/span&gt;\n",
       "         &lt;span class=\"sim-info\"&gt; \n",
       " 122 m&lt;sup&gt;2&lt;/sup&gt;\n",
       " \n",
       " 4 hab\n",
       "             \n",
       "         &lt;/span&gt;\n",
       "         &lt;span class=\"sim-info sim-price\"&gt;\n",
       "                 559.000 €\n",
       "         &lt;/span&gt;\n",
       "     &lt;/div&gt;\n",
       " &lt;/li&gt;                            &lt;/ul&gt;\n",
       "                             &lt;div class=\"sim-button-container\"&gt;\n",
       " \n",
       "                                 &lt;div class=\"sim-button \" id=\"js-sim-vertical-01\" data-id=\"1\"&gt;&lt;/div&gt;\n",
       "                                     &lt;div class=\"sim-button sim-button-active\" id=\"js-sim-vertical-02\" data-id=\"2\"&gt;&lt;/div&gt;\n",
       "                                     &lt;div class=\"sim-button \" id=\"js-sim-vertical-03\" data-id=\"3\"&gt;&lt;/div&gt;\n",
       "                             &lt;/div&gt;\n",
       "                         &lt;/div&gt;\n",
       "                     &lt;/aside&gt;                                    &lt;aside class=\"ads w-300px\"&gt;\n",
       "                         &lt;div class=\"ads-tag bg-white\"&gt;Publicidad&lt;/div&gt;\n",
       "                         &lt;div id=\"ficha_lateral_300x250\" class=\"ads-content bg-white ads-content-300\"&gt;&lt;/div&gt;\n",
       "                         &lt;script&gt;\n",
       "                             googletag.cmd.push(function () {\n",
       "                                 googletag.display(\"ficha_lateral_300x250\");\n",
       "                             });\n",
       "                         &lt;/script&gt;\n",
       " \n",
       "                     &lt;/aside&gt;\n",
       "             &lt;/div&gt;\n",
       "         &lt;/section&gt;\n",
       "     &lt;/div&gt;\n",
       "     &lt;section class=\"options bg-white\"&gt;\n",
       "         &lt;h2 class=\"hidden\"&gt;Opciones&lt;/h2&gt;\n",
       "         &lt;div class=\"max-1440 padding-y\"&gt;\n",
       "             &lt;span class=\"detail-id\"&gt;Anuncio: 500003933609&lt;/span&gt;\n",
       "             &lt;ul&gt;\n",
       "                     &lt;li&gt;\n",
       "                         &lt;button type=\"button\" class=\"js-calc-hipoteca button-transparent\" title=\"Calcular hipoteca\"&gt;\n",
       "                             &lt;svg role=\"presentation\" class=\"calculator\"&gt;\n",
       "                                 &lt;use xlink:href=\"//www.habitaclia.com/dotnet/content/icon/dist/src_504911268000000000.svg#ico-calculator\" /&gt;\n",
       "                             &lt;/svg&gt;\n",
       "                             &lt;span&gt;Calcular hipoteca&lt;/span&gt;\n",
       "                         &lt;/button&gt;\n",
       "                     &lt;/li&gt;\n",
       "                 &lt;li&gt;\n",
       "                     &lt;a class=\"js-notify\"&gt;\n",
       "                         &lt;svg role=\"presentation\" class=\"alert-mail\"&gt;\n",
       "                             &lt;use xlink:href=\"//www.habitaclia.com/dotnet/content/icon/dist/src_504911268000000000.svg#ico-bell-ringing-03\" /&gt;\n",
       "                         &lt;/svg&gt;\n",
       "                         &lt;span&gt;Recibir alertas de anuncios similares&lt;/span&gt;\n",
       "                     &lt;/a&gt;\n",
       "                 &lt;/li&gt;\n",
       "                 &lt;li&gt;\n",
       "                     &lt;button type=\"button\" class=\"button-transparent sprite share-friend\" data-window=\"https://www.habitaclia.com/hab_inmuebles/enviarAmigo.asp?p=E-comprar-vivienda-piso-madrid-madrid_capital-1-madrid-tetuan-cuatro_caminos-500003933609&amp;amp;prom=no&amp;amp;op=rellenar\" title=\"Enviar a un amigo\"&gt;\n",
       "                         &lt;svg role=\"presentation\" class=\"email\"&gt;\n",
       "                             &lt;use xlink:href=\"//www.habitaclia.com/dotnet/content/icon/dist/src_504911268000000000.svg#ico-envelope-closed\" /&gt;\n",
       "                         &lt;/svg&gt;\n",
       "                         &lt;span&gt;Enviar a un amigo&lt;/span&gt;\n",
       "                     &lt;/button&gt;\n",
       "                 &lt;/li&gt;\n",
       "                 &lt;li class=\"hide-tablet\"&gt;\n",
       "                     &lt;button id=\"js-btn-imprimir\" type=\"button\" class=\"button-transparent sprite js-print\" title=\"Imprimir\"&gt;\n",
       "                         &lt;svg role=\"presentation\" class=\"print\"&gt;\n",
       "                             &lt;use xlink:href=\"//www.habitaclia.com/dotnet/content/icon/dist/src_504911268000000000.svg#ico-printer-document-text\" /&gt;\n",
       "                         &lt;/svg&gt;\n",
       "                         &lt;span&gt;Imprimir&lt;/span&gt;\n",
       "                     &lt;/button&gt;\n",
       "                 &lt;/li&gt;\n",
       "             &lt;/ul&gt;\n",
       "         &lt;/div&gt;\n",
       "     &lt;/section&gt;\n",
       "         &lt;section id=\"js-gallery\" class=\"gallery padding-x padding-y\"&gt;\n",
       "             &lt;h2 class=\"hidden\"&gt;Galer&amp;#237;a&lt;/h2&gt;\n",
       "             &lt;div class=\"gallery-options max-1440\"&gt;\n",
       "                 &lt;div class=\"f-right\"&gt;\n",
       "                     &lt;button type=\"button\" id=\"js-gallery-size-p\" title=\"Ver fotos en formato galeria\" class=\"button-transparent active\"&gt;\n",
       "                         &lt;svg role=\"presentation\" class=\"ico ico-grey-light ico-m\"&gt;\n",
       "                             &lt;use xlink:href=\"//www.habitaclia.com/dotnet/content/icon/dist/src_504911268000000000.svg#ico-gallery-p\" /&gt;\n",
       "                         &lt;/svg&gt;\n",
       "                     &lt;/button&gt;\n",
       "                     &lt;button type=\"button\" id=\"js-gallery-size-n\" title=\"Ver fotos tama&amp;#241;o mediano\" class=\"button-transparent\"&gt;\n",
       "                         &lt;svg role=\"presentation\" class=\"ico ico-grey-light ico-m\"&gt;\n",
       "                             &lt;use xlink:href=\"//www.habitaclia.com/dotnet/content/icon/dist/src_504911268000000000.svg#ico-gallery-n\" /&gt;\n",
       "                         &lt;/svg&gt;\n",
       "                     &lt;/button&gt;\n",
       "                         &lt;button type=\"button\" id=\"js-gallery-size-g\" title=\"Ver fotos grandes\" class=\"button-transparent\"&gt;\n",
       "                             &lt;svg role=\"presentation\" class=\"ico ico-grey-light ico-m\"&gt;\n",
       "                                 &lt;use xlink:href=\"//www.habitaclia.com/dotnet/content/icon/dist/src_504911268000000000.svg#ico-gallery-g\" /&gt;\n",
       "                             &lt;/svg&gt;\n",
       "                         &lt;/button&gt;\n",
       "                 &lt;/div&gt;\n",
       "                 &lt;div class=\"f-right padding-x-min\"&gt;\n",
       "                     &lt;span class=\"gallery-options-title f-right\"&gt;Tama&amp;#241;o fotograf&amp;#237;as&lt;/span&gt;\n",
       "                     &lt;span class=\"gallery-options-subtitle\"&gt;Selecciona como quieres ver las fotos&lt;/span&gt;\n",
       "                 &lt;/div&gt;\n",
       "             &lt;/div&gt;\n",
       "             &lt;div class=\"flex-images\"&gt;\n",
       " \n",
       " \n",
       "                 \n",
       " \n",
       " \t\t&lt;div id=\"\" class=\"ficha_foto flex-image item n\" url=\"https://www.habitaclia.com//foto.htm?p=E-comprar-vivienda-piso-madrid-madrid_capital-1-madrid-tetuan-cuatro_caminos-500003933609&amp;amp;imagen=500-img3933609-94697324.jpg&amp;amp;strPrecio=499.000\"\n",
       " \t\t\t\tdata-w=\"1050\" data-h=\"1400\" data-wide-order=\"0\" data-wide-type=\"img\"&gt;\n",
       " \t\t\t&lt;a style=\"background-image: url('//images.habimg.com/imgh/500-3933609/magnifico-piso-en-la-calle-orense-28020-madrid-madrid_500-img3933609-94697324G.jpg');\" href=\"/foto.htm?p=E-comprar-vivienda-piso-madrid-madrid_capital-1-madrid-tetuan-cuatro_caminos-500003933609&amp;amp;imagen=500-img3933609-94697324.jpg\" rel=\"nofollow\" title=\"Foto 500-img3933609-94697324. Piso en calle orense magn&amp;#237;fico piso en la calle orense 28020 en Madrid\"&gt;\n",
       " \t\t\t\t&lt;img title=\"Foto 500-img3933609-94697324. Piso en calle orense magn&amp;#237;fico piso en la calle orense 28020 en Madrid\" src=\"//images.habimg.com/imgh/500-3933609/magnifico-piso-en-la-calle-orense-28020-madrid-madrid_500-img3933609-94697324G.jpg\" alt=\"Foto 500-img3933609-94697324. Piso en calle orense magn&amp;#237;fico piso en la calle orense 28020 en Madrid\" itemprop=\"image\" /&gt;\n",
       " \t\t\t&lt;/a&gt;\n",
       " \t\t&lt;/div&gt;\n",
       " \t\t&lt;div id=\"\" class=\"ficha_foto flex-image item n\" url=\"https://www.habitaclia.com//foto.htm?p=E-comprar-vivienda-piso-madrid-madrid_capital-1-madrid-tetuan-cuatro_caminos-500003933609&amp;amp;imagen=500-img3933609-94697325.jpg&amp;amp;strPrecio=499.000\"\n",
       " \t\t\t\tdata-w=\"1050\" data-h=\"1400\" data-wide-order=\"1\" data-wide-type=\"img\"&gt;\n",
       " \t\t\t&lt;a style=\"background-image: url('//images.habimg.com/imgh/500-3933609/magnifico-piso-en-la-calle-orense-28020-madrid-madrid_500-img3933609-94697325G.jpg');\" href=\"/foto.htm?p=E-comprar-vivienda-piso-madrid-madrid_capital-1-madrid-tetuan-cuatro_caminos-500003933609&amp;amp;imagen=500-img3933609-94697325.jpg\" rel=\"nofollow\" title=\"Foto 500-img3933609-94697325. Piso en calle orense magn&amp;#237;fico piso en la calle orense 28020 en Madrid\"&gt;\n",
       " \t\t\t\t&lt;img title=\"Foto 500-img3933609-94697325. Piso en calle orense magn&amp;#237;fico piso en la calle orense 28020 en Madrid\" src=\"//images.habimg.com/imgh/500-3933609/magnifico-piso-en-la-calle-orense-28020-madrid-madrid_500-img3933609-94697325G.jpg\" alt=\"Foto 500-img3933609-94697325. Piso en calle orense magn&amp;#237;fico piso en la calle orense 28020 en Madrid\" itemprop=\"image\" /&gt;\n",
       " \t\t\t&lt;/a&gt;\n",
       " \t\t&lt;/div&gt;\n",
       " \t\t&lt;div id=\"\" class=\"ficha_foto flex-image item n\" url=\"https://www.habitaclia.com//foto.htm?p=E-comprar-vivienda-piso-madrid-madrid_capital-1-madrid-tetuan-cuatro_caminos-500003933609&amp;amp;imagen=500-img3933609-94697326.jpg&amp;amp;strPrecio=499.000\"\n",
       " \t\t\t\tdata-w=\"1050\" data-h=\"1400\" data-wide-order=\"2\" data-wide-type=\"img\"&gt;\n",
       " \t\t\t&lt;a style=\"background-image: url('//images.habimg.com/imgh/500-3933609/magnifico-piso-en-la-calle-orense-28020-madrid-madrid_500-img3933609-94697326G.jpg');\" href=\"/foto.htm?p=E-comprar-vivienda-piso-madrid-madrid_capital-1-madrid-tetuan-cuatro_caminos-500003933609&amp;amp;imagen=500-img3933609-94697326.jpg\" rel=\"nofollow\" title=\"Foto 500-img3933609-94697326. Piso en calle orense magn&amp;#237;fico piso en la calle orense 28020 en Madrid\"&gt;\n",
       " \t\t\t\t&lt;img title=\"Foto 500-img3933609-94697326. Piso en calle orense magn&amp;#237;fico piso en la calle orense 28020 en Madrid\" src=\"//images.habimg.com/imgh/500-3933609/magnifico-piso-en-la-calle-orense-28020-madrid-madrid_500-img3933609-94697326G.jpg\" alt=\"Foto 500-img3933609-94697326. Piso en calle orense magn&amp;#237;fico piso en la calle orense 28020 en Madrid\" itemprop=\"image\" /&gt;\n",
       " \t\t\t&lt;/a&gt;\n",
       " \t\t&lt;/div&gt;\n",
       " \t\t&lt;div id=\"\" class=\"ficha_foto flex-image item n\" url=\"https://www.habitaclia.com//foto.htm?p=E-comprar-vivienda-piso-madrid-madrid_capital-1-madrid-tetuan-cuatro_caminos-500003933609&amp;amp;imagen=500-img3933609-94697327.jpg&amp;amp;strPrecio=499.000\"\n",
       " \t\t\t\tdata-w=\"1050\" data-h=\"1400\" data-wide-order=\"3\" data-wide-type=\"img\"&gt;\n",
       " \t\t\t&lt;a style=\"background-image: url('//images.habimg.com/imgh/500-3933609/magnifico-piso-en-la-calle-orense-28020-madrid-madrid_500-img3933609-94697327G.jpg');\" href=\"/foto.htm?p=E-comprar-vivienda-piso-madrid-madrid_capital-1-madrid-tetuan-cuatro_caminos-500003933609&amp;amp;imagen=500-img3933609-94697327.jpg\" rel=\"nofollow\" title=\"Foto 500-img3933609-94697327. Piso en calle orense magn&amp;#237;fico piso en la calle orense 28020 en Madrid\"&gt;\n",
       " \t\t\t\t&lt;img title=\"Foto 500-img3933609-94697327. Piso en calle orense magn&amp;#237;fico piso en la calle orense 28020 en Madrid\" src=\"//images.habimg.com/imgh/500-3933609/magnifico-piso-en-la-calle-orense-28020-madrid-madrid_500-img3933609-94697327G.jpg\" alt=\"Foto 500-img3933609-94697327. Piso en calle orense magn&amp;#237;fico piso en la calle orense 28020 en Madrid\" itemprop=\"image\" /&gt;\n",
       " \t\t\t&lt;/a&gt;\n",
       " \t\t&lt;/div&gt;\n",
       " \t\t&lt;div id=\"\" class=\"ficha_foto flex-image item n\" url=\"https://www.habitaclia.com//foto.htm?p=E-comprar-vivienda-piso-madrid-madrid_capital-1-madrid-tetuan-cuatro_caminos-500003933609&amp;amp;imagen=500-img3933609-94697328.jpg&amp;amp;strPrecio=499.000\"\n",
       " \t\t\t\tdata-w=\"1050\" data-h=\"1400\" data-wide-order=\"4\" data-wide-type=\"img\"&gt;\n",
       " \t\t\t&lt;a style=\"background-image: url('//images.habimg.com/imgh/500-3933609/magnifico-piso-en-la-calle-orense-28020-madrid-madrid_500-img3933609-94697328G.jpg');\" href=\"/foto.htm?p=E-comprar-vivienda-piso-madrid-madrid_capital-1-madrid-tetuan-cuatro_caminos-500003933609&amp;amp;imagen=500-img3933609-94697328.jpg\" rel=\"nofollow\" title=\"Foto 500-img3933609-94697328. Piso en calle orense magn&amp;#237;fico piso en la calle orense 28020 en Madrid\"&gt;\n",
       " \t\t\t\t&lt;img title=\"Foto 500-img3933609-94697328. Piso en calle orense magn&amp;#237;fico piso en la calle orense 28020 en Madrid\" src=\"//images.habimg.com/imgh/500-3933609/magnifico-piso-en-la-calle-orense-28020-madrid-madrid_500-img3933609-94697328G.jpg\" alt=\"Foto 500-img3933609-94697328. Piso en calle orense magn&amp;#237;fico piso en la calle orense 28020 en Madrid\" itemprop=\"image\" /&gt;\n",
       " \t\t\t&lt;/a&gt;\n",
       " \t\t&lt;/div&gt;\n",
       " \t\t&lt;div id=\"\" class=\"ficha_foto flex-image item n\" url=\"https://www.habitaclia.com//foto.htm?p=E-comprar-vivienda-piso-madrid-madrid_capital-1-madrid-tetuan-cuatro_caminos-500003933609&amp;amp;imagen=500-img3933609-94697329.jpg&amp;amp;strPrecio=499.000\"\n",
       " \t\t\t\tdata-w=\"1050\" data-h=\"1400\" data-wide-order=\"5\" data-wide-type=\"img\"&gt;\n",
       " \t\t\t&lt;a style=\"background-image: url('//images.habimg.com/imgh/500-3933609/magnifico-piso-en-la-calle-orense-28020-madrid-madrid_500-img3933609-94697329G.jpg');\" href=\"/foto.htm?p=E-comprar-vivienda-piso-madrid-madrid_capital-1-madrid-tetuan-cuatro_caminos-500003933609&amp;amp;imagen=500-img3933609-94697329.jpg\" rel=\"nofollow\" title=\"Foto 500-img3933609-94697329. Piso en calle orense magn&amp;#237;fico piso en la calle orense 28020 en Madrid\"&gt;\n",
       " \t\t\t\t&lt;img title=\"Foto 500-img3933609-94697329. Piso en calle orense magn&amp;#237;fico piso en la calle orense 28020 en Madrid\" src=\"//images.habimg.com/imgh/500-3933609/magnifico-piso-en-la-calle-orense-28020-madrid-madrid_500-img3933609-94697329G.jpg\" alt=\"Foto 500-img3933609-94697329. Piso en calle orense magn&amp;#237;fico piso en la calle orense 28020 en Madrid\" itemprop=\"image\" /&gt;\n",
       " \t\t\t&lt;/a&gt;\n",
       " \t\t&lt;/div&gt;\n",
       " \t\t&lt;div id=\"img6\" class=\"ficha_foto flex-image item n\" url=\"https://www.habitaclia.com//foto.htm?p=E-comprar-vivienda-piso-madrid-madrid_capital-1-madrid-tetuan-cuatro_caminos-500003933609&amp;amp;imagen=500-img3933609-94697330.jpg&amp;amp;strPrecio=499.000\"\n",
       " \t\t\t\tdata-w=\"1050\" data-h=\"1400\" data-wide-order=\"6\" data-wide-type=\"img\"&gt;\n",
       " \t\t\t&lt;a style=\"background-image: url('//images.habimg.com/imgh/500-3933609/magnifico-piso-en-la-calle-orense-28020-madrid-madrid_500-img3933609-94697330G.jpg');\" href=\"/foto.htm?p=E-comprar-vivienda-piso-madrid-madrid_capital-1-madrid-tetuan-cuatro_caminos-500003933609&amp;amp;imagen=500-img3933609-94697330.jpg\" rel=\"nofollow\" title=\"Foto 500-img3933609-94697330. Piso en calle orense magn&amp;#237;fico piso en la calle orense 28020 en Madrid\"&gt;\n",
       " \t\t\t\t&lt;img title=\"Foto 500-img3933609-94697330. Piso en calle orense magn&amp;#237;fico piso en la calle orense 28020 en Madrid\" src=\"//images.habimg.com/imgh/500-3933609/magnifico-piso-en-la-calle-orense-28020-madrid-madrid_500-img3933609-94697330G.jpg\" alt=\"Foto 500-img3933609-94697330. Piso en calle orense magn&amp;#237;fico piso en la calle orense 28020 en Madrid\" itemprop=\"image\" /&gt;\n",
       " \t\t\t&lt;/a&gt;\n",
       " \t\t&lt;/div&gt;\n",
       " \t\t&lt;div id=\"img7\" class=\"ficha_foto flex-image item n miniaturas\" url=\"https://www.habitaclia.com//foto.htm?p=E-comprar-vivienda-piso-madrid-madrid_capital-1-madrid-tetuan-cuatro_caminos-500003933609&amp;amp;imagen=500-img3933609-94697331.jpg&amp;amp;strPrecio=499.000\"\n",
       " \t\t\t\tdata-w=\"1050\" data-h=\"1400\" data-wide-order=\"7\" data-wide-type=\"img\"&gt;\n",
       " \t\t\t&lt;a style=\"background-image: url('//images.habimg.com/imgh/500-3933609/magnifico-piso-en-la-calle-orense-28020-madrid-madrid_500-img3933609-94697331G.jpg');\" href=\"/foto.htm?p=E-comprar-vivienda-piso-madrid-madrid_capital-1-madrid-tetuan-cuatro_caminos-500003933609&amp;amp;imagen=500-img3933609-94697331.jpg\" rel=\"nofollow\" title=\"Foto 500-img3933609-94697331. Piso en calle orense magn&amp;#237;fico piso en la calle orense 28020 en Madrid\"&gt;\n",
       " \t\t\t\t&lt;img title=\"Foto 500-img3933609-94697331. Piso en calle orense magn&amp;#237;fico piso en la calle orense 28020 en Madrid\" src=\"//images.habimg.com/imgh/500-3933609/magnifico-piso-en-la-calle-orense-28020-madrid-madrid_500-img3933609-94697331G.jpg\" alt=\"Foto 500-img3933609-94697331. Piso en calle orense magn&amp;#237;fico piso en la calle orense 28020 en Madrid\" itemprop=\"image\" /&gt;\n",
       " \t\t\t&lt;/a&gt;\n",
       " \t\t&lt;/div&gt;\n",
       " \t\t&lt;div id=\"img8\" class=\"ficha_foto flex-image item n miniaturas\" url=\"https://www.habitaclia.com//foto.htm?p=E-comprar-vivienda-piso-madrid-madrid_capital-1-madrid-tetuan-cuatro_caminos-500003933609&amp;amp;imagen=500-img3933609-94697332.jpg&amp;amp;strPrecio=499.000\"\n",
       " \t\t\t\tdata-w=\"1050\" data-h=\"1400\" data-wide-order=\"8\" data-wide-type=\"img\"&gt;\n",
       " \t\t\t&lt;a style=\"background-image: url('//images.habimg.com/imgh/500-3933609/magnifico-piso-en-la-calle-orense-28020-madrid-madrid_500-img3933609-94697332G.jpg');\" href=\"/foto.htm?p=E-comprar-vivienda-piso-madrid-madrid_capital-1-madrid-tetuan-cuatro_caminos-500003933609&amp;amp;imagen=500-img3933609-94697332.jpg\" rel=\"nofollow\" title=\"Foto 500-img3933609-94697332. Piso en calle orense magn&amp;#237;fico piso en la calle orense 28020 en Madrid\"&gt;\n",
       " \t\t\t\t&lt;img title=\"Foto 500-img3933609-94697332. Piso en calle orense magn&amp;#237;fico piso en la calle orense 28020 en Madrid\" src=\"//images.habimg.com/imgh/500-3933609/magnifico-piso-en-la-calle-orense-28020-madrid-madrid_500-img3933609-94697332G.jpg\" alt=\"Foto 500-img3933609-94697332. Piso en calle orense magn&amp;#237;fico piso en la calle orense 28020 en Madrid\" itemprop=\"image\" /&gt;\n",
       " \t\t\t&lt;/a&gt;\n",
       " \t\t&lt;/div&gt;\n",
       " \t\t&lt;div id=\"img9\" class=\"ficha_foto flex-image item n miniaturas\" url=\"https://www.habitaclia.com//foto.htm?p=E-comprar-vivienda-piso-madrid-madrid_capital-1-madrid-tetuan-cuatro_caminos-500003933609&amp;amp;imagen=500-img3933609-94697333.jpg&amp;amp;strPrecio=499.000\"\n",
       " \t\t\t\tdata-w=\"1050\" data-h=\"1400\" data-wide-order=\"9\" data-wide-type=\"img\"&gt;\n",
       " \t\t\t&lt;a style=\"background-image: url('//images.habimg.com/imgh/500-3933609/magnifico-piso-en-la-calle-orense-28020-madrid-madrid_500-img3933609-94697333G.jpg');\" href=\"/foto.htm?p=E-comprar-vivienda-piso-madrid-madrid_capital-1-madrid-tetuan-cuatro_caminos-500003933609&amp;amp;imagen=500-img3933609-94697333.jpg\" rel=\"nofollow\" title=\"Foto 500-img3933609-94697333. Piso en calle orense magn&amp;#237;fico piso en la calle orense 28020 en Madrid\"&gt;\n",
       " \t\t\t\t&lt;img title=\"Foto 500-img3933609-94697333. Piso en calle orense magn&amp;#237;fico piso en la calle orense 28020 en Madrid\" src=\"//images.habimg.com/imgh/500-3933609/magnifico-piso-en-la-calle-orense-28020-madrid-madrid_500-img3933609-94697333G.jpg\" alt=\"Foto 500-img3933609-94697333. Piso en calle orense magn&amp;#237;fico piso en la calle orense 28020 en Madrid\" itemprop=\"image\" /&gt;\n",
       " \t\t\t&lt;/a&gt;\n",
       " \t\t&lt;/div&gt;\n",
       " \t\t&lt;div id=\"img10\" class=\"ficha_foto flex-image item n miniaturas\" url=\"https://www.habitaclia.com//foto.htm?p=E-comprar-vivienda-piso-madrid-madrid_capital-1-madrid-tetuan-cuatro_caminos-500003933609&amp;amp;imagen=500-img3933609-94697334.jpg&amp;amp;strPrecio=499.000\"\n",
       " \t\t\t\tdata-w=\"1050\" data-h=\"1400\" data-wide-order=\"10\" data-wide-type=\"img\"&gt;\n",
       " \t\t\t&lt;a style=\"background-image: url('//images.habimg.com/imgh/500-3933609/magnifico-piso-en-la-calle-orense-28020-madrid-madrid_500-img3933609-94697334G.jpg');\" href=\"/foto.htm?p=E-comprar-vivienda-piso-madrid-madrid_capital-1-madrid-tetuan-cuatro_caminos-500003933609&amp;amp;imagen=500-img3933609-94697334.jpg\" rel=\"nofollow\" title=\"Foto 500-img3933609-94697334. Piso en calle orense magn&amp;#237;fico piso en la calle orense 28020 en Madrid\"&gt;\n",
       " \t\t\t\t&lt;img title=\"Foto 500-img3933609-94697334. Piso en calle orense magn&amp;#237;fico piso en la calle orense 28020 en Madrid\" src=\"//images.habimg.com/imgh/500-3933609/magnifico-piso-en-la-calle-orense-28020-madrid-madrid_500-img3933609-94697334G.jpg\" alt=\"Foto 500-img3933609-94697334. Piso en calle orense magn&amp;#237;fico piso en la calle orense 28020 en Madrid\" itemprop=\"image\" /&gt;\n",
       " \t\t\t&lt;/a&gt;\n",
       " \t\t&lt;/div&gt;\n",
       " \t\t&lt;div id=\"img11\" class=\"ficha_foto flex-image item n miniaturas\" url=\"https://www.habitaclia.com//foto.htm?p=E-comprar-vivienda-piso-madrid-madrid_capital-1-madrid-tetuan-cuatro_caminos-500003933609&amp;amp;imagen=500-img3933609-94697335.jpg&amp;amp;strPrecio=499.000\"\n",
       " \t\t\t\tdata-w=\"1050\" data-h=\"1400\" data-wide-order=\"11\" data-wide-type=\"img\"&gt;\n",
       " \t\t\t&lt;a style=\"background-image: url('//images.habimg.com/imgh/500-3933609/magnifico-piso-en-la-calle-orense-28020-madrid-madrid_500-img3933609-94697335G.jpg');\" href=\"/foto.htm?p=E-comprar-vivienda-piso-madrid-madrid_capital-1-madrid-tetuan-cuatro_caminos-500003933609&amp;amp;imagen=500-img3933609-94697335.jpg\" rel=\"nofollow\" title=\"Foto 500-img3933609-94697335. Piso en calle orense magn&amp;#237;fico piso en la calle orense 28020 en Madrid\"&gt;\n",
       " \t\t\t\t&lt;img title=\"Foto 500-img3933609-94697335. Piso en calle orense magn&amp;#237;fico piso en la calle orense 28020 en Madrid\" src=\"//images.habimg.com/imgh/500-3933609/magnifico-piso-en-la-calle-orense-28020-madrid-madrid_500-img3933609-94697335G.jpg\" alt=\"Foto 500-img3933609-94697335. Piso en calle orense magn&amp;#237;fico piso en la calle orense 28020 en Madrid\" itemprop=\"image\" /&gt;\n",
       " \t\t\t&lt;/a&gt;\n",
       " \t\t&lt;/div&gt;\n",
       " \t\t&lt;div id=\"img12\" class=\"ficha_foto flex-image item n miniaturas\" url=\"https://www.habitaclia.com//foto.htm?p=E-comprar-vivienda-piso-madrid-madrid_capital-1-madrid-tetuan-cuatro_caminos-500003933609&amp;amp;imagen=500-img3933609-94697336.jpg&amp;amp;strPrecio=499.000\"\n",
       " \t\t\t\tdata-w=\"1050\" data-h=\"1400\" data-wide-order=\"12\" data-wide-type=\"img\"&gt;\n",
       " \t\t\t&lt;a style=\"background-image: url('//images.habimg.com/imgh/500-3933609/magnifico-piso-en-la-calle-orense-28020-madrid-madrid_500-img3933609-94697336G.jpg');\" href=\"/foto.htm?p=E-comprar-vivienda-piso-madrid-madrid_capital-1-madrid-tetuan-cuatro_caminos-500003933609&amp;amp;imagen=500-img3933609-94697336.jpg\" rel=\"nofollow\" title=\"Foto 500-img3933609-94697336. Piso en calle orense magn&amp;#237;fico piso en la calle orense 28020 en Madrid\"&gt;\n",
       " \t\t\t\t&lt;img title=\"Foto 500-img3933609-94697336. Piso en calle orense magn&amp;#237;fico piso en la calle orense 28020 en Madrid\" src=\"//images.habimg.com/imgh/500-3933609/magnifico-piso-en-la-calle-orense-28020-madrid-madrid_500-img3933609-94697336G.jpg\" alt=\"Foto 500-img3933609-94697336. Piso en calle orense magn&amp;#237;fico piso en la calle orense 28020 en Madrid\" itemprop=\"image\" /&gt;\n",
       " \t\t\t&lt;/a&gt;\n",
       " \t\t&lt;/div&gt;\n",
       " \t\t&lt;div id=\"img13\" class=\"ficha_foto flex-image item n miniaturas\" url=\"https://www.habitaclia.com//foto.htm?p=E-comprar-vivienda-piso-madrid-madrid_capital-1-madrid-tetuan-cuatro_caminos-500003933609&amp;amp;imagen=500-img3933609-94697337.jpg&amp;amp;strPrecio=499.000\"\n",
       " \t\t\t\tdata-w=\"1050\" data-h=\"1400\" data-wide-order=\"13\" data-wide-type=\"img\"&gt;\n",
       " \t\t\t&lt;a style=\"background-image: url('//images.habimg.com/imgh/500-3933609/magnifico-piso-en-la-calle-orense-28020-madrid-madrid_500-img3933609-94697337G.jpg');\" href=\"/foto.htm?p=E-comprar-vivienda-piso-madrid-madrid_capital-1-madrid-tetuan-cuatro_caminos-500003933609&amp;amp;imagen=500-img3933609-94697337.jpg\" rel=\"nofollow\" title=\"Foto 500-img3933609-94697337. Piso en calle orense magn&amp;#237;fico piso en la calle orense 28020 en Madrid\"&gt;\n",
       " \t\t\t\t&lt;img title=\"Foto 500-img3933609-94697337. Piso en calle orense magn&amp;#237;fico piso en la calle orense 28020 en Madrid\" src=\"//images.habimg.com/imgh/500-3933609/magnifico-piso-en-la-calle-orense-28020-madrid-madrid_500-img3933609-94697337G.jpg\" alt=\"Foto 500-img3933609-94697337. Piso en calle orense magn&amp;#237;fico piso en la calle orense 28020 en Madrid\" itemprop=\"image\" /&gt;\n",
       " \t\t\t&lt;/a&gt;\n",
       " \t\t&lt;/div&gt;\n",
       " \t\t&lt;div id=\"img14\" class=\"ficha_foto flex-image item n miniaturas\" url=\"https://www.habitaclia.com//foto.htm?p=E-comprar-vivienda-piso-madrid-madrid_capital-1-madrid-tetuan-cuatro_caminos-500003933609&amp;amp;imagen=500-img3933609-94697338.jpg&amp;amp;strPrecio=499.000\"\n",
       " \t\t\t\tdata-w=\"1050\" data-h=\"1400\" data-wide-order=\"14\" data-wide-type=\"img\"&gt;\n",
       " \t\t\t&lt;a style=\"background-image: url('//images.habimg.com/imgh/500-3933609/magnifico-piso-en-la-calle-orense-28020-madrid-madrid_500-img3933609-94697338G.jpg');\" href=\"/foto.htm?p=E-comprar-vivienda-piso-madrid-madrid_capital-1-madrid-tetuan-cuatro_caminos-500003933609&amp;amp;imagen=500-img3933609-94697338.jpg\" rel=\"nofollow\" title=\"Foto 500-img3933609-94697338. Piso en calle orense magn&amp;#237;fico piso en la calle orense 28020 en Madrid\"&gt;\n",
       " \t\t\t\t&lt;img title=\"Foto 500-img3933609-94697338. Piso en calle orense magn&amp;#237;fico piso en la calle orense 28020 en Madrid\" src=\"//images.habimg.com/imgh/500-3933609/magnifico-piso-en-la-calle-orense-28020-madrid-madrid_500-img3933609-94697338G.jpg\" alt=\"Foto 500-img3933609-94697338. Piso en calle orense magn&amp;#237;fico piso en la calle orense 28020 en Madrid\" itemprop=\"image\" /&gt;\n",
       " \t\t\t&lt;/a&gt;\n",
       " \t\t&lt;/div&gt;\n",
       " \t\t&lt;div id=\"img15\" class=\"ficha_foto flex-image item n miniaturas\" url=\"https://www.habitaclia.com//foto.htm?p=E-comprar-vivienda-piso-madrid-madrid_capital-1-madrid-tetuan-cuatro_caminos-500003933609&amp;amp;imagen=500-img3933609-94697339.jpg&amp;amp;strPrecio=499.000\"\n",
       " \t\t\t\tdata-w=\"1400\" data-h=\"1050\" data-wide-order=\"15\" data-wide-type=\"img\"&gt;\n",
       " \t\t\t&lt;a style=\"background-image: url('//images.habimg.com/imgh/500-3933609/magnifico-piso-en-la-calle-orense-28020-madrid-madrid_500-img3933609-94697339G.jpg');\" href=\"/foto.htm?p=E-comprar-vivienda-piso-madrid-madrid_capital-1-madrid-tetuan-cuatro_caminos-500003933609&amp;amp;imagen=500-img3933609-94697339.jpg\" rel=\"nofollow\" title=\"Foto 500-img3933609-94697339. Piso en calle orense magn&amp;#237;fico piso en la calle orense 28020 en Madrid\"&gt;\n",
       " \t\t\t\t&lt;img title=\"Foto 500-img3933609-94697339. Piso en calle orense magn&amp;#237;fico piso en la calle orense 28020 en Madrid\" src=\"//images.habimg.com/imgh/500-3933609/magnifico-piso-en-la-calle-orense-28020-madrid-madrid_500-img3933609-94697339G.jpg\" alt=\"Foto 500-img3933609-94697339. Piso en calle orense magn&amp;#237;fico piso en la calle orense 28020 en Madrid\" itemprop=\"image\" /&gt;\n",
       " \t\t\t&lt;/a&gt;\n",
       " \t\t&lt;/div&gt;\n",
       " \t\t&lt;div id=\"img16\" class=\"ficha_foto flex-image item n miniaturas\" url=\"https://www.habitaclia.com//foto.htm?p=E-comprar-vivienda-piso-madrid-madrid_capital-1-madrid-tetuan-cuatro_caminos-500003933609&amp;amp;imagen=500-img3933609-94697340.jpg&amp;amp;strPrecio=499.000\"\n",
       " \t\t\t\tdata-w=\"1400\" data-h=\"1050\" data-wide-order=\"16\" data-wide-type=\"img\"&gt;\n",
       " \t\t\t&lt;a style=\"background-image: url('//images.habimg.com/imgh/500-3933609/magnifico-piso-en-la-calle-orense-28020-madrid-madrid_500-img3933609-94697340G.jpg');\" href=\"/foto.htm?p=E-comprar-vivienda-piso-madrid-madrid_capital-1-madrid-tetuan-cuatro_caminos-500003933609&amp;amp;imagen=500-img3933609-94697340.jpg\" rel=\"nofollow\" title=\"Foto 500-img3933609-94697340. Piso en calle orense magn&amp;#237;fico piso en la calle orense 28020 en Madrid\"&gt;\n",
       " \t\t\t\t&lt;img title=\"Foto 500-img3933609-94697340. Piso en calle orense magn&amp;#237;fico piso en la calle orense 28020 en Madrid\" src=\"//images.habimg.com/imgh/500-3933609/magnifico-piso-en-la-calle-orense-28020-madrid-madrid_500-img3933609-94697340G.jpg\" alt=\"Foto 500-img3933609-94697340. Piso en calle orense magn&amp;#237;fico piso en la calle orense 28020 en Madrid\" itemprop=\"image\" /&gt;\n",
       " \t\t\t&lt;/a&gt;\n",
       " \t\t&lt;/div&gt;\n",
       " \t\t&lt;div id=\"img17\" class=\"ficha_foto flex-image item n miniaturas\" url=\"https://www.habitaclia.com//foto.htm?p=E-comprar-vivienda-piso-madrid-madrid_capital-1-madrid-tetuan-cuatro_caminos-500003933609&amp;amp;imagen=500-img3933609-94697341.jpg&amp;amp;strPrecio=499.000\"\n",
       " \t\t\t\tdata-w=\"1050\" data-h=\"1400\" data-wide-order=\"17\" data-wide-type=\"img\"&gt;\n",
       " \t\t\t&lt;a style=\"background-image: url('//images.habimg.com/imgh/500-3933609/magnifico-piso-en-la-calle-orense-28020-madrid-madrid_500-img3933609-94697341G.jpg');\" href=\"/foto.htm?p=E-comprar-vivienda-piso-madrid-madrid_capital-1-madrid-tetuan-cuatro_caminos-500003933609&amp;amp;imagen=500-img3933609-94697341.jpg\" rel=\"nofollow\" title=\"Foto 500-img3933609-94697341. Piso en calle orense magn&amp;#237;fico piso en la calle orense 28020 en Madrid\"&gt;\n",
       " \t\t\t\t&lt;img title=\"Foto 500-img3933609-94697341. Piso en calle orense magn&amp;#237;fico piso en la calle orense 28020 en Madrid\" src=\"//images.habimg.com/imgh/500-3933609/magnifico-piso-en-la-calle-orense-28020-madrid-madrid_500-img3933609-94697341G.jpg\" alt=\"Foto 500-img3933609-94697341. Piso en calle orense magn&amp;#237;fico piso en la calle orense 28020 en Madrid\" itemprop=\"image\" /&gt;\n",
       " \t\t\t&lt;/a&gt;\n",
       " \t\t&lt;/div&gt;\n",
       " \t\t&lt;div id=\"img18\" class=\"ficha_foto flex-image item n miniaturas\" url=\"https://www.habitaclia.com//foto.htm?p=E-comprar-vivienda-piso-madrid-madrid_capital-1-madrid-tetuan-cuatro_caminos-500003933609&amp;amp;imagen=500-img3933609-94697342.jpg&amp;amp;strPrecio=499.000\"\n",
       " \t\t\t\tdata-w=\"1050\" data-h=\"1400\" data-wide-order=\"18\" data-wide-type=\"img\"&gt;\n",
       " \t\t\t&lt;a style=\"background-image: url('//images.habimg.com/imgh/500-3933609/magnifico-piso-en-la-calle-orense-28020-madrid-madrid_500-img3933609-94697342G.jpg');\" href=\"/foto.htm?p=E-comprar-vivienda-piso-madrid-madrid_capital-1-madrid-tetuan-cuatro_caminos-500003933609&amp;amp;imagen=500-img3933609-94697342.jpg\" rel=\"nofollow\" title=\"Foto 500-img3933609-94697342. Piso en calle orense magn&amp;#237;fico piso en la calle orense 28020 en Madrid\"&gt;\n",
       " \t\t\t\t&lt;img title=\"Foto 500-img3933609-94697342. Piso en calle orense magn&amp;#237;fico piso en la calle orense 28020 en Madrid\" src=\"//images.habimg.com/imgh/500-3933609/magnifico-piso-en-la-calle-orense-28020-madrid-madrid_500-img3933609-94697342G.jpg\" alt=\"Foto 500-img3933609-94697342. Piso en calle orense magn&amp;#237;fico piso en la calle orense 28020 en Madrid\" itemprop=\"image\" /&gt;\n",
       " \t\t\t&lt;/a&gt;\n",
       " \t\t&lt;/div&gt;\n",
       " \n",
       " \n",
       " \n",
       " \n",
       "             &lt;/div&gt;\n",
       "             &lt;div class=\"gallery-other-btn\"&gt;\n",
       "                     &lt;a class=\"button button-light\" id=\"js-all-img\" href=\"#fotosficha\"&gt;&lt;span class=\"\"&gt;Ver las&lt;/span&gt;&lt;span class=\"numero-fotos\"&gt; 19&lt;/span&gt;&lt;span class=\"texto-bottom\"&gt; fotos del inmueble&lt;/span&gt;&lt;/a&gt;            &lt;/div&gt;\n",
       " \n",
       "         &lt;/section&gt;\n",
       "             &lt;aside class=\"ads w-100 ads-content-960\"&gt;\n",
       "             &lt;div class=\"ads-tag bg-white\"&gt;Publicidad&lt;/div&gt;\n",
       "             &lt;div class=\"ads-content bg-white\"&gt;\n",
       "                 &lt;div id=\"ficha_middle_1_960x90\" class=\"max-1440 padding-y\"&gt;&lt;/div&gt;\n",
       "                 &lt;script &gt;\n",
       "                     googletag.cmd.push(function () {\n",
       "                         googletag.display(\"ficha_middle_1_960x90\");\n",
       "                     });\n",
       "                 &lt;/script&gt;\n",
       "             &lt;/div&gt;\n",
       "         &lt;/aside&gt;\n",
       "     &lt;section id=\"js-map\" class=\"map \"&gt;\n",
       "         &lt;div class=\"max-1440 padding-y\"&gt;\n",
       "                     &lt;article class=\"has-aside f-left\"&gt;\n",
       "                         &lt;h2&gt;Ubicaci&amp;#243;n&lt;/h2&gt;\n",
       "                                 &lt;h4 class=\"address\"&gt;\n",
       "                                     &lt;svg class=\"ico ico-orange ico-xs\" role=\"presentation\"&gt;\n",
       "                                         &lt;use xlink:href=\"//www.habitaclia.com/dotnet/content/icon/dist/src_504911268000000000.svg#ico-location-orange\" /&gt;\n",
       "                                     &lt;/svg&gt;\n",
       "                                     Cuatro Caminos Calle Orense, 43\n",
       "                                 &lt;/h4&gt;\n",
       " \n",
       "                         &lt;input type=\"hidden\" name=\"bolMapaDinamic\" id=\"bolMapaDinamic\" value=\"0\" /&gt;\n",
       "                         &lt;div id=\"googlemap\" class=\"map-box\"&gt;\n",
       "                                 &lt;div id=\"menumap\"&gt;\n",
       "                                     &lt;button id=\"js-btn-mapa\" type=\"button\" class=\"button-transparent line-bottom f-left selected\"&gt;Mapa&lt;/button&gt;\n",
       "                                     &lt;button id=\"js-btn-streetview\" type=\"button\" class=\"button-transparent line-bottom f-left\"&gt;Vista de la calle&lt;/button&gt;\n",
       "                                 &lt;/div&gt;\n",
       "                             &lt;div class=\"map-help f-right\"&gt;Navega por el mapa haciendo clic sobre &amp;#233;l&lt;/div&gt;\n",
       "                             &lt;div id=\"streetview\" class=\"map-image hide-none\"&gt;&lt;/div&gt;\n",
       "                             &lt;div id=\"mapa\" class=\"map-image\"&gt;\n",
       "                                 &lt;img width=\"100%\" id=\"gmapimage\" src=\"//static11.habimg.com/imgh/500-3933609/imgv2-gmaps-3933609_9063.gif\" /&gt;\n",
       "                             &lt;/div&gt;\n",
       "                             &lt;div id=\"ir-vista-mapa\" class=\"map-more\"&gt;\n",
       "                                 &lt;a id=\"js-map-more-btn\" href=\"https://www.habitaclia.com/comprar-piso-en-madrid-zona_cuatro_caminos/provincia_madrid-madrid_capital-area_1/vivienda/vistamapa.htm\" rel=\"nofollow\" id=\"jqlnkmapaview\"&gt;\n",
       "                                     Ver m&amp;#225;s anuncios de la zona\n",
       "                                 &lt;/a&gt;\n",
       "                             &lt;/div&gt;\n",
       "                             &lt;div id=\"gMapHelp\" class=\"map-legal\"&gt;\n",
       "                                 habitaclia.com no se responsabiliza de los errores que la informaci&amp;#243;n mostrada en este mapa pueda contener. El usuario ser&amp;#225; el responsable del uso que d&amp;#233; a dicha informaci&amp;#243;n.\n",
       "                             &lt;/div&gt;\n",
       "                         &lt;/div&gt;\n",
       "                     &lt;/article&gt;                    &lt;article class=\"map-price has-aside f-left\"&gt;\n",
       "                         &lt;h4 class=\"hidden\"&gt;Datos comparativos&lt;/h4&gt;\n",
       " \n",
       "                         &lt;div class=\"round-block\"&gt;\n",
       "                             &lt;div class=\"bg-white round-100 f-left\"&gt;499.000 € &lt;span&gt;Precio del anuncio&lt;/span&gt; &lt;/div&gt;\n",
       "                             &lt;div class=\"bg-white round-100 f-left\"&gt;3.304 €/m&lt;sup&gt;2&lt;/sup&gt;&lt;span&gt;€/m&lt;sup&gt;2&lt;/sup&gt; distrito&lt;/span&gt;&lt;/div&gt;\n",
       "                             &lt;div class=\"bg-white round-100 f-left\"&gt;4.229 €/m&lt;sup&gt;2&lt;/sup&gt;&lt;span&gt;€/m&lt;sup&gt;2&lt;/sup&gt; del anuncio&lt;/span&gt;&lt;/div&gt;\n",
       " \n",
       "                         &lt;/div&gt;\n",
       "                             &lt;div id=\"js-counteroffer\" class=\"map-counteroffer\"&gt;\n",
       "                                 &lt;span class=\"title\"&gt;&amp;#191;Cuanto te gustar&amp;#237;a pagar?&lt;/span&gt;\n",
       "                                 &lt;input type=\"text\" id=\"js-counteroffer-offer\" class=\"f-left\" name=\"contraofertaValue\" size=\"10\" maxlength=\"10\" value=\"499.000 €\" /&gt;\n",
       "                                 &lt;input type=\"submit\" class=\"f-left counteroffer-btn\" value=\"Contactar\" /&gt;\n",
       "                                 &lt;label for=\"js-counteroffer-offer\" id=\"js-counteroffer-error\" class=\"map-counteroffer-error hide-none\"&gt;\n",
       "                                     Tu contraoferta es mayor que el precio del anuncio\n",
       "                                 &lt;/label&gt;\n",
       "                                 &lt;label for=\"js-counteroffer-offer\" id=\"js-counteroffer-error-down\" class=\"map-counteroffer-error hide-none\"&gt;\n",
       "                                     Tu contraoferta es un poco baja, &amp;#191;no crees?\n",
       "                                 &lt;/label&gt;\n",
       "                             &lt;/div&gt;\n",
       "                         &lt;div&gt;\n",
       "                             &lt;a href=\"https://www.habitaclia.com/informes/precio-medio-viviendas-distrito_tetuan-madrid.htm\"  alt=\"Evoluci&amp;#243;n precio pisos en venta en Madrid (Tetu&amp;#225;n)\" title=\"Evoluci&amp;#243;n precio pisos en venta en Madrid (Tetu&amp;#225;n)\" class=\"evolucion_m2\"&gt;\n",
       "                                 &lt;svg class=\"ico ico-orange ico-xs\" role=\"presentation\"&gt;\n",
       "                                     &lt;use xlink:href=\"//www.habitaclia.com/dotnet/content/icon/dist/src_504911268000000000.svg#ico-calendar-statistics\" /&gt;\n",
       "                                 &lt;/svg&gt;\n",
       "                                 Ver evoluci&amp;#243;n €/m2  en  Madrid (Tetu&amp;#225;n)\n",
       "                             &lt;/a&gt;\n",
       "                             &lt;button class=\"js-calc-hipoteca-bottom button-transparent padding-x\" title=\"Calcular hipoteca\"&gt;\n",
       "                                 &lt;svg role=\"presentation\" class=\"ico ico-orange ico-xs\"&gt;\n",
       "                                     &lt;use xlink:href=\"//www.habitaclia.com/dotnet/content/icon/dist/src_504911268000000000.svg#ico-calculator\" /&gt;\n",
       "                                 &lt;/svg&gt;\n",
       "                                 &lt;span&gt;Calcular hipoteca&lt;/span&gt;\n",
       "                             &lt;/button&gt;\n",
       "                         &lt;/div&gt;\n",
       "                         &lt;div class=\"map-legal\"&gt;\n",
       "                             &lt;span&gt;*&lt;/span&gt;\n",
       "                             En el precio del inmueble influyen muchos factores que pueden explicar las variaciones respecto del precio medio: la ubicaci&amp;#243;n dentro de la poblaci&amp;#243;n, su orientaci&amp;#243;n, el estado de conservaci&amp;#243;n, las calidades constructivas, los equipamientos, ...\n",
       "                         &lt;/div&gt;\n",
       " \n",
       " \n",
       "                     &lt;/article&gt;            &lt;aside id=\"js-map-similar\" class=\"similar w-300px\"&gt;\n",
       "                     &lt;div class=\"title\"&gt;Anuncios en la zona&lt;/div&gt;\n",
       "                     &lt;div class=\"sim-container sim-container-map\"&gt;\n",
       " \n",
       "                         &lt;ul class=\"sim-full\"&gt;\n",
       " \n",
       " \n",
       " \n",
       " &lt;li  data-gtmname=\"comprar-vivienda-madrid\" data-gtmid=\"16140000000704\" data-gtmbrand=\"16140-1-GILMAR ORENSE D\" data-gtmprice=\"570000\" data-gtmcategory=\"comprar-vivienda/piso/madrid/madrid_capital/madrid\" data-gtmvariant=\"tetuan-cuatro_caminos\" data-gtmlist=\"ficha-anuncios_en_zona\" data-gtmposition=\"1\"  data-gtmurl=\"https://www.habitaclia.com/comprar-piso-en_venta_en_castellana_orense-madrid-i16140000000704.htm?lo=64\" data-url=\"https://www.habitaclia.com/comprar-piso-en_venta_en_castellana_orense-madrid-i16140000000704.htm?lo=64\" data-target=\"_self\" class=\"sim-item gtmproductclick gtmlistproductview\"&gt;\n",
       "     &lt;div class=\"sim-img\"&gt;\n",
       "         &lt;img class=\"loadImg\" name=\"//images.habimg.com/imgh/16140-704/piso-en-venta-en-castellana-orense------madrid_16140-img704-89386611.jpg\" src=\"//images.habimg.com/imgh/16140-704/piso-en-venta-en-castellana-orense------madrid_16140-img704-89386611.jpg\" alt=\"Piso en Cuatro Caminos\" title=\"Piso en Cuatro Caminos\" /&gt;\n",
       "     &lt;/div&gt;\n",
       "     &lt;div class=\"sim-desc\"&gt;\n",
       "         &lt;h5 class=\"text-ellipsis\"&gt;&lt;a href=\"https://www.habitaclia.com/comprar-piso-en_venta_en_castellana_orense-madrid-i16140000000704.htm?lo=64\" rel=\"nofollow\" title=\"Piso en Madrid\" data-url=\"https://www.habitaclia.com/comprar-piso-en_venta_en_castellana_orense-madrid-i16140000000704.htm?lo=64\" data-target=\"_self\" &gt;Piso en Madrid&lt;/a&gt;&lt;/h5&gt;\n",
       "         &lt;span class=\"sim-info sim-location\"&gt;Cuatro Caminos Madrid&lt;/span&gt;\n",
       "         &lt;span class=\"sim-info\"&gt; \n",
       " 106 m&lt;sup&gt;2&lt;/sup&gt;\n",
       " \n",
       " 2 hab\n",
       "             \n",
       "         &lt;/span&gt;\n",
       "         &lt;span class=\"sim-info sim-price\"&gt;\n",
       "                 570.000 €\n",
       "         &lt;/span&gt;\n",
       "     &lt;/div&gt;\n",
       " &lt;/li&gt;\n",
       " &lt;li  data-gtmname=\"comprar-vivienda-madrid\" data-gtmid=\"16140000000491\" data-gtmbrand=\"16140-1-GILMAR ORENSE D\" data-gtmprice=\"550000\" data-gtmcategory=\"comprar-vivienda/piso/madrid/madrid_capital/madrid\" data-gtmvariant=\"tetuan-cuatro_caminos\" data-gtmlist=\"ficha-anuncios_en_zona\" data-gtmposition=\"2\"  data-gtmurl=\"https://www.habitaclia.com/comprar-piso-en_venta_en_castellana_orense-madrid-i16140000000491.htm?lo=64\" data-url=\"https://www.habitaclia.com/comprar-piso-en_venta_en_castellana_orense-madrid-i16140000000491.htm?lo=64\" data-target=\"_self\" class=\"sim-item gtmproductclick gtmlistproductview\"&gt;\n",
       "     &lt;div class=\"sim-img\"&gt;\n",
       "         &lt;img class=\"loadImg\" name=\"//images.habimg.com/imgh/16140-491/piso-en-venta-en-castellana-orense------madrid_16140-img491-84452072.jpg\" src=\"//images.habimg.com/imgh/16140-491/piso-en-venta-en-castellana-orense------madrid_16140-img491-84452072.jpg\" alt=\"Piso en Cuatro Caminos\" title=\"Piso en Cuatro Caminos\" /&gt;\n",
       "     &lt;/div&gt;\n",
       "     &lt;div class=\"sim-desc\"&gt;\n",
       "         &lt;h5 class=\"text-ellipsis\"&gt;&lt;a href=\"https://www.habitaclia.com/comprar-piso-en_venta_en_castellana_orense-madrid-i16140000000491.htm?lo=64\" rel=\"nofollow\" title=\"Piso en Madrid\" data-url=\"https://www.habitaclia.com/comprar-piso-en_venta_en_castellana_orense-madrid-i16140000000491.htm?lo=64\" data-target=\"_self\" &gt;Piso en Madrid&lt;/a&gt;&lt;/h5&gt;\n",
       "         &lt;span class=\"sim-info sim-location\"&gt;Cuatro Caminos Madrid&lt;/span&gt;\n",
       "         &lt;span class=\"sim-info\"&gt; \n",
       " 120 m&lt;sup&gt;2&lt;/sup&gt;\n",
       " \n",
       " 4 hab\n",
       "             \n",
       "         &lt;/span&gt;\n",
       "         &lt;span class=\"sim-info sim-price\"&gt;\n",
       "                 550.000 €\n",
       "         &lt;/span&gt;\n",
       "     &lt;/div&gt;\n",
       " &lt;/li&gt;\n",
       " &lt;li  data-gtmname=\"comprar-vivienda-madrid\" data-gtmid=\"15716000001437\" data-gtmbrand=\"15716-1-Unica Inmobiliaria\" data-gtmprice=\"550000\" data-gtmcategory=\"comprar-vivienda/piso/madrid/madrid_capital/madrid\" data-gtmvariant=\"tetuan-cuatro_caminos\" data-gtmlist=\"ficha-anuncios_en_zona\" data-gtmposition=\"3\"  data-gtmurl=\"https://www.habitaclia.com/comprar-piso-con_3_habitaciones_con_ascensor_calefaccion_y_aire_acondic-madrid-i15716000001437.htm?lo=64\" data-url=\"https://www.habitaclia.com/comprar-piso-con_3_habitaciones_con_ascensor_calefaccion_y_aire_acondic-madrid-i15716000001437.htm?lo=64\" data-target=\"_self\" class=\"sim-item gtmproductclick gtmlistproductview\"&gt;\n",
       "     &lt;div class=\"sim-img\"&gt;\n",
       "         &lt;img class=\"loadImg\" name=\"//images.habimg.com/imgh/15716-1437/piso-con-3-habitaciones-con-ascensor-calefaccion-y-aire-acondic-madrid_15716-img1437-35973676.jpg\" src=\"//images.habimg.com/imgh/15716-1437/piso-con-3-habitaciones-con-ascensor-calefaccion-y-aire-acondic-madrid_15716-img1437-35973676.jpg\" alt=\"Piso en Cuatro Caminos\" title=\"Piso en Cuatro Caminos\" /&gt;\n",
       "     &lt;/div&gt;\n",
       "     &lt;div class=\"sim-desc\"&gt;\n",
       "         &lt;h5 class=\"text-ellipsis\"&gt;&lt;a href=\"https://www.habitaclia.com/comprar-piso-con_3_habitaciones_con_ascensor_calefaccion_y_aire_acondic-madrid-i15716000001437.htm?lo=64\" rel=\"nofollow\" title=\"Piso en Madrid\" data-url=\"https://www.habitaclia.com/comprar-piso-con_3_habitaciones_con_ascensor_calefaccion_y_aire_acondic-madrid-i15716000001437.htm?lo=64\" data-target=\"_self\" &gt;Piso en Madrid&lt;/a&gt;&lt;/h5&gt;\n",
       "         &lt;span class=\"sim-info sim-location\"&gt;Cuatro Caminos Madrid&lt;/span&gt;\n",
       "         &lt;span class=\"sim-info\"&gt; \n",
       " 111 m&lt;sup&gt;2&lt;/sup&gt;\n",
       " \n",
       " 3 hab\n",
       "             \n",
       "         &lt;/span&gt;\n",
       "         &lt;span class=\"sim-info sim-price\"&gt;\n",
       "                 550.000 €\n",
       "         &lt;/span&gt;\n",
       "     &lt;/div&gt;\n",
       " &lt;/li&gt;\n",
       " &lt;li  data-gtmname=\"comprar-vivienda-madrid\" data-gtmid=\"3566004052649\" data-gtmbrand=\"3566-17-Select Servicers by Home Group Madrid\" data-gtmprice=\"500000\" data-gtmcategory=\"comprar-vivienda/piso/madrid/madrid_capital/madrid\" data-gtmvariant=\"tetuan-cuatro_caminos\" data-gtmlist=\"ficha-anuncios_en_zona\" data-gtmposition=\"4\"  data-gtmurl=\"https://www.habitaclia.com/comprar-piso-en_venta_en-madrid-i3566004052649.htm?lo=64\" data-url=\"https://www.habitaclia.com/comprar-piso-en_venta_en-madrid-i3566004052649.htm?lo=64\" data-target=\"_self\" class=\"sim-item gtmproductclick gtmlistproductview\"&gt;\n",
       "     &lt;div class=\"sim-img\"&gt;\n",
       "         &lt;img class=\"loadImg\" name=\"//images.habimg.com/imgh/3566-4052649/piso-en-venta-en-madrid-------madrid_3566-img4052649-12917.jpg\" src=\"//images.habimg.com/imgh/3566-4052649/piso-en-venta-en-madrid-------madrid_3566-img4052649-12917.jpg\" alt=\"Piso en Cuatro Caminos\" title=\"Piso en Cuatro Caminos\" /&gt;\n",
       "     &lt;/div&gt;\n",
       "     &lt;div class=\"sim-desc\"&gt;\n",
       "         &lt;h5 class=\"text-ellipsis\"&gt;&lt;a href=\"https://www.habitaclia.com/comprar-piso-en_venta_en-madrid-i3566004052649.htm?lo=64\" rel=\"nofollow\" title=\"Piso en Madrid\" data-url=\"https://www.habitaclia.com/comprar-piso-en_venta_en-madrid-i3566004052649.htm?lo=64\" data-target=\"_self\" &gt;Piso en Madrid&lt;/a&gt;&lt;/h5&gt;\n",
       "         &lt;span class=\"sim-info sim-location\"&gt;Cuatro Caminos Madrid&lt;/span&gt;\n",
       "         &lt;span class=\"sim-info\"&gt; \n",
       " 101 m&lt;sup&gt;2&lt;/sup&gt;\n",
       " \n",
       " 4 hab\n",
       "             \n",
       "         &lt;/span&gt;\n",
       "         &lt;span class=\"sim-info sim-price\"&gt;\n",
       "                 500.000 €\n",
       "         &lt;/span&gt;\n",
       "     &lt;/div&gt;\n",
       " &lt;/li&gt;\n",
       " &lt;li  data-gtmname=\"comprar-vivienda-madrid\" data-gtmid=\"16140000000132-premium\" data-gtmbrand=\"16140-1-GILMAR ORENSE D\" data-gtmprice=\"485000\" data-gtmcategory=\"comprar-vivienda/piso/madrid/madrid_capital/madrid\" data-gtmvariant=\"tetuan-cuatro_caminos\" data-gtmlist=\"ficha-anuncios_en_zona\" data-gtmposition=\"5\"  data-gtmurl=\"https://www.habitaclia.com/comprar-piso-en_venta_en_castellana_orense-madrid-i16140000000132.htm?lo=64\" data-url=\"https://www.habitaclia.com/comprar-piso-en_venta_en_castellana_orense-madrid-i16140000000132.htm?lo=64\" data-target=\"_self\" class=\"sim-item gtmproductclick gtmlistproductview\"&gt;\n",
       "     &lt;div class=\"sim-img\"&gt;\n",
       "         &lt;img class=\"loadImg\" name=\"//images.habimg.com/imgh/16140-132/piso-en-venta-en-castellana-orense------madrid_16140-img132-97269692.jpg\" src=\"//images.habimg.com/imgh/16140-132/piso-en-venta-en-castellana-orense------madrid_16140-img132-97269692.jpg\" alt=\"Piso en Cuatro Caminos\" title=\"Piso en Cuatro Caminos\" /&gt;\n",
       "     &lt;/div&gt;\n",
       "     &lt;div class=\"sim-desc\"&gt;\n",
       "         &lt;h5 class=\"text-ellipsis\"&gt;&lt;a href=\"https://www.habitaclia.com/comprar-piso-en_venta_en_castellana_orense-madrid-i16140000000132.htm?lo=64\" rel=\"nofollow\" title=\"Piso en Madrid\" data-url=\"https://www.habitaclia.com/comprar-piso-en_venta_en_castellana_orense-madrid-i16140000000132.htm?lo=64\" data-target=\"_self\" &gt;Piso en Madrid&lt;/a&gt;&lt;/h5&gt;\n",
       "         &lt;span class=\"sim-info sim-location\"&gt;Cuatro Caminos Madrid&lt;/span&gt;\n",
       "         &lt;span class=\"sim-info\"&gt; \n",
       " 60 m&lt;sup&gt;2&lt;/sup&gt;\n",
       " \n",
       " 2 hab\n",
       "             \n",
       "         &lt;/span&gt;\n",
       "         &lt;span class=\"sim-info sim-price\"&gt;\n",
       "                 485.000 €\n",
       "         &lt;/span&gt;\n",
       "     &lt;/div&gt;\n",
       " &lt;/li&gt;\n",
       " &lt;li  data-gtmname=\"comprar-vivienda-madrid\" data-gtmid=\"28396000159387-premium\" data-gtmbrand=\"28396-2-Aliseda\" data-gtmprice=\"515920\" data-gtmcategory=\"comprar-vivienda/piso/madrid/madrid_capital/madrid\" data-gtmvariant=\"tetuan-cuatro_caminos\" data-gtmlist=\"ficha-anuncios_en_zona\" data-gtmposition=\"6\"  data-gtmurl=\"https://www.habitaclia.com/comprar-piso-don_quijote_0-madrid-i28396000159387.htm?lo=64\" data-url=\"https://www.habitaclia.com/comprar-piso-don_quijote_0-madrid-i28396000159387.htm?lo=64\" data-target=\"_self\" class=\"sim-item gtmproductclick gtmlistproductview\"&gt;\n",
       "     &lt;div class=\"sim-img\"&gt;\n",
       "         &lt;img class=\"loadImg\" name=\"//images.habimg.com/imgh/28396-159387/don-quijote-0-piso-madrid_28396-img159387-118384647.jpg\" src=\"//images.habimg.com/imgh/28396-159387/don-quijote-0-piso-madrid_28396-img159387-118384647.jpg\" alt=\"Piso en DON QUIJOTE 0\" title=\"Piso en DON QUIJOTE 0\" /&gt;\n",
       "     &lt;/div&gt;\n",
       "     &lt;div class=\"sim-desc\"&gt;\n",
       "         &lt;h5 class=\"text-ellipsis\"&gt;&lt;a href=\"https://www.habitaclia.com/comprar-piso-don_quijote_0-madrid-i28396000159387.htm?lo=64\" rel=\"nofollow\" title=\"Piso en Madrid\" data-url=\"https://www.habitaclia.com/comprar-piso-don_quijote_0-madrid-i28396000159387.htm?lo=64\" data-target=\"_self\" &gt;Piso en Madrid&lt;/a&gt;&lt;/h5&gt;\n",
       "         &lt;span class=\"sim-info sim-location\"&gt;Cuatro Caminos Madrid&lt;/span&gt;\n",
       "         &lt;span class=\"sim-info\"&gt; \n",
       " 149 m&lt;sup&gt;2&lt;/sup&gt;\n",
       " \n",
       " 4 hab\n",
       "             \n",
       "         &lt;/span&gt;\n",
       "         &lt;span class=\"sim-info sim-price\"&gt;\n",
       "                 515.920 €\n",
       "         &lt;/span&gt;\n",
       "     &lt;/div&gt;\n",
       " &lt;/li&gt;                        &lt;/ul&gt;\n",
       "                         &lt;a id=\"js-btn-mas-anuncios-zona\" href=\"https://www.habitaclia.com/pisos-cuatro_caminos-madrid.htm\" class=\"f-right\"&gt;\n",
       "                             Ver m&amp;#225;s anuncios en la zona\n",
       "                         &lt;/a&gt;\n",
       "                     &lt;/div&gt;\n",
       "             &lt;/aside&gt;\n",
       "         &lt;/div&gt;\n",
       "     &lt;/section&gt;\n",
       "             &lt;section class=\"alert bg-white padding-y\"&gt;\n",
       "         &lt;div class=\"max-1440\"&gt;\n",
       "             &lt;svg role=\"presentation\" class=\"ico-alert-orange\"&gt;\n",
       "                 &lt;use xlink:href=\"//www.habitaclia.com/dotnet/content/icon/dist/src_504911268000000000.svg#ico-bell-ringing-03\" /&gt;\n",
       "             &lt;/svg&gt;\n",
       "             &lt;div class=\"f-left padding-y\"&gt;\n",
       "                 &lt;span class=\"title\"&gt;&amp;#191;Te avisamos cuando tengamos un anuncio como este?&lt;/span&gt;\n",
       "                 &lt;span class=\"subtitle\"&gt;Crea tu alerta y nosotros te avisaremos por correo electr&amp;#243;nico cuando hayan anuncios nuevos o que sean modificados&lt;/span&gt;\n",
       "             &lt;/div&gt;\n",
       "             &lt;div class=\"f-right padding-y\"&gt;\n",
       "                 &lt;form action=\"#\" id=\"idFormAlerta_3\" name=\"FormAlerta_3\" class=\"frmRegistrarAlerta listado\" method=\"post\"&gt;\n",
       " \n",
       "                         &lt;div id=\"divmailalerta\"&gt;\n",
       "                             &lt;input type=\"text\" id=\"id_email_FormAlerta_3\" name=\"email_FormAlerta_3\" placeholder=\"escribe tu email\" class=\"normal suggestemail\" size=\"41\" maxlength=\"49\" /&gt;\n",
       "                             &lt;input type=\"submit\" value=\"Crear alerta\" class=\"botonblanco botonalerta\" id=\"submitbutton_3\" name=\"submitbutton_3\" /&gt;\n",
       "                             &lt;div id=\"mailalertacheck\" class=\"mailcheck\"&gt;&amp;nbsp;&lt;/div&gt;\n",
       "                         &lt;/div&gt;\n",
       " \n",
       "                     &lt;label for=\"idAlertaSolicitud_3\" class=\"checkbox-text\"&gt;\n",
       "                         &lt;input type=\"checkbox\" value=\"1\" checked=\"checked\" name=\"alertaSolicitud_3\" id=\"idAlertaSolicitud_3\"&gt;\n",
       "                         &lt;span&gt;Recibir aviso si este anuncio cambia o baja de precio&lt;/span&gt;\n",
       "                     &lt;/label&gt;\n",
       "                     &lt;label for=\"idCheckLegal\" class=\"checkbox-text\"&gt;\n",
       "                         &lt;input type=\"checkbox\" class=\"chkbox\" value=\"0\" name=\"avisolegal_3\" id=\"idCheckLegal\"&gt;\n",
       "                         &lt;span&gt;Declaro le&amp;#237;das y aceptadas las condiciones de &lt;a class=\"js-legal-aviso-link\"&gt;Aviso legal&lt;/a&gt; &lt;a class=\"jqLinkAvisoLegalUsuarios\"&gt;y Pol&amp;#237;tica de privacidad&lt;/a&gt;&lt;/span&gt;\n",
       "                     &lt;/label&gt;\n",
       "                     &lt;input type=\"hidden\" id=\"id_p_FormAlerta_3\" name=\"p_FormAlerta_3\" value=\"E-comprar-vivienda-piso-madrid-madrid_capital-1-madrid-tetuan-cuatro_caminos-500003933609\"&gt;\n",
       "                     &lt;input type=\"hidden\" id=\"id_st_FormAlerta_3\" name=\"st_FormAlerta_3\" value=\"\"&gt;\n",
       "                     &lt;input type=\"hidden\" id=\"id_pmax_FormAlerta_3\" name=\"pmax_FormAlerta_3\" value=\"99999999\"&gt;\n",
       "                     &lt;input type=\"hidden\" id=\"id_hab_FormAlerta_3\" name=\"hab_FormAlerta_3\" value=\"99\"&gt;\n",
       "                     &lt;input type=\"hidden\" id=\"id_m2_FormAlerta_3\" name=\"m2_FormAlerta_3\" value=\"0\"&gt;\n",
       "                     &lt;input type=\"hidden\" id=\"id_tip_op_origen_FormAlerta_3\" name=\"tip_op_origen_FormAlerta_3\" value=\"V\"&gt;\n",
       "                     &lt;input type=\"hidden\" id=\"id_tip_op_FormAlerta_3\" name=\"tip_op_FormAlerta_3\" value=\"V\"&gt;\n",
       "                     &lt;input type=\"hidden\" id=\"id_numInm_Formalerta_3\" name=\"numInm_Formalerta_3\" value=\"0\"&gt;\n",
       "                     &lt;input type=\"hidden\" id=\"id_soloON_3\" name=\"soloON_3\" value=\"0\"&gt;\n",
       "                     &lt;input type=\"hidden\" id=\"id_cod_emp_Formalerta_3\" name=\"cod_emp_Formalerta_3\" value=\"500\"&gt;\n",
       "                     &lt;input type=\"hidden\" id=\"id_cod_ofi_Formalerta_3\" name=\"cod_ofi_Formalerta_3\" value=\"459381\"&gt;\n",
       "                     &lt;input type=\"hidden\" id=\"id_cod_inm_Formalerta_3\" name=\"cod_inm_Formalerta_3\" value=\"3933609 \"&gt;\n",
       "                     &lt;input type=\"hidden\" id=\"id_numero\" name=\"numero\" value=\"3\"&gt;\n",
       "                     &lt;input type=\"hidden\" id=\"id_alerta_origen_5\" name=\"alerta_origen\" value=\"5\" /&gt;\n",
       "                 &lt;/form&gt;\n",
       "             &lt;/div&gt;\n",
       "         &lt;/div&gt;\n",
       "     &lt;/section&gt;\n",
       " \n",
       " \n",
       " \n",
       "     &lt;section id=\"js-contact\" class=\"contact\"&gt;\n",
       "         &lt;div class=\"max-1440\"&gt;\n",
       "             \n",
       " \n",
       " &lt;div id=\"solicitud\" class=\"f-right\"&gt;\n",
       "     &lt;div id=\"formularioSolicitudDiv\"&gt;\n",
       "         &lt;h2 id=\"titulo-formDades\"&gt;Contactar Particular&lt;/h2&gt;\n",
       "         &lt;h4 class=\"subtitle\"&gt;Referencia del anuncio habitaclia/3933609                                              :  &lt;/h4&gt;\n",
       "         &lt;form id=\"solicitudesForm\" class=\"gtmproductcheckout\" method=\"post\" action=\"/lead\"  data-gtmname=\"comprar-vivienda-madrid\" data-gtmprice=\"499000\" data-gtmid=\"500003933609\" data-gtmbrand=\"500-0-Particular\" data-gtmcategory=\"comprar-vivienda/piso/madrid/madrid_capital/madrid\" data-gtmvariant=\"tetuan-cuatro_caminos\" &gt;\n",
       "             &lt;div id=\"respuestaSolicitudErronia\"&gt;&lt;/div&gt;\n",
       "             &lt;fieldset&gt;\n",
       "                 &lt;div id=\"js-contact-alert-telephone\" class=\"alert-info hide-none\"&gt;\n",
       "                     &lt;svg role=\"presentation\" class=\"ico ico-orange\"&gt;\n",
       "                         &lt;use xlink:href=\"//www.habitaclia.com/dotnet/content/icon/dist/src_504911268000000000.svg#ico-circle-info\" /&gt;\n",
       "                     &lt;/svg&gt;\n",
       "                     &lt;span&gt;\n",
       "                         &lt;strong&gt;Ver&amp;#225;s el tel&amp;#233;fono&lt;/strong&gt;\n",
       "                         despu&amp;#233;s de enviar tu contacto al anunciante para que te pueda atender.\n",
       "                     &lt;/span&gt;\n",
       "                 &lt;/div&gt;\n",
       "                 &lt;label id=\"etiquetanombre\" for=\"nombre\"&gt;\n",
       "                     &lt;span&gt;Nombre&lt;/span&gt;\n",
       "                     &lt;input class=\"i_nombre\" name=\"nombre\" id=\"Nombre\" maxlength=\"49\" type=\"text\" placeholder=\"Nombre\"&gt;\n",
       "                     &lt;span class=\"error\" id=\"nombreError\"&gt;&lt;/span&gt;\n",
       "                 &lt;/label&gt;\n",
       "                 &lt;label id=\"etiquetatel\" for=\"Telefono\"&gt;\n",
       "                     &lt;span&gt;Tel&amp;#233;fono&lt;/span&gt;\n",
       "                     &lt;input class=\"i_telefono\" type=\"tel\" name=\"telefono_usuario\" id=\"Telefono\" maxlength=\"20\" placeholder=\"Tel&amp;#233;fono\" /&gt;\n",
       "                     &lt;span class=\"error\" id=\"telefonoError\"&gt;&lt;/span&gt;\n",
       "                 &lt;/label&gt;\n",
       "                 &lt;label id=\"etiquetaemail\" for=\"email\"&gt;\n",
       "                     &lt;span class=\"double-space\"&gt;\n",
       "                         Email\n",
       "                         &lt;span class=\"tiny-span\"&gt;recibir&amp;#225;s una copia&lt;/span&gt;\n",
       "                     &lt;/span&gt;\n",
       "                     &lt;input class=\"i_email\" name=\"email\" id=\"Email\" type=\"text\" maxlength=\"49\" placeholder=\"Email\" /&gt;\n",
       "                     &lt;span class=\"error\" id=\"emailError\"&gt;&lt;/span&gt;\n",
       "                     &lt;span class=\"mailcheck\"&gt;&lt;/span&gt;\n",
       "                 &lt;/label&gt;\n",
       "                 &lt;label id=\"etiquetadescripcion\" for=\"descripcion\"&gt;\n",
       "                     &lt;span class=\"double-space\"&gt;\n",
       "                         Comentario\n",
       "                         &lt;span id=\"contador\" class=\"tiny-span\"&gt;&lt;/span&gt;\n",
       "                     &lt;/span&gt;\n",
       "                     &lt;textarea id=\"Mensaje\" name=\"descripcion\" maxlength=\"250\" data-referencia=\"habitaclia/3933609                                              \"&gt;Deseo m&amp;#225;s informaci&amp;#243;n del inmueble con referencia: habitaclia/3933609                                              &lt;/textarea&gt;\n",
       "                 &lt;/label&gt;\n",
       "                     &lt;label id=\"divCaptcha\" class=\"w-100 f-left captcha\"&gt;\n",
       "                         \n",
       " &lt;span class=\"double-space\"&gt;C&amp;#243;digo de seguridad&lt;/span&gt;\n",
       " &lt;input id=\"CaptchaInputText\" maxlength=\"5\" name=\"CaptchaInputText\" type=\"text\" value=\"\" /&gt;&lt;img id=\"CaptchaImage\" src=\"/dotnet/DefaultCaptcha/Generate?t=ee33dc40c3ff416caf26c40221af771f\" /&gt;\n",
       " &lt;input id=\"CaptchaDeText\" name=\"CaptchaDeText\" type=\"hidden\" value=\"ee33dc40c3ff416caf26c40221af771f\" /&gt;  \n",
       "     &lt;a href=\"#\" id=\"reloadCaptcha\" rel=\"nofollow\" &gt;\n",
       "         &lt;svg role=\"presentation\" class=\"ico ico-xs ico-orange\"&gt;\n",
       "             &lt;use xlink:href=\"//www.habitaclia.com/dotnet/content/icon/dist/src_504911268000000000.svg#ico-two-arrows-refresh-03\" /&gt;\n",
       "         &lt;/svg&gt;\n",
       "         Nuevo c&amp;#243;digo\n",
       "     &lt;/a&gt;\n",
       "                         &lt;span class=\"error\" id=\"captchaError\"&gt;&lt;/span&gt;\n",
       "                             &lt;div class=\"note-captcha jq-tooltip\" data-tooltip-content=\"#tooltip-captcha\"&gt;\n",
       "                                 Introduce el c&amp;#243;digo de seguridad mostrado\n",
       "                                 &lt;svg role=\"presentation\" class=\"ico-circle-info ico ico-xs\"&gt;\n",
       "                                     &lt;use xlink:href=\"//www.habitaclia.com/dotnet/content/icon/dist/src_504911268000000000.svg#ico-circle-info\" /&gt;\n",
       "                                 &lt;/svg&gt;\n",
       "                             &lt;/div&gt;\n",
       " \n",
       "                     &lt;/label&gt;\n",
       "                 &lt;div class=\"w-100 f-left contact-options\"&gt;\n",
       "                         &lt;label for=\"recordarDatos\" class=\"recordardatos\" style=\"display: none\"&gt;\n",
       "                             &lt;input class=\"checkbox\" type=\"checkbox\" value=\"1\" name=\"RecordarDatosEnEquipo\" id=\"recordarDatos\" checked&gt;\n",
       "                             &lt;span class=\"tiny-span\"&gt;Recordar mis datos en este equipo&lt;/span&gt;\n",
       "                         &lt;/label&gt;\n",
       "                     &lt;label id=\"idLabelRecibirAlertas\" for=\"alertaSolicitud\" class=\"recordardatos\"&gt;\n",
       "                             &lt;input class=\"checkbox\" type=\"checkbox\" value=\"1\" name=\"alertaSolicitud\" id=\"alertaSolicitud\"&gt;\n",
       "                         &lt;span class=\"tiny-span\"&gt;Acepto recibir anuncios nuevos de esta b&amp;#250;squeda&lt;/span&gt;\n",
       "                     &lt;/label&gt;\n",
       "                     &lt;label id=\"idLabelLegalContactar\" for=\"idCheckLegalContactar\" class=\"checkbox-text\"&gt;\n",
       "                             &lt;input type=\"checkbox\" class=\"chkbox\" value=\"0\" name=\"checkLegalContactar\" id=\"idCheckLegalContactar\"&gt;\n",
       "                         &lt;span class=\"tiny-span\"&gt;Acepto el &lt;a class=\"js-legal-aviso-link\"&gt;aviso legal&lt;/a&gt; &lt;a class=\"jqLinkAvisoLegalUsuarios\"&gt;y pol&amp;#237;tica de privacidad&lt;/a&gt;&lt;/span&gt;\n",
       "                         &lt;span class=\"error error-no-margin\" id=\"legalError\"&gt;&lt;/span&gt;\n",
       "                     &lt;/label&gt;\n",
       "                 &lt;/div&gt;\n",
       "                 &lt;div class=\"w-100 f-left contact-options\"&gt;\n",
       "                     &lt;input type=\"submit\" value=\"Contactar\" class=\"button\" id=\"submitSolicitudes\" /&gt;\n",
       " \n",
       "                     &lt;div class=\"w-100 f-left alert-info\"&gt;\n",
       "                         &lt;svg role=\"presentation\" class=\"ico ico-xs ico-orange\"&gt;\n",
       "                             &lt;use xlink:href=\"//www.habitaclia.com/dotnet/content/icon/dist/src_504911268000000000.svg#ico-circle-info\" /&gt;\n",
       "                         &lt;/svg&gt;\n",
       "                         &lt;span&gt;Ver&amp;#225;s el tel&amp;#233;fono despu&amp;#233;s de contactar&lt;/span&gt;\n",
       "                     &lt;/div&gt;\n",
       "                 &lt;/div&gt;\n",
       "             &lt;/fieldset&gt;\n",
       "             &lt;input type=\"hidden\" id=\"id_alerta_origen\" name=\"alerta_origen\" value=\"1\" /&gt;\n",
       "         &lt;/form&gt;\n",
       "     &lt;/div&gt;\n",
       "     &lt;div id=\"respuestaSolicitud\"&gt;&lt;/div&gt;\n",
       "     &lt;div id=\"LoadingSolicitud\" class=\"contact-loading hide-none\"&gt;\n",
       "         &lt;div class=\"loading\"&gt;\n",
       "             &lt;div class=\"h-top\"&gt;\n",
       "                 &lt;svg role=\"presentation\"&gt;\n",
       "                     &lt;use xlink:href= \"//www.habitaclia.com/dotnet/content/icon/dist/src_504911268000000000.svg#ico-h\" /&gt;\n",
       "                 &lt;/svg&gt;\n",
       "             &lt;/div&gt;\n",
       "             &lt;div class=\"h-rotate\"&gt;\n",
       "                 &lt;svg role=\"presentation\"&gt;\n",
       "                     &lt;use xlink:href= \"//www.habitaclia.com/dotnet/content/icon/dist/src_504911268000000000.svg#ico-smile\" /&gt;\n",
       "                 &lt;/svg&gt;\n",
       "             &lt;/div&gt;\n",
       "         &lt;/div&gt;\n",
       "         &lt;span&gt;Enviando...&lt;/span&gt;\n",
       "     &lt;/div&gt;\n",
       " &lt;/div&gt;\n",
       " &lt;aside class=\"w-300px f-left\"&gt;      \n",
       "             &lt;span class=\"fw-bold w-100\"&gt;Particular&lt;/span&gt;\n",
       "             &lt;span class=\"w-100\"&gt;&lt;/span&gt;\n",
       "             &lt;span id=\"js-datos-finca-ver-telefono\"&gt;\n",
       "                     &lt;a id=\"js-lnk-ver-telefono\" href=\"#vertelefono\" class=\"js-contact-telephone-btn button-grey jq-tooltip\" data-tooltip-content=\"#tooltip-telephone\"&gt;\n",
       "                         &lt;svg role=\"presentation\" class=\"ico ico-xs\"&gt;\n",
       "                             &lt;use xlink:href=\"//www.habitaclia.com/dotnet/content/icon/dist/src_504911268000000000.svg#ico-phone-receiver-02\" /&gt;\n",
       "                         &lt;/svg&gt;\n",
       "                         Ver tel&amp;#233;fono\n",
       "                     &lt;/a&gt;\n",
       "             &lt;/span&gt;\n",
       "             &lt;div id=\"js-datos-finca-telefono\"&gt;\n",
       "             &lt;/div&gt;\n",
       "                     &lt;div class=\"f-left alert-info\"&gt;\n",
       "                 &lt;p&gt;\n",
       "                     Este anunciante particular ha validado su tel&amp;#233;fono.&lt;br /&gt;\n",
       "                     &lt;a href=\"http://www.habitaclia.com/hab_cliente/faq.htm#faq4_5\" target=\"_blank\"&gt;M&amp;#225;s informaci&amp;#243;n&lt;/a&gt;\n",
       "                 &lt;/p&gt;\n",
       "             &lt;/div&gt;\n",
       "                 &lt;/aside&gt;\n",
       " \n",
       " \n",
       "         &lt;/div&gt;\n",
       "     &lt;/section&gt;\n",
       "     &lt;aside id=\"js-respuesta-similares\" class=\"similar aside-sim-horizontal similar-contact\"&gt;&lt;/aside&gt;\n",
       "     &lt;aside id=\"js-report-bottom\" class=\"report max-1440\"&gt;\n",
       "         &lt;svg role=\"presentation\" class=\"flag\"&gt;\n",
       "             &lt;use xlink:href=\"//www.habitaclia.com/dotnet/content/icon/dist/src_504911268000000000.svg#ico-flag-filled\" /&gt;\n",
       "         &lt;/svg&gt;\n",
       "         &amp;#191;Has visto alg&amp;#250;n error en este anuncio?\n",
       "         &lt;button type=\"button\" id=\"js-report-2\" class=\"button-transparent-orange\" title=\"Reportar error\"&gt;Reportar error&lt;/button&gt;\n",
       "     &lt;/aside&gt;\n",
       "     &lt;section id=\"js-nav\" class=\"bg-white nav-bottom margin-y\"&gt;\n",
       "         &lt;div class=\"max-1440\"&gt;\n",
       "                 &lt;a id=\"nav-back\" class=\"nav-back f-left\" href=\"https://www.habitaclia.com/viviendas-distrito_tetuan-madrid.htm?#id500003933609\" title=\"Volver al listado Vivienda Tetu&amp;#225;n\"&gt;\n",
       "                     &lt;svg class=\"ico ico-orange\" role=\"presentation\"&gt;\n",
       "                         &lt;use xlink:href=\"//www.habitaclia.com/dotnet/content/icon/dist/src_504911268000000000.svg#ico-arrow-right-07\" /&gt;\n",
       "                     &lt;/svg&gt;\n",
       "                     Volver al listado Vivienda Tetuán\n",
       "                 &lt;/a&gt;                            &lt;div class=\"nav-detail f-right\"&gt;\n",
       "                     \n",
       "                                             \n",
       " \n",
       "                 &lt;/div&gt;        &lt;/div&gt;\n",
       "     &lt;/section&gt;\n",
       "     &lt;aside class=\"as-nav margin-y\"&gt;\n",
       "         &lt;div id=\"js-nav-keyboard\" class=\"max-1440 margin-y\"&gt;\n",
       "             &lt;div class=\"f-left\"&gt;\n",
       "                 &lt;img src=\"//static11.habimg.com/hab_inmuebles_img/imgv3/ico-teclado.png\" /&gt;\n",
       "             &lt;/div&gt;\n",
       "             &lt;div class=\"f-right\"&gt;\n",
       "                 &lt;div&gt;&amp;#161;Navega con tu teclado, es m&amp;#225;s f&amp;#225;cil!&lt;/div&gt;\n",
       "                 &lt;div class=\"second-content\"&gt;Mu&amp;#233;vete por los anuncios con las flechas de tu teclado.&lt;/div&gt;\n",
       "             &lt;/div&gt;\n",
       "         &lt;/div&gt;\n",
       "     &lt;/aside&gt;\n",
       "         &lt;aside id=\"js-similar-bottom\" class=\"similar aside-sim-horizontal\"&gt;\n",
       "             &lt;h2 class=\"max-1440\"&gt;Tambi&amp;#233;n te pueden interesar&lt;/h2&gt;\n",
       "             &lt;div class=\"sim-container sim-container-horizontal\"&gt;\n",
       "                 &lt;ul class=\"sim-full\"&gt;\n",
       " \n",
       " \n",
       " \n",
       " &lt;li  data-gtmname=\"comprar-vivienda-madrid\" data-gtmid=\"19901000000054\" data-gtmbrand=\"19901-1-ANTONIO VILLUENDAS KW\" data-gtmprice=\"390000\" data-gtmcategory=\"comprar-vivienda/piso/madrid/madrid_capital/madrid\" data-gtmvariant=\"tetuan-cuatro_caminos\" data-gtmlist=\"ficha-anuncios_similares\" data-gtmposition=\"1\"  data-gtmurl=\"https://www.habitaclia.com/comprar-piso-de_ultima_planta_exterior_y_luminoso_de_la_infanta_mercedes_16-madrid-i19901000000054.htm?list=true&amp;amp;lo=63\" data-url=\"https://www.habitaclia.com/comprar-piso-de_ultima_planta_exterior_y_luminoso_de_la_infanta_mercedes_16-madrid-i19901000000054.htm?list=true&amp;amp;lo=63\" data-target=\"_self\" class=\"sim-item gtmproductclick gtmlistproductview\"&gt;\n",
       "     &lt;div class=\"sim-img\"&gt;\n",
       "         &lt;img class=\"loadImg\" name=\"//images.habimg.com/imgh/19901-54/piso-de-ultima-planta-exterior-y-luminoso----madrid_19901-img54-110760650.jpg\" src=\"//images.habimg.com/imgh/19901-54/piso-de-ultima-planta-exterior-y-luminoso----madrid_19901-img54-110760650.jpg\" alt=\"Piso en Calle de la Infanta Mercedes 16\" title=\"Piso en Calle de la Infanta Mercedes 16\" /&gt;\n",
       "     &lt;/div&gt;\n",
       "     &lt;div class=\"sim-desc\"&gt;\n",
       "         &lt;div class=\"ico-media\"&gt;\n",
       "                 &lt;svg role=\"presentation\" class=\"photo\"&gt;\n",
       "                     &lt;use xlink:href=\"//www.habitaclia.com/dotnet/content/icon/dist/src_504911268000000000.svg#ico-two-pictures\" /&gt;\n",
       "                 &lt;/svg&gt;\n",
       "                 &lt;span&gt;27 fotos&lt;/span&gt;\n",
       "                     &lt;/div&gt;\n",
       "         &lt;h5 class=\"text-ellipsis\"&gt;&lt;a href=\"https://www.habitaclia.com/comprar-piso-de_ultima_planta_exterior_y_luminoso_de_la_infanta_mercedes_16-madrid-i19901000000054.htm?list=true&amp;amp;lo=63\" rel=\"nofollow\" title=\"Piso en Madrid\" data-url=\"https://www.habitaclia.com/comprar-piso-de_ultima_planta_exterior_y_luminoso_de_la_infanta_mercedes_16-madrid-i19901000000054.htm?list=true&amp;amp;lo=63\" data-target=\"_self\"&gt;Piso en Madrid&lt;/a&gt;&lt;/h5&gt;\n",
       "         &lt;span class=\"sim-info sim-location\"&gt;Cuatro Caminos Madrid&lt;/span&gt;\n",
       "         &lt;span class=\"sim-info\"&gt;\n",
       "                 99 m&lt;sup&gt;2&lt;/sup&gt;\n",
       " \n",
       "                 3 hab\n",
       "                             &lt;span class=\"sim-rel\"&gt; - 3.939 €/m&lt;sup&gt;2&lt;/sup&gt;&lt;/span&gt;\n",
       "         &lt;/span&gt;\n",
       "         &lt;span class=\"sim-info sim-price\"&gt;\n",
       "             390.000 €\n",
       "         &lt;/span&gt;\n",
       "     &lt;/div&gt;\n",
       " &lt;/li&gt;\n",
       " &lt;li  data-gtmname=\"comprar-vivienda-madrid\" data-gtmid=\"24784000000296\" data-gtmbrand=\"24784-1-INVERMAX HOGARES PARA VIVIR\" data-gtmprice=\"390000\" data-gtmcategory=\"comprar-vivienda/piso/madrid/madrid_capital/madrid\" data-gtmvariant=\"tetuan-cuatro_caminos\" data-gtmlist=\"ficha-anuncios_similares\" data-gtmposition=\"1\"  data-gtmurl=\"https://www.habitaclia.com/comprar-piso-vivienda_de_julian_besteiro-madrid-i24784000000296.htm?list=true&amp;amp;lo=63\" data-url=\"https://www.habitaclia.com/comprar-piso-vivienda_de_julian_besteiro-madrid-i24784000000296.htm?list=true&amp;amp;lo=63\" data-target=\"_self\" class=\"sim-item gtmproductclick gtmlistproductview\"&gt;\n",
       "     &lt;div class=\"sim-img\"&gt;\n",
       "         &lt;img class=\"loadImg\" name=\"//images.habimg.com/imgh/24784-296/vivienda-de-julian-besteiro-madrid------madrid_24784-img296-121753753.jpg\" src=\"//images.habimg.com/imgh/24784-296/vivienda-de-julian-besteiro-madrid------madrid_24784-img296-121753753.jpg\" alt=\"Piso en Calle De Juli&amp;#225;n Besteiro\" title=\"Piso en Calle De Juli&amp;#225;n Besteiro\" /&gt;\n",
       "     &lt;/div&gt;\n",
       "     &lt;div class=\"sim-desc\"&gt;\n",
       "         &lt;div class=\"ico-media\"&gt;\n",
       "                 &lt;svg role=\"presentation\" class=\"photo\"&gt;\n",
       "                     &lt;use xlink:href=\"//www.habitaclia.com/dotnet/content/icon/dist/src_504911268000000000.svg#ico-two-pictures\" /&gt;\n",
       "                 &lt;/svg&gt;\n",
       "                 &lt;span&gt;19 fotos&lt;/span&gt;\n",
       "                     &lt;/div&gt;\n",
       "         &lt;h5 class=\"text-ellipsis\"&gt;&lt;a href=\"https://www.habitaclia.com/comprar-piso-vivienda_de_julian_besteiro-madrid-i24784000000296.htm?list=true&amp;amp;lo=63\" rel=\"nofollow\" title=\"Piso en Madrid\" data-url=\"https://www.habitaclia.com/comprar-piso-vivienda_de_julian_besteiro-madrid-i24784000000296.htm?list=true&amp;amp;lo=63\" data-target=\"_self\"&gt;Piso en Madrid&lt;/a&gt;&lt;/h5&gt;\n",
       "         &lt;span class=\"sim-info sim-location\"&gt;Cuatro Caminos Madrid&lt;/span&gt;\n",
       "         &lt;span class=\"sim-info\"&gt;\n",
       "                 99 m&lt;sup&gt;2&lt;/sup&gt;\n",
       " \n",
       "                 3 hab\n",
       "                             &lt;span class=\"sim-rel\"&gt; - 3.939 €/m&lt;sup&gt;2&lt;/sup&gt;&lt;/span&gt;\n",
       "         &lt;/span&gt;\n",
       "         &lt;span class=\"sim-info sim-price\"&gt;\n",
       "             390.000 €\n",
       "         &lt;/span&gt;\n",
       "     &lt;/div&gt;\n",
       " &lt;/li&gt;\n",
       " &lt;li  data-gtmname=\"comprar-vivienda-madrid\" data-gtmid=\"31703000000058-premium\" data-gtmbrand=\"31703-1-MonteRiver servicios inmobiliarios SL\" data-gtmprice=\"399000\" data-gtmcategory=\"comprar-vivienda/piso/madrid/madrid_capital/madrid\" data-gtmvariant=\"tetuan-cuatro_caminos\" data-gtmlist=\"ficha-anuncios_similares\" data-gtmposition=\"1\"  data-gtmurl=\"https://www.habitaclia.com/comprar-piso-con_3_habitaciones_con_ascensor_y_calefaccion-madrid-i31703000000058.htm?list=true&amp;amp;lo=63\" data-url=\"https://www.habitaclia.com/comprar-piso-con_3_habitaciones_con_ascensor_y_calefaccion-madrid-i31703000000058.htm?list=true&amp;amp;lo=63\" data-target=\"_self\" class=\"sim-item gtmproductclick gtmlistproductview\"&gt;\n",
       "     &lt;div class=\"sim-img\"&gt;\n",
       "         &lt;img class=\"loadImg\" name=\"//images.habimg.com/imgh/31703-58/piso-con-3-habitaciones-con-ascensor-y-calefaccion---madrid_31703-img58-102373039.jpg\" src=\"//images.habimg.com/imgh/31703-58/piso-con-3-habitaciones-con-ascensor-y-calefaccion---madrid_31703-img58-102373039.jpg\" alt=\"Piso en Calle de la Infanta Mercedes\" title=\"Piso en Calle de la Infanta Mercedes\" /&gt;\n",
       "     &lt;/div&gt;\n",
       "     &lt;div class=\"sim-desc\"&gt;\n",
       "         &lt;div class=\"ico-media\"&gt;\n",
       "                 &lt;svg role=\"presentation\" class=\"photo\"&gt;\n",
       "                     &lt;use xlink:href=\"//www.habitaclia.com/dotnet/content/icon/dist/src_504911268000000000.svg#ico-two-pictures\" /&gt;\n",
       "                 &lt;/svg&gt;\n",
       "                 &lt;span&gt;10 fotos&lt;/span&gt;\n",
       "                     &lt;/div&gt;\n",
       "         &lt;h5 class=\"text-ellipsis\"&gt;&lt;a href=\"https://www.habitaclia.com/comprar-piso-con_3_habitaciones_con_ascensor_y_calefaccion-madrid-i31703000000058.htm?list=true&amp;amp;lo=63\" rel=\"nofollow\" title=\"Piso en Madrid\" data-url=\"https://www.habitaclia.com/comprar-piso-con_3_habitaciones_con_ascensor_y_calefaccion-madrid-i31703000000058.htm?list=true&amp;amp;lo=63\" data-target=\"_self\"&gt;Piso en Madrid&lt;/a&gt;&lt;/h5&gt;\n",
       "         &lt;span class=\"sim-info sim-location\"&gt;Cuatro Caminos Madrid&lt;/span&gt;\n",
       "         &lt;span class=\"sim-info\"&gt;\n",
       "                 96 m&lt;sup&gt;2&lt;/sup&gt;\n",
       " \n",
       "                 3 hab\n",
       "                             &lt;span class=\"sim-rel\"&gt; - 4.156 €/m&lt;sup&gt;2&lt;/sup&gt;&lt;/span&gt;\n",
       "         &lt;/span&gt;\n",
       "         &lt;span class=\"sim-info sim-price\"&gt;\n",
       "             399.000 €\n",
       "         &lt;/span&gt;\n",
       "     &lt;/div&gt;\n",
       " &lt;/li&gt;\n",
       " &lt;li  data-gtmname=\"comprar-vivienda-madrid\" data-gtmid=\"16140000000785\" data-gtmbrand=\"16140-1-GILMAR ORENSE D\" data-gtmprice=\"430000\" data-gtmcategory=\"comprar-vivienda/piso/madrid/madrid_capital/madrid\" data-gtmvariant=\"tetuan-cuatro_caminos\" data-gtmlist=\"ficha-anuncios_similares\" data-gtmposition=\"1\"  data-gtmurl=\"https://www.habitaclia.com/comprar-piso-en_cuatro_caminos-madrid-i16140000000785.htm?list=true&amp;amp;lo=63\" data-url=\"https://www.habitaclia.com/comprar-piso-en_cuatro_caminos-madrid-i16140000000785.htm?list=true&amp;amp;lo=63\" data-target=\"_self\" class=\"sim-item gtmproductclick gtmlistproductview\"&gt;\n",
       "     &lt;div class=\"sim-img\"&gt;\n",
       "         &lt;img class=\"loadImg\" name=\"//images.habimg.com/imgh/16140-785/piso-en-cuatro-caminos--------madrid_16140-img785-124208899.jpg\" src=\"//images.habimg.com/imgh/16140-785/piso-en-cuatro-caminos--------madrid_16140-img785-124208899.jpg\" alt=\"Piso en Calle del General Cabrera\" title=\"Piso en Calle del General Cabrera\" /&gt;\n",
       "     &lt;/div&gt;\n",
       "     &lt;div class=\"sim-desc\"&gt;\n",
       "         &lt;div class=\"ico-media\"&gt;\n",
       "                 &lt;svg role=\"presentation\" class=\"photo\"&gt;\n",
       "                     &lt;use xlink:href=\"//www.habitaclia.com/dotnet/content/icon/dist/src_504911268000000000.svg#ico-two-pictures\" /&gt;\n",
       "                 &lt;/svg&gt;\n",
       "                 &lt;span&gt;33 fotos&lt;/span&gt;\n",
       "                     &lt;/div&gt;\n",
       "         &lt;h5 class=\"text-ellipsis\"&gt;&lt;a href=\"https://www.habitaclia.com/comprar-piso-en_cuatro_caminos-madrid-i16140000000785.htm?list=true&amp;amp;lo=63\" rel=\"nofollow\" title=\"Piso en Madrid\" data-url=\"https://www.habitaclia.com/comprar-piso-en_cuatro_caminos-madrid-i16140000000785.htm?list=true&amp;amp;lo=63\" data-target=\"_self\"&gt;Piso en Madrid&lt;/a&gt;&lt;/h5&gt;\n",
       "         &lt;span class=\"sim-info sim-location\"&gt;Cuatro Caminos Madrid&lt;/span&gt;\n",
       "         &lt;span class=\"sim-info\"&gt;\n",
       "                 102 m&lt;sup&gt;2&lt;/sup&gt;\n",
       " \n",
       "                 2 hab\n",
       "                             &lt;span class=\"sim-rel\"&gt; - 4.216 €/m&lt;sup&gt;2&lt;/sup&gt;&lt;/span&gt;\n",
       "         &lt;/span&gt;\n",
       "         &lt;span class=\"sim-info sim-price\"&gt;\n",
       "             430.000 €\n",
       "         &lt;/span&gt;\n",
       "     &lt;/div&gt;\n",
       " &lt;/li&gt;\n",
       " &lt;li  data-gtmname=\"comprar-vivienda-madrid\" data-gtmid=\"15995000000366\" data-gtmbrand=\"15995-1-HARO GESTIÓN INMOBILIARIA\" data-gtmprice=\"445000\" data-gtmcategory=\"comprar-vivienda/piso/madrid/madrid_capital/madrid\" data-gtmvariant=\"tetuan-cuatro_caminos\" data-gtmlist=\"ficha-anuncios_similares\" data-gtmposition=\"1\"  data-gtmurl=\"https://www.habitaclia.com/comprar-piso-con_3_habitaciones_de_la_infanta_mercedes-madrid-i15995000000366.htm?list=true&amp;amp;lo=63\" data-url=\"https://www.habitaclia.com/comprar-piso-con_3_habitaciones_de_la_infanta_mercedes-madrid-i15995000000366.htm?list=true&amp;amp;lo=63\" data-target=\"_self\" class=\"sim-item gtmproductclick gtmlistproductview\"&gt;\n",
       "     &lt;div class=\"sim-img\"&gt;\n",
       "         &lt;img class=\"loadImg\" name=\"//images.habimg.com/imgh/15995-366/piso-con-3-habitaciones-------madrid_15995-img366-122947472.jpg\" src=\"//images.habimg.com/imgh/15995-366/piso-con-3-habitaciones-------madrid_15995-img366-122947472.jpg\" alt=\"Piso en Calle de la Infanta Mercedes\" title=\"Piso en Calle de la Infanta Mercedes\" /&gt;\n",
       "     &lt;/div&gt;\n",
       "     &lt;div class=\"sim-desc\"&gt;\n",
       "         &lt;div class=\"ico-media\"&gt;\n",
       "                 &lt;svg role=\"presentation\" class=\"photo\"&gt;\n",
       "                     &lt;use xlink:href=\"//www.habitaclia.com/dotnet/content/icon/dist/src_504911268000000000.svg#ico-two-pictures\" /&gt;\n",
       "                 &lt;/svg&gt;\n",
       "                 &lt;span&gt;43 fotos&lt;/span&gt;\n",
       "                     &lt;/div&gt;\n",
       "         &lt;h5 class=\"text-ellipsis\"&gt;&lt;a href=\"https://www.habitaclia.com/comprar-piso-con_3_habitaciones_de_la_infanta_mercedes-madrid-i15995000000366.htm?list=true&amp;amp;lo=63\" rel=\"nofollow\" title=\"Piso en Madrid\" data-url=\"https://www.habitaclia.com/comprar-piso-con_3_habitaciones_de_la_infanta_mercedes-madrid-i15995000000366.htm?list=true&amp;amp;lo=63\" data-target=\"_self\"&gt;Piso en Madrid&lt;/a&gt;&lt;/h5&gt;\n",
       "         &lt;span class=\"sim-info sim-location\"&gt;Cuatro Caminos Madrid&lt;/span&gt;\n",
       "         &lt;span class=\"sim-info\"&gt;\n",
       "                 118 m&lt;sup&gt;2&lt;/sup&gt;\n",
       " \n",
       "                 3 hab\n",
       "                             &lt;span class=\"sim-rel\"&gt; - 3.771 €/m&lt;sup&gt;2&lt;/sup&gt;&lt;/span&gt;\n",
       "         &lt;/span&gt;\n",
       "         &lt;span class=\"sim-info sim-price\"&gt;\n",
       "             445.000 €\n",
       "         &lt;/span&gt;\n",
       "     &lt;/div&gt;\n",
       " &lt;/li&gt;\n",
       " &lt;li  data-gtmname=\"comprar-vivienda-madrid\" data-gtmid=\"17938000001356\" data-gtmbrand=\"17938-1-ESTUDIO HOME MADRID\" data-gtmprice=\"450000\" data-gtmcategory=\"comprar-vivienda/piso/madrid/madrid_capital/madrid\" data-gtmvariant=\"tetuan-cuatro_caminos\" data-gtmlist=\"ficha-anuncios_similares\" data-gtmposition=\"1\"  data-gtmurl=\"https://www.habitaclia.com/comprar-piso-en-madrid-i17938000001356.htm?list=true&amp;amp;lo=63\" data-url=\"https://www.habitaclia.com/comprar-piso-en-madrid-i17938000001356.htm?list=true&amp;amp;lo=63\" data-target=\"_self\" class=\"sim-item gtmproductclick gtmlistproductview\"&gt;\n",
       "     &lt;div class=\"sim-img\"&gt;\n",
       "         &lt;img class=\"loadImg\" name=\"//images.habimg.com/imgh/17938-1356/calle-de-palencia-piso-madrid_17938-img1356-103501384.jpg\" src=\"//images.habimg.com/imgh/17938-1356/calle-de-palencia-piso-madrid_17938-img1356-103501384.jpg\" alt=\"Piso en Calle de Palencia\" title=\"Piso en Calle de Palencia\" /&gt;\n",
       "     &lt;/div&gt;\n",
       "     &lt;div class=\"sim-desc\"&gt;\n",
       "         &lt;div class=\"ico-media\"&gt;\n",
       "                 &lt;svg role=\"presentation\" class=\"photo\"&gt;\n",
       "                     &lt;use xlink:href=\"//www.habitaclia.com/dotnet/content/icon/dist/src_504911268000000000.svg#ico-two-pictures\" /&gt;\n",
       "                 &lt;/svg&gt;\n",
       "                 &lt;span&gt;26 fotos&lt;/span&gt;\n",
       "                     &lt;/div&gt;\n",
       "         &lt;h5 class=\"text-ellipsis\"&gt;&lt;a href=\"https://www.habitaclia.com/comprar-piso-en-madrid-i17938000001356.htm?list=true&amp;amp;lo=63\" rel=\"nofollow\" title=\"Piso en Madrid\" data-url=\"https://www.habitaclia.com/comprar-piso-en-madrid-i17938000001356.htm?list=true&amp;amp;lo=63\" data-target=\"_self\"&gt;Piso en Madrid&lt;/a&gt;&lt;/h5&gt;\n",
       "         &lt;span class=\"sim-info sim-location\"&gt;Cuatro Caminos Madrid&lt;/span&gt;\n",
       "         &lt;span class=\"sim-info\"&gt;\n",
       "                 91 m&lt;sup&gt;2&lt;/sup&gt;\n",
       " \n",
       "                 3 hab\n",
       "                             &lt;span class=\"sim-rel\"&gt; - 4.945 €/m&lt;sup&gt;2&lt;/sup&gt;&lt;/span&gt;\n",
       "         &lt;/span&gt;\n",
       "         &lt;span class=\"sim-info sim-price\"&gt;\n",
       "             450.000 €\n",
       "         &lt;/span&gt;\n",
       "     &lt;/div&gt;\n",
       " &lt;/li&gt;\n",
       " &lt;li  data-gtmname=\"comprar-vivienda-madrid\" data-gtmid=\"15435000001674\" data-gtmbrand=\"15435-1-MISCASA\" data-gtmprice=\"450000\" data-gtmcategory=\"comprar-vivienda/piso/madrid/madrid_capital/madrid\" data-gtmvariant=\"tetuan-cuatro_caminos\" data-gtmlist=\"ficha-anuncios_similares\" data-gtmposition=\"1\"  data-gtmurl=\"https://www.habitaclia.com/comprar-piso-con_4_habitaciones_con_ascensor_y_calefaccion-madrid-i15435000001674.htm?list=true&amp;amp;lo=63\" data-url=\"https://www.habitaclia.com/comprar-piso-con_4_habitaciones_con_ascensor_y_calefaccion-madrid-i15435000001674.htm?list=true&amp;amp;lo=63\" data-target=\"_self\" class=\"sim-item gtmproductclick gtmlistproductview\"&gt;\n",
       "     &lt;div class=\"sim-img\"&gt;\n",
       "         &lt;img class=\"loadImg\" name=\"//images.habimg.com/imgh/15435-1674/piso-con-4-habitaciones-con-ascensor-y-calefaccion---madrid_15435-img1674-86020958.jpg\" src=\"//images.habimg.com/imgh/15435-1674/piso-con-4-habitaciones-con-ascensor-y-calefaccion---madrid_15435-img1674-86020958.jpg\" alt=\"Piso en Calle de Asunci&amp;#243;n Castell\" title=\"Piso en Calle de Asunci&amp;#243;n Castell\" /&gt;\n",
       "     &lt;/div&gt;\n",
       "     &lt;div class=\"sim-desc\"&gt;\n",
       "         &lt;div class=\"ico-media\"&gt;\n",
       "                 &lt;svg role=\"presentation\" class=\"photo\"&gt;\n",
       "                     &lt;use xlink:href=\"//www.habitaclia.com/dotnet/content/icon/dist/src_504911268000000000.svg#ico-two-pictures\" /&gt;\n",
       "                 &lt;/svg&gt;\n",
       "                 &lt;span&gt;61 fotos&lt;/span&gt;\n",
       "                     &lt;/div&gt;\n",
       "         &lt;h5 class=\"text-ellipsis\"&gt;&lt;a href=\"https://www.habitaclia.com/comprar-piso-con_4_habitaciones_con_ascensor_y_calefaccion-madrid-i15435000001674.htm?list=true&amp;amp;lo=63\" rel=\"nofollow\" title=\"Piso en Madrid\" data-url=\"https://www.habitaclia.com/comprar-piso-con_4_habitaciones_con_ascensor_y_calefaccion-madrid-i15435000001674.htm?list=true&amp;amp;lo=63\" data-target=\"_self\"&gt;Piso en Madrid&lt;/a&gt;&lt;/h5&gt;\n",
       "         &lt;span class=\"sim-info sim-location\"&gt;Cuatro Caminos Madrid&lt;/span&gt;\n",
       "         &lt;span class=\"sim-info\"&gt;\n",
       "                 127 m&lt;sup&gt;2&lt;/sup&gt;\n",
       " \n",
       "                 4 hab\n",
       "                             &lt;span class=\"sim-rel\"&gt; - 3.543 €/m&lt;sup&gt;2&lt;/sup&gt;&lt;/span&gt;\n",
       "         &lt;/span&gt;\n",
       "         &lt;span class=\"sim-info sim-price\"&gt;\n",
       "             450.000 €\n",
       "         &lt;/span&gt;\n",
       "     &lt;/div&gt;\n",
       " &lt;/li&gt;\n",
       " &lt;li  data-gtmname=\"comprar-vivienda-madrid\" data-gtmid=\"18586000001158\" data-gtmbrand=\"18586-1-CHAMARTIN REAL STATE (GRUPO ARES)\" data-gtmprice=\"470000\" data-gtmcategory=\"comprar-vivienda/piso/madrid/madrid_capital/madrid\" data-gtmvariant=\"tetuan-cuatro_caminos\" data-gtmlist=\"ficha-anuncios_similares\" data-gtmposition=\"1\"  data-gtmurl=\"https://www.habitaclia.com/comprar-piso-con_3_habitaciones_con_ascensor_y_calefaccion-madrid-i18586000001158.htm?list=true&amp;amp;lo=63\" data-url=\"https://www.habitaclia.com/comprar-piso-con_3_habitaciones_con_ascensor_y_calefaccion-madrid-i18586000001158.htm?list=true&amp;amp;lo=63\" data-target=\"_self\" class=\"sim-item gtmproductclick gtmlistproductview\"&gt;\n",
       "     &lt;div class=\"sim-img\"&gt;\n",
       "         &lt;img class=\"loadImg\" name=\"//images.habimg.com/imgh/18586-1158/piso-con-3-habitaciones-con-ascensor-y-calefaccion---madrid_18586-img1158-89351495.jpg\" src=\"//images.habimg.com/imgh/18586-1158/piso-con-3-habitaciones-con-ascensor-y-calefaccion---madrid_18586-img1158-89351495.jpg\" alt=\"Piso en Calle de Orense\" title=\"Piso en Calle de Orense\" /&gt;\n",
       "     &lt;/div&gt;\n",
       "     &lt;div class=\"sim-desc\"&gt;\n",
       "         &lt;div class=\"ico-media\"&gt;\n",
       "                 &lt;svg role=\"presentation\" class=\"photo\"&gt;\n",
       "                     &lt;use xlink:href=\"//www.habitaclia.com/dotnet/content/icon/dist/src_504911268000000000.svg#ico-two-pictures\" /&gt;\n",
       "                 &lt;/svg&gt;\n",
       "                 &lt;span&gt;20 fotos&lt;/span&gt;\n",
       "                     &lt;/div&gt;\n",
       "         &lt;h5 class=\"text-ellipsis\"&gt;&lt;a href=\"https://www.habitaclia.com/comprar-piso-con_3_habitaciones_con_ascensor_y_calefaccion-madrid-i18586000001158.htm?list=true&amp;amp;lo=63\" rel=\"nofollow\" title=\"Piso en Madrid\" data-url=\"https://www.habitaclia.com/comprar-piso-con_3_habitaciones_con_ascensor_y_calefaccion-madrid-i18586000001158.htm?list=true&amp;amp;lo=63\" data-target=\"_self\"&gt;Piso en Madrid&lt;/a&gt;&lt;/h5&gt;\n",
       "         &lt;span class=\"sim-info sim-location\"&gt;Cuatro Caminos Madrid&lt;/span&gt;\n",
       "         &lt;span class=\"sim-info\"&gt;\n",
       "                 130 m&lt;sup&gt;2&lt;/sup&gt;\n",
       " \n",
       "                 3 hab\n",
       "                             &lt;span class=\"sim-rel\"&gt; - 3.615 €/m&lt;sup&gt;2&lt;/sup&gt;&lt;/span&gt;\n",
       "         &lt;/span&gt;\n",
       "         &lt;span class=\"sim-info sim-price\"&gt;\n",
       "             470.000 €\n",
       "         &lt;/span&gt;\n",
       "     &lt;/div&gt;\n",
       " &lt;/li&gt;\n",
       " &lt;li  data-gtmname=\"comprar-vivienda-madrid\" data-gtmid=\"16140000000529\" data-gtmbrand=\"16140-1-GILMAR ORENSE D\" data-gtmprice=\"475000\" data-gtmcategory=\"comprar-vivienda/piso/madrid/madrid_capital/madrid\" data-gtmvariant=\"tetuan-cuatro_caminos\" data-gtmlist=\"ficha-anuncios_similares\" data-gtmposition=\"1\"  data-gtmurl=\"https://www.habitaclia.com/comprar-piso-bajo_en_castellana_orense-madrid-i16140000000529.htm?list=true&amp;amp;lo=63\" data-url=\"https://www.habitaclia.com/comprar-piso-bajo_en_castellana_orense-madrid-i16140000000529.htm?list=true&amp;amp;lo=63\" data-target=\"_self\" class=\"sim-item gtmproductclick gtmlistproductview\"&gt;\n",
       "     &lt;div class=\"sim-img\"&gt;\n",
       "         &lt;img class=\"loadImg\" name=\"//images.habimg.com/imgh/16140-529/bajo-en-castellana-orense-------madrid_16140-img529-97269634.jpg\" src=\"//images.habimg.com/imgh/16140-529/bajo-en-castellana-orense-------madrid_16140-img529-97269634.jpg\" alt=\"Piso en Cuatro Caminos\" title=\"Piso en Cuatro Caminos\" /&gt;\n",
       "     &lt;/div&gt;\n",
       "     &lt;div class=\"sim-desc\"&gt;\n",
       "         &lt;div class=\"ico-media\"&gt;\n",
       "                 &lt;svg role=\"presentation\" class=\"photo\"&gt;\n",
       "                     &lt;use xlink:href=\"//www.habitaclia.com/dotnet/content/icon/dist/src_504911268000000000.svg#ico-two-pictures\" /&gt;\n",
       "                 &lt;/svg&gt;\n",
       "                 &lt;span&gt;18 fotos&lt;/span&gt;\n",
       "                     &lt;/div&gt;\n",
       "         &lt;h5 class=\"text-ellipsis\"&gt;&lt;a href=\"https://www.habitaclia.com/comprar-piso-bajo_en_castellana_orense-madrid-i16140000000529.htm?list=true&amp;amp;lo=63\" rel=\"nofollow\" title=\"Piso en Madrid\" data-url=\"https://www.habitaclia.com/comprar-piso-bajo_en_castellana_orense-madrid-i16140000000529.htm?list=true&amp;amp;lo=63\" data-target=\"_self\"&gt;Piso en Madrid&lt;/a&gt;&lt;/h5&gt;\n",
       "         &lt;span class=\"sim-info sim-location\"&gt;Cuatro Caminos Madrid&lt;/span&gt;\n",
       "         &lt;span class=\"sim-info\"&gt;\n",
       "                 140 m&lt;sup&gt;2&lt;/sup&gt;\n",
       " \n",
       "                             &lt;span class=\"sim-rel\"&gt; - 3.393 €/m&lt;sup&gt;2&lt;/sup&gt;&lt;/span&gt;\n",
       "         &lt;/span&gt;\n",
       "         &lt;span class=\"sim-info sim-price\"&gt;\n",
       "             475.000 €\n",
       "         &lt;/span&gt;\n",
       "     &lt;/div&gt;\n",
       " &lt;/li&gt;\n",
       " &lt;li  data-gtmname=\"comprar-vivienda-madrid\" data-gtmid=\"14951000012236\" data-gtmbrand=\"14951-1-Housell\" data-gtmprice=\"490000\" data-gtmcategory=\"comprar-vivienda/piso/madrid/madrid_capital/madrid\" data-gtmvariant=\"tetuan-cuatro_caminos\" data-gtmlist=\"ficha-anuncios_similares\" data-gtmposition=\"1\"  data-gtmurl=\"https://www.habitaclia.com/comprar-piso-tercero_con_2_habitaciones_ascensor_parking_aire_acondicionad-madrid-i14951000012236.htm?list=true&amp;amp;lo=63\" data-url=\"https://www.habitaclia.com/comprar-piso-tercero_con_2_habitaciones_ascensor_parking_aire_acondicionad-madrid-i14951000012236.htm?list=true&amp;amp;lo=63\" data-target=\"_self\" class=\"sim-item gtmproductclick gtmlistproductview\"&gt;\n",
       "     &lt;div class=\"sim-img\"&gt;\n",
       "         &lt;img class=\"loadImg\" name=\"//images.habimg.com/imgh/14951-12236/tercero-con-2-habitaciones-ascensor-parking-aire-acondicionad-madrid_14951-img12236-1643793.jpg\" src=\"//images.habimg.com/imgh/14951-12236/tercero-con-2-habitaciones-ascensor-parking-aire-acondicionad-madrid_14951-img12236-1643793.jpg\" alt=\"Piso en Cuatro Caminos\" title=\"Piso en Cuatro Caminos\" /&gt;\n",
       "     &lt;/div&gt;\n",
       "     &lt;div class=\"sim-desc\"&gt;\n",
       "         &lt;div class=\"ico-media\"&gt;\n",
       "                 &lt;svg role=\"presentation\" class=\"photo\"&gt;\n",
       "                     &lt;use xlink:href=\"//www.habitaclia.com/dotnet/content/icon/dist/src_504911268000000000.svg#ico-two-pictures\" /&gt;\n",
       "                 &lt;/svg&gt;\n",
       "                 &lt;span&gt;18 fotos&lt;/span&gt;\n",
       "                     &lt;/div&gt;\n",
       "         &lt;h5 class=\"text-ellipsis\"&gt;&lt;a href=\"https://www.habitaclia.com/comprar-piso-tercero_con_2_habitaciones_ascensor_parking_aire_acondicionad-madrid-i14951000012236.htm?list=true&amp;amp;lo=63\" rel=\"nofollow\" title=\"Piso en Madrid\" data-url=\"https://www.habitaclia.com/comprar-piso-tercero_con_2_habitaciones_ascensor_parking_aire_acondicionad-madrid-i14951000012236.htm?list=true&amp;amp;lo=63\" data-target=\"_self\"&gt;Piso en Madrid&lt;/a&gt;&lt;/h5&gt;\n",
       "         &lt;span class=\"sim-info sim-location\"&gt;Cuatro Caminos Madrid&lt;/span&gt;\n",
       "         &lt;span class=\"sim-info\"&gt;\n",
       "                 95 m&lt;sup&gt;2&lt;/sup&gt;\n",
       " \n",
       "                 2 hab\n",
       "                             &lt;span class=\"sim-rel\"&gt; - 5.158 €/m&lt;sup&gt;2&lt;/sup&gt;&lt;/span&gt;\n",
       "         &lt;/span&gt;\n",
       "         &lt;span class=\"sim-info sim-price\"&gt;\n",
       "             490.000 €\n",
       "         &lt;/span&gt;\n",
       "     &lt;/div&gt;\n",
       " &lt;/li&gt;\n",
       " &lt;li  data-gtmname=\"comprar-vivienda-madrid\" data-gtmid=\"15791000001412\" data-gtmbrand=\"15791-1-EXTRA INMOBILIARIA\" data-gtmprice=\"525000\" data-gtmcategory=\"comprar-vivienda/piso/madrid/madrid_capital/madrid\" data-gtmvariant=\"tetuan-cuatro_caminos\" data-gtmlist=\"ficha-anuncios_similares\" data-gtmposition=\"1\"  data-gtmurl=\"https://www.habitaclia.com/comprar-piso-amplio_para_reformar_4_habitaciones_dobles_3_banos_y_garaje-madrid-i15791000001412.htm?list=true&amp;amp;lo=63\" data-url=\"https://www.habitaclia.com/comprar-piso-amplio_para_reformar_4_habitaciones_dobles_3_banos_y_garaje-madrid-i15791000001412.htm?list=true&amp;amp;lo=63\" data-target=\"_self\" class=\"sim-item gtmproductclick gtmlistproductview\"&gt;\n",
       "     &lt;div class=\"sim-img\"&gt;\n",
       "         &lt;img class=\"loadImg\" name=\"//images.habimg.com/imgh/15791-1412/amplio-piso-para-reformar-4-habitaciones-dobles-3-banos-y-garaje-madrid_15791-img1412-125751141.jpg\" src=\"//images.habimg.com/imgh/15791-1412/amplio-piso-para-reformar-4-habitaciones-dobles-3-banos-y-garaje-madrid_15791-img1412-125751141.jpg\" alt=\"Piso en Reina Mercedes\" title=\"Piso en Reina Mercedes\" /&gt;\n",
       "     &lt;/div&gt;\n",
       "     &lt;div class=\"sim-desc\"&gt;\n",
       "         &lt;div class=\"ico-media\"&gt;\n",
       "                 &lt;svg role=\"presentation\" class=\"photo\"&gt;\n",
       "                     &lt;use xlink:href=\"//www.habitaclia.com/dotnet/content/icon/dist/src_504911268000000000.svg#ico-two-pictures\" /&gt;\n",
       "                 &lt;/svg&gt;\n",
       "                 &lt;span&gt;38 fotos&lt;/span&gt;\n",
       "                     &lt;/div&gt;\n",
       "         &lt;h5 class=\"text-ellipsis\"&gt;&lt;a href=\"https://www.habitaclia.com/comprar-piso-amplio_para_reformar_4_habitaciones_dobles_3_banos_y_garaje-madrid-i15791000001412.htm?list=true&amp;amp;lo=63\" rel=\"nofollow\" title=\"Piso en Madrid\" data-url=\"https://www.habitaclia.com/comprar-piso-amplio_para_reformar_4_habitaciones_dobles_3_banos_y_garaje-madrid-i15791000001412.htm?list=true&amp;amp;lo=63\" data-target=\"_self\"&gt;Piso en Madrid&lt;/a&gt;&lt;/h5&gt;\n",
       "         &lt;span class=\"sim-info sim-location\"&gt;Cuatro Caminos Madrid&lt;/span&gt;\n",
       "         &lt;span class=\"sim-info\"&gt;\n",
       "                 117 m&lt;sup&gt;2&lt;/sup&gt;\n",
       " \n",
       "                 4 hab\n",
       "                             &lt;span class=\"sim-rel\"&gt; - 4.487 €/m&lt;sup&gt;2&lt;/sup&gt;&lt;/span&gt;\n",
       "         &lt;/span&gt;\n",
       "         &lt;span class=\"sim-info sim-price\"&gt;\n",
       "             525.000 €\n",
       "         &lt;/span&gt;\n",
       "     &lt;/div&gt;\n",
       " &lt;/li&gt;\n",
       " &lt;li  data-gtmname=\"comprar-vivienda-madrid\" data-gtmid=\"35762000000007\" data-gtmbrand=\"35762-1-R&amp;J Alta Gestión\" data-gtmprice=\"559000\" data-gtmcategory=\"comprar-vivienda/piso/madrid/madrid_capital/madrid\" data-gtmvariant=\"tetuan-cuatro_caminos\" data-gtmlist=\"ficha-anuncios_similares\" data-gtmposition=\"1\"  data-gtmurl=\"https://www.habitaclia.com/comprar-piso-preccioso_en_calle_reina_mercedes-madrid-i35762000000007.htm?list=true&amp;amp;lo=63\" data-url=\"https://www.habitaclia.com/comprar-piso-preccioso_en_calle_reina_mercedes-madrid-i35762000000007.htm?list=true&amp;amp;lo=63\" data-target=\"_self\" class=\"sim-item gtmproductclick gtmlistproductview\"&gt;\n",
       "     &lt;div class=\"sim-img\"&gt;\n",
       "         &lt;img class=\"loadImg\" name=\"//images.habimg.com/imgh/35762-7/preccioso-piso-en-calle-reina-mercedes-----madrid_35762-img7-119220826.jpg\" src=\"//images.habimg.com/imgh/35762-7/preccioso-piso-en-calle-reina-mercedes-----madrid_35762-img7-119220826.jpg\" alt=\"Piso en Calle de la Reina Mercedes\" title=\"Piso en Calle de la Reina Mercedes\" /&gt;\n",
       "     &lt;/div&gt;\n",
       "     &lt;div class=\"sim-desc\"&gt;\n",
       "         &lt;div class=\"ico-media\"&gt;\n",
       "                 &lt;svg role=\"presentation\" class=\"photo\"&gt;\n",
       "                     &lt;use xlink:href=\"//www.habitaclia.com/dotnet/content/icon/dist/src_504911268000000000.svg#ico-two-pictures\" /&gt;\n",
       "                 &lt;/svg&gt;\n",
       "                 &lt;span&gt;15 fotos&lt;/span&gt;\n",
       "                     &lt;/div&gt;\n",
       "         &lt;h5 class=\"text-ellipsis\"&gt;&lt;a href=\"https://www.habitaclia.com/comprar-piso-preccioso_en_calle_reina_mercedes-madrid-i35762000000007.htm?list=true&amp;amp;lo=63\" rel=\"nofollow\" title=\"Piso en Madrid\" data-url=\"https://www.habitaclia.com/comprar-piso-preccioso_en_calle_reina_mercedes-madrid-i35762000000007.htm?list=true&amp;amp;lo=63\" data-target=\"_self\"&gt;Piso en Madrid&lt;/a&gt;&lt;/h5&gt;\n",
       "         &lt;span class=\"sim-info sim-location\"&gt;Cuatro Caminos Madrid&lt;/span&gt;\n",
       "         &lt;span class=\"sim-info\"&gt;\n",
       "                 122 m&lt;sup&gt;2&lt;/sup&gt;\n",
       " \n",
       "                 4 hab\n",
       "                             &lt;span class=\"sim-rel\"&gt; - 4.582 €/m&lt;sup&gt;2&lt;/sup&gt;&lt;/span&gt;\n",
       "         &lt;/span&gt;\n",
       "         &lt;span class=\"sim-info sim-price\"&gt;\n",
       "             559.000 €\n",
       "         &lt;/span&gt;\n",
       "     &lt;/div&gt;\n",
       " &lt;/li&gt;                &lt;/ul&gt;\n",
       "                 &lt;div class=\"sim-button-container\"&gt;\n",
       " \n",
       "                     &lt;div class=\"sim-button sim-button-active\" id=\"js-sim-horizontal-01\" data-id=\"1\"&gt;&lt;/div&gt;\n",
       "                         &lt;div class=\"sim-button\" id=\"js-sim-horizontal-02\" data-id=\"2\"&gt;&lt;/div&gt;\n",
       "                         &lt;div class=\"sim-button\" id=\"js-sim-horizontal-03\" data-id=\"3\"&gt;&lt;/div&gt;\n",
       "                 &lt;/div&gt;\n",
       "             &lt;/div&gt;\n",
       "         &lt;/aside&gt;\n",
       "             &lt;aside class=\"ads w-100 ads-content-960\"&gt;\n",
       "             &lt;div class=\"ads-tag bg-white\"&gt;Publicidad&lt;/div&gt;\n",
       "             &lt;div class=\"ads-content bg-white\"&gt;\n",
       "                 &lt;div id=\"ficha_middle_2_960x90\" class=\"max-1440 padding-y\"&gt;&lt;/div&gt;\n",
       "                 &lt;script &gt;\n",
       "                     googletag.cmd.push(function () {\n",
       "                         googletag.display(\"ficha_middle_2_960x90\");\n",
       "                     });\n",
       "                 &lt;/script&gt;\n",
       " \n",
       "             &lt;/div&gt;\n",
       "         &lt;/aside&gt;\n",
       "             &lt;aside class=\"crosslink \"&gt;\n",
       "             &lt;div class=\"max-1440 padding-y\"&gt;\n",
       "                 &lt;ul&gt;\n",
       "                     &lt;li class=\"title\"&gt;Producto inmobiliario en Tetu&amp;#225;n&lt;/li&gt;\n",
       "                             &lt;li&gt;&lt;a href=\"https://www.habitaclia.com/pisos-distrito_tetuan-madrid.htm\" title=\"Pisos Tetu&amp;#225;n Madrid\" class=\"link-grey\"&gt; &lt;strong&gt;Pisos&lt;/strong&gt; &lt;strong&gt;Tetuán Madrid&lt;/strong&gt;&lt;/a&gt; 672&lt;/li&gt;\n",
       "                             &lt;li&gt;&lt;a href=\"https://www.habitaclia.com/casas-distrito_tetuan-madrid.htm\" title=\"Casas Tetu&amp;#225;n Madrid\" class=\"link-grey\"&gt; Casas &lt;strong&gt;Tetuán Madrid&lt;/strong&gt;&lt;/a&gt; 3&lt;/li&gt;\n",
       "                             &lt;li&gt;&lt;a href=\"https://www.habitaclia.com/aticos-distrito_tetuan-madrid.htm\" title=\"&amp;#193;ticos Tetu&amp;#225;n Madrid\" class=\"link-grey\"&gt; Áticos &lt;strong&gt;Tetuán Madrid&lt;/strong&gt;&lt;/a&gt; 26&lt;/li&gt;\n",
       "                             &lt;li&gt;&lt;a href=\"https://www.habitaclia.com/apartamentos-distrito_tetuan-madrid.htm\" title=\"Apartamentos Tetu&amp;#225;n Madrid\" class=\"link-grey\"&gt; Apartamentos &lt;strong&gt;Tetuán Madrid&lt;/strong&gt;&lt;/a&gt; 28&lt;/li&gt;\n",
       "                             &lt;li&gt;&lt;a href=\"https://www.habitaclia.com/duplex-distrito_tetuan-madrid.htm\" title=\"D&amp;#250;plex Tetu&amp;#225;n Madrid\" class=\"link-grey\"&gt; Dúplex &lt;strong&gt;Tetuán Madrid&lt;/strong&gt;&lt;/a&gt; 27&lt;/li&gt;\n",
       "                             &lt;li&gt;&lt;a href=\"https://www.habitaclia.com/lofts-distrito_tetuan-madrid.htm\" title=\"Lofts Tetu&amp;#225;n Madrid\" class=\"link-grey\"&gt; Lofts &lt;strong&gt;Tetuán Madrid&lt;/strong&gt;&lt;/a&gt; 15&lt;/li&gt;\n",
       "                             &lt;li&gt;&lt;a href=\"https://www.habitaclia.com/viviendas-distrito_tetuan-madrid.htm\" title=\"Viviendas Tetu&amp;#225;n Madrid\" class=\"link-grey\"&gt; Viviendas &lt;strong&gt;Tetuán Madrid&lt;/strong&gt;&lt;/a&gt; 808&lt;/li&gt;\n",
       "                             &lt;li&gt;&lt;a href=\"https://www.habitaclia.com/alquiler-distrito_tetuan-madrid.htm\" title=\"Alquiler Tetu&amp;#225;n Madrid\" class=\"link-grey\"&gt; Alquiler &lt;strong&gt;Tetuán Madrid&lt;/strong&gt;&lt;/a&gt; 666&lt;/li&gt;\n",
       "                             &lt;li&gt;&lt;a href=\"https://www.habitaclia.com/alquiler-pisos-distrito_tetuan-madrid.htm\" title=\"Alquiler Pisos Tetu&amp;#225;n Madrid\" class=\"link-grey\"&gt; Alquiler &lt;strong&gt;Pisos&lt;/strong&gt; &lt;strong&gt;Tetuán Madrid&lt;/strong&gt;&lt;/a&gt; 460&lt;/li&gt;\n",
       "                             &lt;li&gt;&lt;a href=\"https://www.habitaclia.com/oficinas-distrito_tetuan-madrid.htm\" title=\"Oficinas Tetu&amp;#225;n Madrid\" class=\"link-grey\"&gt; Oficinas &lt;strong&gt;Tetuán Madrid&lt;/strong&gt;&lt;/a&gt; 37&lt;/li&gt;\n",
       "                             &lt;li&gt;&lt;a href=\"https://www.habitaclia.com/locales_comerciales-distrito_tetuan-madrid.htm\" title=\"Locales Comerciales Tetu&amp;#225;n Madrid\" class=\"link-grey\"&gt; Locales Comerciales &lt;strong&gt;Tetuán Madrid&lt;/strong&gt;&lt;/a&gt; 141&lt;/li&gt;\n",
       "                             &lt;li&gt;&lt;a href=\"https://www.habitaclia.com/industriales-distrito_tetuan-madrid.htm\" title=\"Industriales Tetu&amp;#225;n Madrid\" class=\"link-grey\"&gt; Industriales &lt;strong&gt;Tetuán Madrid&lt;/strong&gt;&lt;/a&gt; 8&lt;/li&gt;\n",
       "                             &lt;li&gt;&lt;a href=\"https://www.habitaclia.com/terrenos_y_solares-distrito_tetuan-madrid.htm\" title=\"Terrenos y Solares Tetu&amp;#225;n Madrid\" class=\"link-grey\"&gt; Terrenos y Solares &lt;strong&gt;Tetuán Madrid&lt;/strong&gt;&lt;/a&gt; 3&lt;/li&gt;\n",
       "                             &lt;li&gt;&lt;a href=\"https://www.habitaclia.com/aparcamientos-distrito_tetuan-madrid.htm\" title=\"Aparcamientos Tetu&amp;#225;n Madrid\" class=\"link-grey\"&gt; Aparcamientos &lt;strong&gt;Tetuán Madrid&lt;/strong&gt;&lt;/a&gt; 146&lt;/li&gt;\n",
       "                 &lt;/ul&gt;\n",
       "             &lt;/div&gt;\n",
       "         &lt;/aside&gt;\n",
       " \n",
       "     &lt;div id=\"js-back-top\" class=\"back-top\"&gt;\n",
       "         &lt;button type=\"button\"&gt;\n",
       "             &lt;svg class=\"ico ico-flip-y\" role=\"img\"&gt;\n",
       "                 &lt;use xlink:href=\"//www.habitaclia.com/dotnet/content/icon/dist/src_504911268000000000.svg#ico-arrow-down\" /&gt;\n",
       "             &lt;/svg&gt;\n",
       "             &lt;span&gt;Subir&lt;/span&gt;\n",
       "         &lt;/button&gt;\n",
       "     &lt;/div&gt;\n",
       " \n",
       "         &lt;div id=\"js-nav-fixed\" class=\"nav-fixed pointer-events-all\"&gt;\n",
       "                                 &lt;/div&gt;\n",
       "     &lt;div id=\"js-templates\" style=\"display:none;\"&gt;\n",
       "         &lt;div id=\"js-discard-template\" style=\"display: none\"&gt;\n",
       "             &lt;button type=\"button\" id=\"{{discard-btn-template}}\" class=\"button-transparent discard-btn\" title=\"Descartar\"&gt;\n",
       "                 &lt;svg class=\"ico ico-grey\" role=\"presentation\"&gt;\n",
       "                     &lt;use xlink:href=\"//www.habitaclia.com/dotnet/content/icon/dist/src_504911268000000000.svg#ico-trashcan\" /&gt;\n",
       "                 &lt;/svg&gt;\n",
       "                 Descartar\n",
       "             &lt;/button&gt;\n",
       "             &lt;div id=\"{{discard-confirmation-template}}\" class=\"discard-confirmation\"&gt;\n",
       "                 &lt;span&gt;\n",
       "                     &lt;strong&gt;Ya no ver&amp;#225;s m&amp;#225;s este anuncio.&lt;/strong&gt;\n",
       "                     Siempre podr&amp;#225;s recuperarlo desde la secci&amp;#243;n &lt;br /&gt;\n",
       "                     \"&lt;a href=\"https://www.habitaclia.com/discarded\"&gt;Mis descartados&lt;/a&gt;\".&lt;br /&gt;\n",
       " \n",
       "                         &lt;a href=\"https://www.habitaclia.com/viviendas-distrito_tetuan-madrid.htm?#id500003933609\" title=\"Volver al listado Vivienda Tetu&amp;#225;n\" id=\"idVolverListadoDescartado\" class=\"discard-confirmation-btn\"&gt;\n",
       "                             Volver al listado\n",
       "                         &lt;/a&gt;\n",
       "                     &lt;button type=\"button\" class=\"button-transparent discard-recover-btn\"&gt;Recuperar&lt;/button&gt;\n",
       "                 &lt;/span&gt;\n",
       "             &lt;/div&gt;\n",
       "             &lt;div id=\"js-report-container\" class=\"report-container\"&gt;\n",
       "                 &lt;div class=\"error-text c-error hide-none\"&gt;&lt;/div&gt;\n",
       "                 &lt;form name=\"frmErroresFicha\" id=\"js-report-form\" method=\"post\"&gt;\n",
       "                     &lt;label&gt;\n",
       "                         &lt;select name=\"listaerrores\" id=\"js-report-list\"&gt;\n",
       "                             &lt;option class=\"motivo\" value=\"0\"&gt;Ind&amp;#237;canos el error&lt;/option&gt;\n",
       "                             &lt;option class=\"motivo\" value=\"1\"&gt;Datos incoherentes&lt;/option&gt;\n",
       "                             &lt;option class=\"motivo\" value=\"2\"&gt;Precio incorrecto&lt;/option&gt;\n",
       "                             &lt;option class=\"motivo\" value=\"3\"&gt;Error en las fotos&lt;/option&gt;\n",
       "                             &lt;option class=\"motivo\" value=\"5\"&gt;No disponible (Ya vendido o alquilado)&lt;/option&gt;\n",
       "                             &lt;option class=\"motivo\" value=\"6\"&gt;Error en los datos de ubicaci&amp;#243;n&lt;/option&gt;\n",
       "                             &lt;option class=\"motivo\" value=\"7\"&gt;Error Tel&amp;#233;fono (No logro contactar)&lt;/option&gt;\n",
       "                             &lt;option class=\"motivo\" value=\"8\"&gt;Otros motivos&lt;/option&gt;\n",
       "                         &lt;/select&gt;\n",
       "                         &lt;span&gt;&lt;/span&gt;\n",
       "                     &lt;/label&gt;\n",
       "                     &lt;input type=\"hidden\" name=\"codemp\" id=\"idCodEmp\" value=\"500\"&gt;\n",
       "                     &lt;input type=\"hidden\" name=\"codofi\" id=\"idCodOfi\" value=\"459381\"&gt;\n",
       "                     &lt;input type=\"hidden\" name=\"codinm\" id=\"idCodInm\" value=\"3933609\"&gt;\n",
       "                     &lt;input type=\"hidden\" name=\"prom\" id=\"idProm\" value=\"0\"&gt;\n",
       "                     &lt;input type=\"hidden\" name=\"codprov\" id=\"idCodProv\" value=\"5\"&gt;\n",
       "                     &lt;label for=\"js-report-cause\"&gt;\n",
       "                         &lt;textarea rows=\"4\" cols=\"50\" class=\"\" type=\"text\" name=\"motivoError\" id=\"js-report-cause\" maxlength=\"200\" placeholder=\"Ind&amp;#237;canos un poco m&amp;#225;s\"&gt;&lt;/textarea&gt;\n",
       "                     &lt;/label&gt;\n",
       "                     &lt;input type=\"submit\" class=\"button button-large submit\" value=\"Notificar\"&gt;\n",
       "                 &lt;/form&gt;\n",
       "             &lt;/div&gt;\n",
       "         &lt;/div&gt;\n",
       "         &lt;div class=\"tooltip_templates\"&gt;\n",
       "             &lt;span id=\"tooltip-energy\"&gt;\n",
       "                 &lt;div class=\"calification-types\"&gt;\n",
       "                     &lt;img src=\"//static11.habimg.com/hab_inmuebles_img/energy-rating-2.jpg\" /&gt;\n",
       "                         &lt;div class=\"draw-col c-\"&gt;\n",
       "                             \n",
       "                         &lt;/div&gt;\n",
       "                         &lt;div class=\"draw-col second-col c-En tr&amp;#225;mite\"&gt;\n",
       "                             \n",
       "                         &lt;/div&gt;\n",
       " \n",
       "                 &lt;/div&gt;\n",
       "             &lt;/span&gt;\n",
       "             &lt;span id=\"tooltip-telephone\"&gt;\n",
       "                 &lt;div class=\"phone-help\"&gt;\n",
       "                     Ver&amp;#225;s el tel&amp;#233;fono despu&amp;#233;s de enviar el formulario de Contactar con el anunciante\n",
       "                 &lt;/div&gt;\n",
       "             &lt;/span&gt;\n",
       "             &lt;span id=\"tooltip-captcha\"&gt;\n",
       "                 &lt;div class=\"phone-help\"&gt;\n",
       "                     Introduce el c&amp;#243;digo que aparece en la imagen superior.\n",
       "                 &lt;/div&gt;\n",
       "             &lt;/span&gt;\n",
       "             &lt;span id=\"tooltip-notification\"&gt;\n",
       "                 &lt;div class=\"header-tooltip\"&gt;\n",
       "                     Mis notificaciones\n",
       "                 &lt;/div&gt;\n",
       "             &lt;/span&gt;\n",
       "             &lt;span id=\"tooltip-search\"&gt;\n",
       "                 &lt;div class=\"header-tooltip\"&gt;\n",
       "                     Mis b&amp;#250;squedas\n",
       "                 &lt;/div&gt;\n",
       "             &lt;/span&gt;\n",
       "             &lt;span id=\"tooltip-favorites\"&gt;\n",
       "                 &lt;div class=\"header-tooltip\"&gt;\n",
       "                     Mis favoritos\n",
       "                 &lt;/div&gt;\n",
       "             &lt;/span&gt;\n",
       "             &lt;span id=\"tooltip-interacted\"&gt;\n",
       "                 &lt;div class=\"header-tooltip\"&gt;\n",
       "                     Anuncios contactados\n",
       "                 &lt;/div&gt;\n",
       "             &lt;/span&gt;\n",
       "             &lt;div id=\"tooltip-alert-modal\"&gt;\n",
       "                 &lt;div class=\"alert-tooltip\"&gt;\n",
       "                     &lt;p&gt;&lt;strong&gt;Alertas de un anuncio:&lt;/strong&gt;&lt;/p&gt;&lt;p&gt;Te enviamos por correo electr&amp;#243;nico los &amp;#250;ltimos cambios en el inmueble seleccionado&lt;/p&gt;\n",
       "                 &lt;/div&gt;\n",
       "             &lt;/div&gt;\n",
       "             &lt;div id=\"tooltip-alert-modal-similar\"&gt;\n",
       "                 &lt;div class=\"alert-tooltip\"&gt;\n",
       "                     &lt;p&gt;&lt;strong&gt;Alertas anuncios similares:&lt;/strong&gt;&lt;/p&gt;&lt;p&gt;Te enviamos por correo electr&amp;#243;nico los &amp;#250;ltimos inmuebles y promociones que se hayan publicado en habitaclia y que concuerden con las preferencias de tu b&amp;#250;squeda&lt;/p&gt;\n",
       "                 &lt;/div&gt;\n",
       "             &lt;/div&gt;\n",
       "             &lt;span id=\"tooltip-create-favorite\"&gt;\n",
       "                 &lt;div&gt;\n",
       "                     A&amp;#241;adir a favoritos\n",
       "                 &lt;/div&gt;\n",
       "             &lt;/span&gt;\n",
       "             &lt;span id=\"tooltip-delete-favorite\"&gt;\n",
       "                 &lt;div class=\"phone-help\"&gt;\n",
       "                     Eliminar de favoritos\n",
       "                 &lt;/div&gt;\n",
       "             &lt;/span&gt;\n",
       "             &lt;span id=\"tooltip-rent-index\"&gt;\n",
       "                 &lt;div class=\"rent-index-tooltip\"&gt;\n",
       "                     El &amp;#205;ndice de referencia de precios de alquiler es un indicador que publica la Agencia Catalana de la Vivienda y que permite conocer una estimaci&amp;#243;n del precio medio del metro cuadrado de alquiler de una vivienda ubicada en una zona y con determinadas caracter&amp;#237;sticas. Tambi&amp;#233;n orienta sobre el precio m&amp;#237;nimo y m&amp;#225;ximo que puede llegar a tener esa vivienda.\n",
       "                 &lt;/div&gt;\n",
       "             &lt;/span&gt;\n",
       "             \n",
       "         &lt;/div&gt;\n",
       "         &lt;section id=\"{{js-wide-media}}\" class=\"wide-media\"&gt;\n",
       "             &lt;div class=\"wide-head\"&gt;\n",
       "                 &lt;ul class=\"wide-menu f-left\"&gt;\n",
       "                     &lt;li id=\"{{js-wide-3d-btn}}\" class=\"wide-btn \"&gt;\n",
       "                         &lt;button type=\"button\" class=\"button button-transparent button-underline\"&gt;\n",
       "                             3D\n",
       "                         &lt;/button&gt;\n",
       "                     &lt;/li&gt;\n",
       "                     &lt;li id=\"{{js-wide-360-btn}}\" class=\"wide-btn \"&gt;\n",
       "                         &lt;button type=\"button\" class=\"button button-transparent button-underline\"&gt;\n",
       "                             360&amp;#186;\n",
       "                         &lt;/button&gt;\n",
       "                     &lt;/li&gt;\n",
       "                     &lt;li id=\"{{js-wide-image-btn}}\" class=\"wide-btn wide-btn-photo\"&gt;\n",
       "                         &lt;button type=\"button\" class=\"button button-transparent button-underline\"&gt;\n",
       "                             Foto\n",
       "                         &lt;/button&gt;\n",
       "                     &lt;/li&gt;\n",
       "                     &lt;li id=\"{{js-wide-video-btn}}\" class=\"wide-btn\"&gt;\n",
       "                         &lt;button type=\"button\" class=\"button button-transparent button-underline\"&gt;\n",
       "                             V&amp;#237;deo\n",
       "                         &lt;/button&gt;\n",
       "                     &lt;/li&gt;\n",
       "                     &lt;li id=\"{{js-wide-map-btn}}\" class=\"wide-btn\"&gt;\n",
       "                         &lt;button type=\"button\" class=\"button button-transparent button-underline\"&gt;\n",
       "                             Mapa\n",
       "                         &lt;/button&gt;\n",
       "                     &lt;/li&gt;\n",
       "                     &lt;li id=\"{{js-wide-street-btn}}\" class=\"wide-btn\"&gt;\n",
       "                         &lt;button type=\"button\" class=\"button button-transparent button-underline\"&gt;\n",
       "                             Streetview\n",
       "                         &lt;/button&gt;\n",
       "                     &lt;/li&gt;\n",
       "                 &lt;/ul&gt;\n",
       "                 &lt;div class=\"wide-options-container f-right\"&gt;\n",
       "                     &lt;ul class=\"wide-options f-right\"&gt;\n",
       "                         &lt;li class=\"f-right\"&gt;\n",
       "                             &lt;button type=\"button\" class=\"button button-transparent\" id=\"{{js-wide-close}}\"&gt;\n",
       "                                 &lt;svg class=\"ico ico-white\" role=\"presentation\"&gt;\n",
       "                                     &lt;use xlink:href=\"//www.habitaclia.com/dotnet/content/icon/dist/src_504911268000000000.svg#ico-cross-mark\" /&gt;\n",
       "                                 &lt;/svg&gt;\n",
       "                             &lt;/button&gt;\n",
       "                         &lt;/li&gt;\n",
       "                         &lt;li class=\"f-right\"&gt;\n",
       "                             &lt;a href=\"#js-contact\" id=\"{{js-wide-contact}}\" class=\"button wide-contact\" title=\"Solicitar m&amp;#225;s informaci&amp;#243;n\"&gt;Contactar anunciante&lt;/a&gt;\n",
       "                         &lt;/li&gt;\n",
       "                         &lt;li class=\"f-right\"&gt;\n",
       "                             &lt;a id=\"{{js-wide-fav}}\" class=\"button button-transparent \" href=\"https://www.habitaclia.com/hab_usuarios/ajax/favoritos.asp?Source=i&amp;amp;codEmp=500&amp;amp;codOfi=459381&amp;amp;codInm=3933609&amp;amp;lang=E&amp;amp;clave=THCFX08J&amp;amp;Action=addAlInm\" rel=\"nofollow\" title=\"A&amp;#241;adir favorito\"&gt;\n",
       "                                 &lt;svg class=\"ico ico-white ico-hover-orange-color\" role=\"presentation\"&gt;\n",
       "                                     &lt;use xlink:href=\"//www.habitaclia.com/dotnet/content/icon/dist/src_504911268000000000.svg#ico-heart-02\" /&gt;\n",
       "                                 &lt;/svg&gt;\n",
       "                             &lt;/a&gt;\n",
       "                         &lt;/li&gt;\n",
       "                         &lt;li class=\"f-right\"&gt;\n",
       "                             &lt;button id=\"{{js-wide-share-btn}}\" type=\"button\" class=\"button button-transparent\"&gt;\n",
       "                                 &lt;svg class=\"ico ico-white ico-hover-orange-color\" role=\"presentation\"&gt;\n",
       "                                     &lt;use xlink:href=\"//www.habitaclia.com/dotnet/content/icon/dist/src_504911268000000000.svg#ico-connection\" /&gt;\n",
       "                                 &lt;/svg&gt;\n",
       "                             &lt;/button&gt;\n",
       "                             &lt;ul id=\"{{js-wide-share-list}}\" class=\"wide-share-list\"&gt;\n",
       "                                 &lt;li&gt;\n",
       "                                     &lt;a id=\"{{js-share-facebook}}\" href=\"//www.facebook.com/sharer.php?u=https://www.habitaclia.com/i500003933609%23utm_source%3Dfacebook%26utm_medium%3Dreferral%26utm_campaign%3Dcompartir\" rel=\"nofollow\" target=\"_blank\"&gt;\n",
       "                                         &lt;svg class=\"ico ico-fcbk\" role=\"presentation\"&gt;\n",
       "                                             &lt;use xlink:href=\"//www.habitaclia.com/dotnet/content/icon/dist/src_504911268000000000.svg#ico-square-social-facebook\" /&gt;\n",
       "                                         &lt;/svg&gt;\n",
       "                                     &lt;/a&gt;\n",
       "                                 &lt;/li&gt;\n",
       "                                 &lt;li&gt;\n",
       "                                     &lt;a id=\"{{js-share-twitter}}\" href=\"//twitter.com/share?original_referer=https://www.habitaclia.com/i500003933609&amp;amp;source=tweetbutton&amp;amp;text=habitaclia.com&amp;amp;url=https://www.habitaclia.com/i500003933609%23utm_source%3Dtwitter%26utm_medium%3Dreferral%26utm_campaign%3Dcompartir\" rel=\"nofollow\" target=\"_blank\"&gt;\n",
       "                                         &lt;svg class=\"ico ico-tw\" role=\"presentation\"&gt;\n",
       "                                             &lt;use xlink:href=\"//www.habitaclia.com/dotnet/content/icon/dist/src_504911268000000000.svg#ico-square-social-twitter\" /&gt;\n",
       "                                         &lt;/svg&gt;\n",
       "                                     &lt;/a&gt;\n",
       "                                 &lt;/li&gt;\n",
       "                                 &lt;li&gt;\n",
       "                                     &lt;button id=\"{{js-wide-share-friend-btn}}\" type=\"button\" class=\"button-transparent share-friend\" data-window=\"https://www.habitaclia.com/hab_inmuebles/enviarAmigo.asp?p=E-comprar-vivienda-piso-madrid-madrid_capital-1-madrid-tetuan-cuatro_caminos-500003933609&amp;amp;prom=no&amp;amp;op=rellenar\"&gt;\n",
       "                                         &lt;svg class=\"ico ico-orange u-op-06\" role=\"presentation\"&gt;\n",
       "                                             &lt;use xlink:href=\"//www.habitaclia.com/dotnet/content/icon/dist/src_504911268000000000.svg#ico-envelope-closed\" /&gt;\n",
       "                                         &lt;/svg&gt;\n",
       "                                     &lt;/button&gt;\n",
       "                                 &lt;/li&gt;\n",
       "                             &lt;/ul&gt;\n",
       "                         &lt;/li&gt;\n",
       "                     &lt;/ul&gt;\n",
       "                     &lt;ul class=\"feature-container f-right\"&gt;\n",
       "                         &lt;li class=\"feature\"&gt;\n",
       "                                 &lt;strong&gt;499.000 €&lt;/strong&gt;\n",
       "                         &lt;/li&gt;\n",
       "                             &lt;li class=\"feature\"&gt;\n",
       "                                 &lt;strong&gt;118&lt;/strong&gt; m&lt;sup&gt;2&lt;/sup&gt;\n",
       "                             &lt;/li&gt;\n",
       "                                                     &lt;li class=\"feature\"&gt; &lt;strong&gt;4&lt;/strong&gt; hab.&lt;/li&gt;\n",
       "                         &lt;li class=\"feature\"&gt;\n",
       " Cuatro Caminos                                     - \n",
       "                             Calle Orense, 43\n",
       "                         &lt;/li&gt;\n",
       "                     &lt;/ul&gt;\n",
       "                 &lt;/div&gt;\n",
       "             &lt;/div&gt;\n",
       "             &lt;article class=\"wide-main\"&gt;\n",
       "                 &lt;div class=\"wide-content\" id=\"{{js-wide-content}}\"&gt;\n",
       "                 &lt;/div&gt;\n",
       "                 &lt;button type=\"button\" id=\"{{js-wide-next}}\" title=\"\" class=\"button button-transparent wide-nav-btn\"&gt;\n",
       "                     &lt;svg class=\"ico ico-flip-x\" role=\"presentation\"&gt;\n",
       "                         &lt;use xlink:href=\"//www.habitaclia.com/dotnet/content/icon/dist/src_504911268000000000.svg#ico-arrow-right-07\" /&gt;\n",
       "                     &lt;/svg&gt;\n",
       "                 &lt;/button&gt;\n",
       "                 &lt;button type=\"button\" id=\"{{js-wide-prev}}\" title=\"\" class=\"button button-transparent wide-nav-btn wide-nav-btn-left\"&gt;\n",
       "                     &lt;svg class=\"ico\" role=\"presentation\"&gt;\n",
       "                         &lt;use xlink:href=\"//www.habitaclia.com/dotnet/content/icon/dist/src_504911268000000000.svg#ico-arrow-right-07\" /&gt;\n",
       "                     &lt;/svg&gt;\n",
       "                 &lt;/button&gt;\n",
       " \n",
       "             &lt;/article&gt;\n",
       "             &lt;div class=\"wide-footer\" id=\"{{js-wide-footer}}\"&gt;\n",
       "                 &lt;div class=\"wide-title\" id=\"{{js-wide-title}}\"&gt;\n",
       "                     &lt;span class=\"wide-title-text\"&gt;FOTO&lt;/span&gt; &lt;span class=\"wide-title-num\"&gt;&lt;/span&gt;\n",
       "                 &lt;/div&gt;\n",
       " \n",
       "                 &lt;form id=\"{{js-wide-form}}\" class=\"wide-form\"&gt;\n",
       "                     &lt;input class=\"wide-message\" name=\"message\" id=\"{{js-wide-message}}\" maxlength=\"250\" type=\"text\" placeholder=\"&amp;#191;Quieres m&amp;#225;s informaci&amp;#243;n o visitar el inmueble? Pregunta al anunciante\"&gt;\n",
       "                     &lt;input type=\"submit\" value=\"Contactar\" class=\"button wide-btn-submit\" id=\"{{js-wide-submit}}\" data-sending=\"Enviando...\" data-contact=\"Contactar\"&gt;\n",
       "                 &lt;/form&gt;\n",
       "                 \n",
       "             &lt;/div&gt;\n",
       "             &lt;div class=\"wide-thumb no-select\" id=\"{{js-wide-thumb}}\"&gt;\n",
       "                 &lt;button type=\"button\" id=\"{{js-wide-thumb-btn}}\" class=\"button-grey\"&gt;Miniaturas&lt;/button&gt;\n",
       "                 &lt;div id=\"{{js-wide-thumb-container}}\" class=\"wide-thumb-container\"&gt;\n",
       "                     &lt;ul id=\"{{js-wide-thumb-list}}\" class=\"wide-thumb-conainter\"&gt;\n",
       "                         &lt;li id=\"{{js-wide-thumb-video}}\" data-wide-order=\"0\" data-wide-type=\"video\" class=\"wide-thumb-text-btn\"&gt;V&amp;#237;deos&lt;/li&gt;\n",
       "                         &lt;li id=\"{{js-wide-thumb-map}}\" data-wide-order=\"0\" data-wide-type=\"map\" class=\"wide-thumb-text-btn\"&gt;Mapa&lt;/li&gt;\n",
       "                         &lt;li id=\"{{js-wide-thumb-street}}\" data-wide-order=\"0\" data-wide-type=\"street\" class=\"wide-thumb-text-btn\"&gt;Street View&lt;/li&gt;\n",
       "                         &lt;li id=\"{{js-wide-thumb-vid3d}}\" data-wide-order=\"0\" data-wide-type=\"vid3D\" class=\"wide-thumb-text-btn\"&gt;Visita virtual&lt;/li&gt;\n",
       "                         &lt;li id=\"{{js-wide-thumb-vid360}}\" data-wide-order=\"0\" data-wide-type=\"vid360\" class=\"wide-thumb-text-btn\"&gt;Visita virtual&lt;/li&gt;\n",
       "                     &lt;/ul&gt;\n",
       "                 &lt;/div&gt;\n",
       "             &lt;/div&gt;\n",
       "         &lt;/section&gt;\n",
       "         &lt;li id=\"{{js-card-uj-similar}}\" class=\"sim-item sim-item-uj\"&gt;\n",
       "             &lt;a href=\"/contenido/visitar-la-vivienda--que-debes-tener-en-cuenta_5.html?utm_source=user_journey&amp;utm_medium=web&amp;utm_campaign=user_journey_card_similar\" target=\"_blank\"&gt;\n",
       "                 &lt;div class=\"imagen sim-img\" style=\"background-image: url(/boletines/User_journey/images/post5/list-card-post05.jpg);\"&gt;&lt;/div&gt;\n",
       "                 &lt;div class=\"overlay-layer\"&gt;&lt;/div&gt;\n",
       "                 &lt;div class=\"descripcion sim-desc\"&gt;\n",
       "                     &lt;div class=\"sim-item-uj-title\"&gt;Visitar la vivienda: &amp;#191;qu&amp;#233; debes tener en cuenta?&lt;/div&gt;\n",
       "                     &lt;div class=\"sim-item-uj-summary\"&gt;&amp;#161;Vas a ver el piso que te gusta! &amp;#191;Qu&amp;#233; preguntar? Todo lo que observes te ayudar&amp;#225; a tomar la decisi&amp;#243;n correcta.&lt;/div&gt;\n",
       "                     &lt;div class=\"button-similar-content\"&gt;\n",
       "                         &lt;span class=\"button button-light\"&gt;Leer m&amp;#225;s&lt;/span&gt;\n",
       "                     &lt;/div&gt;\n",
       "                 &lt;/div&gt;\n",
       "             &lt;/a&gt;\n",
       "         &lt;/li&gt;\n",
       "     &lt;/div&gt;\n",
       "     \n",
       " &lt;div id=\"js-live-container\" class=\"live-container pointer-events-none\" style=\"display: block;\"&gt;\n",
       "     &lt;a href=\"javascript:void(0);\" id=\"{{liveItem}}\" target=\"_blank\" class=\"live-item pointer-events-all\" data-id=\"\" style=\"display:none;\"&gt;\n",
       "         {{image}}\n",
       "         &lt;div class=\"live-info-container\"&gt;\n",
       "             &lt;span class=\"live-title live-item-new hide-none\"&gt;\n",
       "                 &lt;svg class=\"ico ico-lilac pointe-events-none\" role=\"presentation\"&gt;\n",
       "                     &lt;use xlink:href=\"//www.habitaclia.com/dotnet/content/icon/dist/src_504911268000000000.svg#ico-plus\" /&gt;\n",
       "                 &lt;/svg&gt;\n",
       "                 &amp;#161;Hay un anuncio nuevo!\n",
       "             &lt;/span&gt;\n",
       "             &lt;span class=\"live-title live-item-up hide-none\"&gt;\n",
       "                 &lt;svg class=\"ico ico-red ico-flip-y pointe-events-none\" role=\"presentation\"&gt;\n",
       "                     &lt;use xlink:href=\"//www.habitaclia.com/dotnet/content/icon/dist/src_504911268000000000.svg#ico-arrow-down\" /&gt;\n",
       "                 &lt;/svg&gt;\n",
       "                 Acaba de subir de precio\n",
       "             &lt;/span&gt;\n",
       "             &lt;span class=\"live-title live-item-down hide-none\"&gt;\n",
       "                 &lt;svg class=\"ico ico-green pointe-events-none\" role=\"presentation\"&gt;\n",
       "                     &lt;use xlink:href=\"//www.habitaclia.com/dotnet/content/icon/dist/src_504911268000000000.svg#ico-arrow-down\" /&gt;\n",
       "                 &lt;/svg&gt;\n",
       "                 &amp;#161;Acaba de bajar de precio!\n",
       "             &lt;/span&gt;\n",
       "             {{info}}\n",
       "         &lt;/div&gt;\n",
       "         &lt;span class=\"live-item-close\"&gt;\n",
       "             &lt;svg class=\"ico ico-grey\" role=\"presentation\"&gt;\n",
       "                 &lt;use xlink:href=\"//www.habitaclia.com/dotnet/content/icon/dist/src_504911268000000000.svg#ico-cross-mark\" /&gt;\n",
       "             &lt;/svg&gt;\n",
       "         &lt;/span&gt;\n",
       "     &lt;/a&gt;\n",
       "     &lt;div id=\"js-live-options\" class=\"live-options\"&gt;\n",
       "         &lt;button type=\"button\" id=\"js-live-delete-btn\" class=\"button-transparent\"&gt;Eliminar todas&lt;/button&gt;\n",
       "     &lt;/div&gt;\n",
       " &lt;/div&gt;\n",
       " \n",
       " &lt;/main&gt;\n",
       " &lt;div id=\"js-dialog-mapa-zona\" class=\"habDialog\"&gt;&lt;/div&gt;\n",
       " &lt;div id=\"js-dialog-legal-solicitud\" class=\"habDialog\"&gt;&lt;/div&gt;\n",
       " &lt;div id=\"js-alert-detail\" class=\"habDialog alert-modal\" tabindex=\"-1\" role=\"dialog\" aria-label=\"Alertas en tu email\"&gt;&lt;/div&gt;\n",
       " \n",
       " \n",
       " \n",
       " \n",
       " \t\n",
       "     &lt;footer&gt;\n",
       "     &lt;section class=\"footer-nav bg-orange\"&gt;\n",
       "         &lt;div class=\"has-aside abs-left footer-nav-bg\"&gt;\n",
       "             &lt;svg role=\"presentation\" class=\"round-footer\"&gt;\n",
       "                 &lt;use xlink:href=\"//www.habitaclia.com/dotnet/content/icon/dist/src_504911268000000000.svg#ico-round-footer\" /&gt;\n",
       "             &lt;/svg&gt;\n",
       "         &lt;/div&gt;\n",
       " \n",
       "         &lt;div class=\"max-1440\"&gt;\n",
       "             &lt;div class=\"footer-logo f-left w-100 margin-y\"&gt;\n",
       "                 &lt;a href=\"//www.habitaclia.com/\" class=\"logo\"&gt;\n",
       "                     &lt;svg role=\"presentation\"&gt;\n",
       "                         &lt;use xlink:href=\"//www.habitaclia.com/dotnet/content/icon/dist/src_504911268000000000.svg#ico-habitaclia\" /&gt;\n",
       "                     &lt;/svg&gt;\n",
       "                 &lt;/a&gt;\n",
       "             &lt;/div&gt;\n",
       "             &lt;div class=\"has-aside\"&gt;\n",
       "                     &lt;div class=\"f-left column-footer\"&gt;\n",
       "                         &lt;ul class=\"f-left\"&gt;\n",
       "                             &lt;li&gt;&lt;a class=\"link-white\" title=\"¿Quiénes somos?\" href=\"https://www.adevinta.com/about/#our-brands\" target=\"_blank\"&gt;¿Quiénes somos?&lt;/a&gt;&lt;/li&gt;\n",
       "                             &lt;li&gt;&lt;a class=\"link-white\" title=\"Preguntas frecuentes\" href=\"//www.habitaclia.com/hab_cliente/faq.htm\"&gt;Preguntas frecuentes&lt;/a&gt;&lt;/li&gt;\n",
       "                             &lt;li&gt;&lt;a class=\"link-white\" title=\"noticias del sector inmobiliario\" target=\"_blank\" href=\"http://noticias.habitaclia.com\"&gt;Noticias del sector&lt;/a&gt;&lt;/li&gt;\n",
       "                             &lt;li&gt;&lt;a class=\"link-white\" title=\"Sala de prensa)\" href=\"//www.habitaclia.com/sobre/sala-de-prensa.htm\"&gt;Sala de prensa&lt;/a&gt;&lt;/li&gt;\n",
       "                             &lt;li class=\"line-top margin-y\"&gt;&lt;/li&gt;\n",
       "                             &lt;li&gt;&lt;a class=\"link-white\" title=\"iniciar una sesión como usuario\" href=\"//www.habitaclia.com/login\"&gt;Inicio de sesión&lt;/a&gt;&lt;/li&gt;\n",
       "                             &lt;li&gt;&lt;a class=\"link-white\" title=\"registrarse como usuario\" href=\"//www.habitaclia.com/hab_usuarios/registrousuario.asp?op=rellenar\"&gt;Registrarse&lt;/a&gt;&lt;/li&gt;\n",
       "                             &lt;li&gt;&lt;a class=\"link-white\" title=\"Anunciar gratis\" href=\"//www.habitaclia.com/hab_cliente/venderinmueble.htm\"&gt;Anunciar gratis&lt;/a&gt;&lt;/li&gt;\n",
       "                             &lt;li&gt;&lt;a class=\"link-white\" title=\"Alertas habitaclia\" href=\"//www.habitaclia.com/hab_usuarios/infoalertas.htm\"&gt;Alertas habitaclia&lt;/a&gt;&lt;/li&gt;\n",
       "                             &lt;li&gt;&lt;a class=\"link-white\" title=\"Preguntas frecuentes\" href=\"//www.habitaclia.com/hab_cliente/faq.htm\"&gt;Preguntas frecuentes&lt;/a&gt;&lt;/li&gt;\n",
       "                             &lt;li&gt;&lt;a class=\"link-white\" title=\"Trabaja con nosotros\" href=\"//www.habitaclia.com/sobre/trabaja-nosotros.htm\"&gt;Trabaja con nosotros&lt;/a&gt;&lt;/li&gt;\n",
       "                             &lt;li&gt;&lt;a class=\"link-white\" id=\"js-open-cmp-vendors\" title=\"Configurar cookies\" href=\"#\"&gt;Configurar cookies&lt;/a&gt;&lt;/li&gt;\n",
       "                             &lt;li&gt;&lt;a class=\"link-white\" id=\"js-recomendar\" href=\"//www.habitaclia.com/hab_inmuebles/enviaramigohabitaclia.asp?op=rellenar\" target=\"_blank\" rel=\"nofollow\"&gt;Recomendar habitaclia&lt;/a&gt;&lt;/li&gt;\n",
       "                             &lt;li class=\"margin-y\"&gt;&lt;/li&gt;\n",
       " \n",
       "                         &lt;/ul&gt;\n",
       "                     &lt;/div&gt;\n",
       "                     &lt;div class=\"f-left column-footer\"&gt;\n",
       "                         &lt;ul class=\"f-left\"&gt;\n",
       "                             &lt;li class=\"title\"&gt;Buscar en habitaclia&lt;/li&gt;\n",
       "                             &lt;li&gt;&lt;a class=\"link-white\" title=\"Obra nueva\" href=\"//www.habitaclia.com/obra_nueva.htm\"&gt;Obra nueva&lt;/a&gt;&lt;/li&gt;\n",
       "                             &lt;li&gt;&lt;a class=\"link-white\" title=\"Segunda mano\" href=\"//www.habitaclia.com/\"&gt;Segunda mano&lt;/a&gt;&lt;/li&gt;\n",
       "                             &lt;li&gt;&lt;a class=\"link-white\" title=\"Alquiler viviendas\" href=\"//www.habitaclia.com/alquiler.htm\"&gt;Alquileres&lt;/a&gt;&lt;/li&gt;\n",
       "                             &lt;li&gt;&lt;a class=\"link-white\" title=\"Buscador por palabras\" target=\"_blank\" href=\"//www.habitaclia.com/q\"&gt;Buscador por palabras&lt;/a&gt;&lt;/li&gt;\n",
       "                             &lt;li&gt;&lt;a class=\"link-white\" title=\"Pisos de bancos\" href=\"//www.habitaclia.com/pisos-bancos.htm\"&gt;Pisos de bancos&lt;/a&gt;&lt;/li&gt;\n",
       "                             &lt;li class=\"margin-y\"&gt;&lt;/li&gt;\n",
       " \n",
       "                             &lt;li class=\"title\"&gt;Financiación&lt;/li&gt;\n",
       "                             &lt;li&gt;&lt;a class=\"link-white js-footer-calc-hipoteca\" title=\"C&amp;#225;lculo cuotas hipoteca\"&gt;Cálculo cuotas hipoteca&lt;/a&gt;&lt;/li&gt;\n",
       "                             &lt;li&gt;&lt;a class=\"link-white\" title=\"c&amp;#225;lculo gastos hipoteca\" href=\"//www.habitaclia.com/simulador/calcgastos.htm\"&gt;Cálculo gastos&lt;/a&gt;&lt;/li&gt;\n",
       "                             &lt;li&gt;\n",
       "                                 &lt;a class=\"link-white\" title=\"Ahorro fiscal\" href=\"//www.habitaclia.com/simulador/ahorrofiscal.htm\"&gt;Ahorro fiscal&lt;/a&gt;\n",
       "                             &lt;/li&gt;\n",
       "                         &lt;/ul&gt;\n",
       "                     &lt;/div&gt;\n",
       "                     &lt;div class=\"f-left column-footer\"&gt;\n",
       "                         &lt;ul class=\"f-left\"&gt;\n",
       "                             &lt;li class=\"title\"&gt;Profesional&lt;/li&gt;\n",
       "                             &lt;li&gt;&lt;a class=\"link-white\" title=\"anunciarse en el portal\" href=\"//www.habitaclia.com/hab_cliente/publicidad.htm?origen=footerAnunciarse\"&gt;Anunciarse&lt;/a&gt;&lt;/li&gt;\n",
       "                             &lt;li&gt;&lt;a class=\"link-white\" title=\"Su propia websu propia web\" href=\"//www.habitaclia.com/hab_cliente/profesionales.htm\"&gt;Su propia web&lt;/a&gt;&lt;/li&gt;\n",
       "                             &lt;li&gt;&lt;a class=\"link-white\" title=\"acceso\" href=\"//www.habitaclia.com/hab_inmuebles/login.asp\"&gt;Acceso&lt;/a&gt;&lt;/li&gt;\n",
       "                             &lt;li&gt;&lt;a class=\"link-white\" title=\"Academy\" href=\"https://www.fotocasa.es/academy/\" target=\"_blank\"&gt;Academy&lt;/a&gt;&lt;/li&gt;\n",
       "                             &lt;li class=\"margin-y\"&gt;&lt;/li&gt;\n",
       "                         &lt;/ul&gt;\n",
       "                         &lt;ul class=\"idioma f-left\"&gt;\n",
       "                             &lt;li class=\"title\"&gt;habitaclia en tu idioma&lt;/li&gt;\n",
       "                             &lt;li&gt;\n",
       "                                 &lt;div class=\"language\"&gt;\n",
       "                                     &lt;span class=\"selected-language\"&gt;Castellano&lt;/span&gt;\n",
       "                                     &lt;ul id=\"idSelectIdioma\" class=\"hide\"&gt;\n",
       "                                         &lt;li class=\"langES\"&gt;&lt;a href=\"https://www.habitaclia.com/comprar-piso-magnifico_en_la_calle_orense_28020_orense_43_cuatro_caminos-madrid-i500003933609.htm\"&gt;Castellano&lt;/a&gt;&lt;/li&gt;\n",
       "                                         &lt;li class=\"langCA\"&gt;&lt;a href=\"//catala.habitaclia.com/comprar-pis-amb_calefaccio_orense_43_cuatro_caminos-madrid-i500003933609.htm\"&gt;Català&lt;/a&gt;&lt;/li&gt;\n",
       "                                         &lt;li class=\"langEN\"&gt;&lt;a href=\"//english.habitaclia.com/buy-flat-with_heating_orense_43_cuatro_caminos-madrid-i500003933609.htm\"&gt;English&lt;/a&gt;&lt;/li&gt;\n",
       "                                         &lt;li class=\"langFR\"&gt;&lt;a href=\"//francaise.habitaclia.com/acheter-appartement-avec_chauffage_orense_43_cuatro_caminos-madrid-i500003933609.htm\"&gt;Français&lt;/a&gt;&lt;/li&gt;\n",
       "                                         &lt;li class=\"langDE\"&gt;&lt;a href=\"//deutsch.habitaclia.com/kaufen-etagenwohnung-mit_heizung_orense_43_cuatro_caminos-madrid-i500003933609.htm\"&gt;Deutsch&lt;/a&gt;&lt;/li&gt;\n",
       "                                         &lt;li class=\"langIT\"&gt;&lt;a href=\"//italiano.habitaclia.com/compra-appartamento-con_riscaldamento_orense_43_cuatro_caminos-madrid-i500003933609.htm\"&gt;Italiano&lt;/a&gt;&lt;/li&gt;\n",
       "                                         &lt;li&gt;&lt;a href=\"https://www.habitaclia.com//hab_inmuebles/otrosidiomas.asp\"&gt;Other languages&lt;/a&gt;&lt;/li&gt;\n",
       "                                     &lt;/ul&gt;\n",
       "                                 &lt;/div&gt;\n",
       "                             &lt;/li&gt;\n",
       "                             &lt;li class=\"margin-y\"&gt;&lt;/li&gt;\n",
       "                         &lt;/ul&gt;\n",
       "                         &lt;ul class=\"f-left footer-social\"&gt;\n",
       "                             &lt;li class=\"title w-100\"&gt; habitaclia en la red&lt;/li&gt;\n",
       "                             &lt;li class=\"f-left\"&gt;\n",
       "                                 &lt;a href=\"https://twitter.com/habitaclia\" title=\"twitter habitaclia.com\" target=\"_blank\"&gt;\n",
       "                                     &lt;svg role=\"presentation\" class=\"twitter\"&gt;\n",
       "                                         &lt;use xlink:href=\"//www.habitaclia.com/dotnet/content/icon/dist/src_504911268000000000.svg#ico-square-social-twitter\" /&gt;\n",
       "                                     &lt;/svg&gt;\n",
       "                                 &lt;/a&gt;\n",
       "                             &lt;/li&gt;\n",
       "                             &lt;li class=\"f-left\"&gt;\n",
       "                                 &lt;a href=\"https://www.facebook.com/habitaclia\" title=\"facebook habitaclia.com\" target=\"_blank\"&gt;\n",
       "                                     &lt;svg role=\"presentation\" class=\"facebook\"&gt;\n",
       "                                         &lt;use xlink:href=\"//www.habitaclia.com/dotnet/content/icon/dist/src_504911268000000000.svg#ico-square-social-facebook\" /&gt;\n",
       "                                     &lt;/svg&gt;\n",
       "                                 &lt;/a&gt;\n",
       "                             &lt;/li&gt;\n",
       "                         &lt;/ul&gt;\n",
       "                     &lt;/div&gt;\n",
       "                 &lt;div class=\"opinion f-left\"&gt;\n",
       "                     &lt;a href=\"//www.habitaclia.com/hab_cliente/tuopinion.htm\" title=\"¿Tienes algún problema o sugerencia?\"&gt;\n",
       "                         &lt;svg role=\"presentation\" class=\"facebook\"&gt;\n",
       "                             &lt;use xlink:href=\"//www.habitaclia.com/dotnet/content/icon/dist/src_504911268000000000.svg#ico-user-speech-bubble\" /&gt;\n",
       "                         &lt;/svg&gt;\n",
       "                         &lt;span&gt;¿Tienes algún problema o sugerencia?&lt;/span&gt;\n",
       "                     &lt;/a&gt;\n",
       "                 &lt;/div&gt;\n",
       "             &lt;/div&gt;\n",
       "                 &lt;aside class=\"footer-aside\"&gt;\n",
       "                     &lt;img src=\"//static10.habimg.com/hab_inmuebles_img/app-retina-phone.png\" alt=\"habitaclia en tú móvil\"&gt;\n",
       "                     &lt;div class=\"f-right\"&gt;\n",
       "                         &lt;span class=\"w100 margin-y\"&gt;habitaclia donde tú quieras&lt;/span&gt;\n",
       "                         &lt;a class=\"f-left\" title=\"habitaclia en tu dispositivo Apple\" href=\"https://itunes.apple.com/es/app/habitaclia-portal-inmobiliario/id421808691\" target=\"_blank\"&gt;\n",
       "                             &lt;img src=\"//static11.habimg.com/hab_inmuebles_img/app-retina-as.png\" alt=\"habitaclia en tú iphone\"&gt;\n",
       "                         &lt;/a&gt;\n",
       "                         &lt;a class=\"f-left\" title=\"habitaclia en tu Android\" href=\"https://play.google.com/store/apps/details?id=app.habitaclia2\" target=\"_blank\"&gt;\n",
       "                             &lt;img src=\"//static11.habimg.com/hab_inmuebles_img/app-retina-gp.png\" alt=\"habitaclia en tú Android\"&gt;\n",
       "                         &lt;/a&gt;\n",
       "                     &lt;/div&gt;\n",
       "                 &lt;/aside&gt;\n",
       "         &lt;/div&gt;\n",
       " \n",
       "     &lt;/section&gt;\n",
       "         &lt;section class=\"footer-crosslink bg-grey-02\"&gt;\n",
       "             &lt;div class=\"max-1440 padding-y\"&gt;\n",
       "                 &lt;div class=\"w-100 primary-crosslink\"&gt;\n",
       "                     &lt;ul&gt;\n",
       "                         &lt;li&gt;&lt;a class=\"link-white\" title=\"pisos casas Barcelona\" href=\"//www.habitaclia.com/barcelona/pisos-casas-barcelona-e.htm\"&gt;Barcelona&lt;/a&gt;&lt;/li&gt;\n",
       "                         &lt;li&gt;&lt;a class=\"link-white\" title=\"pisos casas Girona\" href=\"//www.habitaclia.com/girona/pisos-casas-girona-e.htm\"&gt;Girona&lt;/a&gt;&lt;/li&gt;\n",
       "                         &lt;li&gt;&lt;a class=\"link-white\" title=\"pisos casas Tarragona\" href=\"//www.habitaclia.com/tarragona/pisos-casas-tarragona-e.htm\"&gt;Tarragona&lt;/a&gt;&lt;/li&gt;\n",
       "                         &lt;li&gt;&lt;a class=\"link-white\" title=\"pisos casas Lleida\" href=\"//www.habitaclia.com/lleida/pisos-casas-lleida-e.htm\"&gt;Lleida&lt;/a&gt;&lt;/li&gt;\n",
       "                         &lt;li&gt;&lt;a class=\"link-white\" title=\"pisos casas Mallorca\" href=\"//www.habitaclia.com/mallorca/pisos-casas-mallorca-e.htm\"&gt;Mallorca&lt;/a&gt;&lt;/li&gt;\n",
       "                         &lt;li&gt;&lt;a class=\"link-white\" title=\"pisos casas Menorca\" href=\"//www.habitaclia.com/menorca/pisos-casas-menorca-e.htm\"&gt;Menorca&lt;/a&gt;&lt;/li&gt;\n",
       "                         &lt;li&gt;&lt;a class=\"link-white\" title=\"pisos casas Ibiza\" href=\"//www.habitaclia.com/ibiza/pisos-casas-ibiza-e.htm\"&gt;Ibiza&lt;/a&gt;&lt;/li&gt;\n",
       "                         &lt;li&gt;&lt;a class=\"link-white\" title=\"pisos casas Andorra\" href=\"//www.habitaclia.com/andorra/pisos-casas-andorra-e.htm\"&gt;Andorra&lt;/a&gt;&lt;/li&gt;\n",
       "                         &lt;li&gt;&lt;a class=\"link-white\" title=\"pisos casas valencia\" href=\"//www.habitaclia.com/valencia/pisos-casas-valencia-e.htm\"&gt;Valencia&lt;/a&gt;&lt;/li&gt;\n",
       "                         &lt;li&gt;&lt;a class=\"link-white\" title=\"pisos casas castellon\" href=\"//www.habitaclia.com/castellon/pisos-casas-castellon-e.htm\"&gt;Castellón&lt;/a&gt;&lt;/li&gt;\n",
       "                         &lt;li&gt;&lt;a class=\"link-white\" title=\"pisos casas alicante\" href=\"//www.habitaclia.com/alicante/pisos-casas-alicante-e.htm\"&gt;Alicante&lt;/a&gt;&lt;/li&gt;\n",
       "                     &lt;/ul&gt;\n",
       "                 &lt;/div&gt;\n",
       "                     &lt;div class=\"w-100 secondary-crosslink padding-y\"&gt;\n",
       "                             &lt;a class=\"link-grey\" href=\"https://www.habitaclia.com/pisos-madrid.htm\" title=\"Pisos Madrid\"&gt;Pisos Madrid&lt;/a&gt;\n",
       "                             &lt;a class=\"link-grey\" href=\"https://www.habitaclia.com/pisos-alcala_de_henares.htm\" title=\"Pisos Alcal&amp;#225; de Henares\"&gt;Pisos Alcal&amp;#225; de Henares&lt;/a&gt;\n",
       "                             &lt;a class=\"link-grey\" href=\"https://www.habitaclia.com/pisos-torrejon_de_ardoz.htm\" title=\"Pisos Torrej&amp;#243;n de Ardoz\"&gt;Pisos Torrej&amp;#243;n de Ardoz&lt;/a&gt;\n",
       "                             &lt;a class=\"link-grey\" href=\"https://www.habitaclia.com/pisos-mostoles.htm\" title=\"Pisos M&amp;#243;stoles\"&gt;Pisos M&amp;#243;stoles&lt;/a&gt;\n",
       "                             &lt;a class=\"link-grey\" href=\"https://www.habitaclia.com/pisos-parla.htm\" title=\"Pisos Parla\"&gt;Pisos Parla&lt;/a&gt;\n",
       "                             &lt;a class=\"link-grey\" href=\"https://www.habitaclia.com/pisos-fuenlabrada.htm\" title=\"Pisos Fuenlabrada\"&gt;Pisos Fuenlabrada&lt;/a&gt;\n",
       "                             &lt;a class=\"link-grey\" href=\"https://www.habitaclia.com/pisos-alcorcon.htm\" title=\"Pisos Alcorc&amp;#243;n\"&gt;Pisos Alcorc&amp;#243;n&lt;/a&gt;\n",
       "                             &lt;a class=\"link-grey\" href=\"https://www.habitaclia.com/pisos-getafe.htm\" title=\"Pisos Getafe\"&gt;Pisos Getafe&lt;/a&gt;\n",
       "                             &lt;a class=\"link-grey\" href=\"https://www.habitaclia.com/pisos-leganes.htm\" title=\"Pisos Legan&amp;#233;s\"&gt;Pisos Legan&amp;#233;s&lt;/a&gt;\n",
       "                             &lt;a class=\"link-grey\" href=\"https://www.habitaclia.com/pisos-valdemoro.htm\" title=\"Pisos Valdemoro\"&gt;Pisos Valdemoro&lt;/a&gt;\n",
       "                             &lt;a class=\"link-grey\" href=\"https://www.habitaclia.com/pisos-collado_villalba.htm\" title=\"Pisos Collado Villalba\"&gt;Pisos Collado Villalba&lt;/a&gt;\n",
       "                             &lt;a class=\"link-grey\" href=\"https://www.habitaclia.com/pisos-san_sebastian_de_los_reyes.htm\" title=\"Pisos San Sebasti&amp;#225;n de los Reyes\"&gt;Pisos San Sebasti&amp;#225;n de los Reyes&lt;/a&gt;\n",
       "                             &lt;a class=\"link-grey\" href=\"https://www.habitaclia.com/pisos-coslada.htm\" title=\"Pisos Coslada\"&gt;Pisos Coslada&lt;/a&gt;\n",
       "                             &lt;a class=\"link-grey\" href=\"https://www.habitaclia.com/pisos-aranjuez.htm\" title=\"Pisos Aranjuez\"&gt;Pisos Aranjuez&lt;/a&gt;\n",
       "                             &lt;a class=\"link-grey\" href=\"https://www.habitaclia.com/pisos-rozas_de_madrid.htm\" title=\"Pisos Rozas de Madrid (Las)\"&gt;Pisos Rozas de Madrid (Las)&lt;/a&gt;\n",
       "                             &lt;a class=\"link-grey\" href=\"https://www.habitaclia.com/pisos-pinto.htm\" title=\"Pisos Pinto\"&gt;Pisos Pinto&lt;/a&gt;\n",
       "                             &lt;a class=\"link-grey\" href=\"https://www.habitaclia.com/pisos-alcobendas.htm\" title=\"Pisos Alcobendas\"&gt;Pisos Alcobendas&lt;/a&gt;\n",
       "                             &lt;a class=\"link-grey\" href=\"https://www.habitaclia.com/pisos-ciempozuelos.htm\" title=\"Pisos Ciempozuelos\"&gt;Pisos Ciempozuelos&lt;/a&gt;\n",
       "                             &lt;a class=\"link-grey\" href=\"https://www.habitaclia.com/pisos-pozuelo_de_alarcon.htm\" title=\"Pisos Pozuelo de Alarc&amp;#243;n\"&gt;Pisos Pozuelo de Alarc&amp;#243;n&lt;/a&gt;\n",
       "                             &lt;a class=\"link-grey\" href=\"https://www.habitaclia.com/pisos-majadahonda.htm\" title=\"Pisos Majadahonda\"&gt;Pisos Majadahonda&lt;/a&gt;\n",
       "                             &lt;a class=\"link-grey\" href=\"https://www.habitaclia.com/pisos-colmenar_viejo.htm\" title=\"Pisos Colmenar Viejo\"&gt;Pisos Colmenar Viejo&lt;/a&gt;\n",
       "                             &lt;a class=\"link-grey\" href=\"https://www.habitaclia.com/pisos-mejorada_del_campo.htm\" title=\"Pisos Mejorada del Campo\"&gt;Pisos Mejorada del Campo&lt;/a&gt;\n",
       "                             &lt;a class=\"link-grey\" href=\"https://www.habitaclia.com/pisos-humanes_de_madrid.htm\" title=\"Pisos Humanes de Madrid\"&gt;Pisos Humanes de Madrid&lt;/a&gt;\n",
       "                             &lt;a class=\"link-grey\" href=\"https://www.habitaclia.com/pisos-navalcarnero.htm\" title=\"Pisos Navalcarnero\"&gt;Pisos Navalcarnero&lt;/a&gt;\n",
       "                             &lt;a class=\"link-grey\" href=\"https://www.habitaclia.com/pisos-san_fernando_de_henares.htm\" title=\"Pisos San Fernando de Henares\"&gt;Pisos San Fernando de Henares&lt;/a&gt;\n",
       "                             &lt;a class=\"link-grey\" href=\"https://www.habitaclia.com/pisos-san_martin_de_la_vega.htm\" title=\"Pisos San Mart&amp;#237;n de la Vega\"&gt;Pisos San Mart&amp;#237;n de la Vega&lt;/a&gt;\n",
       "                             &lt;a class=\"link-grey\" href=\"https://www.habitaclia.com/pisos-rivas___vaciamadrid.htm\" title=\"Pisos Rivas - Vaciamadrid\"&gt;Pisos Rivas - Vaciamadrid&lt;/a&gt;\n",
       "                             &lt;a class=\"link-grey\" href=\"https://www.habitaclia.com/pisos-villaviciosa_de_odon.htm\" title=\"Pisos Villaviciosa de Od&amp;#243;n\"&gt;Pisos Villaviciosa de Od&amp;#243;n&lt;/a&gt;\n",
       "                             &lt;a class=\"link-grey\" href=\"https://www.habitaclia.com/pisos-san_lorenzo_de_el_escorial.htm\" title=\"Pisos San Lorenzo de El Escorial\"&gt;Pisos San Lorenzo de El Escorial&lt;/a&gt;\n",
       "                             &lt;a class=\"link-grey\" href=\"https://www.habitaclia.com/pisos-tres_cantos.htm\" title=\"Pisos Tres Cantos\"&gt;Pisos Tres Cantos&lt;/a&gt;\n",
       "                             &lt;a class=\"link-grey\" href=\"https://www.habitaclia.com/pisos-la_moraleja.htm\" title=\"Pisos La Moraleja\"&gt;Pisos La Moraleja&lt;/a&gt;\n",
       "                             &lt;a class=\"link-grey\" href=\"https://www.habitaclia.com/pisos-guadarrama.htm\" title=\"Pisos Guadarrama\"&gt;Pisos Guadarrama&lt;/a&gt;\n",
       "                             &lt;a class=\"link-grey\" href=\"https://www.habitaclia.com/pisos-algete.htm\" title=\"Pisos Algete\"&gt;Pisos Algete&lt;/a&gt;\n",
       "                             &lt;a class=\"link-grey\" href=\"https://www.habitaclia.com/pisos-villanueva_del_pardillo.htm\" title=\"Pisos Villanueva del Pardillo\"&gt;Pisos Villanueva del Pardillo&lt;/a&gt;\n",
       "                             &lt;a class=\"link-grey\" href=\"https://www.habitaclia.com/pisos-brunete.htm\" title=\"Pisos Brunete\"&gt;Pisos Brunete&lt;/a&gt;\n",
       "                             &lt;a class=\"link-grey\" href=\"https://www.habitaclia.com/pisos-boadilla_del_monte.htm\" title=\"Pisos Boadilla del Monte\"&gt;Pisos Boadilla del Monte&lt;/a&gt;\n",
       "                             &lt;a class=\"link-grey\" href=\"https://www.habitaclia.com/pisos-loeches.htm\" title=\"Pisos Loeches\"&gt;Pisos Loeches&lt;/a&gt;\n",
       "                             &lt;a class=\"link-grey\" href=\"https://www.habitaclia.com/pisos-escorial.htm\" title=\"Pisos Escorial (El)\"&gt;Pisos Escorial (El)&lt;/a&gt;\n",
       "                             &lt;a class=\"link-grey\" href=\"https://www.habitaclia.com/pisos-morata_de_tajuna.htm\" title=\"Pisos Morata de Taju&amp;#241;a\"&gt;Pisos Morata de Taju&amp;#241;a&lt;/a&gt;\n",
       "                             &lt;a class=\"link-grey\" href=\"https://www.habitaclia.com/pisos-san_martin_de_valdeiglesias.htm\" title=\"Pisos San Mart&amp;#237;n de Valdeiglesias\"&gt;Pisos San Mart&amp;#237;n de Valdeiglesias&lt;/a&gt;\n",
       "                             &lt;a class=\"link-grey\" href=\"https://www.habitaclia.com/pisos-villanueva_de_la_canada.htm\" title=\"Pisos Villanueva de la Ca&amp;#241;ada\"&gt;Pisos Villanueva de la Ca&amp;#241;ada&lt;/a&gt;\n",
       "                             &lt;a class=\"link-grey\" href=\"https://www.habitaclia.com/pisos-molar_madrid.htm\" title=\"Pisos Molar (El)\"&gt;Pisos Molar (El)&lt;/a&gt;\n",
       "                             &lt;a class=\"link-grey\" href=\"https://www.habitaclia.com/pisos-meco.htm\" title=\"Pisos Meco\"&gt;Pisos Meco&lt;/a&gt;\n",
       "                             &lt;a class=\"link-grey\" href=\"https://www.habitaclia.com/pisos-alpedrete.htm\" title=\"Pisos Alpedrete\"&gt;Pisos Alpedrete&lt;/a&gt;\n",
       "                             &lt;a class=\"link-grey\" href=\"https://www.habitaclia.com/pisos-collado_mediano.htm\" title=\"Pisos Collado Mediano\"&gt;Pisos Collado Mediano&lt;/a&gt;\n",
       "                             &lt;a class=\"link-grey\" href=\"https://www.habitaclia.com/pisos-miraflores_de_la_sierra.htm\" title=\"Pisos Miraflores de la Sierra\"&gt;Pisos Miraflores de la Sierra&lt;/a&gt;\n",
       "                             &lt;a class=\"link-grey\" href=\"https://www.habitaclia.com/pisos-valdemorillo.htm\" title=\"Pisos Valdemorillo\"&gt;Pisos Valdemorillo&lt;/a&gt;\n",
       "                             &lt;a class=\"link-grey\" href=\"https://www.habitaclia.com/pisos-torrelodones.htm\" title=\"Pisos Torrelodones\"&gt;Pisos Torrelodones&lt;/a&gt;\n",
       "                             &lt;a class=\"link-grey\" href=\"https://www.habitaclia.com/pisos-colmenarejo.htm\" title=\"Pisos Colmenarejo\"&gt;Pisos Colmenarejo&lt;/a&gt;\n",
       "                             &lt;a class=\"link-grey\" href=\"https://www.habitaclia.com/pisos-moralzarzal.htm\" title=\"Pisos Moralzarzal\"&gt;Pisos Moralzarzal&lt;/a&gt;\n",
       " \n",
       "                     &lt;/div&gt;\n",
       "             &lt;/div&gt;\n",
       "         &lt;/section&gt;\n",
       "     &lt;section class=\"footer-legal line-top bg-grey-02\"&gt;\n",
       "         &lt;div class=\"max-1440 padding-y\"&gt;\n",
       "             &lt;div&gt;\n",
       "                 &lt;div&gt;\n",
       "                     &lt;a rel=\"nofollow\" class=\"link-white\" href=\"//www.habitaclia.com/hab_cliente/legal_aviso.asp\" target=\"_blank\" title=\"Aviso Legal\"&gt;Aviso Legal&lt;/a&gt;\n",
       "                     -\n",
       "                     &lt;a rel=\"nofollow\" class=\"link-white\" href=\"//www.habitaclia.com/hab_cliente/legal.asp\" target=\"_blank\" title=\"Política de privacidad\"&gt;Política de privacidad&lt;/a&gt;\n",
       "                     -\n",
       "                     &lt;a rel=\"nofollow\" class=\"link-white\" href=\"//www.habitaclia.com//hab_cliente/legal_cookies.asp\" target=\"_blank\" title=\"Política de cookies\"&gt;Política de cookies&lt;/a&gt;\n",
       "                 &lt;/div&gt;\n",
       "                 &lt;div class=\"f-left footer-schibsted text-grey\"&gt;habitaclia es parte de &lt;a class=\"link-grey\" href=\"https://www.adevinta.com/es/spain\" target=\"_blank\"&gt;Adevinta&lt;/a&gt; junto con &lt;/div&gt;\n",
       "                 &lt;div class=\"f-left footer-schibsted text-grey\"&gt;\n",
       "                     &lt;a class=\"link-grey\" href=\"https://www.fotocasa.es/\" title=\"fotocasa.es\" target=\"_blank\"&gt;Fotocasa&lt;/a&gt; -\n",
       "                     &lt;a class=\"link-grey\" href=\"https://www.infojobs.net/\" title=\"infojobs.net\" target=\"_blank\"&gt;Infojobs&lt;/a&gt; -\n",
       "                     &lt;a class=\"link-grey\" href=\"https://www.coches.net/\" title=\"coches.net\" target=\"_blank\"&gt;coches.net&lt;/a&gt; -\n",
       "                     &lt;a class=\"link-grey\" href=\"https://motos.coches.net/\" title=\"motos.net\" target=\"_blank\"&gt;motos.net&lt;/a&gt; -\n",
       "                     &lt;a class=\"link-grey\" href=\"https://www.milanuncios.com/\" title=\"milanuncios.com\" target=\"_blank\"&gt;Milanuncios&lt;/a&gt; -\n",
       "                     &lt;a class=\"link-grey\" href=\"https://www.vibbo.com/\" title=\"vibbo.com\" target=\"_blank\"&gt;vibbo&lt;/a&gt;  © Adevinta Spain S.L.U.\n",
       "                 &lt;/div&gt;\n",
       "                 &lt;div class=\"f-right\"&gt;;)&lt;/div&gt;\n",
       "             &lt;/div&gt;\n",
       "         &lt;/div&gt;\n",
       "     &lt;/section&gt;\n",
       " \n",
       " &lt;/footer&gt;\n",
       " &lt;script&gt;\n",
       "      var MortgageLeadDTOFooter = {\n",
       "             UrlApiMortgage: 'https://webapi.habitaclia.com/mortgages/api/v1/leads',\n",
       "             Name: '',\n",
       "             Email: '',\n",
       "             Phone: '',\n",
       "             ProvinceCode: '5',\n",
       "             PropertyPrice: '',\n",
       "             Device: 'Desktop',\n",
       "             DefaultHref: 'http://hipotecas.habitaclia.com/landing/hipotecas/te-concederan/?utm_source=HBTCL&amp;amp;utm_medium=whitelabel&amp;amp;utm_content=textlink&amp;amp;utm_campaign=hipotecas',\n",
       "             UserId: ''\n",
       "     };\n",
       "     // require('./modules/footer');\n",
       " &lt;/script&gt;\n",
       " \n",
       " \n",
       " \n",
       " \t&lt;div id=\"js-modal-container\" class=\"modal-container\"&gt;&lt;/div&gt;\n",
       " \t&lt;div id=\"legalCookies\"&gt;&lt;/div&gt;\n",
       " \t&lt;div id=\"login\"&gt;&lt;/div&gt;\n",
       " \t&lt;script&gt;\n",
       " \t\tvar HeaderDTO = {\n",
       " \t\tidioma: 'E',\n",
       " \t\tcodPais: 1,\n",
       " \t\tcodProv: 5,\n",
       " \t\tcodCom: 123,\n",
       " \t\tcodArea: 1,\n",
       " \t\tcodPob: 796,\n",
       " \t\tcodDist: 300,\n",
       " \t\ttipReg: '',\n",
       " \t\ttipOp: 'V',\n",
       " \t\ttipInm: 1,\n",
       " \t\ttipInm2: 0,\n",
       " \t\turlGetMapsHabitacliaASP: '//www.habitaclia.com/hab_inmuebles/ajax/getMapsHabitaclia.asp',\n",
       " \t\tversionArchivos: '20170227',\n",
       " \t\tdevice: 'desktop',\n",
       " \t\turlHabitaclia: '//www.habitaclia.com',\n",
       " \t\tUrlAjaxBusquedas: '//www.habitaclia.com/hab_usuarios/ajax/busquedas.asp',\n",
       " \t\tUrlAjaxNotificaciones: '//www.habitaclia.com/hab_usuarios/ajax/notificaciones.asp',\n",
       " \t\tisUserLogged: 'False',\n",
       " \t\turlRecargarMenuUsuario: '/dotnet/Menu/GetMenuUsuario',\n",
       " \t\t};\n",
       " \n",
       " \t\tvar AccountUserDTO = {\n",
       " \t\turlAjaxLogin: '//www.habitaclia.com/hab_usuarios/ajax/login.asp',\n",
       " \t\turlLoginUsuario: '//www.habitaclia.com/login',\n",
       " \t\turlPublicidad: '//www.habitaclia.com/hab_cliente/publicidad.htm',\n",
       " \t\turlCaptcha: '//www.habitaclia.com/hab_usuarios/captcha.asp?_t=',\n",
       " \t\turlRegistroUsuario: '//www.habitaclia.com/hab_usuarios/registrousuario.asp',\n",
       " \t\turlTuOpinion: '//www.habitaclia.com/hab_cliente/tuopinion.htm',\n",
       " \t\turlNext: '',\n",
       " \t\turlGoogleRegister: '/dotnet/login/google/autologin',\n",
       " \t\turlFacebookRegister: '/dotnet/login/facebook/autologin',\n",
       " \t\tnav: 'ficha',\n",
       " \t\tidioma: 'E',\n",
       " \t\ttraducciones: {\n",
       " \t\tidDialogTitleStartSession: \"Iniciar sesión\",\n",
       " \t\tidEresUnProfesional: \"¿Eres un profesional inmobiliario?\",\n",
       " \t\tidIrAProfesionales: \"Ir a profesionales\",\n",
       " \t\tidErrIncorrectData: \"Datos incorrectos. Revisa tu email y contraseña\",\n",
       " \t\tidErrBadMailEmpty: \"Revisa tu email\",\n",
       " \t\tidErrAjax: \"Se ha generado un error al enviar los datos, repite de nuevo el proceso y si sigue sin funcionar contacta con nosotros. Disculpa las molestias.\",\n",
       " \t\tidDialogTitleSendedActivationMail: \"Email de activación reenviado\",\n",
       " \t\tidDialogTitleNotActivatedAccount: \"Tu cuenta no está activada\",\n",
       " \t\tidDialogContentNotActivatedAccount1: \"Vaya! parece que tu cuenta no está activada. ¿Quieres que te reenviemos el mail?\",\n",
       " \t\tidDialogContentNotActivatedAccount3: \"Si no lo recibes comprueba la bandeja de spam\",\n",
       " \t\tidButtonResendMail: \"Reenviar el email\",\n",
       " \t\tidDialogContentSendActivationMail1: \"Hemos enviado el email de activación a tu correo \",\n",
       " \t\tidDialogContentSendActivationMail2: \"Si no lo recibes, revisa la carpeta de correo no deseado.\",\n",
       " \t\tidButtonClose: \"Cerrar\",\n",
       " \t\tidDialogTitleCreateAccount: 'Crear cuenta',\n",
       " \t\tidErrBadAcountForm: \"Es necesario que completes los campos necesarios para que podamos crearte una cuenta\",\n",
       " \t\tidErrBadEmptyName: \"El nombre no puede estar vacío\",\n",
       " \t\tidErrBadMail: \"Creemos que el email que has escrito no es válido, vuelve a escribirlo\",\n",
       " \t\tidErrBadEmptyPassword: \"La contraseña no puede estar vacía\",\n",
       " \t\tidErrBadEmptyPassword2: \"La repetición de la contraseña no puede estar vacía\",\n",
       " \t\tidErrBadLengthPassword: \"La contraseña debe ser superior a 4 caracteres\",\n",
       " \t\tidErrBadPasswords: \"Las contraseñas no coinciden\",\n",
       " \t\tidErrBadCaptcha: \"El código introducido no es correcto\",\n",
       " \t\tidErrAvisoLegal: \"Debes aceptar el aviso legal\",\n",
       " \t\tidDialogTitleLegal: \"Completa el registro\",\n",
       " \t\tidDialogBtnLegal: \"Continuar\",\n",
       " \t\tidDialogBodyLegal: \"Ya casi estás\",\n",
       " \t\tavisoLegal: \"aviso legal\",\n",
       " \t\tacepto: \"Acepto\",\n",
       " \t\tpoliticaPrivacidad: \"y la política de privacidad\"\n",
       " \t\t}\n",
       " \t\t};\n",
       " \n",
       " \t\tvar ModalLegalDTO = {\n",
       " \t\turlLegal: '//www.habitaclia.com/hab_cliente/legalcontentmodal.asp',\n",
       " \t\turlLegalAviso: '//www.habitaclia.com/hab_cliente/legalavisocontentmodal.asp',\n",
       " \t\tlegalUsuariosComponent: 'legal-alertas',\n",
       " \t\tlegalSolicitudesComponent: 'legal-contacto',\n",
       " \t\ttraducciones: {\n",
       " \t\ttitleAvisoLegalUsuarios: 'Aviso Legal para Usuarios Registrados de habitaclia.com',\n",
       " \t\ttitlePoliticaPrivacidad: 'Pol&amp;#237;tica de privacidad para Usuarios Registrados de habitaclia.com',\n",
       " \t\ttitleProteccionDatos: 'Protecci&amp;#243;n de datos',\n",
       " \t\tcerrar: 'Cerrar',\n",
       " \t\timprimir: 'Imprimir'\n",
       " \t\t}\n",
       " \t\t};\n",
       " \n",
       " \t\tvar facebookDTO = {\n",
       " \t\tisUserLogged: 'False',\n",
       " \t\turlLoginClassicASP: 'https://www.habitaclia.com/social/facebook/instant/',\n",
       " \t\t//urlInstant: '/social/facebook/instant/',\n",
       " \t\turlInstant: '//api.habitaclia.com/security/api/auth/facebook',\n",
       " \t\turlLogin: '//api.habitaclia.com/security/api/auth/facebook'\n",
       " \t\t};\n",
       " \n",
       " \t\tvar googleLoginDTO = {\n",
       " \t\turlInstant: '//api.habitaclia.com/security/api/auth/google',\n",
       " \t\t//urlInstant: '/dotnet/login/google',\n",
       " \t\turlLogin: '//api.habitaclia.com/security/api/auth/google'\n",
       " \t\t};\n",
       " \n",
       " \t\tvar CredentialManagementDTO = {\n",
       " \t\tuserIsLogged: false,\n",
       " \t\tidioma: 'E',\n",
       " \t\tisMobile: false,\n",
       " \t\tisMobileApp: false,\n",
       " \t\tdomainName: 'habitaclia.com',\n",
       " \t\toneTapId: '801886362762-la2h18tb4q102m151liamv9cb8f4nbdm.apps.googleusercontent.com'\n",
       " \t\t};\n",
       " \n",
       " \t\tvar SegmentDTO = {\n",
       " \t\tsegmentId: \"oolsqN0dPzP8WSfGKcBpEiqMg1ZZXemr\",\n",
       " \t\tpageViewedEventName: \"Detail Viewed\",\n",
       " \t\tpageViewedEventData: JSON.parse(\"{\\\"channel\\\":\\\"ads\\\",\\\"language\\\":\\\"es\\\",\\\"page_name\\\":\\\"detail\\\",\\\"page_type\\\":\\\"detail\\\",\\\"platform\\\":\\\"web\\\",\\\"site\\\":\\\"habitaclia\\\",\\\"vertical\\\":\\\"realestate\\\",\\\"ad_publisher_id\\\":\\\"500-459381\\\",\\\"ad_publisher_type\\\":\\\"PRIVATE\\\",\\\"ad_title\\\":\\\"Piso en calle orense magnífico piso en la calle orense 28020 en Madrid\\\",\\\"city\\\":\\\"Madrid\\\",\\\"city_id\\\":\\\"796\\\",\\\"company\\\":\\\"Particular\\\",\\\"country\\\":\\\"España\\\",\\\"county\\\":\\\"Madrid Capital\\\",\\\"district\\\":\\\"Tetuán\\\",\\\"district_id\\\":\\\"300\\\",\\\"locality\\\":\\\"Madrid\\\",\\\"locality_id\\\":\\\"796\\\",\\\"mts2\\\":118,\\\"neighbourhood\\\":\\\"Cuatro Caminos\\\",\\\"neighbourhood_id\\\":\\\"305\\\",\\\"postal_code\\\":\\\"00000\\\",\\\"price\\\":499000.0,\\\"property\\\":\\\"HOME\\\",\\\"property_sub\\\":\\\"FLAT\\\",\\\"region_level1\\\":\\\"\\\",\\\"region_level2\\\":\\\"Madrid\\\",\\\"region_level2_id\\\":\\\"5\\\",\\\"rooms\\\":4,\\\"sell_type\\\":\\\"SECOND_HAND\\\",\\\"street\\\":\\\"Madrid - Cuatro Caminos - Calle Orense, 43\\\",\\\"transaction\\\":\\\"SALE\\\",\\\"id\\\":\\\"500003933609\\\",\\\"products\\\":[{\\\"id\\\":\\\"500003933609\\\",\\\"category\\\":\\\"ads\\\",\\\"ad_view\\\":\\\"1\\\",\\\"ad_publisher_id\\\":\\\"500-459381\\\",\\\"realestateadid\\\":\\\"\\\"}]}\"),\n",
       " \t\tisUserLogged: false,\n",
       " \t\tuserId: \"0\",\n",
       " \t\tuserEmail: \"\"\n",
       " \t\t};\n",
       " \t&lt;/script&gt;\n",
       " \t\t&lt;script&gt;\n",
       " \t\t\tvar link = document.createElement('link');\n",
       " \t\t\tlink.rel = 'stylesheet';\n",
       " \t\t\tlink.href = '//static4.habimg.com/dotnet/content/css/dist/styles_637534071160000000.css';\n",
       " \t\t\tlink.crossOrigin = 'anonymous';\n",
       " \t\t\tlink.type = 'text/css';\n",
       " \t\t\tdocument.head.appendChild(link);\n",
       " \t\t&lt;/script&gt;\n",
       " \t\t&lt;noscript&gt;\n",
       " \t\t\t&lt;link rel=\"stylesheet\" type=\"text/css\"\n",
       " \t\t\thref=\"//static4.habimg.com/dotnet/content/css/dist/styles_637534071160000000.css\" /&gt;\n",
       " \t\t&lt;/noscript&gt;\n",
       " \t\n",
       "         &lt;iframe src=\"//creativecdn.com/tags?id=pr_JoGvUe1RI95UfszduVd9_offer_500003933609\" width=\"1\" height=\"1\" scrolling=\"no\" frameborder=\"0\" style=\"display: none;\"&gt;&lt;/iframe&gt;\n",
       " \n",
       "     &lt;script&gt;\n",
       " \t    var CriteoDTO = {\n",
       " \t\t    eventList : JSON.parse(JSON.stringify([{event: 'viewItem', account: 4079, item: '500003933609'},{event: 'viewList', account: 4079, item: ['19901000000054','24784000000296','31703000000058']},{event: 'viewSearch', account: 4079, region: 'MADRID'},{event: 'setSiteType', account: 4079, type: 'd'}])),\n",
       " \t\t    eventViewBasket: JSON.parse(JSON.stringify([{event: 'viewBasket', account: 4079, item: [{ id: '500003933609', price:499000, quantity: 1}]},{event: 'viewSearch', account: 4079, region: 'MADRID'},{event: 'setSiteType', account: 4079, type: 'd'}])),\n",
       " \t\t    eventSolicitudTrackTransaction: JSON.parse(JSON.stringify([{event: 'trackTransaction', account: 4079, id: '202105068zu9pip', item:[{ id: '500003933609', price: 1 , quantity: 1 }]},{event: 'viewSearch', account: 4079, region: 'MADRID'},{event: 'setSiteType', account: 4079, type: 'd'}]))\n",
       " \t    };\n",
       " \n",
       " \t    var CriteoMixedDTO = {\n",
       " \t\t    eventList : JSON.parse(JSON.stringify([{event: 'viewItem', account: 49212, item: '500003933609'},{event: 'viewSearch', account: 49212, region: 'MADRID'},{event: 'setSiteType', account: 49212, type: 'd'}])),\n",
       " \t\t    eventViewBasket: JSON.parse(JSON.stringify([{event: 'viewBasket', account: 49212, item: [{ id: '500003933609', price:499000, quantity: 1}]},{event: 'viewSearch', account: 49212, region: 'MADRID'},{event: 'setSiteType', account: 49212, type: 'd'}])),\n",
       " \t\t    eventSolicitudTrackTransaction: JSON.parse(JSON.stringify([{event: 'trackTransaction', account: 49212, id: '202105068hd4ey9', item:[{ id: '500003933609', price: 1 , quantity: 1 }]},{event: 'viewSearch', account: 49212, region: 'MADRID'},{event: 'setSiteType', account: 49212, type: 'd'}]))\n",
       " \t    };\n",
       " \n",
       " \t    var FacebookDTO = {\n",
       " \t\t    IdProduct: '500003933609'\n",
       " \t    };\n",
       " \n",
       " \n",
       " \t    var RtbHouseDTO = {\n",
       " \t\t    codigoAnuncio: '500003933609'\n",
       " \t    };\n",
       " \n",
       " \t    var GTMEvents = {\n",
       " \t\t    gtmIrAFormularioContacto : JSON.parse(JSON.stringify({\"eventCategory\":\"contactar\",\"eventAction\":\"ficha\",\"eventLabel\":\"contactarflotante\",\"event\":\"ga-event\"})),\n",
       " \t\t    gtmModalAvisameCriterioListado: JSON.parse(JSON.stringify({\"event\":\"ga-event\",\"eventCategory\":\"alertas\",\"eventAction\":\"criterio-listado\",\"eventLabel\":\"madrid_capital-madrid-tetuan-cuatro_caminos\",\"busqueda-operacionTipo\":\"comprar-vivienda\",\"busqueda-provincia\":\"madrid\",\"busqueda-comarca\":\"madrid_capital\",\"busqueda-poblacion\":\"madrid\",\"busqueda-zona\":\"tetuan-cuatro_caminos\",\"busqueda-superficie\":\"undefined\",\"busqueda-habitaciones\":\"undefined\",\"busqueda-precio\":\"undefined\",\"Busqueda-filtros\":\"undefined\",\"Busqueda-ordenacion\":\"undefined\",\"busqueda-tipolistado\":\"vlista\",\"busqueda-tipo\":\"clasica\",\"usuario-idUsuario\":\"0\"})),\n",
       " \t\t    gtmModalAvisameCriterioInmueble: JSON.parse(JSON.stringify({\"event\":\"ga-event\",\"eventCategory\":\"alertas\",\"eventAction\":\"criterio-inmueble\",\"eventLabel\":\"madrid_capital-madrid-tetuan-cuatro_caminos\",\"busqueda-operacionTipo\":\"comprar-vivienda\",\"busqueda-provincia\":\"madrid\",\"busqueda-comarca\":\"madrid_capital\",\"busqueda-poblacion\":\"madrid\",\"busqueda-zona\":\"tetuan-cuatro_caminos\",\"busqueda-superficie\":\"undefined\",\"busqueda-habitaciones\":\"undefined\",\"busqueda-precio\":\"undefined\",\"Busqueda-filtros\":\"undefined\",\"Busqueda-ordenacion\":\"undefined\",\"busqueda-tipolistado\":\"vlista\",\"busqueda-tipo\":\"clasica\",\"usuario-idUsuario\":\"0\"})),\n",
       " \t\t    gtmVirtualPageAmpliarFoto: JSON.parse(JSON.stringify({\"event\":\"virtualPage\",\"pageName\":null,\"tipo\":\"fotos\",\"contenido\":\"500003933609-19\",\"operacionTipo\":\"comprar-vivienda\",\"provincia\":\"madrid\",\"comarca-poblacion\":\"madrid_capital-madrid\"}))\n",
       " \t    };\n",
       " \n",
       " \t    var FavoritosDTO = {\n",
       " \t\t    UrlAnadirFavorito: 'https://www.habitaclia.com/hab_usuarios/ajax/favoritos.asp?Source=i&amp;codEmp=500&amp;codOfi=459381&amp;codInm=3933609&amp;lang=E&amp;clave=THCFX08J&amp;Action=addAlInm',\n",
       " \t\t    FavoritoDataAjax: '?Source=i&amp;codEmp=500&amp;codOfi=459381&amp;codInm=3933609&amp;lang=E&amp;clave=THCFX08J&amp;Action=addAlInm',\n",
       " \t\t    UserIsLogged: 'False',\n",
       " \t\t    UrlLogin:'https://www.habitaclia.com/login?urlRedirect=%2fcomprar-piso-magnifico_en_la_calle_orense_28020_orense_43_cuatro_caminos-madrid-i500003933609.htm%3fpag%3d651%26f%3d%26geo%3dp%26from%3dlist%26lo%3d55',\n",
       " \t\t    FavoritoAction: 'addAlInm',\n",
       " \t\t    urlAddAlerta : 'https://www.habitaclia.com/hab_usuarios/m_registrocorreo.asp?P=E-comprar-vivienda-piso-madrid-madrid_capital-1-madrid-tetuan-cuatro_caminos-500003933609&amp;hab=99&amp;filtro_periodo=0&amp;pmax=99999999&amp;m2=0',\n",
       " \t\t    urlRemoveAlerta: '/hab_usuarios/ajax/favoritos.asp?action=&amp;Source=i&amp;codEmp=500&amp;codOfi=459381&amp;codInm=3933609&amp;lang=E&amp;clave=MEOSYXCZ',\n",
       " \t\t    textoAlerta:'Avísame si baja',\n",
       " \t\t    UrlRateFav: '/dotnet/ficha/favrate',\n",
       " \t\t    UrlCommentFav: '/dotnet/ficha/favcomment',\n",
       " \t\t    loginPage: 'login'\n",
       " \t    };\n",
       " \n",
       " \t    var SolicitudDTO = {\n",
       " \t\t    UrlAjaxTrazarEnviadaASP: '/dotnet/solicitud/SolicitudEnviada_A_ASP',\n",
       " \t\t    UrlAjaxTrazarSolicitudCorrecta: '/dotnet/solicitud/SolicitudNET_Correcta',\n",
       " \t\t    UrlAjaxTrazarSolicitudErronea: '/dotnet/solicitud/SolicitudNET_Erronea',\n",
       " \t\t    UrlAjaxContactarAsp: '//www.habitaclia.com/hab_inmuebles/solicitud.asp?p=E-X-X-X-X-X-X-X-X-X-{0}&amp;amp;motivo=solicitar&amp;amp;multimarca=movile&amp;amp;op=enviar&amp;amp;espromo=false&amp;amp;lo=&amp;amp;le=',\n",
       " \t\t    UrlAjaxValidarCaptcha: '/dotnet/solicitud/ValidarCaptcha',\n",
       " \t\t    UrlAjaxNuevosValoresCaptcha: '/dotnet/solicitud/GetNuevosValoresCaptcha',\n",
       " \t\t    CodEmp: '500',\n",
       " \t\t    CodigoProducto: '3933609',\n",
       " \t\t    EsSolicitudPromocion: 'False',\n",
       " \t\t    CodOfi: '459381',\n",
       " \t\t    EsSolicitudSolvia: 'False',\n",
       " \t\t    EsCaptchaActivo: 'True',\n",
       " \t\t    UrlVerTelefono: '/dotnet/solicitud/vertelefono',\n",
       " \t\t    HrefVerContactos: '//www.habitaclia.com/hab_usuarios/views/usuario/solicitudes/usuarioSolicitudesContent.asp?cod_emp=500&amp;amp;cod_inm=3933609',\n",
       " \t\t    CodigoAnuncio: '500003933609',\n",
       " \t\t    idUsuario: 0,\n",
       " \t\t    MApp: 'False',\n",
       " \t\t    ULoggued: 'False',\n",
       " \t\t    gtmcoupon: '',\n",
       " \t\t    Translate:{\n",
       " \t\t\t    ContactedSimilar: \"Contacto enviado\",\n",
       " \t\t\t    ContactedSimilarMessage: \"Quiero que me contacten\",\n",
       " \t\t\t    LegalObligatory: \"Debes aceptar los términos y condiciones\",\n",
       " \t\t    },\n",
       " \t    };\n",
       " \n",
       " \t    var DescartarInmuebleDTO = {\n",
       " \t\t    CodEmp: '500',\n",
       " \t\t    CodInm:  '3933609',\n",
       " \t\t    CodOfi: '459381',\n",
       " \t\t    UrlAjaxDescartarInmueble: '/dotnet/descartarinmueble/Descartar',\n",
       " \t\t    UrlAjaxRecuperarInmuebleDescartado: '/dotnet/descartarinmueble/RecuperarDescartado'\n",
       " \t    };\n",
       " \n",
       " \t    var FichaDesktopDTO = {\n",
       " \t\t    refEmp: '3933609                                              ',\n",
       " \t\t    idUsuario: 0,\n",
       " \t\t    IsMobileApp: 'False',\n",
       " \t\t    EsDescartado: 'False',\n",
       " \t\t    codigoEmpresa: 500,\n",
       " \t\t    codigoOficina: 459381,\n",
       " \t\t    codigoProducto: 3933609,\n",
       " \t\t    codigoAnuncio: '500003933609',\n",
       " \t\t    tipReg: 'i',\n",
       " \t\t    precioProducto: '499000',\n",
       " \t\t    priceFormated: '499.000 €',\n",
       " \t\t    esPromo: 'False',\n",
       " \t\t    UrlAjaxTranslate: '/dotnet/ficha/translate',\n",
       " \t\t    destacado: 'Magnífico piso en la calle orense 28020 madrid',\n",
       " \t\t    observaciones: 'Se vende magnífico piso situado en la calle Orense, en el barrio de Cuatro Caminos.\\u003cbr\\u003eEl piso es exterior y se halla en una primera planta con ascensor. Su superficie es de 118 m2, de los cuales 100 m2 son útiles. Consta de cuatro habitaciones, un amplio salón comedor, cocina, baño, aseo y dos terrazas, una de las cuales tiene 18 m2 y da a la calle Orense.\\u003cbr\\u003eLa vivienda está en muy buen estado de conservación, con las instalaciones de luz y agua recientemente reformadas, tiene suelos de tarima, aire acondicionado y ventanas de climalit.\\u003cbr\\u003eLa finca tiene un espacioso portal, recientemente renovado, con portero físico y con acceso totalmente adaptado a personas con movilidad reducida.\\u003cbr\\u003eEl inmueble está situado a cinco minutos andando de la estación de metro de Santiago Bernabéu, a diez minutos del intercambiador de Nuevos Ministerios, con multitud de paradas de autobuses ( líneas y  43) muy próximas. Tiene un fácil acceso a la M-30, A-1 y Avenida de la Ilustración.\\u003cbr\\u003eSe encuentra muy cerca de la zona financiera de Azca y en sus inmediaciones podemos encontrar colegios, zonas ajardinadas, grandes centros comerciales ( El Corte Inglés, Zara, ….), supermercados…..\\u003cbr\\u003e•\\tCaracterísticas básicas\\u003cbr\\u003e\\u0026#m2 construidos, 100 m2 útiles.\\u003cbr\\u003e\\u0026#habitaciones.\\u003cbr\\u003e\\u0026#baño.\\u003cbr\\u003e\\u0026#aseo.\\u003cbr\\u003e\\u0026#terrazas.\\u003cbr\\u003e\\u0026#61485;\\tArmarios empotrados.\\u003cbr\\u003e\\u0026#61485;\\tCalefacción central.\\u003cbr\\u003e\\u0026#61485;\\tTrastero.\\u003cbr\\u003e•\\tEdificio\\u003cbr\\u003e\\u0026#61485;\\tPlanta 1ª exterior con ascensor.\\u003cbr\\u003e\\u0026#61485;\\tAcceso adaptado a personas con movilidad reducida.\\u003cbr\\u003e',\n",
       " \t\t    UserIsLogged: 'False',\n",
       " \t\t    language: 'E',\n",
       " \t\t    urlGetMapaZona: '//www.habitaclia.com/hab_inmuebles/ajax/getMapaZona.asp',\n",
       " \t\t    Geo: {\n",
       " \t\t\t    isCVMRegion: 'True',\n",
       " \t\t\t    nomComBuscador: 'madrid_capital',\n",
       " \t\t\t    nomProvBuscador: 'madrid',\n",
       " \t\t\t    nomDistBuscador: 'madrid',\n",
       " \t\t\t    nomPobBuscador: 'madrid',\n",
       " \t\t\t    nomZonaBuscador: 'cuatro_caminos',\n",
       " \t\t\t    codProv: 5,\n",
       " \t\t\t    codPob: 796,\n",
       " \t\t\t    codZona: 305\n",
       " \t\t    },\n",
       " \t\t    Favorito: {\n",
       " \t\t\t    IdReg: 0,\n",
       " \t\t\t    Rate: '0',\n",
       " \t\t\t    Comment: \"\"\n",
       " \t\t    },\n",
       " \t\t    Translate: {\n",
       " \t\t\t    CounterofferIntro: \"Estoy interesado en el anuncio con referencia: \",\n",
       " \t\t\t    CounterofferEnd: \" y me gustaría plantearte una contraoferta por \",\n",
       " \t\t\t    CounterofferBtn: \"Hacer contraoferta\",\n",
       " \t\t\t    MorePhoto: \"Deseo más fotos del inmueble con referencia:\",\n",
       " \t\t\t    ConsultPrice: \"Consultar precio\",\n",
       " \t\t\t    Close: \"Cerrar\",\n",
       " \t\t\t    AlertTitle: \"Continúa viendo los anuncios de tu alerta sin regresar al email\",\n",
       " \t\t    },\n",
       " \t\t    cookieGallery : 'n',\n",
       " \t\t    isMapaVisible: true,\n",
       " \t\t    GMapsConfig : JSON.parse(\"{\\\"urlMarker\\\":\\\"//static11.habimg.com/hab_inmuebles_img//imgv3/marker-listado.png\\\",\\\"mostrarHab\\\":1,\\\"zoom\\\":17,\\\"widthMap\\\":\\\"640px\\\",\\\"VGPSLat\\\":40.4545762000,\\\"VGPSLon\\\":-3.6949790000,\\\"StreetView\\\":{\\\"heading\\\":0.000,\\\"pitch\\\":0.000,\\\"zoom\\\":0},\\\"initialize\\\":false,\\\"mapsContainerId\\\":\\\"mapa\\\",\\\"streetViewContainerId\\\":\\\"streetview\\\"}\"),\n",
       " \t\t    rutaMenu: '//www.habitaclia.com/',\n",
       " \t\t    urlGetImagenesInmueble: '/dotnet/Ficha/GetImagesInmueble',\n",
       " \t\t    urlGetAlert: '//www.habitaclia.com/hab_usuarios/m_alertalite.asp?idEnvio=',\n",
       " \t\t    meters: '',\n",
       " \t\t    rooms: '',\n",
       " \t\t    maxprice: '',\n",
       " \t\t    mostrarPublicidadAdsense: 'False',\n",
       "             realEstateAdId: ''\n",
       " \t    };\n",
       " \n",
       " \t    var WideMediaDTO = {\n",
       " \t\t    contImg: 19,\n",
       " \t\t    contVideo: 0,\n",
       " \t\t    gMapsConfig: JSON.parse(\"{\\\"urlMarker\\\":\\\"//static11.habimg.com/hab_inmuebles_img//imgv3/marker-listado.png\\\",\\\"mostrarHab\\\":1,\\\"zoom\\\":17,\\\"widthMap\\\":\\\"640px\\\",\\\"VGPSLat\\\":40.4545762000,\\\"VGPSLon\\\":-3.6949790000,\\\"StreetView\\\":{\\\"heading\\\":0.000,\\\"pitch\\\":0.000,\\\"zoom\\\":0},\\\"initialize\\\":false,\\\"mapsContainerId\\\":\\\"mapa\\\",\\\"streetViewContainerId\\\":\\\"streetview\\\"}\"),\n",
       " \t\t    image: JSON.parse(\"[{\\\"URL\\\":\\\"//images.habimg.com/imgh/500-3933609/magnifico-piso-en-la-calle-orense-28020-madrid-madrid_500-img3933609-94697324P.jpg\\\",\\\"URLNONE\\\":\\\"//images.habimg.com/imgh/500-3933609/magnifico-piso-en-la-calle-orense-28020-madrid-madrid_500-img3933609-94697324.jpg\\\",\\\"URLG\\\":\\\"//images.habimg.com/imgh/500-3933609/magnifico-piso-en-la-calle-orense-28020-madrid-madrid_500-img3933609-94697324G.jpg\\\",\\\"URLXL\\\":\\\"//images.habimg.com/imgh/500-3933609/magnifico-piso-en-la-calle-orense-28020-madrid-madrid_500-img3933609-94697324XL.jpg\\\",\\\"URLAmpliarFoto\\\":\\\"/foto.htm?p=E-comprar-vivienda-piso-madrid-madrid_capital-1-madrid-tetuan-cuatro_caminos-500003933609\\u0026imagen=500-img3933609-94697324.jpg\\\",\\\"Orden\\\":0,\\\"width\\\":1050,\\\"height\\\":1400,\\\"Titulo\\\":null,\\\"h\\\":1400,\\\"w\\\":1050,\\\"src\\\":\\\"//images.habimg.com/imgh/500-3933609/magnifico-piso-en-la-calle-orense-28020-madrid-madrid_500-img3933609-94697324G.jpg\\\",\\\"titulo\\\":null},{\\\"URL\\\":\\\"//images.habimg.com/imgh/500-3933609/magnifico-piso-en-la-calle-orense-28020-madrid-madrid_500-img3933609-94697325P.jpg\\\",\\\"URLNONE\\\":\\\"//images.habimg.com/imgh/500-3933609/magnifico-piso-en-la-calle-orense-28020-madrid-madrid_500-img3933609-94697325.jpg\\\",\\\"URLG\\\":\\\"//images.habimg.com/imgh/500-3933609/magnifico-piso-en-la-calle-orense-28020-madrid-madrid_500-img3933609-94697325G.jpg\\\",\\\"URLXL\\\":\\\"//images.habimg.com/imgh/500-3933609/magnifico-piso-en-la-calle-orense-28020-madrid-madrid_500-img3933609-94697325XL.jpg\\\",\\\"URLAmpliarFoto\\\":\\\"/foto.htm?p=E-comprar-vivienda-piso-madrid-madrid_capital-1-madrid-tetuan-cuatro_caminos-500003933609\\u0026imagen=500-img3933609-94697325.jpg\\\",\\\"Orden\\\":1,\\\"width\\\":1050,\\\"height\\\":1400,\\\"Titulo\\\":null,\\\"h\\\":1400,\\\"w\\\":1050,\\\"src\\\":\\\"//images.habimg.com/imgh/500-3933609/magnifico-piso-en-la-calle-orense-28020-madrid-madrid_500-img3933609-94697325G.jpg\\\",\\\"titulo\\\":null},{\\\"URL\\\":\\\"//images.habimg.com/imgh/500-3933609/magnifico-piso-en-la-calle-orense-28020-madrid-madrid_500-img3933609-94697326P.jpg\\\",\\\"URLNONE\\\":\\\"//images.habimg.com/imgh/500-3933609/magnifico-piso-en-la-calle-orense-28020-madrid-madrid_500-img3933609-94697326.jpg\\\",\\\"URLG\\\":\\\"//images.habimg.com/imgh/500-3933609/magnifico-piso-en-la-calle-orense-28020-madrid-madrid_500-img3933609-94697326G.jpg\\\",\\\"URLXL\\\":\\\"//images.habimg.com/imgh/500-3933609/magnifico-piso-en-la-calle-orense-28020-madrid-madrid_500-img3933609-94697326XL.jpg\\\",\\\"URLAmpliarFoto\\\":\\\"/foto.htm?p=E-comprar-vivienda-piso-madrid-madrid_capital-1-madrid-tetuan-cuatro_caminos-500003933609\\u0026imagen=500-img3933609-94697326.jpg\\\",\\\"Orden\\\":2,\\\"width\\\":1050,\\\"height\\\":1400,\\\"Titulo\\\":null,\\\"h\\\":1400,\\\"w\\\":1050,\\\"src\\\":\\\"//images.habimg.com/imgh/500-3933609/magnifico-piso-en-la-calle-orense-28020-madrid-madrid_500-img3933609-94697326G.jpg\\\",\\\"titulo\\\":null},{\\\"URL\\\":\\\"//images.habimg.com/imgh/500-3933609/magnifico-piso-en-la-calle-orense-28020-madrid-madrid_500-img3933609-94697327P.jpg\\\",\\\"URLNONE\\\":\\\"//images.habimg.com/imgh/500-3933609/magnifico-piso-en-la-calle-orense-28020-madrid-madrid_500-img3933609-94697327.jpg\\\",\\\"URLG\\\":\\\"//images.habimg.com/imgh/500-3933609/magnifico-piso-en-la-calle-orense-28020-madrid-madrid_500-img3933609-94697327G.jpg\\\",\\\"URLXL\\\":\\\"//images.habimg.com/imgh/500-3933609/magnifico-piso-en-la-calle-orense-28020-madrid-madrid_500-img3933609-94697327XL.jpg\\\",\\\"URLAmpliarFoto\\\":\\\"/foto.htm?p=E-comprar-vivienda-piso-madrid-madrid_capital-1-madrid-tetuan-cuatro_caminos-500003933609\\u0026imagen=500-img3933609-94697327.jpg\\\",\\\"Orden\\\":3,\\\"width\\\":1050,\\\"height\\\":1400,\\\"Titulo\\\":null,\\\"h\\\":1400,\\\"w\\\":1050,\\\"src\\\":\\\"//images.habimg.com/imgh/500-3933609/magnifico-piso-en-la-calle-orense-28020-madrid-madrid_500-img3933609-94697327G.jpg\\\",\\\"titulo\\\":null},{\\\"URL\\\":\\\"//images.habimg.com/imgh/500-3933609/magnifico-piso-en-la-calle-orense-28020-madrid-madrid_500-img3933609-94697328P.jpg\\\",\\\"URLNONE\\\":\\\"//images.habimg.com/imgh/500-3933609/magnifico-piso-en-la-calle-orense-28020-madrid-madrid_500-img3933609-94697328.jpg\\\",\\\"URLG\\\":\\\"//images.habimg.com/imgh/500-3933609/magnifico-piso-en-la-calle-orense-28020-madrid-madrid_500-img3933609-94697328G.jpg\\\",\\\"URLXL\\\":\\\"//images.habimg.com/imgh/500-3933609/magnifico-piso-en-la-calle-orense-28020-madrid-madrid_500-img3933609-94697328XL.jpg\\\",\\\"URLAmpliarFoto\\\":\\\"/foto.htm?p=E-comprar-vivienda-piso-madrid-madrid_capital-1-madrid-tetuan-cuatro_caminos-500003933609\\u0026imagen=500-img3933609-94697328.jpg\\\",\\\"Orden\\\":4,\\\"width\\\":1050,\\\"height\\\":1400,\\\"Titulo\\\":null,\\\"h\\\":1400,\\\"w\\\":1050,\\\"src\\\":\\\"//images.habimg.com/imgh/500-3933609/magnifico-piso-en-la-calle-orense-28020-madrid-madrid_500-img3933609-94697328G.jpg\\\",\\\"titulo\\\":null},{\\\"URL\\\":\\\"//images.habimg.com/imgh/500-3933609/magnifico-piso-en-la-calle-orense-28020-madrid-madrid_500-img3933609-94697329P.jpg\\\",\\\"URLNONE\\\":\\\"//images.habimg.com/imgh/500-3933609/magnifico-piso-en-la-calle-orense-28020-madrid-madrid_500-img3933609-94697329.jpg\\\",\\\"URLG\\\":\\\"//images.habimg.com/imgh/500-3933609/magnifico-piso-en-la-calle-orense-28020-madrid-madrid_500-img3933609-94697329G.jpg\\\",\\\"URLXL\\\":\\\"//images.habimg.com/imgh/500-3933609/magnifico-piso-en-la-calle-orense-28020-madrid-madrid_500-img3933609-94697329XL.jpg\\\",\\\"URLAmpliarFoto\\\":\\\"/foto.htm?p=E-comprar-vivienda-piso-madrid-madrid_capital-1-madrid-tetuan-cuatro_caminos-500003933609\\u0026imagen=500-img3933609-94697329.jpg\\\",\\\"Orden\\\":5,\\\"width\\\":1050,\\\"height\\\":1400,\\\"Titulo\\\":null,\\\"h\\\":1400,\\\"w\\\":1050,\\\"src\\\":\\\"//images.habimg.com/imgh/500-3933609/magnifico-piso-en-la-calle-orense-28020-madrid-madrid_500-img3933609-94697329G.jpg\\\",\\\"titulo\\\":null},{\\\"URL\\\":\\\"//images.habimg.com/imgh/500-3933609/magnifico-piso-en-la-calle-orense-28020-madrid-madrid_500-img3933609-94697330P.jpg\\\",\\\"URLNONE\\\":\\\"//images.habimg.com/imgh/500-3933609/magnifico-piso-en-la-calle-orense-28020-madrid-madrid_500-img3933609-94697330.jpg\\\",\\\"URLG\\\":\\\"//images.habimg.com/imgh/500-3933609/magnifico-piso-en-la-calle-orense-28020-madrid-madrid_500-img3933609-94697330G.jpg\\\",\\\"URLXL\\\":\\\"//images.habimg.com/imgh/500-3933609/magnifico-piso-en-la-calle-orense-28020-madrid-madrid_500-img3933609-94697330XL.jpg\\\",\\\"URLAmpliarFoto\\\":\\\"/foto.htm?p=E-comprar-vivienda-piso-madrid-madrid_capital-1-madrid-tetuan-cuatro_caminos-500003933609\\u0026imagen=500-img3933609-94697330.jpg\\\",\\\"Orden\\\":6,\\\"width\\\":1050,\\\"height\\\":1400,\\\"Titulo\\\":null,\\\"h\\\":1400,\\\"w\\\":1050,\\\"src\\\":\\\"//images.habimg.com/imgh/500-3933609/magnifico-piso-en-la-calle-orense-28020-madrid-madrid_500-img3933609-94697330G.jpg\\\",\\\"titulo\\\":null},{\\\"URL\\\":\\\"//images.habimg.com/imgh/500-3933609/magnifico-piso-en-la-calle-orense-28020-madrid-madrid_500-img3933609-94697331P.jpg\\\",\\\"URLNONE\\\":\\\"//images.habimg.com/imgh/500-3933609/magnifico-piso-en-la-calle-orense-28020-madrid-madrid_500-img3933609-94697331.jpg\\\",\\\"URLG\\\":\\\"//images.habimg.com/imgh/500-3933609/magnifico-piso-en-la-calle-orense-28020-madrid-madrid_500-img3933609-94697331G.jpg\\\",\\\"URLXL\\\":\\\"//images.habimg.com/imgh/500-3933609/magnifico-piso-en-la-calle-orense-28020-madrid-madrid_500-img3933609-94697331XL.jpg\\\",\\\"URLAmpliarFoto\\\":\\\"/foto.htm?p=E-comprar-vivienda-piso-madrid-madrid_capital-1-madrid-tetuan-cuatro_caminos-500003933609\\u0026imagen=500-img3933609-94697331.jpg\\\",\\\"Orden\\\":7,\\\"width\\\":1050,\\\"height\\\":1400,\\\"Titulo\\\":null,\\\"h\\\":1400,\\\"w\\\":1050,\\\"src\\\":\\\"//images.habimg.com/imgh/500-3933609/magnifico-piso-en-la-calle-orense-28020-madrid-madrid_500-img3933609-94697331G.jpg\\\",\\\"titulo\\\":null},{\\\"URL\\\":\\\"//images.habimg.com/imgh/500-3933609/magnifico-piso-en-la-calle-orense-28020-madrid-madrid_500-img3933609-94697332P.jpg\\\",\\\"URLNONE\\\":\\\"//images.habimg.com/imgh/500-3933609/magnifico-piso-en-la-calle-orense-28020-madrid-madrid_500-img3933609-94697332.jpg\\\",\\\"URLG\\\":\\\"//images.habimg.com/imgh/500-3933609/magnifico-piso-en-la-calle-orense-28020-madrid-madrid_500-img3933609-94697332G.jpg\\\",\\\"URLXL\\\":\\\"//images.habimg.com/imgh/500-3933609/magnifico-piso-en-la-calle-orense-28020-madrid-madrid_500-img3933609-94697332XL.jpg\\\",\\\"URLAmpliarFoto\\\":\\\"/foto.htm?p=E-comprar-vivienda-piso-madrid-madrid_capital-1-madrid-tetuan-cuatro_caminos-500003933609\\u0026imagen=500-img3933609-94697332.jpg\\\",\\\"Orden\\\":8,\\\"width\\\":1050,\\\"height\\\":1400,\\\"Titulo\\\":null,\\\"h\\\":1400,\\\"w\\\":1050,\\\"src\\\":\\\"//images.habimg.com/imgh/500-3933609/magnifico-piso-en-la-calle-orense-28020-madrid-madrid_500-img3933609-94697332G.jpg\\\",\\\"titulo\\\":null},{\\\"URL\\\":\\\"//images.habimg.com/imgh/500-3933609/magnifico-piso-en-la-calle-orense-28020-madrid-madrid_500-img3933609-94697333P.jpg\\\",\\\"URLNONE\\\":\\\"//images.habimg.com/imgh/500-3933609/magnifico-piso-en-la-calle-orense-28020-madrid-madrid_500-img3933609-94697333.jpg\\\",\\\"URLG\\\":\\\"//images.habimg.com/imgh/500-3933609/magnifico-piso-en-la-calle-orense-28020-madrid-madrid_500-img3933609-94697333G.jpg\\\",\\\"URLXL\\\":\\\"//images.habimg.com/imgh/500-3933609/magnifico-piso-en-la-calle-orense-28020-madrid-madrid_500-img3933609-94697333XL.jpg\\\",\\\"URLAmpliarFoto\\\":\\\"/foto.htm?p=E-comprar-vivienda-piso-madrid-madrid_capital-1-madrid-tetuan-cuatro_caminos-500003933609\\u0026imagen=500-img3933609-94697333.jpg\\\",\\\"Orden\\\":9,\\\"width\\\":1050,\\\"height\\\":1400,\\\"Titulo\\\":null,\\\"h\\\":1400,\\\"w\\\":1050,\\\"src\\\":\\\"//images.habimg.com/imgh/500-3933609/magnifico-piso-en-la-calle-orense-28020-madrid-madrid_500-img3933609-94697333G.jpg\\\",\\\"titulo\\\":null},{\\\"URL\\\":\\\"//images.habimg.com/imgh/500-3933609/magnifico-piso-en-la-calle-orense-28020-madrid-madrid_500-img3933609-94697334P.jpg\\\",\\\"URLNONE\\\":\\\"//images.habimg.com/imgh/500-3933609/magnifico-piso-en-la-calle-orense-28020-madrid-madrid_500-img3933609-94697334.jpg\\\",\\\"URLG\\\":\\\"//images.habimg.com/imgh/500-3933609/magnifico-piso-en-la-calle-orense-28020-madrid-madrid_500-img3933609-94697334G.jpg\\\",\\\"URLXL\\\":\\\"//images.habimg.com/imgh/500-3933609/magnifico-piso-en-la-calle-orense-28020-madrid-madrid_500-img3933609-94697334XL.jpg\\\",\\\"URLAmpliarFoto\\\":\\\"/foto.htm?p=E-comprar-vivienda-piso-madrid-madrid_capital-1-madrid-tetuan-cuatro_caminos-500003933609\\u0026imagen=500-img3933609-94697334.jpg\\\",\\\"Orden\\\":10,\\\"width\\\":1050,\\\"height\\\":1400,\\\"Titulo\\\":null,\\\"h\\\":1400,\\\"w\\\":1050,\\\"src\\\":\\\"//images.habimg.com/imgh/500-3933609/magnifico-piso-en-la-calle-orense-28020-madrid-madrid_500-img3933609-94697334G.jpg\\\",\\\"titulo\\\":null},{\\\"URL\\\":\\\"//images.habimg.com/imgh/500-3933609/magnifico-piso-en-la-calle-orense-28020-madrid-madrid_500-img3933609-94697335P.jpg\\\",\\\"URLNONE\\\":\\\"//images.habimg.com/imgh/500-3933609/magnifico-piso-en-la-calle-orense-28020-madrid-madrid_500-img3933609-94697335.jpg\\\",\\\"URLG\\\":\\\"//images.habimg.com/imgh/500-3933609/magnifico-piso-en-la-calle-orense-28020-madrid-madrid_500-img3933609-94697335G.jpg\\\",\\\"URLXL\\\":\\\"//images.habimg.com/imgh/500-3933609/magnifico-piso-en-la-calle-orense-28020-madrid-madrid_500-img3933609-94697335XL.jpg\\\",\\\"URLAmpliarFoto\\\":\\\"/foto.htm?p=E-comprar-vivienda-piso-madrid-madrid_capital-1-madrid-tetuan-cuatro_caminos-500003933609\\u0026imagen=500-img3933609-94697335.jpg\\\",\\\"Orden\\\":11,\\\"width\\\":1050,\\\"height\\\":1400,\\\"Titulo\\\":null,\\\"h\\\":1400,\\\"w\\\":1050,\\\"src\\\":\\\"//images.habimg.com/imgh/500-3933609/magnifico-piso-en-la-calle-orense-28020-madrid-madrid_500-img3933609-94697335G.jpg\\\",\\\"titulo\\\":null},{\\\"URL\\\":\\\"//images.habimg.com/imgh/500-3933609/magnifico-piso-en-la-calle-orense-28020-madrid-madrid_500-img3933609-94697336P.jpg\\\",\\\"URLNONE\\\":\\\"//images.habimg.com/imgh/500-3933609/magnifico-piso-en-la-calle-orense-28020-madrid-madrid_500-img3933609-94697336.jpg\\\",\\\"URLG\\\":\\\"//images.habimg.com/imgh/500-3933609/magnifico-piso-en-la-calle-orense-28020-madrid-madrid_500-img3933609-94697336G.jpg\\\",\\\"URLXL\\\":\\\"//images.habimg.com/imgh/500-3933609/magnifico-piso-en-la-calle-orense-28020-madrid-madrid_500-img3933609-94697336XL.jpg\\\",\\\"URLAmpliarFoto\\\":\\\"/foto.htm?p=E-comprar-vivienda-piso-madrid-madrid_capital-1-madrid-tetuan-cuatro_caminos-500003933609\\u0026imagen=500-img3933609-94697336.jpg\\\",\\\"Orden\\\":12,\\\"width\\\":1050,\\\"height\\\":1400,\\\"Titulo\\\":null,\\\"h\\\":1400,\\\"w\\\":1050,\\\"src\\\":\\\"//images.habimg.com/imgh/500-3933609/magnifico-piso-en-la-calle-orense-28020-madrid-madrid_500-img3933609-94697336G.jpg\\\",\\\"titulo\\\":null},{\\\"URL\\\":\\\"//images.habimg.com/imgh/500-3933609/magnifico-piso-en-la-calle-orense-28020-madrid-madrid_500-img3933609-94697337P.jpg\\\",\\\"URLNONE\\\":\\\"//images.habimg.com/imgh/500-3933609/magnifico-piso-en-la-calle-orense-28020-madrid-madrid_500-img3933609-94697337.jpg\\\",\\\"URLG\\\":\\\"//images.habimg.com/imgh/500-3933609/magnifico-piso-en-la-calle-orense-28020-madrid-madrid_500-img3933609-94697337G.jpg\\\",\\\"URLXL\\\":\\\"//images.habimg.com/imgh/500-3933609/magnifico-piso-en-la-calle-orense-28020-madrid-madrid_500-img3933609-94697337XL.jpg\\\",\\\"URLAmpliarFoto\\\":\\\"/foto.htm?p=E-comprar-vivienda-piso-madrid-madrid_capital-1-madrid-tetuan-cuatro_caminos-500003933609\\u0026imagen=500-img3933609-94697337.jpg\\\",\\\"Orden\\\":13,\\\"width\\\":1050,\\\"height\\\":1400,\\\"Titulo\\\":null,\\\"h\\\":1400,\\\"w\\\":1050,\\\"src\\\":\\\"//images.habimg.com/imgh/500-3933609/magnifico-piso-en-la-calle-orense-28020-madrid-madrid_500-img3933609-94697337G.jpg\\\",\\\"titulo\\\":null},{\\\"URL\\\":\\\"//images.habimg.com/imgh/500-3933609/magnifico-piso-en-la-calle-orense-28020-madrid-madrid_500-img3933609-94697338P.jpg\\\",\\\"URLNONE\\\":\\\"//images.habimg.com/imgh/500-3933609/magnifico-piso-en-la-calle-orense-28020-madrid-madrid_500-img3933609-94697338.jpg\\\",\\\"URLG\\\":\\\"//images.habimg.com/imgh/500-3933609/magnifico-piso-en-la-calle-orense-28020-madrid-madrid_500-img3933609-94697338G.jpg\\\",\\\"URLXL\\\":\\\"//images.habimg.com/imgh/500-3933609/magnifico-piso-en-la-calle-orense-28020-madrid-madrid_500-img3933609-94697338XL.jpg\\\",\\\"URLAmpliarFoto\\\":\\\"/foto.htm?p=E-comprar-vivienda-piso-madrid-madrid_capital-1-madrid-tetuan-cuatro_caminos-500003933609\\u0026imagen=500-img3933609-94697338.jpg\\\",\\\"Orden\\\":14,\\\"width\\\":1050,\\\"height\\\":1400,\\\"Titulo\\\":null,\\\"h\\\":1400,\\\"w\\\":1050,\\\"src\\\":\\\"//images.habimg.com/imgh/500-3933609/magnifico-piso-en-la-calle-orense-28020-madrid-madrid_500-img3933609-94697338G.jpg\\\",\\\"titulo\\\":null},{\\\"URL\\\":\\\"//images.habimg.com/imgh/500-3933609/magnifico-piso-en-la-calle-orense-28020-madrid-madrid_500-img3933609-94697339P.jpg\\\",\\\"URLNONE\\\":\\\"//images.habimg.com/imgh/500-3933609/magnifico-piso-en-la-calle-orense-28020-madrid-madrid_500-img3933609-94697339.jpg\\\",\\\"URLG\\\":\\\"//images.habimg.com/imgh/500-3933609/magnifico-piso-en-la-calle-orense-28020-madrid-madrid_500-img3933609-94697339G.jpg\\\",\\\"URLXL\\\":\\\"//images.habimg.com/imgh/500-3933609/magnifico-piso-en-la-calle-orense-28020-madrid-madrid_500-img3933609-94697339XL.jpg\\\",\\\"URLAmpliarFoto\\\":\\\"/foto.htm?p=E-comprar-vivienda-piso-madrid-madrid_capital-1-madrid-tetuan-cuatro_caminos-500003933609\\u0026imagen=500-img3933609-94697339.jpg\\\",\\\"Orden\\\":15,\\\"width\\\":1400,\\\"height\\\":1050,\\\"Titulo\\\":null,\\\"h\\\":1050,\\\"w\\\":1400,\\\"src\\\":\\\"//images.habimg.com/imgh/500-3933609/magnifico-piso-en-la-calle-orense-28020-madrid-madrid_500-img3933609-94697339G.jpg\\\",\\\"titulo\\\":null},{\\\"URL\\\":\\\"//images.habimg.com/imgh/500-3933609/magnifico-piso-en-la-calle-orense-28020-madrid-madrid_500-img3933609-94697340P.jpg\\\",\\\"URLNONE\\\":\\\"//images.habimg.com/imgh/500-3933609/magnifico-piso-en-la-calle-orense-28020-madrid-madrid_500-img3933609-94697340.jpg\\\",\\\"URLG\\\":\\\"//images.habimg.com/imgh/500-3933609/magnifico-piso-en-la-calle-orense-28020-madrid-madrid_500-img3933609-94697340G.jpg\\\",\\\"URLXL\\\":\\\"//images.habimg.com/imgh/500-3933609/magnifico-piso-en-la-calle-orense-28020-madrid-madrid_500-img3933609-94697340XL.jpg\\\",\\\"URLAmpliarFoto\\\":\\\"/foto.htm?p=E-comprar-vivienda-piso-madrid-madrid_capital-1-madrid-tetuan-cuatro_caminos-500003933609\\u0026imagen=500-img3933609-94697340.jpg\\\",\\\"Orden\\\":16,\\\"width\\\":1400,\\\"height\\\":1050,\\\"Titulo\\\":null,\\\"h\\\":1050,\\\"w\\\":1400,\\\"src\\\":\\\"//images.habimg.com/imgh/500-3933609/magnifico-piso-en-la-calle-orense-28020-madrid-madrid_500-img3933609-94697340G.jpg\\\",\\\"titulo\\\":null},{\\\"URL\\\":\\\"//images.habimg.com/imgh/500-3933609/magnifico-piso-en-la-calle-orense-28020-madrid-madrid_500-img3933609-94697341P.jpg\\\",\\\"URLNONE\\\":\\\"//images.habimg.com/imgh/500-3933609/magnifico-piso-en-la-calle-orense-28020-madrid-madrid_500-img3933609-94697341.jpg\\\",\\\"URLG\\\":\\\"//images.habimg.com/imgh/500-3933609/magnifico-piso-en-la-calle-orense-28020-madrid-madrid_500-img3933609-94697341G.jpg\\\",\\\"URLXL\\\":\\\"//images.habimg.com/imgh/500-3933609/magnifico-piso-en-la-calle-orense-28020-madrid-madrid_500-img3933609-94697341XL.jpg\\\",\\\"URLAmpliarFoto\\\":\\\"/foto.htm?p=E-comprar-vivienda-piso-madrid-madrid_capital-1-madrid-tetuan-cuatro_caminos-500003933609\\u0026imagen=500-img3933609-94697341.jpg\\\",\\\"Orden\\\":17,\\\"width\\\":1050,\\\"height\\\":1400,\\\"Titulo\\\":null,\\\"h\\\":1400,\\\"w\\\":1050,\\\"src\\\":\\\"//images.habimg.com/imgh/500-3933609/magnifico-piso-en-la-calle-orense-28020-madrid-madrid_500-img3933609-94697341G.jpg\\\",\\\"titulo\\\":null},{\\\"URL\\\":\\\"//images.habimg.com/imgh/500-3933609/magnifico-piso-en-la-calle-orense-28020-madrid-madrid_500-img3933609-94697342P.jpg\\\",\\\"URLNONE\\\":\\\"//images.habimg.com/imgh/500-3933609/magnifico-piso-en-la-calle-orense-28020-madrid-madrid_500-img3933609-94697342.jpg\\\",\\\"URLG\\\":\\\"//images.habimg.com/imgh/500-3933609/magnifico-piso-en-la-calle-orense-28020-madrid-madrid_500-img3933609-94697342G.jpg\\\",\\\"URLXL\\\":\\\"//images.habimg.com/imgh/500-3933609/magnifico-piso-en-la-calle-orense-28020-madrid-madrid_500-img3933609-94697342XL.jpg\\\",\\\"URLAmpliarFoto\\\":\\\"/foto.htm?p=E-comprar-vivienda-piso-madrid-madrid_capital-1-madrid-tetuan-cuatro_caminos-500003933609\\u0026imagen=500-img3933609-94697342.jpg\\\",\\\"Orden\\\":18,\\\"width\\\":1050,\\\"height\\\":1400,\\\"Titulo\\\":null,\\\"h\\\":1400,\\\"w\\\":1050,\\\"src\\\":\\\"//images.habimg.com/imgh/500-3933609/magnifico-piso-en-la-calle-orense-28020-madrid-madrid_500-img3933609-94697342G.jpg\\\",\\\"titulo\\\":null}]\"),\n",
       " \t\t    isMapaVisible: true,\n",
       " \t\t    isStreetVisible: true,\n",
       " \t\t    video: JSON.parse(\"[]\"),\n",
       " \t\t    vid3D: JSON.parse(\"{\\\"contador\\\":0,\\\"videos\\\":[]}\"),\n",
       " \t\t    vid360: JSON.parse(\"{\\\"contador\\\":0,\\\"videos\\\":[]}\"),\n",
       " \t\t    Translate:{\n",
       " \t\t\t    fromText: \"de\",\n",
       " \t\t\t    interested: \"¿Te interesa este anuncio? Ponte en contacto con el anunciante\",\n",
       " \t\t\t    morePhoto: \"¿Pocas fotos? ¿Quieres alguna en concreto? Pídeselas al anunciante\",\n",
       " \t\t\t    morePhotoContact: \"Pedir más fotos al anunciante\",\n",
       " \t\t\t    contact: \"Contactar con el anunciante\",\n",
       " \t\t\t    viewMap: \"Navegar por el mapa\",\n",
       " \t\t\t    viewStreet: \"Navegar por StreetView\",\n",
       " \t\t    },\n",
       " \t\t    GMapsConfig : JSON.parse(\"{\\\"urlMarker\\\":\\\"//static11.habimg.com/hab_inmuebles_img//imgv3/marker-listado.png\\\",\\\"mostrarHab\\\":1,\\\"zoom\\\":17,\\\"widthMap\\\":\\\"640px\\\",\\\"VGPSLat\\\":40.4545762000,\\\"VGPSLon\\\":-3.6949790000,\\\"StreetView\\\":{\\\"heading\\\":0.000,\\\"pitch\\\":0.000,\\\"zoom\\\":0},\\\"initialize\\\":false,\\\"mapsContainerId\\\":\\\"mapa\\\",\\\"streetViewContainerId\\\":\\\"streetview\\\"}\"),\n",
       " \t\t    urlMapIcon : '//www.habitaclia.com/hab_inmuebles/img/imgv3/marker-listado.png',\n",
       " \t\t    tipReg: 'i',\n",
       " \t\t    codigoAnuncio: '500003933609',\n",
       " \t\t    userIsLogged: 'False',\n",
       " \t\t    mapImage: '//static11.habimg.com/imgh/500-3933609/imgv2-gmaps-3933609_9063.gif',\n",
       " \t\t    streetImage: '//static11.habimg.com/hab_inmuebles_img/street_bg.jpg',\n",
       " \t    };\n",
       " \n",
       " \t    var WideMediaPromoDTO = {\n",
       " \t\t    isMapaVisible: false,\n",
       " \t\t    image: JSON.parse(\"[]\"),\n",
       " \t\t    vid3D: JSON.parse(\"{}\"),\n",
       " \t\t    vid360: JSON.parse(\"{}\"),\n",
       " \t\t    contImg: 0,\n",
       " \t\t    contVideo: 0,\n",
       " \t\t    tipReg: 'i',\n",
       " \t\t    codigoAnuncio: '500003933609',\n",
       " \t\t    userIsLogged: 'False',\n",
       " \t\t    Translate:{\n",
       " \t\t\t    fromText: \"de\",\n",
       " \t\t\t    interested: \"¿Te interesa este anuncio? Ponte en contacto con el anunciante\",\n",
       " \t\t\t    morePhoto: \"¿Pocas fotos? ¿Quieres alguna en concreto? Pídeselas al anunciante\",\n",
       " \t\t\t    morePhotoContact: \"Pedir más fotos al anunciante\",\n",
       " \t\t\t    contact: \"Contactar con el anunciante\",\n",
       " \t\t    },\n",
       " \t\t    isMapaVisible: false,\n",
       " \t\t    isStreetVisible: false,\n",
       " \t    }\n",
       " \n",
       " \t    var ModalAvisameDTO = {\n",
       " \t\t    UrlAjaxModalAvisame: '//www.habitaclia.com/hab_inmuebles/ajax/modalAvisame.asp',\n",
       " \t\t    UrlRegistrarAlertaInmueble: '//www.habitaclia.com/hab_inmuebles/ajax/registraralertainmueble.asp',\n",
       " \t\t    idUsuario: 0,\n",
       " \t\t    codigoEmpresa: '500',\n",
       " \t\t    codigoOficina: '459381',\n",
       " \t\t    codigoProducto: '3933609',\n",
       " \t\t    codigoAnuncio: '500003933609',\n",
       " \t\t    idioma: 'E',\n",
       " \t\t    parametroP: 'E-comprar-vivienda-piso-madrid-madrid_capital-1-madrid-tetuan-cuatro_caminos-500003933609',\n",
       " \t\t    tipoOperacion: 'V',\n",
       " \t\t    tipInm: '1',\n",
       " \t\t    parametroSt: '',\n",
       " \t\t    pvpMax: '99999999',\n",
       " \t\t    sup: '0',\n",
       " \t\t    habs: '99',\n",
       " \t\t    numElements : '',\n",
       " \t\t    modalType : '0',\n",
       " \t\t    dataSource: 'ficha',\n",
       " \t\t    UserIsLogged: 'False',\n",
       " \t\t    Geo: {\n",
       " \t\t\t    codPais: '1',\n",
       " \t\t\t    codProv: '5',\n",
       " \t\t\t    codCom: '123',\n",
       " \t\t\t    codPob: '796',\n",
       " \t\t\t    codDist: '300',\n",
       " \t\t\t    codZona: '305',\n",
       " \t\t\t    isCVMRegion: 'True',\n",
       " \t\t\t    nomComBuscador: 'madrid_capital',\n",
       " \t\t\t    nomProvBuscador: 'madrid',\n",
       " \t\t\t    nomDistBuscador: 'madrid',\n",
       " \t\t\t    nomPobBuscador: 'madrid',\n",
       " \t\t\t    nomZonaBuscador: 'cuatro_caminos'\n",
       " \t\t    },\n",
       " \t\t    Translate:{\n",
       " \t\t\t    AcceptAlerts: \"Recibir alertas\",\n",
       " \t\t\t    Cancel: \"Cancelar\",\n",
       " \t\t\t    AcceptAgreement: \"Declaro leídas y aceptadas las condiciones de \\u003ca\\u003eAviso legal y Política de privacidad\\u003c/a\\u003e\",\n",
       " \t\t\t    Close: \"Cerrar\",\n",
       " \t\t\t    ConfirmationAlerts: \"Sí, recibir alertas\",\n",
       " \t\t\t    InboxAlert: \"Alertas en tu mail\",\n",
       " \t\t\t    DeleteAlert: \"Eliminar alerta\",\n",
       " \t\t\t    DeleteFav: \"Eliminar favorito\",\n",
       " \t\t\t    EmailObligatory: \"El email es un campo obligatorio\",\n",
       " \t\t\t    LegalObligatory: \"Debes aceptar los términos y condiciones\",\n",
       " \t\t\t    TextoAvisameSi: \"Avísame si baja\"\n",
       " \t\t    },\n",
       " \t\t    FilterData: {\n",
       " \t\t\t    numHab: '99',\n",
       " \t\t\t    pvpMax: '99999999',\n",
       " \t\t\t    supMin: '0'\n",
       " \t\t    }\n",
       " \t    };\n",
       " \n",
       " \t    var AlertDTO = {\n",
       " \t\t    UrlRegistrarAlerta: '//www.habitaclia.com/hab_inmuebles/ajax/registraralerta.asp',\n",
       " \t\t    UrlRegistrarAlertaInmueble: '//www.habitaclia.com/hab_inmuebles/ajax/registraralertainmueble.asp',\n",
       " \t\t    idUsuario: 0,\n",
       " \t\t    Translate: {\n",
       " \t\t\t    idErrBadMailEmpty: \"Revisa tu email\",\n",
       " \t\t\t    idErrBadMail: \"Creemos que el email que has escrito no es válido, vuelve a escribirlo\",\n",
       " \t\t\t    idDialogFooterCerrarAlertaModal: \"Ver el anuncio\",\n",
       " \t\t\t    eliminarAlerta: \"Eliminar alerta\",\n",
       " \t\t\t    eliminarFavorito: \"Eliminar favorito\",\n",
       " \t\t\t    LegalObligatory: \"Debes aceptar los términos y condiciones\",\n",
       " \t\t\t    quizasQisoDecir: \"Quizás quiso decir\"\n",
       " \n",
       " \t\t    }\n",
       " \t    };\n",
       " \t    var FavoriteRateCommentDTO = {\n",
       " \t\t    UserIsLogged: 'False',\n",
       " \t\t    elementSelectors : {\n",
       " \t\t\t    itemContainer: '#ficha'\n",
       " \t\t    }\n",
       " \t    };\n",
       " \t    var PollNpsDTO = {\n",
       " \t\t    UserIsLogged: 'False',\n",
       " \t\t    isMobile : false\n",
       " \t    };\n",
       " \n",
       " \t    var MortgageLeadDTO = {\n",
       " \t\t    UrlApiMortgage: 'https://webapi.habitaclia.com/mortgages/api/v1/leads',\n",
       " \t\t    Name: '',\n",
       " \t\t    Email: '',\n",
       " \t\t    Phone: '',\n",
       " \t\t    ProvinceCode: '5',\n",
       " \t\t    ProvinceName: 'madrid',\n",
       " \t\t    CityName: 'madrid',\n",
       " \t\t    PropertyPrice: '499000',\n",
       " \t\t    PropertyName: 'Piso%20en%20%20Calle%20Orense,%2043Madrid',\n",
       " \t\t    PropertyBed: '4',\n",
       " \t\t    PropertyM2: '118',\n",
       " \t\t    PropertyAdType: 'SM',\n",
       " \t\t    PropertyAdCode: 'i500003933609',\n",
       " \t\t    Device: 'Desktop',\n",
       " \t\t    DefaultHref: 'http://hipotecas.habitaclia.com/landing/hipotecas/te-concederan/?utm_source=HBTCL&amp;amp;utm_medium=whitelabel&amp;amp;utm_content=textlink&amp;amp;utm_campaign=hipotecas',\n",
       " \t\t    UserId: '0'\n",
       " \t    };\n",
       "     &lt;/script&gt;\n",
       " \n",
       "      &lt;script&gt;\n",
       "             FichaDesktopDTO.filterDesktopDTO = {\n",
       "                 priceList: JSON.parse(\"[\\\"60000\\\",\\\"90000\\\",\\\"120000\\\",\\\"150000\\\",\\\"180000\\\",\\\"210000\\\",\\\"240000\\\",\\\"300000\\\",\\\"360000\\\",\\\"420000\\\",\\\"500000\\\",\\\"600000\\\",\\\"700000\\\",\\\"800000\\\",\\\"900000\\\",\\\"1000000\\\",\\\"1500000\\\",\\\"2000000\\\",\\\"3000000\\\"]\"),\n",
       "                 currencyPriceList: JSON.parse(\"[\\\"60.000 €\\\",\\\"90.000 €\\\",\\\"120.000 €\\\",\\\"150.000 €\\\",\\\"180.000 €\\\",\\\"210.000 €\\\",\\\"240.000 €\\\",\\\"300.000 €\\\",\\\"360.000 €\\\",\\\"420.000 €\\\",\\\"500.000 €\\\",\\\"600.000 €\\\",\\\"700.000 €\\\",\\\"800.000 €\\\",\\\"900.000 €\\\",\\\"1.000.000 €\\\",\\\"1.500.000 €\\\",\\\"2.000.000 €\\\",\\\"3.000.000 €\\\"]\"),\n",
       "                 numhab: '0',\n",
       "                 translates:\n",
       "                     {\n",
       "                         withoutMinPrice: 'Mínimo',\n",
       "                         withoutMaxPrice: 'Máximo',\n",
       "                         noLimit: 'Sin límite',\n",
       "                         someZones: 'Algunas zonas',\n",
       "                         allZones: 'Todas las zonas'\n",
       "                     },\n",
       "                 esProvinciaNuevaConTratoEspecial: 'True',\n",
       "                 isDevice: false\n",
       "             };\n",
       " \n",
       "             var GeoRepositoryDTO = {\n",
       "                 urlGetDistritosZonas: '/dotnet/listados/getdistritoszonas',\n",
       "                 navParamsLista: JSON.parse(\"{\\\"p\\\":\\\"E-comprar-vivienda-piso-madrid-madrid_capital-1-madrid-X-X-X\\\",\\\"f\\\":\\\"\\\",\\\"tipogeo\\\":null,\\\"mode\\\":null,\\\"pag\\\":\\\"\\\",\\\"func\\\":\\\"\\\",\\\"urlvars\\\":null,\\\"protect\\\":\\\"\\\",\\\"ordenar\\\":\\\"\\\",\\\"pmin\\\":\\\"\\\",\\\"pmax\\\":\\\"\\\",\\\"m2\\\":\\\"\\\",\\\"hab\\\":\\\"\\\",\\\"ban\\\":null,\\\"filtro_periodo\\\":\\\"\\\",\\\"geo\\\":\\\"\\\",\\\"st\\\":\\\"\\\",\\\"agrupado\\\":null,\\\"codZonas\\\":\\\"\\\",\\\"codDists\\\":\\\"\\\",\\\"imagen\\\":\\\"\\\",\\\"fotomode\\\":\\\"\\\",\\\"z\\\":null,\\\"f_z\\\":null,\\\"ady\\\":\\\"\\\",\\\"utm_source\\\":null,\\\"utm_medium\\\":null,\\\"utm_campaign\\\":null,\\\"subTipInm\\\":\\\"\\\",\\\"openmenu\\\":null,\\\"list\\\":null,\\\"origenForm\\\":null,\\\"f_form\\\":null,\\\"f_con_fotos\\\":null,\\\"botonapp\\\":null,\\\"gtmcoupon\\\":null,\\\"campaign\\\":null,\\\"gclid\\\":null,\\\"cod_inm\\\":null,\\\"deviceId\\\":null,\\\"postId\\\":null,\\\"stageId\\\":0,\\\"lo\\\":null,\\\"le\\\":null,\\\"alertpage\\\":null,\\\"fc\\\":null,\\\"pid\\\":null,\\\"showmessage\\\":null,\\\"fi\\\":null,\\\"from\\\":null}\")\n",
       "             };\n",
       "      &lt;/script&gt;\n",
       " \n",
       " \t &lt;script&gt;\n",
       "         var LiveNotificationDTO = {\n",
       "             notificacionesLiveActivadas: \"false\",\n",
       "             geo: {\n",
       "                 codProv: '5'\n",
       "             },\n",
       "             isMobileApp: 'False',\n",
       "             language: 'E',\n",
       "             nav: 'ficha',\n",
       "             paramP: 'E-comprar-vivienda-piso-madrid-madrid_capital-1-madrid-tetuan-cuatro_caminos-500003933609',\n",
       "             rutaMenu: '//www.habitaclia.com',\n",
       "             helpImage: '//static11.habimg.com/hab_inmuebles_img/help-bell.png',\n",
       "             helpText: \"¿Te ayudamos a encontrar piso?\",\n",
       "             helpLink: '//www.habitaclia.com/hab_inmuebles/landingAlertas.asp',\n",
       "             helpButton: \"Dinos qué buscas\"\n",
       "         };\n",
       "      &lt;/script&gt;\n",
       " \n",
       "     &lt;script &gt;\n",
       " \t\tvar google_tag_params = {\n",
       " \t\t\tlisting_id: 500003933609,\n",
       " \t\t\tlisting_pagetype: 'offerdetail'\n",
       " \t\t};\n",
       "     &lt;/script&gt;\n",
       "     &lt;script &gt;\n",
       " \t\t/* &lt;![CDATA[ */\n",
       " \t\tvar google_conversion_id = 821512173;\n",
       " \t\tvar google_custom_params = window.google_tag_params;\n",
       " \t\tvar google_remarketing_only = true;\n",
       " \t\t/* ]]&gt; */\n",
       "     &lt;/script&gt;\n",
       "     &lt;script  src=\"//www.googleadservices.com/pagead/conversion.js\"&gt;&lt;/script&gt;\n",
       "     &lt;noscript&gt;\n",
       "         &lt;div style=\"display:inline;\"&gt;\n",
       "             &lt;img height=\"1\" width=\"1\" style=\"border-style:none;\" alt=\"\" src=\"//googleads.g.doubleclick.net/pagead/viewthroughconversion/821512173/?value=0&amp;guid=ON&amp;script=0\" /&gt;\n",
       "         &lt;/div&gt;\n",
       "     &lt;/noscript&gt;\n",
       " \t\t\t&lt;!-- Facebook Pixel Code --&gt;\n",
       " \t\t\t&lt;script&gt;\n",
       " \t\t\t\t!function(f,b,e,v,n,t,s)\n",
       " \t\t\t\t{if(f.fbq)return;n=f.fbq=function(){n.callMethod?\n",
       " \t\t\t\tn.callMethod.apply(n,arguments):n.queue.push(arguments)};\n",
       " \t\t\t\t\tif(!f._fbq)f._fbq=n;n.push=n;n.loaded=!0;n.version='2.0';\n",
       " \t\t\t\t\tn.queue=[];t=b.createElement(e);t.async=!0;\n",
       " \t\t\t\t\tt.src=v;s=b.getElementsByTagName(e)[0];\n",
       " \t\t\t\t\ts.parentNode.insertBefore(t,s)}(window,document,'script',\n",
       " \t\t\t\t'https://connect.facebook.net/en_US/fbevents.js');\n",
       " \t\t\t\tfbq('init', '2025288411113981');\n",
       " \t\t\t\tfbq('track', 'PageView');\n",
       " \n",
       " \t\t\t\tfbq('track', 'ViewContent', {\n",
       " \t\t\t\t\tcontent_ids: ['500003933609'],\n",
       " \t\t\t\t\tvalue: 1,\n",
       " \t\t\t\t\tcurrency: 'EUR',\n",
       " \t\t\t\t\tcontent_type: 'product',\n",
       " \t\t\t\t\tproduct_catalog_id: '311743049534061',\n",
       " \n",
       " \t\t\t\t});\n",
       " \n",
       " \t\t\t\tfbq('track', 'Search', {\n",
       " \t\t\t\t\tcontent_type: 'product',\n",
       " \t\t\t\t\tcontent_ids: ['500003933609'],\n",
       " \t\t\t\t\tcity: 'Madrid',\n",
       " \t\t\t\t\tregion: 'Madrid',\n",
       " \t\t\t\t\tcountry: 'España',\n",
       " \t\t\t\t\tproduct_catalog_id: '311743049534061',\n",
       " \t\t\t\t} );\n",
       " \t\t\t&lt;/script&gt;\n",
       " \t\t\t&lt;noscript&gt;\n",
       " \t\t\t\t&lt;img height=\"1\" width=\"1\" src=\"https://www.facebook.com/tr?id=2025288411113981&amp;ev=PageView&amp;noscript=1\" /&gt;\n",
       " \t\t\t&lt;/noscript&gt;\n",
       " \t\t\t&lt;!-- End Facebook Pixel Code --&gt;\n",
       " \n",
       "     &lt;script&gt;\n",
       "         var versaTag = {};\n",
       "         versaTag.id = \"7149\";\n",
       "         versaTag.sync = 0;\n",
       "         versaTag.dispType = \"js\";\n",
       "         versaTag.ptcl = \"HTTPS\";\n",
       "         versaTag.bsUrl = \"bs.serving-sys.com/BurstingPipe\";\n",
       "         versaTag.activityParams = {'OrderID':'','Session':'','Value':'499000','productid':'i500003933609','productinfo':'vivienda','Quantity':'1','tp_variable6':'','tp_variable5':'','tp_variable4':'','tp_variable3':'','tp_variable2':'comprar','tp_variable1':'madrid','tp_concurso':'','tp_agente':'','tp_usuario':''};\n",
       "         versaTag.retargetParams = {};\n",
       "         versaTag.dynamicRetargetParams = {'34711':'tp_variable1','34712':'tp_variable2','34713':'tp_variable3','34714':'tp_variable4','34715':'tp_variable5','34716':'tp_variable6','34725':'productinfo','34726':'productid'};\n",
       "         versaTag.conditionalParams = {'tp_variable1':'madrid', 'tp_variable2':'comprar', 'tp_variable3':'', 'tp_variable4':'', 'tp_variable5':'', 'tp_variable6':'', 'Session':'', 'Value':'499000', 'productid':'i500003933609', 'productinfo':'vivienda', 'Quantity':'1'};\n",
       "     &lt;/script&gt;\n",
       "     &lt;script id=\"ebOneTagUrlId\" src=\"https://secure-ds.serving-sys.com/SemiCachedScripts/ebOneTag.js\"&gt;&lt;/script&gt;\n",
       "     &lt;noscript&gt;\n",
       "         &lt;iframe src=\"https://bs.serving-sys.com/BurstingPipe?cn=ot&amp;onetagid=7149&amp;ns=1&amp;activityValues=$$Value=499000&amp;OrderID=&amp;Session=&amp;ProductID=i500003933609&amp;ProductInfo=vivienda&amp;Quantity=1&amp;tp_variable1=madrid&amp;amp;tp_variable2=comprar&amp;amp;tp_variable3=&amp;tp_variable4=&amp;tp_variable5=$$&amp;tp_variable6=$$&amp;retargetingValues=$$$$&amp;dynamicRetargetingValues=$$34711=tp_variable1&amp;34712=tp_variable2&amp;34713=tp_variable3&amp;34714=tp_variable4&amp;34715=tp_variable5&amp;34716=tp_variable6&amp;34725=productinfo&amp;34726=productid$$&amp;acp=$$tp_variable1=madrid&amp;tp_variable2=comprar&amp;tp_variable3=&amp;tp_variable4=&amp;tp_variable5=&amp;tp_variable6=&amp;$$&amp;\" style=\"display:none;width:0px;height:0px\"&gt;&lt;/iframe&gt;\n",
       "     &lt;/noscript&gt;\n",
       " \n",
       " \t&lt;!--[if lt IE 9]&gt;\n",
       " \t&lt;script type=\"text/javascript\" src=\"//static3.habimg.com/dotnet/scripts/dist/vendors/html5shiv.min_637398970924600560.js\"&gt;&lt;/script&gt;\n",
       " \t&lt;![endif]--&gt;\n",
       " &lt;/body&gt;\n",
       " \n",
       " &lt;/html&gt;\n",
       " </p></article>]"
      ]
     },
     "execution_count": 429,
     "metadata": {},
     "output_type": "execute_result"
    }
   ],
   "source": [
    "#Probando un URL especifico que me estoy trayendo del FULL SCRAPE\n",
    "\n",
    "url_con_error_line112 = 'https://www.habitaclia.com/comprar-piso-magnifico_en_la_calle_orense_28020_orense_43_cuatro_caminos-madrid-i500003933609.htm?pag=651&f=&geo=p&from=list&lo=55'\n",
    "html_con_error_line112 = requests.get(url_con_error_line112).content\n",
    "soup_con_error_112 = BeautifulSoup(html_con_error_line112, 'html.parser')\n",
    "all_listing_details_table_line112 = soup_con_error_112.find_all('section', {'class': 'detail'})\n",
    "all_listing_details_zoom_error_line112 = all_listing_details_table_line112[0].find_all('div', {'class': 'max-1440 padding-y'})\n",
    "all_features_details_zoom2_line112 = all_listing_details_table_line112[0].find_all('article', {'class': 'has-aside'})\n",
    "#all_features_details_zoom2_line112[0]\n",
    "all_features_details_zoom2_line112"
   ]
  },
  {
   "cell_type": "code",
   "execution_count": 421,
   "metadata": {},
   "outputs": [
    {
     "data": {
      "text/plain": [
       "[<li>Calefacción </li>,\n",
       " <li>Sin plaza parking</li>,\n",
       " <li>Aire acondicionado </li>,\n",
       " <li>Planta número 1</li>,\n",
       " <li>Año construcción 1952</li>,\n",
       " <li class=\"energy-container\">\n",
       " <div class=\"energy-rating\">\n",
       " <span>Certificado energético : </span>\n",
       " </div>\n",
       " <div class=\"detail-rating\">\n",
       " <div class=\"rating-box\">\n",
       "                                     Consumo:\n",
       "                                     <div class=\"rating c-F\">\n",
       "                                         F\n",
       "                                     </div>\n",
       " 322kW h m<sup>2</sup> / año                                \n",
       "                             </div>\n",
       " <div class=\"rating-box\">\n",
       "                                 Emisiones: <div class=\"rating c-E\">E</div>\n",
       " 66kg CO<sub>2</sub> m<sup>2</sup> / año                            </div>\n",
       " <button class=\"energy-rating-info jq-tooltip-white button-transparent-orange\" data-tooltip-content=\"#tooltip-energy\">\n",
       "                                      Ver etiqueta calificación energética\n",
       "                                 </button>\n",
       " </div>\n",
       " </li>]"
      ]
     },
     "execution_count": 421,
     "metadata": {},
     "output_type": "execute_result"
    }
   ],
   "source": [
    "url_para_evaluar = 'https://www.habitaclia.com/comprar-piso-fenomenal_arapiles-madrid-i15511003002180.htm?f=&geo=p&from=list&lo=55'\n",
    "html_para_evaluar = requests.get(url_para_evaluar).content\n",
    "soup_para_evaluar = BeautifulSoup(html_para_evaluar, 'html.parser')\n",
    "all_listing_details_eval = soup_para_evaluar.find_all('section', {'class': 'detail'})\n",
    "#all_listing_details_zoom_eval = all_listing_details_eval[0].find_all('div', {'class': 'max-1440 padding-y'})\n",
    "all_features_details_zoom_eval = all_listing_details_eval[0].find_all('article', {'class': 'has-aside'})\n",
    "#all_features_details_zoom2_line112[0]\n",
    "all_features_details_zoom_eval[2].find_all('li')\n",
    "\n",
    "\n"
   ]
  },
  {
   "cell_type": "code",
   "execution_count": 377,
   "metadata": {},
   "outputs": [
    {
     "data": {
      "text/plain": [
       "1"
      ]
     },
     "execution_count": 377,
     "metadata": {},
     "output_type": "execute_result"
    }
   ],
   "source": [
    "len(all_listing_details_error_line112)"
   ]
  },
  {
   "cell_type": "markdown",
   "metadata": {},
   "source": [
    "## Running WebDriver without opening actual browser window\n",
    "\n",
    "https://sqa.stackexchange.com/questions/2609/running-webdriver-without-opening-actual-browser-window\n",
    "\n",
    "https://www.codegrepper.com/code-examples/python/selenium+without+opening+browser+python\n"
   ]
  },
  {
   "cell_type": "code",
   "execution_count": null,
   "metadata": {},
   "outputs": [],
   "source": [
    "# driver = webdriver.Chrome('/Users/manuelaquino/Bootcamp/final_project/chromedriver')\n",
    "# driver.get(data[0])"
   ]
  },
  {
   "cell_type": "code",
   "execution_count": null,
   "metadata": {},
   "outputs": [],
   "source": [
    "# selenium_map_image = driver.find_element_by_class_name('map-box')\n",
    "\n",
    "# selenium_map_image"
   ]
  },
  {
   "cell_type": "code",
   "execution_count": null,
   "metadata": {},
   "outputs": [],
   "source": [
    "# table = driver.find_element_by_tag_name('main[class=\"w-100 curve-top pointer-events-none gtmproductdetail\"]')\n",
    "\n",
    "# table\n",
    "\n",
    "# rows = table.find_elements_by_tag_name('a')\n",
    "\n",
    "# rows"
   ]
  },
  {
   "cell_type": "code",
   "execution_count": null,
   "metadata": {},
   "outputs": [],
   "source": [
    "# driver.close()"
   ]
  },
  {
   "cell_type": "code",
   "execution_count": null,
   "metadata": {},
   "outputs": [],
   "source": [
    "# map_section = unique_soup.find_all('section', {'class': 'map'})\n",
    "# one_down_map = map_section[0].find_all('div', {'class': 'max-1440 padding-y'})\n",
    "# two_down_map = one_down_map[0].find_all('article', {'class': 'has-aside f-left'})\n",
    "# three_down_map = two_down_map[0].find_all('div', {'class': 'map-box'})\n",
    "# four_down_map = three_down_map[0].find_all('div', {'class': 'map-image'})\n",
    "# four_down_map"
   ]
  },
  {
   "cell_type": "markdown",
   "metadata": {},
   "source": [
    "## Python Web Scraping - Dynamic Websites"
   ]
  },
  {
   "cell_type": "markdown",
   "metadata": {},
   "source": [
    "https://docs.python-requests.org/projects/requests-html/en/latest/\n",
    "\n",
    "https://www.tutorialspoint.com/python_web_scraping/python_web_scraping_dynamic_websites.htm"
   ]
  },
  {
   "cell_type": "markdown",
   "metadata": {},
   "source": [
    "## Resources and Useful or interesting Links"
   ]
  },
  {
   "cell_type": "markdown",
   "metadata": {},
   "source": [
    "https://www.geeksforgeeks.org/how-to-print-exception-stack-trace-in-python/\n",
    "\n",
    "https://www.elmundo.es/economia/2014/02/21/5306681a22601d875e8b4581.html\n",
    "\n",
    "https://www.educative.io/edpresso/what-is-the-none-keyword-in-python\n",
    "\n",
    "https://www.programiz.com/python-programming/methods/built-in/reversed\n",
    "\n",
    "https://www.w3schools.com/python/ref_string_find.asp\n",
    "\n",
    "https://www.programiz.com/python-programming/methods/built-in/all\n",
    "\n",
    "https://pynative.com/python-regex-capturing-groups/\n",
    "\n",
    "https://tarifasgasluz.com/faq/certificado-eficiencia-energetica\n",
    "\n",
    "https://www.ennaranja.com/hipotecas/elegir-bien/elige-bien-que-diferencia-hay-entre-una-vivienda-con-calificacion-energetica-a-y-g/"
   ]
  },
  {
   "cell_type": "code",
   "execution_count": null,
   "metadata": {},
   "outputs": [],
   "source": []
  }
 ],
 "metadata": {
  "kernelspec": {
   "display_name": "Python [conda env:ironhack_env]",
   "language": "python",
   "name": "conda-env-ironhack_env-py"
  },
  "language_info": {
   "codemirror_mode": {
    "name": "ipython",
    "version": 3
   },
   "file_extension": ".py",
   "mimetype": "text/x-python",
   "name": "python",
   "nbconvert_exporter": "python",
   "pygments_lexer": "ipython3",
   "version": "3.8.5"
  }
 },
 "nbformat": 4,
 "nbformat_minor": 4
}
